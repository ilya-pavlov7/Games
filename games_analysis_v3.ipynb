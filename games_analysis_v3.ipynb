{
  "cells": [
    {
      "cell_type": "markdown",
      "metadata": {
        "id": "5wP6yyCp2UME"
      },
      "source": [
        "# Анализ определяющих успешность игры закономерностей"
      ]
    },
    {
      "cell_type": "markdown",
      "metadata": {
        "id": "yp_ASG_72UMF"
      },
      "source": [
        "**Магазин «Стримчик» продаёт по всему миру компьютерные игры. Из открытых источников доступны исторические данные о продажах игр, оценки пользователей и экспертов, жанры и платформы.   \n",
        "Задача: выявить определяющие успешность игры закономерности. Это позволит сделать ставку на потенциально популярный продукт и спланировать рекламные кампании.**"
      ]
    },
    {
      "cell_type": "markdown",
      "metadata": {
        "id": "lmoScHfG2UMH"
      },
      "source": [
        "## Рассмотрим файл с данными"
      ]
    },
    {
      "cell_type": "code",
      "execution_count": 1,
      "metadata": {
        "id": "GGJBmPEv2UMI"
      },
      "outputs": [],
      "source": [
        "import pandas as pd\n",
        "import seaborn as sb\n",
        "import numpy as np\n",
        "import plotly.offline as pyo\n",
        "import plotly.graph_objs as go\n",
        "import pandas as pd\n",
        "import plotly.io as pio\n",
        "import plotly.express as px\n",
        "import matplotlib\n",
        "import matplotlib.pyplot as plt\n",
        "from scipy import stats as st\n",
        "#pio.renderers.default='notebook'"
      ]
    },
    {
      "cell_type": "code",
      "source": [
        "!python -m pip install \"git+https://github.com/javadba/mpld3@display_fix\""
      ],
      "metadata": {
        "colab": {
          "base_uri": "https://localhost:8080/"
        },
        "id": "hQGTNhycIpQn",
        "outputId": "5c8fc8ca-77ba-46df-d512-def07c301707"
      },
      "execution_count": 2,
      "outputs": [
        {
          "output_type": "stream",
          "name": "stdout",
          "text": [
            "Looking in indexes: https://pypi.org/simple, https://us-python.pkg.dev/colab-wheels/public/simple/\n",
            "Collecting git+https://github.com/javadba/mpld3@display_fix\n",
            "  Cloning https://github.com/javadba/mpld3 (to revision display_fix) to /tmp/pip-req-build-m8vy7jt8\n",
            "  Running command git clone -q https://github.com/javadba/mpld3 /tmp/pip-req-build-m8vy7jt8\n",
            "  Running command git checkout -b display_fix --track origin/display_fix\n",
            "  Switched to a new branch 'display_fix'\n",
            "  Branch 'display_fix' set up to track remote branch 'display_fix' from 'origin'.\n",
            "  Running command git submodule update --init --recursive -q\n"
          ]
        }
      ]
    },
    {
      "cell_type": "code",
      "execution_count": 3,
      "metadata": {
        "id": "Leh50U3T2UMK"
      },
      "outputs": [],
      "source": [
        "df = pd.read_csv('games.csv', sep = ',')"
      ]
    },
    {
      "cell_type": "code",
      "execution_count": 4,
      "metadata": {
        "colab": {
          "base_uri": "https://localhost:8080/"
        },
        "id": "hmNPnDRS2UMM",
        "outputId": "224179a8-7559-49a8-acf2-65c11ea6cfb2"
      },
      "outputs": [
        {
          "output_type": "stream",
          "name": "stdout",
          "text": [
            "<class 'pandas.core.frame.DataFrame'>\n",
            "RangeIndex: 16715 entries, 0 to 16714\n",
            "Data columns (total 11 columns):\n",
            " #   Column           Non-Null Count  Dtype  \n",
            "---  ------           --------------  -----  \n",
            " 0   Name             16713 non-null  object \n",
            " 1   Platform         16715 non-null  object \n",
            " 2   Year_of_Release  16446 non-null  float64\n",
            " 3   Genre            16713 non-null  object \n",
            " 4   NA_sales         16715 non-null  float64\n",
            " 5   EU_sales         16715 non-null  float64\n",
            " 6   JP_sales         16715 non-null  float64\n",
            " 7   Other_sales      16715 non-null  float64\n",
            " 8   Critic_Score     8137 non-null   float64\n",
            " 9   User_Score       10014 non-null  object \n",
            " 10  Rating           9949 non-null   object \n",
            "dtypes: float64(6), object(5)\n",
            "memory usage: 1.4+ MB\n"
          ]
        }
      ],
      "source": [
        "df.info()"
      ]
    },
    {
      "cell_type": "code",
      "execution_count": 5,
      "metadata": {
        "scrolled": false,
        "colab": {
          "base_uri": "https://localhost:8080/",
          "height": 1000
        },
        "id": "IlmGNuCR2UMN",
        "outputId": "f770f3b2-f16a-4ee9-dea7-2ae2826ccc0c"
      },
      "outputs": [
        {
          "output_type": "display_data",
          "data": {
            "text/plain": [
              "                                            Name Platform  Year_of_Release  \\\n",
              "0                                     Wii Sports      Wii           2006.0   \n",
              "1                              Super Mario Bros.      NES           1985.0   \n",
              "2                                 Mario Kart Wii      Wii           2008.0   \n",
              "3                              Wii Sports Resort      Wii           2009.0   \n",
              "4                       Pokemon Red/Pokemon Blue       GB           1996.0   \n",
              "5                                         Tetris       GB           1989.0   \n",
              "6                          New Super Mario Bros.       DS           2006.0   \n",
              "7                                       Wii Play      Wii           2006.0   \n",
              "8                      New Super Mario Bros. Wii      Wii           2009.0   \n",
              "9                                      Duck Hunt      NES           1984.0   \n",
              "10                                    Nintendogs       DS           2005.0   \n",
              "11                                 Mario Kart DS       DS           2005.0   \n",
              "12                   Pokemon Gold/Pokemon Silver       GB           1999.0   \n",
              "13                                       Wii Fit      Wii           2007.0   \n",
              "14                            Kinect Adventures!     X360           2010.0   \n",
              "15                                  Wii Fit Plus      Wii           2009.0   \n",
              "16                            Grand Theft Auto V      PS3           2013.0   \n",
              "17                 Grand Theft Auto: San Andreas      PS2           2004.0   \n",
              "18                             Super Mario World     SNES           1990.0   \n",
              "19  Brain Age: Train Your Brain in Minutes a Day       DS           2005.0   \n",
              "20                 Pokemon Diamond/Pokemon Pearl       DS           2006.0   \n",
              "21                              Super Mario Land       GB           1989.0   \n",
              "22                           Super Mario Bros. 3      NES           1988.0   \n",
              "23                            Grand Theft Auto V     X360           2013.0   \n",
              "24                   Grand Theft Auto: Vice City      PS2           2002.0   \n",
              "25                 Pokemon Ruby/Pokemon Sapphire      GBA           2002.0   \n",
              "26   Brain Age 2: More Training in Minutes a Day       DS           2005.0   \n",
              "27                   Pokemon Black/Pokemon White       DS           2010.0   \n",
              "28                        Gran Turismo 3: A-Spec      PS2           2001.0   \n",
              "29                Call of Duty: Modern Warfare 3     X360           2011.0   \n",
              "30       Pokémon Yellow: Special Pikachu Edition       GB           1998.0   \n",
              "31                     Call of Duty: Black Ops 3      PS4           2015.0   \n",
              "32                       Call of Duty: Black Ops     X360           2010.0   \n",
              "33                           Pokemon X/Pokemon Y      3DS           2013.0   \n",
              "34                    Call of Duty: Black Ops II      PS3           2012.0   \n",
              "\n",
              "           Genre  NA_sales  EU_sales  JP_sales  Other_sales  Critic_Score  \\\n",
              "0         Sports     41.36     28.96      3.77         8.45          76.0   \n",
              "1       Platform     29.08      3.58      6.81         0.77           NaN   \n",
              "2         Racing     15.68     12.76      3.79         3.29          82.0   \n",
              "3         Sports     15.61     10.93      3.28         2.95          80.0   \n",
              "4   Role-Playing     11.27      8.89     10.22         1.00           NaN   \n",
              "5         Puzzle     23.20      2.26      4.22         0.58           NaN   \n",
              "6       Platform     11.28      9.14      6.50         2.88          89.0   \n",
              "7           Misc     13.96      9.18      2.93         2.84          58.0   \n",
              "8       Platform     14.44      6.94      4.70         2.24          87.0   \n",
              "9        Shooter     26.93      0.63      0.28         0.47           NaN   \n",
              "10    Simulation      9.05     10.95      1.93         2.74           NaN   \n",
              "11        Racing      9.71      7.47      4.13         1.90          91.0   \n",
              "12  Role-Playing      9.00      6.18      7.20         0.71           NaN   \n",
              "13        Sports      8.92      8.03      3.60         2.15          80.0   \n",
              "14          Misc     15.00      4.89      0.24         1.69          61.0   \n",
              "15        Sports      9.01      8.49      2.53         1.77          80.0   \n",
              "16        Action      7.02      9.09      0.98         3.96          97.0   \n",
              "17        Action      9.43      0.40      0.41        10.57          95.0   \n",
              "18      Platform     12.78      3.75      3.54         0.55           NaN   \n",
              "19          Misc      4.74      9.20      4.16         2.04          77.0   \n",
              "20  Role-Playing      6.38      4.46      6.04         1.36           NaN   \n",
              "21      Platform     10.83      2.71      4.18         0.42           NaN   \n",
              "22      Platform      9.54      3.44      3.84         0.46           NaN   \n",
              "23        Action      9.66      5.14      0.06         1.41          97.0   \n",
              "24        Action      8.41      5.49      0.47         1.78          95.0   \n",
              "25  Role-Playing      6.06      3.90      5.38         0.50           NaN   \n",
              "26        Puzzle      3.43      5.35      5.32         1.18          77.0   \n",
              "27  Role-Playing      5.51      3.17      5.65         0.80           NaN   \n",
              "28        Racing      6.85      5.09      1.87         1.16          95.0   \n",
              "29       Shooter      9.04      4.24      0.13         1.32          88.0   \n",
              "30  Role-Playing      5.89      5.04      3.12         0.59           NaN   \n",
              "31       Shooter      6.03      5.86      0.36         2.38           NaN   \n",
              "32       Shooter      9.70      3.68      0.11         1.13          87.0   \n",
              "33  Role-Playing      5.28      4.19      4.35         0.78           NaN   \n",
              "34       Shooter      4.99      5.73      0.65         2.42          83.0   \n",
              "\n",
              "   User_Score Rating  \n",
              "0           8      E  \n",
              "1         NaN    NaN  \n",
              "2         8.3      E  \n",
              "3           8      E  \n",
              "4         NaN    NaN  \n",
              "5         NaN    NaN  \n",
              "6         8.5      E  \n",
              "7         6.6      E  \n",
              "8         8.4      E  \n",
              "9         NaN    NaN  \n",
              "10        NaN    NaN  \n",
              "11        8.6      E  \n",
              "12        NaN    NaN  \n",
              "13        7.7      E  \n",
              "14        6.3      E  \n",
              "15        7.4      E  \n",
              "16        8.2      M  \n",
              "17          9      M  \n",
              "18        NaN    NaN  \n",
              "19        7.9      E  \n",
              "20        NaN    NaN  \n",
              "21        NaN    NaN  \n",
              "22        NaN    NaN  \n",
              "23        8.1      M  \n",
              "24        8.7      M  \n",
              "25        NaN    NaN  \n",
              "26        7.1      E  \n",
              "27        NaN    NaN  \n",
              "28        8.4      E  \n",
              "29        3.4      M  \n",
              "30        NaN    NaN  \n",
              "31        NaN    NaN  \n",
              "32        6.3      M  \n",
              "33        NaN    NaN  \n",
              "34        5.3      M  "
            ],
            "text/html": [
              "\n",
              "  <div id=\"df-9bb70120-dff2-4dc2-b597-1c815334f668\">\n",
              "    <div class=\"colab-df-container\">\n",
              "      <div>\n",
              "<style scoped>\n",
              "    .dataframe tbody tr th:only-of-type {\n",
              "        vertical-align: middle;\n",
              "    }\n",
              "\n",
              "    .dataframe tbody tr th {\n",
              "        vertical-align: top;\n",
              "    }\n",
              "\n",
              "    .dataframe thead th {\n",
              "        text-align: right;\n",
              "    }\n",
              "</style>\n",
              "<table border=\"1\" class=\"dataframe\">\n",
              "  <thead>\n",
              "    <tr style=\"text-align: right;\">\n",
              "      <th></th>\n",
              "      <th>Name</th>\n",
              "      <th>Platform</th>\n",
              "      <th>Year_of_Release</th>\n",
              "      <th>Genre</th>\n",
              "      <th>NA_sales</th>\n",
              "      <th>EU_sales</th>\n",
              "      <th>JP_sales</th>\n",
              "      <th>Other_sales</th>\n",
              "      <th>Critic_Score</th>\n",
              "      <th>User_Score</th>\n",
              "      <th>Rating</th>\n",
              "    </tr>\n",
              "  </thead>\n",
              "  <tbody>\n",
              "    <tr>\n",
              "      <th>0</th>\n",
              "      <td>Wii Sports</td>\n",
              "      <td>Wii</td>\n",
              "      <td>2006.0</td>\n",
              "      <td>Sports</td>\n",
              "      <td>41.36</td>\n",
              "      <td>28.96</td>\n",
              "      <td>3.77</td>\n",
              "      <td>8.45</td>\n",
              "      <td>76.0</td>\n",
              "      <td>8</td>\n",
              "      <td>E</td>\n",
              "    </tr>\n",
              "    <tr>\n",
              "      <th>1</th>\n",
              "      <td>Super Mario Bros.</td>\n",
              "      <td>NES</td>\n",
              "      <td>1985.0</td>\n",
              "      <td>Platform</td>\n",
              "      <td>29.08</td>\n",
              "      <td>3.58</td>\n",
              "      <td>6.81</td>\n",
              "      <td>0.77</td>\n",
              "      <td>NaN</td>\n",
              "      <td>NaN</td>\n",
              "      <td>NaN</td>\n",
              "    </tr>\n",
              "    <tr>\n",
              "      <th>2</th>\n",
              "      <td>Mario Kart Wii</td>\n",
              "      <td>Wii</td>\n",
              "      <td>2008.0</td>\n",
              "      <td>Racing</td>\n",
              "      <td>15.68</td>\n",
              "      <td>12.76</td>\n",
              "      <td>3.79</td>\n",
              "      <td>3.29</td>\n",
              "      <td>82.0</td>\n",
              "      <td>8.3</td>\n",
              "      <td>E</td>\n",
              "    </tr>\n",
              "    <tr>\n",
              "      <th>3</th>\n",
              "      <td>Wii Sports Resort</td>\n",
              "      <td>Wii</td>\n",
              "      <td>2009.0</td>\n",
              "      <td>Sports</td>\n",
              "      <td>15.61</td>\n",
              "      <td>10.93</td>\n",
              "      <td>3.28</td>\n",
              "      <td>2.95</td>\n",
              "      <td>80.0</td>\n",
              "      <td>8</td>\n",
              "      <td>E</td>\n",
              "    </tr>\n",
              "    <tr>\n",
              "      <th>4</th>\n",
              "      <td>Pokemon Red/Pokemon Blue</td>\n",
              "      <td>GB</td>\n",
              "      <td>1996.0</td>\n",
              "      <td>Role-Playing</td>\n",
              "      <td>11.27</td>\n",
              "      <td>8.89</td>\n",
              "      <td>10.22</td>\n",
              "      <td>1.00</td>\n",
              "      <td>NaN</td>\n",
              "      <td>NaN</td>\n",
              "      <td>NaN</td>\n",
              "    </tr>\n",
              "    <tr>\n",
              "      <th>5</th>\n",
              "      <td>Tetris</td>\n",
              "      <td>GB</td>\n",
              "      <td>1989.0</td>\n",
              "      <td>Puzzle</td>\n",
              "      <td>23.20</td>\n",
              "      <td>2.26</td>\n",
              "      <td>4.22</td>\n",
              "      <td>0.58</td>\n",
              "      <td>NaN</td>\n",
              "      <td>NaN</td>\n",
              "      <td>NaN</td>\n",
              "    </tr>\n",
              "    <tr>\n",
              "      <th>6</th>\n",
              "      <td>New Super Mario Bros.</td>\n",
              "      <td>DS</td>\n",
              "      <td>2006.0</td>\n",
              "      <td>Platform</td>\n",
              "      <td>11.28</td>\n",
              "      <td>9.14</td>\n",
              "      <td>6.50</td>\n",
              "      <td>2.88</td>\n",
              "      <td>89.0</td>\n",
              "      <td>8.5</td>\n",
              "      <td>E</td>\n",
              "    </tr>\n",
              "    <tr>\n",
              "      <th>7</th>\n",
              "      <td>Wii Play</td>\n",
              "      <td>Wii</td>\n",
              "      <td>2006.0</td>\n",
              "      <td>Misc</td>\n",
              "      <td>13.96</td>\n",
              "      <td>9.18</td>\n",
              "      <td>2.93</td>\n",
              "      <td>2.84</td>\n",
              "      <td>58.0</td>\n",
              "      <td>6.6</td>\n",
              "      <td>E</td>\n",
              "    </tr>\n",
              "    <tr>\n",
              "      <th>8</th>\n",
              "      <td>New Super Mario Bros. Wii</td>\n",
              "      <td>Wii</td>\n",
              "      <td>2009.0</td>\n",
              "      <td>Platform</td>\n",
              "      <td>14.44</td>\n",
              "      <td>6.94</td>\n",
              "      <td>4.70</td>\n",
              "      <td>2.24</td>\n",
              "      <td>87.0</td>\n",
              "      <td>8.4</td>\n",
              "      <td>E</td>\n",
              "    </tr>\n",
              "    <tr>\n",
              "      <th>9</th>\n",
              "      <td>Duck Hunt</td>\n",
              "      <td>NES</td>\n",
              "      <td>1984.0</td>\n",
              "      <td>Shooter</td>\n",
              "      <td>26.93</td>\n",
              "      <td>0.63</td>\n",
              "      <td>0.28</td>\n",
              "      <td>0.47</td>\n",
              "      <td>NaN</td>\n",
              "      <td>NaN</td>\n",
              "      <td>NaN</td>\n",
              "    </tr>\n",
              "    <tr>\n",
              "      <th>10</th>\n",
              "      <td>Nintendogs</td>\n",
              "      <td>DS</td>\n",
              "      <td>2005.0</td>\n",
              "      <td>Simulation</td>\n",
              "      <td>9.05</td>\n",
              "      <td>10.95</td>\n",
              "      <td>1.93</td>\n",
              "      <td>2.74</td>\n",
              "      <td>NaN</td>\n",
              "      <td>NaN</td>\n",
              "      <td>NaN</td>\n",
              "    </tr>\n",
              "    <tr>\n",
              "      <th>11</th>\n",
              "      <td>Mario Kart DS</td>\n",
              "      <td>DS</td>\n",
              "      <td>2005.0</td>\n",
              "      <td>Racing</td>\n",
              "      <td>9.71</td>\n",
              "      <td>7.47</td>\n",
              "      <td>4.13</td>\n",
              "      <td>1.90</td>\n",
              "      <td>91.0</td>\n",
              "      <td>8.6</td>\n",
              "      <td>E</td>\n",
              "    </tr>\n",
              "    <tr>\n",
              "      <th>12</th>\n",
              "      <td>Pokemon Gold/Pokemon Silver</td>\n",
              "      <td>GB</td>\n",
              "      <td>1999.0</td>\n",
              "      <td>Role-Playing</td>\n",
              "      <td>9.00</td>\n",
              "      <td>6.18</td>\n",
              "      <td>7.20</td>\n",
              "      <td>0.71</td>\n",
              "      <td>NaN</td>\n",
              "      <td>NaN</td>\n",
              "      <td>NaN</td>\n",
              "    </tr>\n",
              "    <tr>\n",
              "      <th>13</th>\n",
              "      <td>Wii Fit</td>\n",
              "      <td>Wii</td>\n",
              "      <td>2007.0</td>\n",
              "      <td>Sports</td>\n",
              "      <td>8.92</td>\n",
              "      <td>8.03</td>\n",
              "      <td>3.60</td>\n",
              "      <td>2.15</td>\n",
              "      <td>80.0</td>\n",
              "      <td>7.7</td>\n",
              "      <td>E</td>\n",
              "    </tr>\n",
              "    <tr>\n",
              "      <th>14</th>\n",
              "      <td>Kinect Adventures!</td>\n",
              "      <td>X360</td>\n",
              "      <td>2010.0</td>\n",
              "      <td>Misc</td>\n",
              "      <td>15.00</td>\n",
              "      <td>4.89</td>\n",
              "      <td>0.24</td>\n",
              "      <td>1.69</td>\n",
              "      <td>61.0</td>\n",
              "      <td>6.3</td>\n",
              "      <td>E</td>\n",
              "    </tr>\n",
              "    <tr>\n",
              "      <th>15</th>\n",
              "      <td>Wii Fit Plus</td>\n",
              "      <td>Wii</td>\n",
              "      <td>2009.0</td>\n",
              "      <td>Sports</td>\n",
              "      <td>9.01</td>\n",
              "      <td>8.49</td>\n",
              "      <td>2.53</td>\n",
              "      <td>1.77</td>\n",
              "      <td>80.0</td>\n",
              "      <td>7.4</td>\n",
              "      <td>E</td>\n",
              "    </tr>\n",
              "    <tr>\n",
              "      <th>16</th>\n",
              "      <td>Grand Theft Auto V</td>\n",
              "      <td>PS3</td>\n",
              "      <td>2013.0</td>\n",
              "      <td>Action</td>\n",
              "      <td>7.02</td>\n",
              "      <td>9.09</td>\n",
              "      <td>0.98</td>\n",
              "      <td>3.96</td>\n",
              "      <td>97.0</td>\n",
              "      <td>8.2</td>\n",
              "      <td>M</td>\n",
              "    </tr>\n",
              "    <tr>\n",
              "      <th>17</th>\n",
              "      <td>Grand Theft Auto: San Andreas</td>\n",
              "      <td>PS2</td>\n",
              "      <td>2004.0</td>\n",
              "      <td>Action</td>\n",
              "      <td>9.43</td>\n",
              "      <td>0.40</td>\n",
              "      <td>0.41</td>\n",
              "      <td>10.57</td>\n",
              "      <td>95.0</td>\n",
              "      <td>9</td>\n",
              "      <td>M</td>\n",
              "    </tr>\n",
              "    <tr>\n",
              "      <th>18</th>\n",
              "      <td>Super Mario World</td>\n",
              "      <td>SNES</td>\n",
              "      <td>1990.0</td>\n",
              "      <td>Platform</td>\n",
              "      <td>12.78</td>\n",
              "      <td>3.75</td>\n",
              "      <td>3.54</td>\n",
              "      <td>0.55</td>\n",
              "      <td>NaN</td>\n",
              "      <td>NaN</td>\n",
              "      <td>NaN</td>\n",
              "    </tr>\n",
              "    <tr>\n",
              "      <th>19</th>\n",
              "      <td>Brain Age: Train Your Brain in Minutes a Day</td>\n",
              "      <td>DS</td>\n",
              "      <td>2005.0</td>\n",
              "      <td>Misc</td>\n",
              "      <td>4.74</td>\n",
              "      <td>9.20</td>\n",
              "      <td>4.16</td>\n",
              "      <td>2.04</td>\n",
              "      <td>77.0</td>\n",
              "      <td>7.9</td>\n",
              "      <td>E</td>\n",
              "    </tr>\n",
              "    <tr>\n",
              "      <th>20</th>\n",
              "      <td>Pokemon Diamond/Pokemon Pearl</td>\n",
              "      <td>DS</td>\n",
              "      <td>2006.0</td>\n",
              "      <td>Role-Playing</td>\n",
              "      <td>6.38</td>\n",
              "      <td>4.46</td>\n",
              "      <td>6.04</td>\n",
              "      <td>1.36</td>\n",
              "      <td>NaN</td>\n",
              "      <td>NaN</td>\n",
              "      <td>NaN</td>\n",
              "    </tr>\n",
              "    <tr>\n",
              "      <th>21</th>\n",
              "      <td>Super Mario Land</td>\n",
              "      <td>GB</td>\n",
              "      <td>1989.0</td>\n",
              "      <td>Platform</td>\n",
              "      <td>10.83</td>\n",
              "      <td>2.71</td>\n",
              "      <td>4.18</td>\n",
              "      <td>0.42</td>\n",
              "      <td>NaN</td>\n",
              "      <td>NaN</td>\n",
              "      <td>NaN</td>\n",
              "    </tr>\n",
              "    <tr>\n",
              "      <th>22</th>\n",
              "      <td>Super Mario Bros. 3</td>\n",
              "      <td>NES</td>\n",
              "      <td>1988.0</td>\n",
              "      <td>Platform</td>\n",
              "      <td>9.54</td>\n",
              "      <td>3.44</td>\n",
              "      <td>3.84</td>\n",
              "      <td>0.46</td>\n",
              "      <td>NaN</td>\n",
              "      <td>NaN</td>\n",
              "      <td>NaN</td>\n",
              "    </tr>\n",
              "    <tr>\n",
              "      <th>23</th>\n",
              "      <td>Grand Theft Auto V</td>\n",
              "      <td>X360</td>\n",
              "      <td>2013.0</td>\n",
              "      <td>Action</td>\n",
              "      <td>9.66</td>\n",
              "      <td>5.14</td>\n",
              "      <td>0.06</td>\n",
              "      <td>1.41</td>\n",
              "      <td>97.0</td>\n",
              "      <td>8.1</td>\n",
              "      <td>M</td>\n",
              "    </tr>\n",
              "    <tr>\n",
              "      <th>24</th>\n",
              "      <td>Grand Theft Auto: Vice City</td>\n",
              "      <td>PS2</td>\n",
              "      <td>2002.0</td>\n",
              "      <td>Action</td>\n",
              "      <td>8.41</td>\n",
              "      <td>5.49</td>\n",
              "      <td>0.47</td>\n",
              "      <td>1.78</td>\n",
              "      <td>95.0</td>\n",
              "      <td>8.7</td>\n",
              "      <td>M</td>\n",
              "    </tr>\n",
              "    <tr>\n",
              "      <th>25</th>\n",
              "      <td>Pokemon Ruby/Pokemon Sapphire</td>\n",
              "      <td>GBA</td>\n",
              "      <td>2002.0</td>\n",
              "      <td>Role-Playing</td>\n",
              "      <td>6.06</td>\n",
              "      <td>3.90</td>\n",
              "      <td>5.38</td>\n",
              "      <td>0.50</td>\n",
              "      <td>NaN</td>\n",
              "      <td>NaN</td>\n",
              "      <td>NaN</td>\n",
              "    </tr>\n",
              "    <tr>\n",
              "      <th>26</th>\n",
              "      <td>Brain Age 2: More Training in Minutes a Day</td>\n",
              "      <td>DS</td>\n",
              "      <td>2005.0</td>\n",
              "      <td>Puzzle</td>\n",
              "      <td>3.43</td>\n",
              "      <td>5.35</td>\n",
              "      <td>5.32</td>\n",
              "      <td>1.18</td>\n",
              "      <td>77.0</td>\n",
              "      <td>7.1</td>\n",
              "      <td>E</td>\n",
              "    </tr>\n",
              "    <tr>\n",
              "      <th>27</th>\n",
              "      <td>Pokemon Black/Pokemon White</td>\n",
              "      <td>DS</td>\n",
              "      <td>2010.0</td>\n",
              "      <td>Role-Playing</td>\n",
              "      <td>5.51</td>\n",
              "      <td>3.17</td>\n",
              "      <td>5.65</td>\n",
              "      <td>0.80</td>\n",
              "      <td>NaN</td>\n",
              "      <td>NaN</td>\n",
              "      <td>NaN</td>\n",
              "    </tr>\n",
              "    <tr>\n",
              "      <th>28</th>\n",
              "      <td>Gran Turismo 3: A-Spec</td>\n",
              "      <td>PS2</td>\n",
              "      <td>2001.0</td>\n",
              "      <td>Racing</td>\n",
              "      <td>6.85</td>\n",
              "      <td>5.09</td>\n",
              "      <td>1.87</td>\n",
              "      <td>1.16</td>\n",
              "      <td>95.0</td>\n",
              "      <td>8.4</td>\n",
              "      <td>E</td>\n",
              "    </tr>\n",
              "    <tr>\n",
              "      <th>29</th>\n",
              "      <td>Call of Duty: Modern Warfare 3</td>\n",
              "      <td>X360</td>\n",
              "      <td>2011.0</td>\n",
              "      <td>Shooter</td>\n",
              "      <td>9.04</td>\n",
              "      <td>4.24</td>\n",
              "      <td>0.13</td>\n",
              "      <td>1.32</td>\n",
              "      <td>88.0</td>\n",
              "      <td>3.4</td>\n",
              "      <td>M</td>\n",
              "    </tr>\n",
              "    <tr>\n",
              "      <th>30</th>\n",
              "      <td>Pokémon Yellow: Special Pikachu Edition</td>\n",
              "      <td>GB</td>\n",
              "      <td>1998.0</td>\n",
              "      <td>Role-Playing</td>\n",
              "      <td>5.89</td>\n",
              "      <td>5.04</td>\n",
              "      <td>3.12</td>\n",
              "      <td>0.59</td>\n",
              "      <td>NaN</td>\n",
              "      <td>NaN</td>\n",
              "      <td>NaN</td>\n",
              "    </tr>\n",
              "    <tr>\n",
              "      <th>31</th>\n",
              "      <td>Call of Duty: Black Ops 3</td>\n",
              "      <td>PS4</td>\n",
              "      <td>2015.0</td>\n",
              "      <td>Shooter</td>\n",
              "      <td>6.03</td>\n",
              "      <td>5.86</td>\n",
              "      <td>0.36</td>\n",
              "      <td>2.38</td>\n",
              "      <td>NaN</td>\n",
              "      <td>NaN</td>\n",
              "      <td>NaN</td>\n",
              "    </tr>\n",
              "    <tr>\n",
              "      <th>32</th>\n",
              "      <td>Call of Duty: Black Ops</td>\n",
              "      <td>X360</td>\n",
              "      <td>2010.0</td>\n",
              "      <td>Shooter</td>\n",
              "      <td>9.70</td>\n",
              "      <td>3.68</td>\n",
              "      <td>0.11</td>\n",
              "      <td>1.13</td>\n",
              "      <td>87.0</td>\n",
              "      <td>6.3</td>\n",
              "      <td>M</td>\n",
              "    </tr>\n",
              "    <tr>\n",
              "      <th>33</th>\n",
              "      <td>Pokemon X/Pokemon Y</td>\n",
              "      <td>3DS</td>\n",
              "      <td>2013.0</td>\n",
              "      <td>Role-Playing</td>\n",
              "      <td>5.28</td>\n",
              "      <td>4.19</td>\n",
              "      <td>4.35</td>\n",
              "      <td>0.78</td>\n",
              "      <td>NaN</td>\n",
              "      <td>NaN</td>\n",
              "      <td>NaN</td>\n",
              "    </tr>\n",
              "    <tr>\n",
              "      <th>34</th>\n",
              "      <td>Call of Duty: Black Ops II</td>\n",
              "      <td>PS3</td>\n",
              "      <td>2012.0</td>\n",
              "      <td>Shooter</td>\n",
              "      <td>4.99</td>\n",
              "      <td>5.73</td>\n",
              "      <td>0.65</td>\n",
              "      <td>2.42</td>\n",
              "      <td>83.0</td>\n",
              "      <td>5.3</td>\n",
              "      <td>M</td>\n",
              "    </tr>\n",
              "  </tbody>\n",
              "</table>\n",
              "</div>\n",
              "      <button class=\"colab-df-convert\" onclick=\"convertToInteractive('df-9bb70120-dff2-4dc2-b597-1c815334f668')\"\n",
              "              title=\"Convert this dataframe to an interactive table.\"\n",
              "              style=\"display:none;\">\n",
              "        \n",
              "  <svg xmlns=\"http://www.w3.org/2000/svg\" height=\"24px\"viewBox=\"0 0 24 24\"\n",
              "       width=\"24px\">\n",
              "    <path d=\"M0 0h24v24H0V0z\" fill=\"none\"/>\n",
              "    <path d=\"M18.56 5.44l.94 2.06.94-2.06 2.06-.94-2.06-.94-.94-2.06-.94 2.06-2.06.94zm-11 1L8.5 8.5l.94-2.06 2.06-.94-2.06-.94L8.5 2.5l-.94 2.06-2.06.94zm10 10l.94 2.06.94-2.06 2.06-.94-2.06-.94-.94-2.06-.94 2.06-2.06.94z\"/><path d=\"M17.41 7.96l-1.37-1.37c-.4-.4-.92-.59-1.43-.59-.52 0-1.04.2-1.43.59L10.3 9.45l-7.72 7.72c-.78.78-.78 2.05 0 2.83L4 21.41c.39.39.9.59 1.41.59.51 0 1.02-.2 1.41-.59l7.78-7.78 2.81-2.81c.8-.78.8-2.07 0-2.86zM5.41 20L4 18.59l7.72-7.72 1.47 1.35L5.41 20z\"/>\n",
              "  </svg>\n",
              "      </button>\n",
              "      \n",
              "  <style>\n",
              "    .colab-df-container {\n",
              "      display:flex;\n",
              "      flex-wrap:wrap;\n",
              "      gap: 12px;\n",
              "    }\n",
              "\n",
              "    .colab-df-convert {\n",
              "      background-color: #E8F0FE;\n",
              "      border: none;\n",
              "      border-radius: 50%;\n",
              "      cursor: pointer;\n",
              "      display: none;\n",
              "      fill: #1967D2;\n",
              "      height: 32px;\n",
              "      padding: 0 0 0 0;\n",
              "      width: 32px;\n",
              "    }\n",
              "\n",
              "    .colab-df-convert:hover {\n",
              "      background-color: #E2EBFA;\n",
              "      box-shadow: 0px 1px 2px rgba(60, 64, 67, 0.3), 0px 1px 3px 1px rgba(60, 64, 67, 0.15);\n",
              "      fill: #174EA6;\n",
              "    }\n",
              "\n",
              "    [theme=dark] .colab-df-convert {\n",
              "      background-color: #3B4455;\n",
              "      fill: #D2E3FC;\n",
              "    }\n",
              "\n",
              "    [theme=dark] .colab-df-convert:hover {\n",
              "      background-color: #434B5C;\n",
              "      box-shadow: 0px 1px 3px 1px rgba(0, 0, 0, 0.15);\n",
              "      filter: drop-shadow(0px 1px 2px rgba(0, 0, 0, 0.3));\n",
              "      fill: #FFFFFF;\n",
              "    }\n",
              "  </style>\n",
              "\n",
              "      <script>\n",
              "        const buttonEl =\n",
              "          document.querySelector('#df-9bb70120-dff2-4dc2-b597-1c815334f668 button.colab-df-convert');\n",
              "        buttonEl.style.display =\n",
              "          google.colab.kernel.accessAllowed ? 'block' : 'none';\n",
              "\n",
              "        async function convertToInteractive(key) {\n",
              "          const element = document.querySelector('#df-9bb70120-dff2-4dc2-b597-1c815334f668');\n",
              "          const dataTable =\n",
              "            await google.colab.kernel.invokeFunction('convertToInteractive',\n",
              "                                                     [key], {});\n",
              "          if (!dataTable) return;\n",
              "\n",
              "          const docLinkHtml = 'Like what you see? Visit the ' +\n",
              "            '<a target=\"_blank\" href=https://colab.research.google.com/notebooks/data_table.ipynb>data table notebook</a>'\n",
              "            + ' to learn more about interactive tables.';\n",
              "          element.innerHTML = '';\n",
              "          dataTable['output_type'] = 'display_data';\n",
              "          await google.colab.output.renderOutput(dataTable, element);\n",
              "          const docLink = document.createElement('div');\n",
              "          docLink.innerHTML = docLinkHtml;\n",
              "          element.appendChild(docLink);\n",
              "        }\n",
              "      </script>\n",
              "    </div>\n",
              "  </div>\n",
              "  "
            ]
          },
          "metadata": {}
        }
      ],
      "source": [
        "display(df.head(35))"
      ]
    },
    {
      "cell_type": "markdown",
      "metadata": {
        "id": "1-OFsslm2UMP"
      },
      "source": [
        "## Предобработка данных"
      ]
    },
    {
      "cell_type": "markdown",
      "metadata": {
        "id": "D2CJYLUG2UMP"
      },
      "source": [
        "### Приведем названия столбцов к нижнему регистру"
      ]
    },
    {
      "cell_type": "code",
      "execution_count": 6,
      "metadata": {
        "id": "oLjCibEB2UMP"
      },
      "outputs": [],
      "source": [
        "df.columns = df.columns.str.lower()\n"
      ]
    },
    {
      "cell_type": "markdown",
      "metadata": {
        "id": "wDGSMesy2UMQ"
      },
      "source": [
        "### Обработка пропусков"
      ]
    },
    {
      "cell_type": "code",
      "execution_count": 7,
      "metadata": {
        "colab": {
          "base_uri": "https://localhost:8080/"
        },
        "id": "n11s4Gzc2UMQ",
        "outputId": "7706b118-e677-4f30-99da-e34c50659a29"
      },
      "outputs": [
        {
          "output_type": "execute_result",
          "data": {
            "text/plain": [
              "name                  2\n",
              "platform              0\n",
              "year_of_release     269\n",
              "genre                 2\n",
              "na_sales              0\n",
              "eu_sales              0\n",
              "jp_sales              0\n",
              "other_sales           0\n",
              "critic_score       8578\n",
              "user_score         6701\n",
              "rating             6766\n",
              "dtype: int64"
            ]
          },
          "metadata": {},
          "execution_count": 7
        }
      ],
      "source": [
        "df.isna().sum()"
      ]
    },
    {
      "cell_type": "code",
      "execution_count": 8,
      "metadata": {
        "colab": {
          "base_uri": "https://localhost:8080/",
          "height": 394
        },
        "id": "QFMDFCBR2UMR",
        "outputId": "9063a8d3-2302-48cc-cfe2-d612dc235d05"
      },
      "outputs": [
        {
          "output_type": "execute_result",
          "data": {
            "text/plain": [
              "<pandas.io.formats.style.Styler at 0x7f22924c1f90>"
            ],
            "text/html": [
              "<style type=\"text/css\">\n",
              "#T_85003_row0_col0 {\n",
              "  background-color: #b40426;\n",
              "  color: #f1f1f1;\n",
              "}\n",
              "#T_85003_row1_col0 {\n",
              "  background-color: #f08a6c;\n",
              "  color: #f1f1f1;\n",
              "}\n",
              "#T_85003_row2_col0 {\n",
              "  background-color: #f18d6f;\n",
              "  color: #f1f1f1;\n",
              "}\n",
              "#T_85003_row3_col0 {\n",
              "  background-color: #445acc;\n",
              "  color: #f1f1f1;\n",
              "}\n",
              "#T_85003_row4_col0, #T_85003_row5_col0, #T_85003_row6_col0, #T_85003_row7_col0, #T_85003_row8_col0, #T_85003_row9_col0, #T_85003_row10_col0 {\n",
              "  background-color: #3b4cc0;\n",
              "  color: #f1f1f1;\n",
              "}\n",
              "</style>\n",
              "<table id=\"T_85003_\" class=\"dataframe\">\n",
              "  <thead>\n",
              "    <tr>\n",
              "      <th class=\"blank level0\" >&nbsp;</th>\n",
              "      <th class=\"col_heading level0 col0\" >percent_space</th>\n",
              "    </tr>\n",
              "  </thead>\n",
              "  <tbody>\n",
              "    <tr>\n",
              "      <th id=\"T_85003_level0_row0\" class=\"row_heading level0 row0\" >critic_score</th>\n",
              "      <td id=\"T_85003_row0_col0\" class=\"data row0 col0\" >51.3</td>\n",
              "    </tr>\n",
              "    <tr>\n",
              "      <th id=\"T_85003_level0_row1\" class=\"row_heading level0 row1\" >rating</th>\n",
              "      <td id=\"T_85003_row1_col0\" class=\"data row1 col0\" >40.5</td>\n",
              "    </tr>\n",
              "    <tr>\n",
              "      <th id=\"T_85003_level0_row2\" class=\"row_heading level0 row2\" >user_score</th>\n",
              "      <td id=\"T_85003_row2_col0\" class=\"data row2 col0\" >40.1</td>\n",
              "    </tr>\n",
              "    <tr>\n",
              "      <th id=\"T_85003_level0_row3\" class=\"row_heading level0 row3\" >year_of_release</th>\n",
              "      <td id=\"T_85003_row3_col0\" class=\"data row3 col0\" >1.6</td>\n",
              "    </tr>\n",
              "    <tr>\n",
              "      <th id=\"T_85003_level0_row4\" class=\"row_heading level0 row4\" >name</th>\n",
              "      <td id=\"T_85003_row4_col0\" class=\"data row4 col0\" >0.0</td>\n",
              "    </tr>\n",
              "    <tr>\n",
              "      <th id=\"T_85003_level0_row5\" class=\"row_heading level0 row5\" >genre</th>\n",
              "      <td id=\"T_85003_row5_col0\" class=\"data row5 col0\" >0.0</td>\n",
              "    </tr>\n",
              "    <tr>\n",
              "      <th id=\"T_85003_level0_row6\" class=\"row_heading level0 row6\" >platform</th>\n",
              "      <td id=\"T_85003_row6_col0\" class=\"data row6 col0\" >0.0</td>\n",
              "    </tr>\n",
              "    <tr>\n",
              "      <th id=\"T_85003_level0_row7\" class=\"row_heading level0 row7\" >na_sales</th>\n",
              "      <td id=\"T_85003_row7_col0\" class=\"data row7 col0\" >0.0</td>\n",
              "    </tr>\n",
              "    <tr>\n",
              "      <th id=\"T_85003_level0_row8\" class=\"row_heading level0 row8\" >eu_sales</th>\n",
              "      <td id=\"T_85003_row8_col0\" class=\"data row8 col0\" >0.0</td>\n",
              "    </tr>\n",
              "    <tr>\n",
              "      <th id=\"T_85003_level0_row9\" class=\"row_heading level0 row9\" >jp_sales</th>\n",
              "      <td id=\"T_85003_row9_col0\" class=\"data row9 col0\" >0.0</td>\n",
              "    </tr>\n",
              "    <tr>\n",
              "      <th id=\"T_85003_level0_row10\" class=\"row_heading level0 row10\" >other_sales</th>\n",
              "      <td id=\"T_85003_row10_col0\" class=\"data row10 col0\" >0.0</td>\n",
              "    </tr>\n",
              "  </tbody>\n",
              "</table>\n"
            ]
          },
          "metadata": {},
          "execution_count": 8
        }
      ],
      "source": [
        "# Рассмотрим в процентах\n",
        "def isna_view (df):\n",
        "    return  (\n",
        "                (df.isna().mean()*100)\n",
        "                .sort_values(ascending=False)\n",
        "                .to_frame()\n",
        "                .rename(columns = {0:'percent_space'})\n",
        "                .style.background_gradient('coolwarm').format(\"{:.1f}\")\n",
        "            )\n",
        "\n",
        "isna_view (df)"
      ]
    },
    {
      "cell_type": "markdown",
      "metadata": {
        "id": "Nw7gPC9o2UMS"
      },
      "source": [
        "**Так как в столбце name всего два пропуска, то мы можем безболезненно удалить такие строки**"
      ]
    },
    {
      "cell_type": "code",
      "execution_count": 9,
      "metadata": {
        "id": "GQOpIlAH2UMS"
      },
      "outputs": [],
      "source": [
        "df = df.dropna(subset = ['name']) "
      ]
    },
    {
      "cell_type": "code",
      "execution_count": 10,
      "metadata": {
        "colab": {
          "base_uri": "https://localhost:8080/"
        },
        "id": "wvk2ytL92UMS",
        "outputId": "6f527c25-de84-41a8-9073-1f7450ff1e6e"
      },
      "outputs": [
        {
          "output_type": "execute_result",
          "data": {
            "text/plain": [
              "name                  0\n",
              "platform              0\n",
              "year_of_release     269\n",
              "genre                 0\n",
              "na_sales              0\n",
              "eu_sales              0\n",
              "jp_sales              0\n",
              "other_sales           0\n",
              "critic_score       8576\n",
              "user_score         6699\n",
              "rating             6764\n",
              "dtype: int64"
            ]
          },
          "metadata": {},
          "execution_count": 10
        }
      ],
      "source": [
        "df.isna().sum()"
      ]
    },
    {
      "cell_type": "markdown",
      "metadata": {
        "id": "HYP3wTYe2UMT"
      },
      "source": [
        "**В столбце genre также удалились пропуски, значит, это были одни и те же строки**"
      ]
    },
    {
      "cell_type": "markdown",
      "metadata": {
        "id": "kdW7EI022UMT"
      },
      "source": [
        "**В столбце года выпуска игры 269 пропусков. Заполнить это значение ничем нельзя. Удалим строки, где есть пропуски**"
      ]
    },
    {
      "cell_type": "code",
      "execution_count": 11,
      "metadata": {
        "id": "qgzHUcUx2UMT"
      },
      "outputs": [],
      "source": [
        "df = df.dropna(subset = ['year_of_release']) "
      ]
    },
    {
      "cell_type": "markdown",
      "metadata": {
        "id": "2Z6jrGCg2UMU"
      },
      "source": [
        "**Таким образом, у нас осталось 6600 и 8400 пропусков в столбцах с рейтингом. Заполнить такие строки нельзя, так как нет аналогичных значений, чтобы на них опираться. Удалить их тоже нельзя, так как в таком случае  будет удалена почти треть выборки**"
      ]
    },
    {
      "cell_type": "markdown",
      "metadata": {
        "id": "tcH7jKQN2UMU"
      },
      "source": [
        "**Теперь можно заменить тип столбца year_of_release на целочисленный**"
      ]
    },
    {
      "cell_type": "code",
      "execution_count": 12,
      "metadata": {
        "colab": {
          "base_uri": "https://localhost:8080/"
        },
        "id": "u2p6t2An2UMU",
        "outputId": "efbd61a2-547c-479c-f2cb-2eacb6db6a27"
      },
      "outputs": [
        {
          "output_type": "stream",
          "name": "stderr",
          "text": [
            "/usr/local/lib/python3.7/dist-packages/ipykernel_launcher.py:1: SettingWithCopyWarning:\n",
            "\n",
            "\n",
            "A value is trying to be set on a copy of a slice from a DataFrame.\n",
            "Try using .loc[row_indexer,col_indexer] = value instead\n",
            "\n",
            "See the caveats in the documentation: https://pandas.pydata.org/pandas-docs/stable/user_guide/indexing.html#returning-a-view-versus-a-copy\n",
            "\n"
          ]
        }
      ],
      "source": [
        "df['year_of_release'] = df['year_of_release'].astype('int')"
      ]
    },
    {
      "cell_type": "markdown",
      "metadata": {
        "id": "1c7mfsd82UMU"
      },
      "source": [
        "### Возрастное ограничение"
      ]
    },
    {
      "cell_type": "markdown",
      "metadata": {
        "id": "y9x_guN12UMU"
      },
      "source": [
        "**В столбце с возрастным ограничением можно проставить рейтинг в соответствии с жанром игры**"
      ]
    },
    {
      "cell_type": "code",
      "execution_count": 13,
      "metadata": {
        "colab": {
          "base_uri": "https://localhost:8080/"
        },
        "id": "R-22KB7S2UMV",
        "outputId": "938039c9-460b-40a8-f464-c3a8fb6736c6"
      },
      "outputs": [
        {
          "output_type": "execute_result",
          "data": {
            "text/plain": [
              "array(['E', nan, 'M', 'T', 'E10+', 'K-A', 'AO', 'EC', 'RP'], dtype=object)"
            ]
          },
          "metadata": {},
          "execution_count": 13
        }
      ],
      "source": [
        "df['rating'].unique()"
      ]
    },
    {
      "cell_type": "markdown",
      "metadata": {
        "id": "PqOjbuuI2UMV"
      },
      "source": [
        "**Разберем ограничения** (*Информация взята с сайта https://4buttonz.ru/esrb-rating-symbols-rejjtingov-dlya-kompyuternykh-videoigr/):\n",
        "- E - для любого возраста\n",
        "- E10+ - от 10 лет\n",
        "- T - от 13 лет\n",
        "- M - от 17 лет\n",
        "- AO - от 18 лет\n",
        "- RP - рейтинг ожидается\n",
        "- EC - дети раннего возраста\n",
        "- K-A - для детей и взрослых (уже не используется) (от 6 лет)"
      ]
    },
    {
      "cell_type": "markdown",
      "metadata": {
        "id": "k9v68tSe2UMV"
      },
      "source": [
        "**Система ESRB работает на американском рынке, поэтому мы имеем так много пропусков. Производители игр в Японии и Европе не стремятся получить эту отметку**"
      ]
    },
    {
      "cell_type": "markdown",
      "metadata": {
        "id": "24bVtnXr2UMW"
      },
      "source": [
        "**Заменим пропуски в этом столбце на \"unknown\"**"
      ]
    },
    {
      "cell_type": "code",
      "execution_count": 14,
      "metadata": {
        "scrolled": true,
        "colab": {
          "base_uri": "https://localhost:8080/"
        },
        "id": "6Jifs_KK2UMW",
        "outputId": "c325828b-3f68-40e4-bacf-a2f63b7ed8d1"
      },
      "outputs": [
        {
          "output_type": "stream",
          "name": "stderr",
          "text": [
            "/usr/local/lib/python3.7/dist-packages/ipykernel_launcher.py:1: SettingWithCopyWarning:\n",
            "\n",
            "\n",
            "A value is trying to be set on a copy of a slice from a DataFrame.\n",
            "Try using .loc[row_indexer,col_indexer] = value instead\n",
            "\n",
            "See the caveats in the documentation: https://pandas.pydata.org/pandas-docs/stable/user_guide/indexing.html#returning-a-view-versus-a-copy\n",
            "\n"
          ]
        }
      ],
      "source": [
        "df['rating'] = df['rating'].fillna('unknown')"
      ]
    },
    {
      "cell_type": "markdown",
      "metadata": {
        "id": "s4CU1vk02UMX"
      },
      "source": [
        "### Оценка \"tbd\""
      ]
    },
    {
      "cell_type": "markdown",
      "metadata": {
        "id": "RUynIsc42UMX"
      },
      "source": [
        "**Рассмотрим уникальные значения столбца user_score**"
      ]
    },
    {
      "cell_type": "code",
      "execution_count": 15,
      "metadata": {
        "scrolled": true,
        "colab": {
          "base_uri": "https://localhost:8080/"
        },
        "id": "8wAr0ZOg2UMX",
        "outputId": "eeb0f41c-f5e9-441c-a44a-18cf9ca7ee37"
      },
      "outputs": [
        {
          "output_type": "execute_result",
          "data": {
            "text/plain": [
              "array(['8', nan, '8.3', '8.5', '6.6', '8.4', '8.6', '7.7', '6.3', '7.4',\n",
              "       '8.2', '9', '7.9', '8.1', '8.7', '7.1', '3.4', '5.3', '4.8', '3.2',\n",
              "       '8.9', '6.4', '7.8', '7.5', '2.6', '7.2', '9.2', '7', '7.3', '4.3',\n",
              "       '7.6', '5.7', '5', '9.1', '6.5', 'tbd', '8.8', '6.9', '9.4', '6.8',\n",
              "       '6.1', '6.7', '5.4', '4', '4.9', '4.5', '9.3', '6.2', '4.2', '6',\n",
              "       '3.7', '4.1', '5.8', '5.6', '5.5', '4.4', '4.6', '5.9', '3.9',\n",
              "       '3.1', '2.9', '5.2', '3.3', '4.7', '5.1', '3.5', '2.5', '1.9', '3',\n",
              "       '2.7', '2.2', '2', '9.5', '2.1', '3.6', '2.8', '1.8', '3.8', '0',\n",
              "       '1.6', '9.6', '2.4', '1.7', '1.1', '0.3', '1.5', '0.7', '1.2',\n",
              "       '2.3', '0.5', '1.3', '0.2', '0.6', '1.4', '0.9', '1', '9.7'],\n",
              "      dtype=object)"
            ]
          },
          "metadata": {},
          "execution_count": 15
        }
      ],
      "source": [
        "df['user_score'].unique()"
      ]
    },
    {
      "cell_type": "markdown",
      "metadata": {
        "id": "D3Lt5P5s2UMY"
      },
      "source": [
        "**Рассмотрим срез со значениями \"tbd\"**"
      ]
    },
    {
      "cell_type": "code",
      "execution_count": 16,
      "metadata": {
        "scrolled": true,
        "colab": {
          "base_uri": "https://localhost:8080/",
          "height": 206
        },
        "id": "sC_l8pjx2UMY",
        "outputId": "990468d7-7154-490e-8f09-a5ecd43becc3"
      },
      "outputs": [
        {
          "output_type": "display_data",
          "data": {
            "text/plain": [
              "                               name platform  year_of_release   genre  \\\n",
              "119                   Zumba Fitness      Wii             2010  Sports   \n",
              "301  Namco Museum: 50th Anniversary      PS2             2005    Misc   \n",
              "520                 Zumba Fitness 2      Wii             2011  Sports   \n",
              "645                    uDraw Studio      Wii             2010    Misc   \n",
              "718                 Just Dance Kids      Wii             2010    Misc   \n",
              "\n",
              "     na_sales  eu_sales  jp_sales  other_sales  critic_score user_score rating  \n",
              "119      3.45      2.59       0.0         0.66           NaN        tbd      E  \n",
              "301      2.08      1.35       0.0         0.54          61.0        tbd   E10+  \n",
              "520      1.51      1.03       0.0         0.27           NaN        tbd      T  \n",
              "645      1.65      0.57       0.0         0.20          71.0        tbd      E  \n",
              "718      1.52      0.54       0.0         0.18           NaN        tbd      E  "
            ],
            "text/html": [
              "\n",
              "  <div id=\"df-44c42254-f7bf-482b-8e77-1c0e5d4289ba\">\n",
              "    <div class=\"colab-df-container\">\n",
              "      <div>\n",
              "<style scoped>\n",
              "    .dataframe tbody tr th:only-of-type {\n",
              "        vertical-align: middle;\n",
              "    }\n",
              "\n",
              "    .dataframe tbody tr th {\n",
              "        vertical-align: top;\n",
              "    }\n",
              "\n",
              "    .dataframe thead th {\n",
              "        text-align: right;\n",
              "    }\n",
              "</style>\n",
              "<table border=\"1\" class=\"dataframe\">\n",
              "  <thead>\n",
              "    <tr style=\"text-align: right;\">\n",
              "      <th></th>\n",
              "      <th>name</th>\n",
              "      <th>platform</th>\n",
              "      <th>year_of_release</th>\n",
              "      <th>genre</th>\n",
              "      <th>na_sales</th>\n",
              "      <th>eu_sales</th>\n",
              "      <th>jp_sales</th>\n",
              "      <th>other_sales</th>\n",
              "      <th>critic_score</th>\n",
              "      <th>user_score</th>\n",
              "      <th>rating</th>\n",
              "    </tr>\n",
              "  </thead>\n",
              "  <tbody>\n",
              "    <tr>\n",
              "      <th>119</th>\n",
              "      <td>Zumba Fitness</td>\n",
              "      <td>Wii</td>\n",
              "      <td>2010</td>\n",
              "      <td>Sports</td>\n",
              "      <td>3.45</td>\n",
              "      <td>2.59</td>\n",
              "      <td>0.0</td>\n",
              "      <td>0.66</td>\n",
              "      <td>NaN</td>\n",
              "      <td>tbd</td>\n",
              "      <td>E</td>\n",
              "    </tr>\n",
              "    <tr>\n",
              "      <th>301</th>\n",
              "      <td>Namco Museum: 50th Anniversary</td>\n",
              "      <td>PS2</td>\n",
              "      <td>2005</td>\n",
              "      <td>Misc</td>\n",
              "      <td>2.08</td>\n",
              "      <td>1.35</td>\n",
              "      <td>0.0</td>\n",
              "      <td>0.54</td>\n",
              "      <td>61.0</td>\n",
              "      <td>tbd</td>\n",
              "      <td>E10+</td>\n",
              "    </tr>\n",
              "    <tr>\n",
              "      <th>520</th>\n",
              "      <td>Zumba Fitness 2</td>\n",
              "      <td>Wii</td>\n",
              "      <td>2011</td>\n",
              "      <td>Sports</td>\n",
              "      <td>1.51</td>\n",
              "      <td>1.03</td>\n",
              "      <td>0.0</td>\n",
              "      <td>0.27</td>\n",
              "      <td>NaN</td>\n",
              "      <td>tbd</td>\n",
              "      <td>T</td>\n",
              "    </tr>\n",
              "    <tr>\n",
              "      <th>645</th>\n",
              "      <td>uDraw Studio</td>\n",
              "      <td>Wii</td>\n",
              "      <td>2010</td>\n",
              "      <td>Misc</td>\n",
              "      <td>1.65</td>\n",
              "      <td>0.57</td>\n",
              "      <td>0.0</td>\n",
              "      <td>0.20</td>\n",
              "      <td>71.0</td>\n",
              "      <td>tbd</td>\n",
              "      <td>E</td>\n",
              "    </tr>\n",
              "    <tr>\n",
              "      <th>718</th>\n",
              "      <td>Just Dance Kids</td>\n",
              "      <td>Wii</td>\n",
              "      <td>2010</td>\n",
              "      <td>Misc</td>\n",
              "      <td>1.52</td>\n",
              "      <td>0.54</td>\n",
              "      <td>0.0</td>\n",
              "      <td>0.18</td>\n",
              "      <td>NaN</td>\n",
              "      <td>tbd</td>\n",
              "      <td>E</td>\n",
              "    </tr>\n",
              "  </tbody>\n",
              "</table>\n",
              "</div>\n",
              "      <button class=\"colab-df-convert\" onclick=\"convertToInteractive('df-44c42254-f7bf-482b-8e77-1c0e5d4289ba')\"\n",
              "              title=\"Convert this dataframe to an interactive table.\"\n",
              "              style=\"display:none;\">\n",
              "        \n",
              "  <svg xmlns=\"http://www.w3.org/2000/svg\" height=\"24px\"viewBox=\"0 0 24 24\"\n",
              "       width=\"24px\">\n",
              "    <path d=\"M0 0h24v24H0V0z\" fill=\"none\"/>\n",
              "    <path d=\"M18.56 5.44l.94 2.06.94-2.06 2.06-.94-2.06-.94-.94-2.06-.94 2.06-2.06.94zm-11 1L8.5 8.5l.94-2.06 2.06-.94-2.06-.94L8.5 2.5l-.94 2.06-2.06.94zm10 10l.94 2.06.94-2.06 2.06-.94-2.06-.94-.94-2.06-.94 2.06-2.06.94z\"/><path d=\"M17.41 7.96l-1.37-1.37c-.4-.4-.92-.59-1.43-.59-.52 0-1.04.2-1.43.59L10.3 9.45l-7.72 7.72c-.78.78-.78 2.05 0 2.83L4 21.41c.39.39.9.59 1.41.59.51 0 1.02-.2 1.41-.59l7.78-7.78 2.81-2.81c.8-.78.8-2.07 0-2.86zM5.41 20L4 18.59l7.72-7.72 1.47 1.35L5.41 20z\"/>\n",
              "  </svg>\n",
              "      </button>\n",
              "      \n",
              "  <style>\n",
              "    .colab-df-container {\n",
              "      display:flex;\n",
              "      flex-wrap:wrap;\n",
              "      gap: 12px;\n",
              "    }\n",
              "\n",
              "    .colab-df-convert {\n",
              "      background-color: #E8F0FE;\n",
              "      border: none;\n",
              "      border-radius: 50%;\n",
              "      cursor: pointer;\n",
              "      display: none;\n",
              "      fill: #1967D2;\n",
              "      height: 32px;\n",
              "      padding: 0 0 0 0;\n",
              "      width: 32px;\n",
              "    }\n",
              "\n",
              "    .colab-df-convert:hover {\n",
              "      background-color: #E2EBFA;\n",
              "      box-shadow: 0px 1px 2px rgba(60, 64, 67, 0.3), 0px 1px 3px 1px rgba(60, 64, 67, 0.15);\n",
              "      fill: #174EA6;\n",
              "    }\n",
              "\n",
              "    [theme=dark] .colab-df-convert {\n",
              "      background-color: #3B4455;\n",
              "      fill: #D2E3FC;\n",
              "    }\n",
              "\n",
              "    [theme=dark] .colab-df-convert:hover {\n",
              "      background-color: #434B5C;\n",
              "      box-shadow: 0px 1px 3px 1px rgba(0, 0, 0, 0.15);\n",
              "      filter: drop-shadow(0px 1px 2px rgba(0, 0, 0, 0.3));\n",
              "      fill: #FFFFFF;\n",
              "    }\n",
              "  </style>\n",
              "\n",
              "      <script>\n",
              "        const buttonEl =\n",
              "          document.querySelector('#df-44c42254-f7bf-482b-8e77-1c0e5d4289ba button.colab-df-convert');\n",
              "        buttonEl.style.display =\n",
              "          google.colab.kernel.accessAllowed ? 'block' : 'none';\n",
              "\n",
              "        async function convertToInteractive(key) {\n",
              "          const element = document.querySelector('#df-44c42254-f7bf-482b-8e77-1c0e5d4289ba');\n",
              "          const dataTable =\n",
              "            await google.colab.kernel.invokeFunction('convertToInteractive',\n",
              "                                                     [key], {});\n",
              "          if (!dataTable) return;\n",
              "\n",
              "          const docLinkHtml = 'Like what you see? Visit the ' +\n",
              "            '<a target=\"_blank\" href=https://colab.research.google.com/notebooks/data_table.ipynb>data table notebook</a>'\n",
              "            + ' to learn more about interactive tables.';\n",
              "          element.innerHTML = '';\n",
              "          dataTable['output_type'] = 'display_data';\n",
              "          await google.colab.output.renderOutput(dataTable, element);\n",
              "          const docLink = document.createElement('div');\n",
              "          docLink.innerHTML = docLinkHtml;\n",
              "          element.appendChild(docLink);\n",
              "        }\n",
              "      </script>\n",
              "    </div>\n",
              "  </div>\n",
              "  "
            ]
          },
          "metadata": {}
        }
      ],
      "source": [
        "display(df.query('user_score == \"tbd\"').head(5))"
      ]
    },
    {
      "cell_type": "markdown",
      "metadata": {
        "id": "ExCOMFjm2UMY"
      },
      "source": [
        "**tbd (to be determined) расшифровывается как \"подлежит уточнению\". Скорее всего это связано с малым количеством проданных копий**"
      ]
    },
    {
      "cell_type": "markdown",
      "metadata": {
        "id": "_nCpAGt_2UMZ"
      },
      "source": [
        "**Заменим знаения tbd на NaN**"
      ]
    },
    {
      "cell_type": "code",
      "execution_count": 17,
      "metadata": {
        "id": "90tFvGNj2UMZ"
      },
      "outputs": [],
      "source": [
        "def score_tbd(row):\n",
        "    score = row['user_score']\n",
        "    if score == 'tbd':\n",
        "        return np.nan\n",
        "    return score\n",
        "df['user_score'] = df.apply(score_tbd, axis = 1)"
      ]
    },
    {
      "cell_type": "markdown",
      "metadata": {
        "id": "Wdjp_nee2UMZ"
      },
      "source": [
        "**Теперь можно заменить тип столбца user_score на float**"
      ]
    },
    {
      "cell_type": "code",
      "execution_count": 18,
      "metadata": {
        "id": "9HUhhA452UMZ"
      },
      "outputs": [],
      "source": [
        "df['user_score'] = df['user_score'].astype('float')"
      ]
    },
    {
      "cell_type": "markdown",
      "metadata": {
        "id": "xeoCfHXk2UMa"
      },
      "source": [
        "### Расчет суммарных продаж во всех регионах"
      ]
    },
    {
      "cell_type": "code",
      "execution_count": 19,
      "metadata": {
        "id": "mjpkvo292UMa"
      },
      "outputs": [],
      "source": [
        "df['sum_sales'] = df[['na_sales','eu_sales','jp_sales', 'other_sales']].sum(axis = 1)"
      ]
    },
    {
      "cell_type": "markdown",
      "metadata": {
        "id": "KyQmL0XM2UMc"
      },
      "source": [
        "## Исследовательский анализ данных"
      ]
    },
    {
      "cell_type": "markdown",
      "metadata": {
        "id": "OM6Aay4B2UMc"
      },
      "source": [
        "### Рассмотрим, сколько игр выпускалось в разные годы. Важны ли данные за все периоды?"
      ]
    },
    {
      "cell_type": "code",
      "execution_count": 20,
      "metadata": {
        "scrolled": true,
        "colab": {
          "base_uri": "https://localhost:8080/",
          "height": 1000
        },
        "id": "ewW9hsZN2UMc",
        "outputId": "596fbaf4-253c-4c72-e409-a8df6908ce98"
      },
      "outputs": [
        {
          "output_type": "display_data",
          "data": {
            "text/plain": [
              "                 Год выпуска  Количество игр\n",
              "year_of_release                             \n",
              "1980                    1980               9\n",
              "1981                    1981              46\n",
              "1982                    1982              36\n",
              "1983                    1983              17\n",
              "1984                    1984              14\n",
              "1985                    1985              14\n",
              "1986                    1986              21\n",
              "1987                    1987              16\n",
              "1988                    1988              15\n",
              "1989                    1989              17\n",
              "1990                    1990              16\n",
              "1991                    1991              41\n",
              "1992                    1992              43\n",
              "1993                    1993              60\n",
              "1994                    1994             121\n",
              "1995                    1995             219\n",
              "1996                    1996             263\n",
              "1997                    1997             289\n",
              "1998                    1998             379\n",
              "1999                    1999             338\n",
              "2000                    2000             350\n",
              "2001                    2001             482\n",
              "2002                    2002             829\n",
              "2003                    2003             775\n",
              "2004                    2004             762\n",
              "2005                    2005             939\n",
              "2006                    2006            1006\n",
              "2007                    2007            1197\n",
              "2008                    2008            1427\n",
              "2009                    2009            1426\n",
              "2010                    2010            1255\n",
              "2011                    2011            1136\n",
              "2012                    2012             653\n",
              "2013                    2013             544\n",
              "2014                    2014             581\n",
              "2015                    2015             606\n",
              "2016                    2016             502"
            ],
            "text/html": [
              "\n",
              "  <div id=\"df-5cce09b7-d3ff-4f6e-8095-e39b31bba2e7\">\n",
              "    <div class=\"colab-df-container\">\n",
              "      <div>\n",
              "<style scoped>\n",
              "    .dataframe tbody tr th:only-of-type {\n",
              "        vertical-align: middle;\n",
              "    }\n",
              "\n",
              "    .dataframe tbody tr th {\n",
              "        vertical-align: top;\n",
              "    }\n",
              "\n",
              "    .dataframe thead th {\n",
              "        text-align: right;\n",
              "    }\n",
              "</style>\n",
              "<table border=\"1\" class=\"dataframe\">\n",
              "  <thead>\n",
              "    <tr style=\"text-align: right;\">\n",
              "      <th></th>\n",
              "      <th>Год выпуска</th>\n",
              "      <th>Количество игр</th>\n",
              "    </tr>\n",
              "    <tr>\n",
              "      <th>year_of_release</th>\n",
              "      <th></th>\n",
              "      <th></th>\n",
              "    </tr>\n",
              "  </thead>\n",
              "  <tbody>\n",
              "    <tr>\n",
              "      <th>1980</th>\n",
              "      <td>1980</td>\n",
              "      <td>9</td>\n",
              "    </tr>\n",
              "    <tr>\n",
              "      <th>1981</th>\n",
              "      <td>1981</td>\n",
              "      <td>46</td>\n",
              "    </tr>\n",
              "    <tr>\n",
              "      <th>1982</th>\n",
              "      <td>1982</td>\n",
              "      <td>36</td>\n",
              "    </tr>\n",
              "    <tr>\n",
              "      <th>1983</th>\n",
              "      <td>1983</td>\n",
              "      <td>17</td>\n",
              "    </tr>\n",
              "    <tr>\n",
              "      <th>1984</th>\n",
              "      <td>1984</td>\n",
              "      <td>14</td>\n",
              "    </tr>\n",
              "    <tr>\n",
              "      <th>1985</th>\n",
              "      <td>1985</td>\n",
              "      <td>14</td>\n",
              "    </tr>\n",
              "    <tr>\n",
              "      <th>1986</th>\n",
              "      <td>1986</td>\n",
              "      <td>21</td>\n",
              "    </tr>\n",
              "    <tr>\n",
              "      <th>1987</th>\n",
              "      <td>1987</td>\n",
              "      <td>16</td>\n",
              "    </tr>\n",
              "    <tr>\n",
              "      <th>1988</th>\n",
              "      <td>1988</td>\n",
              "      <td>15</td>\n",
              "    </tr>\n",
              "    <tr>\n",
              "      <th>1989</th>\n",
              "      <td>1989</td>\n",
              "      <td>17</td>\n",
              "    </tr>\n",
              "    <tr>\n",
              "      <th>1990</th>\n",
              "      <td>1990</td>\n",
              "      <td>16</td>\n",
              "    </tr>\n",
              "    <tr>\n",
              "      <th>1991</th>\n",
              "      <td>1991</td>\n",
              "      <td>41</td>\n",
              "    </tr>\n",
              "    <tr>\n",
              "      <th>1992</th>\n",
              "      <td>1992</td>\n",
              "      <td>43</td>\n",
              "    </tr>\n",
              "    <tr>\n",
              "      <th>1993</th>\n",
              "      <td>1993</td>\n",
              "      <td>60</td>\n",
              "    </tr>\n",
              "    <tr>\n",
              "      <th>1994</th>\n",
              "      <td>1994</td>\n",
              "      <td>121</td>\n",
              "    </tr>\n",
              "    <tr>\n",
              "      <th>1995</th>\n",
              "      <td>1995</td>\n",
              "      <td>219</td>\n",
              "    </tr>\n",
              "    <tr>\n",
              "      <th>1996</th>\n",
              "      <td>1996</td>\n",
              "      <td>263</td>\n",
              "    </tr>\n",
              "    <tr>\n",
              "      <th>1997</th>\n",
              "      <td>1997</td>\n",
              "      <td>289</td>\n",
              "    </tr>\n",
              "    <tr>\n",
              "      <th>1998</th>\n",
              "      <td>1998</td>\n",
              "      <td>379</td>\n",
              "    </tr>\n",
              "    <tr>\n",
              "      <th>1999</th>\n",
              "      <td>1999</td>\n",
              "      <td>338</td>\n",
              "    </tr>\n",
              "    <tr>\n",
              "      <th>2000</th>\n",
              "      <td>2000</td>\n",
              "      <td>350</td>\n",
              "    </tr>\n",
              "    <tr>\n",
              "      <th>2001</th>\n",
              "      <td>2001</td>\n",
              "      <td>482</td>\n",
              "    </tr>\n",
              "    <tr>\n",
              "      <th>2002</th>\n",
              "      <td>2002</td>\n",
              "      <td>829</td>\n",
              "    </tr>\n",
              "    <tr>\n",
              "      <th>2003</th>\n",
              "      <td>2003</td>\n",
              "      <td>775</td>\n",
              "    </tr>\n",
              "    <tr>\n",
              "      <th>2004</th>\n",
              "      <td>2004</td>\n",
              "      <td>762</td>\n",
              "    </tr>\n",
              "    <tr>\n",
              "      <th>2005</th>\n",
              "      <td>2005</td>\n",
              "      <td>939</td>\n",
              "    </tr>\n",
              "    <tr>\n",
              "      <th>2006</th>\n",
              "      <td>2006</td>\n",
              "      <td>1006</td>\n",
              "    </tr>\n",
              "    <tr>\n",
              "      <th>2007</th>\n",
              "      <td>2007</td>\n",
              "      <td>1197</td>\n",
              "    </tr>\n",
              "    <tr>\n",
              "      <th>2008</th>\n",
              "      <td>2008</td>\n",
              "      <td>1427</td>\n",
              "    </tr>\n",
              "    <tr>\n",
              "      <th>2009</th>\n",
              "      <td>2009</td>\n",
              "      <td>1426</td>\n",
              "    </tr>\n",
              "    <tr>\n",
              "      <th>2010</th>\n",
              "      <td>2010</td>\n",
              "      <td>1255</td>\n",
              "    </tr>\n",
              "    <tr>\n",
              "      <th>2011</th>\n",
              "      <td>2011</td>\n",
              "      <td>1136</td>\n",
              "    </tr>\n",
              "    <tr>\n",
              "      <th>2012</th>\n",
              "      <td>2012</td>\n",
              "      <td>653</td>\n",
              "    </tr>\n",
              "    <tr>\n",
              "      <th>2013</th>\n",
              "      <td>2013</td>\n",
              "      <td>544</td>\n",
              "    </tr>\n",
              "    <tr>\n",
              "      <th>2014</th>\n",
              "      <td>2014</td>\n",
              "      <td>581</td>\n",
              "    </tr>\n",
              "    <tr>\n",
              "      <th>2015</th>\n",
              "      <td>2015</td>\n",
              "      <td>606</td>\n",
              "    </tr>\n",
              "    <tr>\n",
              "      <th>2016</th>\n",
              "      <td>2016</td>\n",
              "      <td>502</td>\n",
              "    </tr>\n",
              "  </tbody>\n",
              "</table>\n",
              "</div>\n",
              "      <button class=\"colab-df-convert\" onclick=\"convertToInteractive('df-5cce09b7-d3ff-4f6e-8095-e39b31bba2e7')\"\n",
              "              title=\"Convert this dataframe to an interactive table.\"\n",
              "              style=\"display:none;\">\n",
              "        \n",
              "  <svg xmlns=\"http://www.w3.org/2000/svg\" height=\"24px\"viewBox=\"0 0 24 24\"\n",
              "       width=\"24px\">\n",
              "    <path d=\"M0 0h24v24H0V0z\" fill=\"none\"/>\n",
              "    <path d=\"M18.56 5.44l.94 2.06.94-2.06 2.06-.94-2.06-.94-.94-2.06-.94 2.06-2.06.94zm-11 1L8.5 8.5l.94-2.06 2.06-.94-2.06-.94L8.5 2.5l-.94 2.06-2.06.94zm10 10l.94 2.06.94-2.06 2.06-.94-2.06-.94-.94-2.06-.94 2.06-2.06.94z\"/><path d=\"M17.41 7.96l-1.37-1.37c-.4-.4-.92-.59-1.43-.59-.52 0-1.04.2-1.43.59L10.3 9.45l-7.72 7.72c-.78.78-.78 2.05 0 2.83L4 21.41c.39.39.9.59 1.41.59.51 0 1.02-.2 1.41-.59l7.78-7.78 2.81-2.81c.8-.78.8-2.07 0-2.86zM5.41 20L4 18.59l7.72-7.72 1.47 1.35L5.41 20z\"/>\n",
              "  </svg>\n",
              "      </button>\n",
              "      \n",
              "  <style>\n",
              "    .colab-df-container {\n",
              "      display:flex;\n",
              "      flex-wrap:wrap;\n",
              "      gap: 12px;\n",
              "    }\n",
              "\n",
              "    .colab-df-convert {\n",
              "      background-color: #E8F0FE;\n",
              "      border: none;\n",
              "      border-radius: 50%;\n",
              "      cursor: pointer;\n",
              "      display: none;\n",
              "      fill: #1967D2;\n",
              "      height: 32px;\n",
              "      padding: 0 0 0 0;\n",
              "      width: 32px;\n",
              "    }\n",
              "\n",
              "    .colab-df-convert:hover {\n",
              "      background-color: #E2EBFA;\n",
              "      box-shadow: 0px 1px 2px rgba(60, 64, 67, 0.3), 0px 1px 3px 1px rgba(60, 64, 67, 0.15);\n",
              "      fill: #174EA6;\n",
              "    }\n",
              "\n",
              "    [theme=dark] .colab-df-convert {\n",
              "      background-color: #3B4455;\n",
              "      fill: #D2E3FC;\n",
              "    }\n",
              "\n",
              "    [theme=dark] .colab-df-convert:hover {\n",
              "      background-color: #434B5C;\n",
              "      box-shadow: 0px 1px 3px 1px rgba(0, 0, 0, 0.15);\n",
              "      filter: drop-shadow(0px 1px 2px rgba(0, 0, 0, 0.3));\n",
              "      fill: #FFFFFF;\n",
              "    }\n",
              "  </style>\n",
              "\n",
              "      <script>\n",
              "        const buttonEl =\n",
              "          document.querySelector('#df-5cce09b7-d3ff-4f6e-8095-e39b31bba2e7 button.colab-df-convert');\n",
              "        buttonEl.style.display =\n",
              "          google.colab.kernel.accessAllowed ? 'block' : 'none';\n",
              "\n",
              "        async function convertToInteractive(key) {\n",
              "          const element = document.querySelector('#df-5cce09b7-d3ff-4f6e-8095-e39b31bba2e7');\n",
              "          const dataTable =\n",
              "            await google.colab.kernel.invokeFunction('convertToInteractive',\n",
              "                                                     [key], {});\n",
              "          if (!dataTable) return;\n",
              "\n",
              "          const docLinkHtml = 'Like what you see? Visit the ' +\n",
              "            '<a target=\"_blank\" href=https://colab.research.google.com/notebooks/data_table.ipynb>data table notebook</a>'\n",
              "            + ' to learn more about interactive tables.';\n",
              "          element.innerHTML = '';\n",
              "          dataTable['output_type'] = 'display_data';\n",
              "          await google.colab.output.renderOutput(dataTable, element);\n",
              "          const docLink = document.createElement('div');\n",
              "          docLink.innerHTML = docLinkHtml;\n",
              "          element.appendChild(docLink);\n",
              "        }\n",
              "      </script>\n",
              "    </div>\n",
              "  </div>\n",
              "  "
            ]
          },
          "metadata": {}
        }
      ],
      "source": [
        "# Составим сводную таблицу, которая покажет количество игр по годам выпуска\n",
        "df_group = df.pivot_table(index = 'year_of_release', values = 'name', aggfunc = 'count')\n",
        "\n",
        "# Составим по сводной таблице DF для построения графика\n",
        "result_df_group = pd.DataFrame({'Год выпуска':df['year_of_release'].sort_values().unique(), 'Количество игр': df_group['name']})\n",
        "\n",
        "display(result_df_group)"
      ]
    },
    {
      "cell_type": "markdown",
      "metadata": {
        "id": "W2YfhLJm2UMd"
      },
      "source": [
        "**Выведем график по полученному DF**"
      ]
    },
    {
      "cell_type": "code",
      "execution_count": 21,
      "metadata": {
        "scrolled": false,
        "colab": {
          "base_uri": "https://localhost:8080/",
          "height": 366
        },
        "id": "4l8rQPUH2UMe",
        "outputId": "933cb6b5-5c56-4d75-eb32-8eb81088818b"
      },
      "outputs": [
        {
          "output_type": "display_data",
          "data": {
            "text/plain": [
              "<Figure size 432x288 with 1 Axes>"
            ],
            "image/png": "[encoded data removed]"
          },
          "metadata": {
            "needs_background": "light"
          }
        }
      ],
      "source": [
        "fig = plt.figure()\n",
        "\n",
        "axes = fig.add_axes([0.1, 0.1, 2, 1]) \n",
        "\n",
        "x = result_df_group['Год выпуска'] \n",
        "y = result_df_group['Количество игр']\n",
        "\n",
        "axes.plot(x, y, 'b')\n",
        "axes.grid(True)\n",
        "axes.set_xlabel('Год')\n",
        "axes.set_ylabel('Количество игр')\n",
        "axes.set_title('Зависимость количества выпущенных игр от года'); "
      ]
    },
    {
      "cell_type": "markdown",
      "metadata": {
        "id": "giypbUFj2UMe"
      },
      "source": [
        "**Изучив график можно сделать вывод, что количество выпущенных игр непрерывно увеличивалось вплоть до 2009 года, после чего количество уменьшалось до 2016г.**"
      ]
    },
    {
      "cell_type": "markdown",
      "metadata": {
        "id": "v4NyCQvj2UMf"
      },
      "source": [
        "### Продажи по платформам "
      ]
    },
    {
      "cell_type": "markdown",
      "metadata": {
        "id": "0iywXfdE2UMf"
      },
      "source": [
        "**У платформы DS обнаружен странный выброс 1985 года. В это время ее даже не существовало. Удалим это значение**"
      ]
    },
    {
      "cell_type": "code",
      "execution_count": 22,
      "metadata": {
        "colab": {
          "base_uri": "https://localhost:8080/",
          "height": 142
        },
        "id": "o4xTd6sk2UMf",
        "outputId": "5ccc0eed-0f2f-4f61-e6ca-8fba518c072d"
      },
      "outputs": [
        {
          "output_type": "execute_result",
          "data": {
            "text/plain": [
              "                                      name platform  year_of_release   genre  \\\n",
              "15957  Strongest Tokyo University Shogi DS       DS             1985  Action   \n",
              "\n",
              "       na_sales  eu_sales  jp_sales  other_sales  critic_score  user_score  \\\n",
              "15957       0.0       0.0      0.02          0.0           NaN         NaN   \n",
              "\n",
              "        rating  sum_sales  \n",
              "15957  unknown       0.02  "
            ],
            "text/html": [
              "\n",
              "  <div id=\"df-8cb8e35a-38f5-4a2b-80ca-bee3b561d480\">\n",
              "    <div class=\"colab-df-container\">\n",
              "      <div>\n",
              "<style scoped>\n",
              "    .dataframe tbody tr th:only-of-type {\n",
              "        vertical-align: middle;\n",
              "    }\n",
              "\n",
              "    .dataframe tbody tr th {\n",
              "        vertical-align: top;\n",
              "    }\n",
              "\n",
              "    .dataframe thead th {\n",
              "        text-align: right;\n",
              "    }\n",
              "</style>\n",
              "<table border=\"1\" class=\"dataframe\">\n",
              "  <thead>\n",
              "    <tr style=\"text-align: right;\">\n",
              "      <th></th>\n",
              "      <th>name</th>\n",
              "      <th>platform</th>\n",
              "      <th>year_of_release</th>\n",
              "      <th>genre</th>\n",
              "      <th>na_sales</th>\n",
              "      <th>eu_sales</th>\n",
              "      <th>jp_sales</th>\n",
              "      <th>other_sales</th>\n",
              "      <th>critic_score</th>\n",
              "      <th>user_score</th>\n",
              "      <th>rating</th>\n",
              "      <th>sum_sales</th>\n",
              "    </tr>\n",
              "  </thead>\n",
              "  <tbody>\n",
              "    <tr>\n",
              "      <th>15957</th>\n",
              "      <td>Strongest Tokyo University Shogi DS</td>\n",
              "      <td>DS</td>\n",
              "      <td>1985</td>\n",
              "      <td>Action</td>\n",
              "      <td>0.0</td>\n",
              "      <td>0.0</td>\n",
              "      <td>0.02</td>\n",
              "      <td>0.0</td>\n",
              "      <td>NaN</td>\n",
              "      <td>NaN</td>\n",
              "      <td>unknown</td>\n",
              "      <td>0.02</td>\n",
              "    </tr>\n",
              "  </tbody>\n",
              "</table>\n",
              "</div>\n",
              "      <button class=\"colab-df-convert\" onclick=\"convertToInteractive('df-8cb8e35a-38f5-4a2b-80ca-bee3b561d480')\"\n",
              "              title=\"Convert this dataframe to an interactive table.\"\n",
              "              style=\"display:none;\">\n",
              "        \n",
              "  <svg xmlns=\"http://www.w3.org/2000/svg\" height=\"24px\"viewBox=\"0 0 24 24\"\n",
              "       width=\"24px\">\n",
              "    <path d=\"M0 0h24v24H0V0z\" fill=\"none\"/>\n",
              "    <path d=\"M18.56 5.44l.94 2.06.94-2.06 2.06-.94-2.06-.94-.94-2.06-.94 2.06-2.06.94zm-11 1L8.5 8.5l.94-2.06 2.06-.94-2.06-.94L8.5 2.5l-.94 2.06-2.06.94zm10 10l.94 2.06.94-2.06 2.06-.94-2.06-.94-.94-2.06-.94 2.06-2.06.94z\"/><path d=\"M17.41 7.96l-1.37-1.37c-.4-.4-.92-.59-1.43-.59-.52 0-1.04.2-1.43.59L10.3 9.45l-7.72 7.72c-.78.78-.78 2.05 0 2.83L4 21.41c.39.39.9.59 1.41.59.51 0 1.02-.2 1.41-.59l7.78-7.78 2.81-2.81c.8-.78.8-2.07 0-2.86zM5.41 20L4 18.59l7.72-7.72 1.47 1.35L5.41 20z\"/>\n",
              "  </svg>\n",
              "      </button>\n",
              "      \n",
              "  <style>\n",
              "    .colab-df-container {\n",
              "      display:flex;\n",
              "      flex-wrap:wrap;\n",
              "      gap: 12px;\n",
              "    }\n",
              "\n",
              "    .colab-df-convert {\n",
              "      background-color: #E8F0FE;\n",
              "      border: none;\n",
              "      border-radius: 50%;\n",
              "      cursor: pointer;\n",
              "      display: none;\n",
              "      fill: #1967D2;\n",
              "      height: 32px;\n",
              "      padding: 0 0 0 0;\n",
              "      width: 32px;\n",
              "    }\n",
              "\n",
              "    .colab-df-convert:hover {\n",
              "      background-color: #E2EBFA;\n",
              "      box-shadow: 0px 1px 2px rgba(60, 64, 67, 0.3), 0px 1px 3px 1px rgba(60, 64, 67, 0.15);\n",
              "      fill: #174EA6;\n",
              "    }\n",
              "\n",
              "    [theme=dark] .colab-df-convert {\n",
              "      background-color: #3B4455;\n",
              "      fill: #D2E3FC;\n",
              "    }\n",
              "\n",
              "    [theme=dark] .colab-df-convert:hover {\n",
              "      background-color: #434B5C;\n",
              "      box-shadow: 0px 1px 3px 1px rgba(0, 0, 0, 0.15);\n",
              "      filter: drop-shadow(0px 1px 2px rgba(0, 0, 0, 0.3));\n",
              "      fill: #FFFFFF;\n",
              "    }\n",
              "  </style>\n",
              "\n",
              "      <script>\n",
              "        const buttonEl =\n",
              "          document.querySelector('#df-8cb8e35a-38f5-4a2b-80ca-bee3b561d480 button.colab-df-convert');\n",
              "        buttonEl.style.display =\n",
              "          google.colab.kernel.accessAllowed ? 'block' : 'none';\n",
              "\n",
              "        async function convertToInteractive(key) {\n",
              "          const element = document.querySelector('#df-8cb8e35a-38f5-4a2b-80ca-bee3b561d480');\n",
              "          const dataTable =\n",
              "            await google.colab.kernel.invokeFunction('convertToInteractive',\n",
              "                                                     [key], {});\n",
              "          if (!dataTable) return;\n",
              "\n",
              "          const docLinkHtml = 'Like what you see? Visit the ' +\n",
              "            '<a target=\"_blank\" href=https://colab.research.google.com/notebooks/data_table.ipynb>data table notebook</a>'\n",
              "            + ' to learn more about interactive tables.';\n",
              "          element.innerHTML = '';\n",
              "          dataTable['output_type'] = 'display_data';\n",
              "          await google.colab.output.renderOutput(dataTable, element);\n",
              "          const docLink = document.createElement('div');\n",
              "          docLink.innerHTML = docLinkHtml;\n",
              "          element.appendChild(docLink);\n",
              "        }\n",
              "      </script>\n",
              "    </div>\n",
              "  </div>\n",
              "  "
            ]
          },
          "metadata": {},
          "execution_count": 22
        }
      ],
      "source": [
        "df.query('platform == \"DS\" and year_of_release == 1985')"
      ]
    },
    {
      "cell_type": "code",
      "execution_count": 23,
      "metadata": {
        "id": "1ACGadZd2UMg"
      },
      "outputs": [],
      "source": [
        "df = df.loc[(df['year_of_release'] != 1985) | (df['platform'] != \"DS\")]"
      ]
    },
    {
      "cell_type": "markdown",
      "metadata": {
        "id": "SRLbGPQ52UMg"
      },
      "source": [
        "**Выберем платформы с наибольшими суммарными продажами и построим распределение по годам. За какой характерный срок появляются новые и исчезают старые платформы?**"
      ]
    },
    {
      "cell_type": "code",
      "execution_count": 24,
      "metadata": {
        "id": "tG4axDtE2UMg"
      },
      "outputs": [],
      "source": [
        "# Сгруппируем таблицу по годам и по продажам\n",
        "df_platform = df.groupby(['platform', 'year_of_release']).agg({'sum_sales': 'sum'})\n",
        "#display(df_platform.head(55))\n",
        "\n",
        "# Теперь соберем таблицу, в которой будут собраны 10 платформ с наибольшими суммарными продажами\n",
        "df_platform_2 = df.groupby(['platform']).agg({'sum_sales': 'sum'}).sort_values(by = 'sum_sales', ascending = False)\n",
        "df_platform_2 = df_platform_2.query('sum_sales > 256').sort_values(by = 'sum_sales', ascending = False)\n",
        "#display(df_platform_2.head(55))\n",
        "\n",
        "# Готовая таблица для построения графика количества игр по самым популярным платформам по годам\n",
        "result_df_platform = df_platform.query('platform in @df_platform_2.index').reset_index()\n",
        "#display(result_df_platform.head(55))\n",
        "\n",
        "# Теперь соберем данные по каждой платформе в отдельный DF\n",
        "data_3DS = result_df_platform[result_df_platform['platform'] == '3DS']\n",
        "data_DS = result_df_platform[result_df_platform['platform'] == 'DS']\n",
        "data_GBA = result_df_platform[result_df_platform['platform'] == 'GBA']\n",
        "data_PSP = result_df_platform[result_df_platform['platform'] == 'PSP']\n",
        "data_PS = result_df_platform[result_df_platform['platform'] == 'PS']\n",
        "data_PS2 = result_df_platform[result_df_platform['platform'] == 'PS2']\n",
        "data_PS3 = result_df_platform[result_df_platform['platform'] == 'PS3']\n",
        "data_PS4 = result_df_platform[result_df_platform['platform'] == 'PS4']\n",
        "data_Wii = result_df_platform[result_df_platform['platform'] == 'Wii']\n",
        "data_X360 = result_df_platform[result_df_platform['platform'] == 'X360']"
      ]
    },
    {
      "cell_type": "markdown",
      "metadata": {
        "id": "OxJ6M4yv2UMg"
      },
      "source": [
        "**Построим график, в котором будет содержаться вся информация по интересующим нас платформам**"
      ]
    },
    {
      "cell_type": "code",
      "execution_count": 25,
      "metadata": {
        "colab": {
          "base_uri": "https://localhost:8080/",
          "height": 542
        },
        "id": "Zbh8qH9N2UMg",
        "outputId": "2d45bb5d-86d5-4e93-9307-180b32c1fbb5"
      },
      "outputs": [
        {
          "output_type": "display_data",
          "data": {
            "text/html": [
              "<html>\n",
              "<head><meta charset=\"utf-8\" /></head>\n",
              "<body>\n",
              "    <div>            <script src=\"https://cdnjs.cloudflare.com/ajax/libs/mathjax/2.7.5/MathJax.js?config=TeX-AMS-MML_SVG\"></script><script type=\"text/javascript\">if (window.MathJax) {MathJax.Hub.Config({SVG: {font: \"STIX-Web\"}});}</script>                <script type=\"text/javascript\">window.PlotlyConfig = {MathJaxConfig: 'local'};</script>\n",
              "        <script src=\"https://cdn.plot.ly/plotly-2.8.3.min.js\"></script>                <div id=\"7dede820-d729-4320-89c9-6f741432002d\" class=\"plotly-graph-div\" style=\"height:525px; width:100%;\"></div>            <script type=\"text/javascript\">                                    window.PLOTLYENV=window.PLOTLYENV || {};                                    if (document.getElementById(\"7dede820-d729-4320-89c9-6f741432002d\")) {                    Plotly.newPlot(                        \"7dede820-d729-4320-89c9-6f741432002d\",                        [{\"name\":\"3DS\",\"x\":[2011,2012,2013,2014,2015,2016],\"y\":[63.199999999999996,51.36000000000001,56.57,43.76,27.78,15.14],\"type\":\"scatter\"},{\"name\":\"DS\",\"x\":[2004,2005,2006,2007,2008,2009,2010,2011,2012,2013],\"y\":[17.27,130.14,119.81,146.94,145.31,119.54,85.02,26.18,11.01,1.54],\"type\":\"scatter\"},{\"name\":\"GBA\",\"x\":[2000,2001,2002,2003,2004,2005,2006,2007],\"y\":[0.07,61.53,74.16,56.67,77.91,33.86,5.28,3.4],\"type\":\"scatter\"},{\"name\":\"PSP\",\"x\":[2004,2005,2006,2007,2008,2009,2010,2011,2012,2013,2014,2015],\"y\":[7.0600000000000005,43.84,55.32,46.93,34.55,37.78,35.04,17.82,7.69,3.14,0.24,0.12],\"type\":\"scatter\"},{\"name\":\"PS\",\"x\":[1994,1995,1996,1997,1998,1999,2000,2001,2002,2003],\"y\":[6.03,35.96,94.7,136.17000000000002,169.49,144.53,96.37,35.59,6.67,2.0700000000000003],\"type\":\"scatter\"},{\"name\":\"PS2\",\"x\":[2000,2001,2002,2003,2004,2005,2006,2007,2008,2009,2010,2011],\"y\":[39.17,166.43,205.38,184.31,211.81,160.66,103.42,75.99,53.9,26.4,5.64,0.45],\"type\":\"scatter\"},{\"name\":\"PS3\",\"x\":[2006,2007,2008,2009,2010,2011,2012,2013,2014,2015,2016],\"y\":[20.96,73.19,118.52,130.93,142.17,156.78,107.36,113.25,47.760000000000005,16.82,3.6],\"type\":\"scatter\"},{\"name\":\"PS4\",\"x\":[2013,2014,2015,2016],\"y\":[25.99,100.0,118.9,69.25],\"type\":\"scatter\"},{\"name\":\"Wii\",\"x\":[2006,2007,2008,2009,2010,2011,2012,2013,2014,2015,2016],\"y\":[137.15,152.77,171.32,206.97,127.95,59.65,21.71,8.59,3.75,1.14,0.18],\"type\":\"scatter\"},{\"name\":\"X360\",\"x\":[2005,2006,2007,2008,2009,2010,2011,2012,2013,2014,2015,2016],\"y\":[8.25,51.620000000000005,95.41,135.26,120.29,170.03,143.84,99.74000000000001,88.58,34.74,11.959999999999999,1.52],\"type\":\"scatter\"}],                        {\"template\":{\"data\":{\"barpolar\":[{\"marker\":{\"line\":{\"color\":\"#E5ECF6\",\"width\":0.5},\"pattern\":{\"fillmode\":\"overlay\",\"size\":10,\"solidity\":0.2}},\"type\":\"barpolar\"}],\"bar\":[{\"error_x\":{\"color\":\"#2a3f5f\"},\"error_y\":{\"color\":\"#2a3f5f\"},\"marker\":{\"line\":{\"color\":\"#E5ECF6\",\"width\":0.5},\"pattern\":{\"fillmode\":\"overlay\",\"size\":10,\"solidity\":0.2}},\"type\":\"bar\"}],\"carpet\":[{\"aaxis\":{\"endlinecolor\":\"#2a3f5f\",\"gridcolor\":\"white\",\"linecolor\":\"white\",\"minorgridcolor\":\"white\",\"startlinecolor\":\"#2a3f5f\"},\"baxis\":{\"endlinecolor\":\"#2a3f5f\",\"gridcolor\":\"white\",\"linecolor\":\"white\",\"minorgridcolor\":\"white\",\"startlinecolor\":\"#2a3f5f\"},\"type\":\"carpet\"}],\"choropleth\":[{\"colorbar\":{\"outlinewidth\":0,\"ticks\":\"\"},\"type\":\"choropleth\"}],\"contourcarpet\":[{\"colorbar\":{\"outlinewidth\":0,\"ticks\":\"\"},\"type\":\"contourcarpet\"}],\"contour\":[{\"colorbar\":{\"outlinewidth\":0,\"ticks\":\"\"},\"colorscale\":[[0.0,\"#0d0887\"],[0.1111111111111111,\"#46039f\"],[0.2222222222222222,\"#7201a8\"],[0.3333333333333333,\"#9c179e\"],[0.4444444444444444,\"#bd3786\"],[0.5555555555555556,\"#d8576b\"],[0.6666666666666666,\"#ed7953\"],[0.7777777777777778,\"#fb9f3a\"],[0.8888888888888888,\"#fdca26\"],[1.0,\"#f0f921\"]],\"type\":\"contour\"}],\"heatmapgl\":[{\"colorbar\":{\"outlinewidth\":0,\"ticks\":\"\"},\"colorscale\":[[0.0,\"#0d0887\"],[0.1111111111111111,\"#46039f\"],[0.2222222222222222,\"#7201a8\"],[0.3333333333333333,\"#9c179e\"],[0.4444444444444444,\"#bd3786\"],[0.5555555555555556,\"#d8576b\"],[0.6666666666666666,\"#ed7953\"],[0.7777777777777778,\"#fb9f3a\"],[0.8888888888888888,\"#fdca26\"],[1.0,\"#f0f921\"]],\"type\":\"heatmapgl\"}],\"heatmap\":[{\"colorbar\":{\"outlinewidth\":0,\"ticks\":\"\"},\"colorscale\":[[0.0,\"#0d0887\"],[0.1111111111111111,\"#46039f\"],[0.2222222222222222,\"#7201a8\"],[0.3333333333333333,\"#9c179e\"],[0.4444444444444444,\"#bd3786\"],[0.5555555555555556,\"#d8576b\"],[0.6666666666666666,\"#ed7953\"],[0.7777777777777778,\"#fb9f3a\"],[0.8888888888888888,\"#fdca26\"],[1.0,\"#f0f921\"]],\"type\":\"heatmap\"}],\"histogram2dcontour\":[{\"colorbar\":{\"outlinewidth\":0,\"ticks\":\"\"},\"colorscale\":[[0.0,\"#0d0887\"],[0.1111111111111111,\"#46039f\"],[0.2222222222222222,\"#7201a8\"],[0.3333333333333333,\"#9c179e\"],[0.4444444444444444,\"#bd3786\"],[0.5555555555555556,\"#d8576b\"],[0.6666666666666666,\"#ed7953\"],[0.7777777777777778,\"#fb9f3a\"],[0.8888888888888888,\"#fdca26\"],[1.0,\"#f0f921\"]],\"type\":\"histogram2dcontour\"}],\"histogram2d\":[{\"colorbar\":{\"outlinewidth\":0,\"ticks\":\"\"},\"colorscale\":[[0.0,\"#0d0887\"],[0.1111111111111111,\"#46039f\"],[0.2222222222222222,\"#7201a8\"],[0.3333333333333333,\"#9c179e\"],[0.4444444444444444,\"#bd3786\"],[0.5555555555555556,\"#d8576b\"],[0.6666666666666666,\"#ed7953\"],[0.7777777777777778,\"#fb9f3a\"],[0.8888888888888888,\"#fdca26\"],[1.0,\"#f0f921\"]],\"type\":\"histogram2d\"}],\"histogram\":[{\"marker\":{\"pattern\":{\"fillmode\":\"overlay\",\"size\":10,\"solidity\":0.2}},\"type\":\"histogram\"}],\"mesh3d\":[{\"colorbar\":{\"outlinewidth\":0,\"ticks\":\"\"},\"type\":\"mesh3d\"}],\"parcoords\":[{\"line\":{\"colorbar\":{\"outlinewidth\":0,\"ticks\":\"\"}},\"type\":\"parcoords\"}],\"pie\":[{\"automargin\":true,\"type\":\"pie\"}],\"scatter3d\":[{\"line\":{\"colorbar\":{\"outlinewidth\":0,\"ticks\":\"\"}},\"marker\":{\"colorbar\":{\"outlinewidth\":0,\"ticks\":\"\"}},\"type\":\"scatter3d\"}],\"scattercarpet\":[{\"marker\":{\"colorbar\":{\"outlinewidth\":0,\"ticks\":\"\"}},\"type\":\"scattercarpet\"}],\"scattergeo\":[{\"marker\":{\"colorbar\":{\"outlinewidth\":0,\"ticks\":\"\"}},\"type\":\"scattergeo\"}],\"scattergl\":[{\"marker\":{\"colorbar\":{\"outlinewidth\":0,\"ticks\":\"\"}},\"type\":\"scattergl\"}],\"scattermapbox\":[{\"marker\":{\"colorbar\":{\"outlinewidth\":0,\"ticks\":\"\"}},\"type\":\"scattermapbox\"}],\"scatterpolargl\":[{\"marker\":{\"colorbar\":{\"outlinewidth\":0,\"ticks\":\"\"}},\"type\":\"scatterpolargl\"}],\"scatterpolar\":[{\"marker\":{\"colorbar\":{\"outlinewidth\":0,\"ticks\":\"\"}},\"type\":\"scatterpolar\"}],\"scatter\":[{\"marker\":{\"colorbar\":{\"outlinewidth\":0,\"ticks\":\"\"}},\"type\":\"scatter\"}],\"scatterternary\":[{\"marker\":{\"colorbar\":{\"outlinewidth\":0,\"ticks\":\"\"}},\"type\":\"scatterternary\"}],\"surface\":[{\"colorbar\":{\"outlinewidth\":0,\"ticks\":\"\"},\"colorscale\":[[0.0,\"#0d0887\"],[0.1111111111111111,\"#46039f\"],[0.2222222222222222,\"#7201a8\"],[0.3333333333333333,\"#9c179e\"],[0.4444444444444444,\"#bd3786\"],[0.5555555555555556,\"#d8576b\"],[0.6666666666666666,\"#ed7953\"],[0.7777777777777778,\"#fb9f3a\"],[0.8888888888888888,\"#fdca26\"],[1.0,\"#f0f921\"]],\"type\":\"surface\"}],\"table\":[{\"cells\":{\"fill\":{\"color\":\"#EBF0F8\"},\"line\":{\"color\":\"white\"}},\"header\":{\"fill\":{\"color\":\"#C8D4E3\"},\"line\":{\"color\":\"white\"}},\"type\":\"table\"}]},\"layout\":{\"annotationdefaults\":{\"arrowcolor\":\"#2a3f5f\",\"arrowhead\":0,\"arrowwidth\":1},\"autotypenumbers\":\"strict\",\"coloraxis\":{\"colorbar\":{\"outlinewidth\":0,\"ticks\":\"\"}},\"colorscale\":{\"diverging\":[[0,\"#8e0152\"],[0.1,\"#c51b7d\"],[0.2,\"#de77ae\"],[0.3,\"#f1b6da\"],[0.4,\"#fde0ef\"],[0.5,\"#f7f7f7\"],[0.6,\"#e6f5d0\"],[0.7,\"#b8e186\"],[0.8,\"#7fbc41\"],[0.9,\"#4d9221\"],[1,\"#276419\"]],\"sequential\":[[0.0,\"#0d0887\"],[0.1111111111111111,\"#46039f\"],[0.2222222222222222,\"#7201a8\"],[0.3333333333333333,\"#9c179e\"],[0.4444444444444444,\"#bd3786\"],[0.5555555555555556,\"#d8576b\"],[0.6666666666666666,\"#ed7953\"],[0.7777777777777778,\"#fb9f3a\"],[0.8888888888888888,\"#fdca26\"],[1.0,\"#f0f921\"]],\"sequentialminus\":[[0.0,\"#0d0887\"],[0.1111111111111111,\"#46039f\"],[0.2222222222222222,\"#7201a8\"],[0.3333333333333333,\"#9c179e\"],[0.4444444444444444,\"#bd3786\"],[0.5555555555555556,\"#d8576b\"],[0.6666666666666666,\"#ed7953\"],[0.7777777777777778,\"#fb9f3a\"],[0.8888888888888888,\"#fdca26\"],[1.0,\"#f0f921\"]]},\"colorway\":[\"#636efa\",\"#EF553B\",\"#00cc96\",\"#ab63fa\",\"#FFA15A\",\"#19d3f3\",\"#FF6692\",\"#B6E880\",\"#FF97FF\",\"#FECB52\"],\"font\":{\"color\":\"#2a3f5f\"},\"geo\":{\"bgcolor\":\"white\",\"lakecolor\":\"white\",\"landcolor\":\"#E5ECF6\",\"showlakes\":true,\"showland\":true,\"subunitcolor\":\"white\"},\"hoverlabel\":{\"align\":\"left\"},\"hovermode\":\"closest\",\"mapbox\":{\"style\":\"light\"},\"paper_bgcolor\":\"white\",\"plot_bgcolor\":\"#E5ECF6\",\"polar\":{\"angularaxis\":{\"gridcolor\":\"white\",\"linecolor\":\"white\",\"ticks\":\"\"},\"bgcolor\":\"#E5ECF6\",\"radialaxis\":{\"gridcolor\":\"white\",\"linecolor\":\"white\",\"ticks\":\"\"}},\"scene\":{\"xaxis\":{\"backgroundcolor\":\"#E5ECF6\",\"gridcolor\":\"white\",\"gridwidth\":2,\"linecolor\":\"white\",\"showbackground\":true,\"ticks\":\"\",\"zerolinecolor\":\"white\"},\"yaxis\":{\"backgroundcolor\":\"#E5ECF6\",\"gridcolor\":\"white\",\"gridwidth\":2,\"linecolor\":\"white\",\"showbackground\":true,\"ticks\":\"\",\"zerolinecolor\":\"white\"},\"zaxis\":{\"backgroundcolor\":\"#E5ECF6\",\"gridcolor\":\"white\",\"gridwidth\":2,\"linecolor\":\"white\",\"showbackground\":true,\"ticks\":\"\",\"zerolinecolor\":\"white\"}},\"shapedefaults\":{\"line\":{\"color\":\"#2a3f5f\"}},\"ternary\":{\"aaxis\":{\"gridcolor\":\"white\",\"linecolor\":\"white\",\"ticks\":\"\"},\"baxis\":{\"gridcolor\":\"white\",\"linecolor\":\"white\",\"ticks\":\"\"},\"bgcolor\":\"#E5ECF6\",\"caxis\":{\"gridcolor\":\"white\",\"linecolor\":\"white\",\"ticks\":\"\"}},\"title\":{\"x\":0.05},\"xaxis\":{\"automargin\":true,\"gridcolor\":\"white\",\"linecolor\":\"white\",\"ticks\":\"\",\"title\":{\"standoff\":15},\"zerolinecolor\":\"white\",\"zerolinewidth\":2},\"yaxis\":{\"automargin\":true,\"gridcolor\":\"white\",\"linecolor\":\"white\",\"ticks\":\"\",\"title\":{\"standoff\":15},\"zerolinecolor\":\"white\",\"zerolinewidth\":2}}}},                        {\"responsive\": true}                    ).then(function(){\n",
              "                            \n",
              "var gd = document.getElementById('7dede820-d729-4320-89c9-6f741432002d');\n",
              "var x = new MutationObserver(function (mutations, observer) {{\n",
              "        var display = window.getComputedStyle(gd).display;\n",
              "        if (!display || display === 'none') {{\n",
              "            console.log([gd, 'removed!']);\n",
              "            Plotly.purge(gd);\n",
              "            observer.disconnect();\n",
              "        }}\n",
              "}});\n",
              "\n",
              "// Listen for the removal of the full notebook cells\n",
              "var notebookContainer = gd.closest('#notebook-container');\n",
              "if (notebookContainer) {{\n",
              "    x.observe(notebookContainer, {childList: true});\n",
              "}}\n",
              "\n",
              "// Listen for the clearing of the current output cell\n",
              "var outputEl = gd.closest('.output');\n",
              "if (outputEl) {{\n",
              "    x.observe(outputEl, {childList: true});\n",
              "}}\n",
              "\n",
              "                        })                };                            </script>        </div>\n",
              "</body>\n",
              "</html>"
            ]
          },
          "metadata": {}
        }
      ],
      "source": [
        "# Теперь построим график по таблицам\n",
        "\n",
        "pl_3DS = go.Scatter(x = data_3DS['year_of_release'],\n",
        "                            y = data_3DS['sum_sales'],\n",
        "                            name = '3DS')\n",
        "\n",
        "pl_DS = go.Scatter(x=data_DS['year_of_release'],\n",
        "                            y = data_DS['sum_sales'],\n",
        "                            name = 'DS')\n",
        "\n",
        "pl_GBA = go.Scatter(x = data_GBA['year_of_release'],\n",
        "                            y = data_GBA['sum_sales'],\n",
        "                            name = 'GBA')\n",
        "\n",
        "pl_PSP = go.Scatter(x = data_PSP['year_of_release'],\n",
        "                            y = data_PSP['sum_sales'],\n",
        "                            name = 'PSP')\n",
        "\n",
        "pl_PS = go.Scatter(x = data_PS['year_of_release'],\n",
        "                            y = data_PS['sum_sales'],\n",
        "                            name = 'PS')\n",
        "\n",
        "pl_PS2 = go.Scatter(x = data_PS2['year_of_release'],\n",
        "                            y = data_PS2['sum_sales'],\n",
        "                            name = 'PS2')\n",
        "\n",
        "pl_PS3 = go.Scatter(x = data_PS3['year_of_release'],\n",
        "                            y = data_PS3['sum_sales'],\n",
        "                            name = 'PS3')\n",
        "\n",
        "pl_PS4 = go.Scatter(x = data_PS4['year_of_release'],\n",
        "                            y = data_PS4['sum_sales'],\n",
        "                            name = 'PS4')\n",
        "\n",
        "pl_Wii = go.Scatter(x = data_Wii['year_of_release'],\n",
        "                            y = data_Wii['sum_sales'],\n",
        "                            name = 'Wii')\n",
        "\n",
        "pl_X360 = go.Scatter(x = data_X360['year_of_release'],\n",
        "                            y = data_X360['sum_sales'],\n",
        "                            name = 'X360')\n",
        "\n",
        "\n",
        "pyo.iplot([pl_3DS, pl_DS, pl_GBA, pl_PSP, pl_PS, pl_PS2, pl_PS3, pl_PS4, pl_Wii, pl_X360])\n"
      ]
    },
    {
      "cell_type": "markdown",
      "metadata": {
        "id": "UqnyEeUq2UMh"
      },
      "source": [
        "**\"Бум\" в продажах появляется в районе нулевых годов. Также можно заметить, что как только появляется новая модель (особенно ярко это видно с PS, PS2, PS3, PS4) старая быстро теряет популярность. \"Среднее время жизни\" платформы составляет около 8 лет, после чего ее заменяют более новые преемники, либо обновленные модели других платформ**"
      ]
    },
    {
      "cell_type": "markdown",
      "metadata": {
        "id": "iU_Eeb4y2UMh"
      },
      "source": [
        "**Пусть актуальный период - последние 4 года (2013-2016). Тогда рассмотрим график в этом диапазоне. Как можно заметить, продажи всех платформ идут на спад. Значит, нужно рассмотреть и остальные платформы, которые не так преуспели в продажах, но могут только набирать свою популярность**"
      ]
    },
    {
      "cell_type": "code",
      "execution_count": 26,
      "metadata": {
        "colab": {
          "base_uri": "https://localhost:8080/",
          "height": 542
        },
        "id": "qOD_Sfhs2UMj",
        "outputId": "258bcee4-a4b8-473e-dc67-0e7a417195bf"
      },
      "outputs": [
        {
          "output_type": "display_data",
          "data": {
            "text/html": [
              "<html>\n",
              "<head><meta charset=\"utf-8\" /></head>\n",
              "<body>\n",
              "    <div>            <script src=\"https://cdnjs.cloudflare.com/ajax/libs/mathjax/2.7.5/MathJax.js?config=TeX-AMS-MML_SVG\"></script><script type=\"text/javascript\">if (window.MathJax) {MathJax.Hub.Config({SVG: {font: \"STIX-Web\"}});}</script>                <script type=\"text/javascript\">window.PlotlyConfig = {MathJaxConfig: 'local'};</script>\n",
              "        <script src=\"https://cdn.plot.ly/plotly-2.8.3.min.js\"></script>                <div id=\"7fec4525-a7ca-4f5c-a64c-b5a85cb6f26d\" class=\"plotly-graph-div\" style=\"height:525px; width:100%;\"></div>            <script type=\"text/javascript\">                                    window.PLOTLYENV=window.PLOTLYENV || {};                                    if (document.getElementById(\"7fec4525-a7ca-4f5c-a64c-b5a85cb6f26d\")) {                    Plotly.newPlot(                        \"7fec4525-a7ca-4f5c-a64c-b5a85cb6f26d\",                        [{\"hovertemplate\":\"platform=3DS<br>year_of_release=%{x}<br>sum_sales=%{y}<extra></extra>\",\"legendgroup\":\"3DS\",\"line\":{\"color\":\"#636efa\",\"dash\":\"solid\"},\"marker\":{\"symbol\":\"circle\"},\"mode\":\"lines\",\"name\":\"3DS\",\"orientation\":\"v\",\"showlegend\":true,\"x\":[2013,2014,2015,2016],\"xaxis\":\"x\",\"y\":[56.57,43.76,27.78,15.14],\"yaxis\":\"y\",\"type\":\"scatter\"},{\"hovertemplate\":\"platform=DS<br>year_of_release=%{x}<br>sum_sales=%{y}<extra></extra>\",\"legendgroup\":\"DS\",\"line\":{\"color\":\"#EF553B\",\"dash\":\"solid\"},\"marker\":{\"symbol\":\"circle\"},\"mode\":\"lines\",\"name\":\"DS\",\"orientation\":\"v\",\"showlegend\":true,\"x\":[2013],\"xaxis\":\"x\",\"y\":[1.54],\"yaxis\":\"y\",\"type\":\"scatter\"},{\"hovertemplate\":\"platform=PC<br>year_of_release=%{x}<br>sum_sales=%{y}<extra></extra>\",\"legendgroup\":\"PC\",\"line\":{\"color\":\"#00cc96\",\"dash\":\"solid\"},\"marker\":{\"symbol\":\"circle\"},\"mode\":\"lines\",\"name\":\"PC\",\"orientation\":\"v\",\"showlegend\":true,\"x\":[2013,2014,2015,2016],\"xaxis\":\"x\",\"y\":[12.38,13.280000000000001,8.520000000000001,5.25],\"yaxis\":\"y\",\"type\":\"scatter\"},{\"hovertemplate\":\"platform=PS3<br>year_of_release=%{x}<br>sum_sales=%{y}<extra></extra>\",\"legendgroup\":\"PS3\",\"line\":{\"color\":\"#ab63fa\",\"dash\":\"solid\"},\"marker\":{\"symbol\":\"circle\"},\"mode\":\"lines\",\"name\":\"PS3\",\"orientation\":\"v\",\"showlegend\":true,\"x\":[2013,2014,2015,2016],\"xaxis\":\"x\",\"y\":[113.25,47.760000000000005,16.82,3.6],\"yaxis\":\"y\",\"type\":\"scatter\"},{\"hovertemplate\":\"platform=PS4<br>year_of_release=%{x}<br>sum_sales=%{y}<extra></extra>\",\"legendgroup\":\"PS4\",\"line\":{\"color\":\"#FFA15A\",\"dash\":\"solid\"},\"marker\":{\"symbol\":\"circle\"},\"mode\":\"lines\",\"name\":\"PS4\",\"orientation\":\"v\",\"showlegend\":true,\"x\":[2013,2014,2015,2016],\"xaxis\":\"x\",\"y\":[25.99,100.0,118.9,69.25],\"yaxis\":\"y\",\"type\":\"scatter\"},{\"hovertemplate\":\"platform=PSP<br>year_of_release=%{x}<br>sum_sales=%{y}<extra></extra>\",\"legendgroup\":\"PSP\",\"line\":{\"color\":\"#19d3f3\",\"dash\":\"solid\"},\"marker\":{\"symbol\":\"circle\"},\"mode\":\"lines\",\"name\":\"PSP\",\"orientation\":\"v\",\"showlegend\":true,\"x\":[2013,2014,2015],\"xaxis\":\"x\",\"y\":[3.14,0.24,0.12],\"yaxis\":\"y\",\"type\":\"scatter\"},{\"hovertemplate\":\"platform=PSV<br>year_of_release=%{x}<br>sum_sales=%{y}<extra></extra>\",\"legendgroup\":\"PSV\",\"line\":{\"color\":\"#FF6692\",\"dash\":\"solid\"},\"marker\":{\"symbol\":\"circle\"},\"mode\":\"lines\",\"name\":\"PSV\",\"orientation\":\"v\",\"showlegend\":true,\"x\":[2013,2014,2015,2016],\"xaxis\":\"x\",\"y\":[10.59,11.9,6.25,4.25],\"yaxis\":\"y\",\"type\":\"scatter\"},{\"hovertemplate\":\"platform=Wii<br>year_of_release=%{x}<br>sum_sales=%{y}<extra></extra>\",\"legendgroup\":\"Wii\",\"line\":{\"color\":\"#B6E880\",\"dash\":\"solid\"},\"marker\":{\"symbol\":\"circle\"},\"mode\":\"lines\",\"name\":\"Wii\",\"orientation\":\"v\",\"showlegend\":true,\"x\":[2013,2014,2015,2016],\"xaxis\":\"x\",\"y\":[8.59,3.75,1.14,0.18],\"yaxis\":\"y\",\"type\":\"scatter\"},{\"hovertemplate\":\"platform=WiiU<br>year_of_release=%{x}<br>sum_sales=%{y}<extra></extra>\",\"legendgroup\":\"WiiU\",\"line\":{\"color\":\"#FF97FF\",\"dash\":\"solid\"},\"marker\":{\"symbol\":\"circle\"},\"mode\":\"lines\",\"name\":\"WiiU\",\"orientation\":\"v\",\"showlegend\":true,\"x\":[2013,2014,2015,2016],\"xaxis\":\"x\",\"y\":[21.650000000000002,22.03,16.35,4.6000000000000005],\"yaxis\":\"y\",\"type\":\"scatter\"},{\"hovertemplate\":\"platform=X360<br>year_of_release=%{x}<br>sum_sales=%{y}<extra></extra>\",\"legendgroup\":\"X360\",\"line\":{\"color\":\"#FECB52\",\"dash\":\"solid\"},\"marker\":{\"symbol\":\"circle\"},\"mode\":\"lines\",\"name\":\"X360\",\"orientation\":\"v\",\"showlegend\":true,\"x\":[2013,2014,2015,2016],\"xaxis\":\"x\",\"y\":[88.58,34.74,11.959999999999999,1.52],\"yaxis\":\"y\",\"type\":\"scatter\"},{\"hovertemplate\":\"platform=XOne<br>year_of_release=%{x}<br>sum_sales=%{y}<extra></extra>\",\"legendgroup\":\"XOne\",\"line\":{\"color\":\"#636efa\",\"dash\":\"solid\"},\"marker\":{\"symbol\":\"circle\"},\"mode\":\"lines\",\"name\":\"XOne\",\"orientation\":\"v\",\"showlegend\":true,\"x\":[2013,2014,2015,2016],\"xaxis\":\"x\",\"y\":[18.96,54.07,60.14,26.150000000000002],\"yaxis\":\"y\",\"type\":\"scatter\"}],                        {\"template\":{\"data\":{\"bar\":[{\"error_x\":{\"color\":\"#2a3f5f\"},\"error_y\":{\"color\":\"#2a3f5f\"},\"marker\":{\"line\":{\"color\":\"#E5ECF6\",\"width\":0.5},\"pattern\":{\"fillmode\":\"overlay\",\"size\":10,\"solidity\":0.2}},\"type\":\"bar\"}],\"barpolar\":[{\"marker\":{\"line\":{\"color\":\"#E5ECF6\",\"width\":0.5},\"pattern\":{\"fillmode\":\"overlay\",\"size\":10,\"solidity\":0.2}},\"type\":\"barpolar\"}],\"carpet\":[{\"aaxis\":{\"endlinecolor\":\"#2a3f5f\",\"gridcolor\":\"white\",\"linecolor\":\"white\",\"minorgridcolor\":\"white\",\"startlinecolor\":\"#2a3f5f\"},\"baxis\":{\"endlinecolor\":\"#2a3f5f\",\"gridcolor\":\"white\",\"linecolor\":\"white\",\"minorgridcolor\":\"white\",\"startlinecolor\":\"#2a3f5f\"},\"type\":\"carpet\"}],\"choropleth\":[{\"colorbar\":{\"outlinewidth\":0,\"ticks\":\"\"},\"type\":\"choropleth\"}],\"contour\":[{\"colorbar\":{\"outlinewidth\":0,\"ticks\":\"\"},\"colorscale\":[[0.0,\"#0d0887\"],[0.1111111111111111,\"#46039f\"],[0.2222222222222222,\"#7201a8\"],[0.3333333333333333,\"#9c179e\"],[0.4444444444444444,\"#bd3786\"],[0.5555555555555556,\"#d8576b\"],[0.6666666666666666,\"#ed7953\"],[0.7777777777777778,\"#fb9f3a\"],[0.8888888888888888,\"#fdca26\"],[1.0,\"#f0f921\"]],\"type\":\"contour\"}],\"contourcarpet\":[{\"colorbar\":{\"outlinewidth\":0,\"ticks\":\"\"},\"type\":\"contourcarpet\"}],\"heatmap\":[{\"colorbar\":{\"outlinewidth\":0,\"ticks\":\"\"},\"colorscale\":[[0.0,\"#0d0887\"],[0.1111111111111111,\"#46039f\"],[0.2222222222222222,\"#7201a8\"],[0.3333333333333333,\"#9c179e\"],[0.4444444444444444,\"#bd3786\"],[0.5555555555555556,\"#d8576b\"],[0.6666666666666666,\"#ed7953\"],[0.7777777777777778,\"#fb9f3a\"],[0.8888888888888888,\"#fdca26\"],[1.0,\"#f0f921\"]],\"type\":\"heatmap\"}],\"heatmapgl\":[{\"colorbar\":{\"outlinewidth\":0,\"ticks\":\"\"},\"colorscale\":[[0.0,\"#0d0887\"],[0.1111111111111111,\"#46039f\"],[0.2222222222222222,\"#7201a8\"],[0.3333333333333333,\"#9c179e\"],[0.4444444444444444,\"#bd3786\"],[0.5555555555555556,\"#d8576b\"],[0.6666666666666666,\"#ed7953\"],[0.7777777777777778,\"#fb9f3a\"],[0.8888888888888888,\"#fdca26\"],[1.0,\"#f0f921\"]],\"type\":\"heatmapgl\"}],\"histogram\":[{\"marker\":{\"pattern\":{\"fillmode\":\"overlay\",\"size\":10,\"solidity\":0.2}},\"type\":\"histogram\"}],\"histogram2d\":[{\"colorbar\":{\"outlinewidth\":0,\"ticks\":\"\"},\"colorscale\":[[0.0,\"#0d0887\"],[0.1111111111111111,\"#46039f\"],[0.2222222222222222,\"#7201a8\"],[0.3333333333333333,\"#9c179e\"],[0.4444444444444444,\"#bd3786\"],[0.5555555555555556,\"#d8576b\"],[0.6666666666666666,\"#ed7953\"],[0.7777777777777778,\"#fb9f3a\"],[0.8888888888888888,\"#fdca26\"],[1.0,\"#f0f921\"]],\"type\":\"histogram2d\"}],\"histogram2dcontour\":[{\"colorbar\":{\"outlinewidth\":0,\"ticks\":\"\"},\"colorscale\":[[0.0,\"#0d0887\"],[0.1111111111111111,\"#46039f\"],[0.2222222222222222,\"#7201a8\"],[0.3333333333333333,\"#9c179e\"],[0.4444444444444444,\"#bd3786\"],[0.5555555555555556,\"#d8576b\"],[0.6666666666666666,\"#ed7953\"],[0.7777777777777778,\"#fb9f3a\"],[0.8888888888888888,\"#fdca26\"],[1.0,\"#f0f921\"]],\"type\":\"histogram2dcontour\"}],\"mesh3d\":[{\"colorbar\":{\"outlinewidth\":0,\"ticks\":\"\"},\"type\":\"mesh3d\"}],\"parcoords\":[{\"line\":{\"colorbar\":{\"outlinewidth\":0,\"ticks\":\"\"}},\"type\":\"parcoords\"}],\"pie\":[{\"automargin\":true,\"type\":\"pie\"}],\"scatter\":[{\"marker\":{\"colorbar\":{\"outlinewidth\":0,\"ticks\":\"\"}},\"type\":\"scatter\"}],\"scatter3d\":[{\"line\":{\"colorbar\":{\"outlinewidth\":0,\"ticks\":\"\"}},\"marker\":{\"colorbar\":{\"outlinewidth\":0,\"ticks\":\"\"}},\"type\":\"scatter3d\"}],\"scattercarpet\":[{\"marker\":{\"colorbar\":{\"outlinewidth\":0,\"ticks\":\"\"}},\"type\":\"scattercarpet\"}],\"scattergeo\":[{\"marker\":{\"colorbar\":{\"outlinewidth\":0,\"ticks\":\"\"}},\"type\":\"scattergeo\"}],\"scattergl\":[{\"marker\":{\"colorbar\":{\"outlinewidth\":0,\"ticks\":\"\"}},\"type\":\"scattergl\"}],\"scattermapbox\":[{\"marker\":{\"colorbar\":{\"outlinewidth\":0,\"ticks\":\"\"}},\"type\":\"scattermapbox\"}],\"scatterpolar\":[{\"marker\":{\"colorbar\":{\"outlinewidth\":0,\"ticks\":\"\"}},\"type\":\"scatterpolar\"}],\"scatterpolargl\":[{\"marker\":{\"colorbar\":{\"outlinewidth\":0,\"ticks\":\"\"}},\"type\":\"scatterpolargl\"}],\"scatterternary\":[{\"marker\":{\"colorbar\":{\"outlinewidth\":0,\"ticks\":\"\"}},\"type\":\"scatterternary\"}],\"surface\":[{\"colorbar\":{\"outlinewidth\":0,\"ticks\":\"\"},\"colorscale\":[[0.0,\"#0d0887\"],[0.1111111111111111,\"#46039f\"],[0.2222222222222222,\"#7201a8\"],[0.3333333333333333,\"#9c179e\"],[0.4444444444444444,\"#bd3786\"],[0.5555555555555556,\"#d8576b\"],[0.6666666666666666,\"#ed7953\"],[0.7777777777777778,\"#fb9f3a\"],[0.8888888888888888,\"#fdca26\"],[1.0,\"#f0f921\"]],\"type\":\"surface\"}],\"table\":[{\"cells\":{\"fill\":{\"color\":\"#EBF0F8\"},\"line\":{\"color\":\"white\"}},\"header\":{\"fill\":{\"color\":\"#C8D4E3\"},\"line\":{\"color\":\"white\"}},\"type\":\"table\"}]},\"layout\":{\"annotationdefaults\":{\"arrowcolor\":\"#2a3f5f\",\"arrowhead\":0,\"arrowwidth\":1},\"autotypenumbers\":\"strict\",\"coloraxis\":{\"colorbar\":{\"outlinewidth\":0,\"ticks\":\"\"}},\"colorscale\":{\"diverging\":[[0,\"#8e0152\"],[0.1,\"#c51b7d\"],[0.2,\"#de77ae\"],[0.3,\"#f1b6da\"],[0.4,\"#fde0ef\"],[0.5,\"#f7f7f7\"],[0.6,\"#e6f5d0\"],[0.7,\"#b8e186\"],[0.8,\"#7fbc41\"],[0.9,\"#4d9221\"],[1,\"#276419\"]],\"sequential\":[[0.0,\"#0d0887\"],[0.1111111111111111,\"#46039f\"],[0.2222222222222222,\"#7201a8\"],[0.3333333333333333,\"#9c179e\"],[0.4444444444444444,\"#bd3786\"],[0.5555555555555556,\"#d8576b\"],[0.6666666666666666,\"#ed7953\"],[0.7777777777777778,\"#fb9f3a\"],[0.8888888888888888,\"#fdca26\"],[1.0,\"#f0f921\"]],\"sequentialminus\":[[0.0,\"#0d0887\"],[0.1111111111111111,\"#46039f\"],[0.2222222222222222,\"#7201a8\"],[0.3333333333333333,\"#9c179e\"],[0.4444444444444444,\"#bd3786\"],[0.5555555555555556,\"#d8576b\"],[0.6666666666666666,\"#ed7953\"],[0.7777777777777778,\"#fb9f3a\"],[0.8888888888888888,\"#fdca26\"],[1.0,\"#f0f921\"]]},\"colorway\":[\"#636efa\",\"#EF553B\",\"#00cc96\",\"#ab63fa\",\"#FFA15A\",\"#19d3f3\",\"#FF6692\",\"#B6E880\",\"#FF97FF\",\"#FECB52\"],\"font\":{\"color\":\"#2a3f5f\"},\"geo\":{\"bgcolor\":\"white\",\"lakecolor\":\"white\",\"landcolor\":\"#E5ECF6\",\"showlakes\":true,\"showland\":true,\"subunitcolor\":\"white\"},\"hoverlabel\":{\"align\":\"left\"},\"hovermode\":\"closest\",\"mapbox\":{\"style\":\"light\"},\"paper_bgcolor\":\"white\",\"plot_bgcolor\":\"#E5ECF6\",\"polar\":{\"angularaxis\":{\"gridcolor\":\"white\",\"linecolor\":\"white\",\"ticks\":\"\"},\"bgcolor\":\"#E5ECF6\",\"radialaxis\":{\"gridcolor\":\"white\",\"linecolor\":\"white\",\"ticks\":\"\"}},\"scene\":{\"xaxis\":{\"backgroundcolor\":\"#E5ECF6\",\"gridcolor\":\"white\",\"gridwidth\":2,\"linecolor\":\"white\",\"showbackground\":true,\"ticks\":\"\",\"zerolinecolor\":\"white\"},\"yaxis\":{\"backgroundcolor\":\"#E5ECF6\",\"gridcolor\":\"white\",\"gridwidth\":2,\"linecolor\":\"white\",\"showbackground\":true,\"ticks\":\"\",\"zerolinecolor\":\"white\"},\"zaxis\":{\"backgroundcolor\":\"#E5ECF6\",\"gridcolor\":\"white\",\"gridwidth\":2,\"linecolor\":\"white\",\"showbackground\":true,\"ticks\":\"\",\"zerolinecolor\":\"white\"}},\"shapedefaults\":{\"line\":{\"color\":\"#2a3f5f\"}},\"ternary\":{\"aaxis\":{\"gridcolor\":\"white\",\"linecolor\":\"white\",\"ticks\":\"\"},\"baxis\":{\"gridcolor\":\"white\",\"linecolor\":\"white\",\"ticks\":\"\"},\"bgcolor\":\"#E5ECF6\",\"caxis\":{\"gridcolor\":\"white\",\"linecolor\":\"white\",\"ticks\":\"\"}},\"title\":{\"x\":0.05},\"xaxis\":{\"automargin\":true,\"gridcolor\":\"white\",\"linecolor\":\"white\",\"ticks\":\"\",\"title\":{\"standoff\":15},\"zerolinecolor\":\"white\",\"zerolinewidth\":2},\"yaxis\":{\"automargin\":true,\"gridcolor\":\"white\",\"linecolor\":\"white\",\"ticks\":\"\",\"title\":{\"standoff\":15},\"zerolinecolor\":\"white\",\"zerolinewidth\":2}}},\"xaxis\":{\"anchor\":\"y\",\"domain\":[0.0,1.0],\"title\":{\"text\":\"year_of_release\"},\"tickmode\":\"linear\",\"tick0\":2014,\"dtick\":1},\"yaxis\":{\"anchor\":\"x\",\"domain\":[0.0,1.0],\"title\":{\"text\":\"sum_sales\"}},\"legend\":{\"title\":{\"text\":\"platform\"},\"tracegroupgap\":0},\"margin\":{\"t\":60}},                        {\"responsive\": true}                    ).then(function(){\n",
              "                            \n",
              "var gd = document.getElementById('7fec4525-a7ca-4f5c-a64c-b5a85cb6f26d');\n",
              "var x = new MutationObserver(function (mutations, observer) {{\n",
              "        var display = window.getComputedStyle(gd).display;\n",
              "        if (!display || display === 'none') {{\n",
              "            console.log([gd, 'removed!']);\n",
              "            Plotly.purge(gd);\n",
              "            observer.disconnect();\n",
              "        }}\n",
              "}});\n",
              "\n",
              "// Listen for the removal of the full notebook cells\n",
              "var notebookContainer = gd.closest('#notebook-container');\n",
              "if (notebookContainer) {{\n",
              "    x.observe(notebookContainer, {childList: true});\n",
              "}}\n",
              "\n",
              "// Listen for the clearing of the current output cell\n",
              "var outputEl = gd.closest('.output');\n",
              "if (outputEl) {{\n",
              "    x.observe(outputEl, {childList: true});\n",
              "}}\n",
              "\n",
              "                        })                };                            </script>        </div>\n",
              "</body>\n",
              "</html>"
            ]
          },
          "metadata": {}
        }
      ],
      "source": [
        "df_px = df.query('year_of_release >= 2013')\\\n",
        "    .groupby(['platform', 'year_of_release'])['sum_sales'].sum().reset_index()\n",
        "\n",
        "fig = px.line(df_px, x='year_of_release', y='sum_sales', color='platform')\n",
        "\n",
        "fig.update_layout(\n",
        "    xaxis = dict(\n",
        "        tickmode = 'linear',\n",
        "        tick0 = 2014,\n",
        "        dtick = 1\n",
        "    )\n",
        ")\n",
        "\n",
        "fig.show();"
      ]
    },
    {
      "cell_type": "markdown",
      "metadata": {
        "id": "b98xdpnN2UMk"
      },
      "source": [
        "**Можно сделать вывод, что актуальными платформами на следующий год будут:**  \n",
        "**(PS3 из списка можно исключить, так как набирает популярность PS4, значит продажи PS3 в 2017 упадут еще сильнее)**\n",
        "- PS4 (с наибльшим числом продаж за последние два года, причем с сильным отрывом)\n",
        "- XOne\n",
        "- 3DS\n",
        "- PC\n",
        "- WiiU\n",
        "- PSV\n",
        "- X360\n"
      ]
    },
    {
      "cell_type": "markdown",
      "metadata": {
        "id": "a7jL198n2UMk"
      },
      "source": [
        "### Box-and-whiskers diagram"
      ]
    },
    {
      "cell_type": "markdown",
      "metadata": {
        "id": "6JawwK0Z2UMl"
      },
      "source": [
        "**Рассмотрим все актуальные платформы (2014 - 2016)**"
      ]
    },
    {
      "cell_type": "code",
      "execution_count": 27,
      "metadata": {
        "id": "fl3Crh_Z2UMl"
      },
      "outputs": [],
      "source": [
        "# Таблица для графика с выбросами\n",
        "df_platform_3_1 = df.query('year_of_release > 2013')\n",
        "\n",
        "# Таблица для графика без выбросов\n",
        "df_platform_3_2 = df.query('year_of_release > 2013 and sum_sales < 2')"
      ]
    },
    {
      "cell_type": "code",
      "execution_count": 28,
      "metadata": {
        "colab": {
          "base_uri": "https://localhost:8080/",
          "height": 1000
        },
        "id": "LMYu9lDM2UMl",
        "outputId": "d4e8aeb3-01fd-416d-ce96-92d6369aad2e"
      },
      "outputs": [
        {
          "output_type": "display_data",
          "data": {
            "text/html": [
              "<html>\n",
              "<head><meta charset=\"utf-8\" /></head>\n",
              "<body>\n",
              "    <div>            <script src=\"https://cdnjs.cloudflare.com/ajax/libs/mathjax/2.7.5/MathJax.js?config=TeX-AMS-MML_SVG\"></script><script type=\"text/javascript\">if (window.MathJax) {MathJax.Hub.Config({SVG: {font: \"STIX-Web\"}});}</script>                <script type=\"text/javascript\">window.PlotlyConfig = {MathJaxConfig: 'local'};</script>\n",
              "        <script src=\"https://cdn.plot.ly/plotly-2.8.3.min.js\"></script>                <div id=\"7e4f4e93-d58b-4ab8-b827-f28dd90a5da7\" class=\"plotly-graph-div\" style=\"height:525px; width:100%;\"></div>            <script type=\"text/javascript\">                                    window.PLOTLYENV=window.PLOTLYENV || {};                                    if (document.getElementById(\"7e4f4e93-d58b-4ab8-b827-f28dd90a5da7\")) {                    Plotly.newPlot(                        \"7e4f4e93-d58b-4ab8-b827-f28dd90a5da7\",                        [{\"x\":[\"PS4\",\"PS4\",\"3DS\",\"PS4\",\"PS4\",\"PS4\",\"PS4\",\"3DS\",\"XOne\",\"PS4\",\"3DS\",\"WiiU\",\"PS4\",\"PS4\",\"XOne\",\"PS4\",\"XOne\",\"PS3\",\"WiiU\",\"PS4\",\"PS4\",\"XOne\",\"PS4\",\"WiiU\",\"PS3\",\"PS4\",\"X360\",\"PS3\",\"XOne\",\"PS4\",\"PS4\",\"PS4\",\"PS4\",\"PS4\",\"PS4\",\"3DS\",\"PS4\",\"PS4\",\"XOne\",\"XOne\",\"PS4\",\"PS4\",\"XOne\",\"3DS\",\"3DS\",\"XOne\",\"XOne\",\"PS4\",\"XOne\",\"WiiU\",\"3DS\",\"PC\",\"PS4\",\"XOne\",\"X360\",\"PS4\",\"PS4\",\"XOne\",\"PS3\",\"3DS\",\"XOne\",\"PS4\",\"PS4\",\"PS4\",\"XOne\",\"XOne\",\"3DS\",\"XOne\",\"3DS\",\"PS4\",\"XOne\",\"PS4\",\"PS4\",\"XOne\",\"XOne\",\"PS4\",\"PS4\",\"PS4\",\"PS4\",\"X360\",\"Wii\",\"PS4\",\"PSV\",\"PS4\",\"X360\",\"PS4\",\"PS4\",\"PS4\",\"3DS\",\"PS4\",\"PS4\",\"XOne\",\"PS4\",\"PS4\",\"PS4\",\"PS3\",\"PS4\",\"PS4\",\"XOne\",\"X360\",\"PS4\",\"PS3\",\"3DS\",\"PS4\",\"PS4\",\"XOne\",\"X360\",\"PS3\",\"WiiU\",\"XOne\",\"X360\",\"XOne\",\"PS4\",\"PS4\",\"WiiU\",\"XOne\",\"PS4\",\"PS3\",\"PS4\",\"XOne\",\"3DS\",\"XOne\",\"XOne\",\"X360\",\"XOne\",\"XOne\",\"XOne\",\"PS3\",\"3DS\",\"PS4\",\"XOne\",\"WiiU\",\"XOne\",\"PS3\",\"XOne\",\"PC\",\"PS3\",\"XOne\",\"X360\",\"PS3\",\"PS4\",\"X360\",\"3DS\",\"XOne\",\"PS3\",\"WiiU\",\"PS4\",\"XOne\",\"PC\",\"WiiU\",\"XOne\",\"PS4\",\"PC\",\"PS4\",\"XOne\",\"PS4\",\"PS4\",\"PS4\",\"3DS\",\"PS4\",\"PS4\",\"XOne\",\"X360\",\"X360\",\"XOne\",\"PS4\",\"WiiU\",\"XOne\",\"X360\",\"PS4\",\"WiiU\",\"PS4\",\"X360\",\"PS4\",\"PS3\",\"Wii\",\"Wii\",\"X360\",\"PS4\",\"PS4\",\"XOne\",\"3DS\",\"PS4\",\"PS3\",\"PS4\",\"PS3\",\"X360\",\"PS4\",\"XOne\",\"X360\",\"PS4\",\"PC\",\"X360\",\"PS4\",\"X360\",\"X360\",\"XOne\",\"PS4\",\"3DS\",\"X360\",\"3DS\",\"PS4\",\"PS3\",\"WiiU\",\"PS3\",\"PS4\",\"3DS\",\"PS4\",\"XOne\",\"X360\",\"PS3\",\"PS3\",\"WiiU\",\"XOne\",\"3DS\",\"3DS\",\"PS4\",\"XOne\",\"PS4\",\"PS4\",\"3DS\",\"X360\",\"PS4\",\"PS4\",\"XOne\",\"PS3\",\"PS3\",\"PS3\",\"PC\",\"PS4\",\"WiiU\",\"PS4\",\"3DS\",\"PS4\",\"X360\",\"PS4\",\"PC\",\"PS4\",\"WiiU\",\"PS4\",\"PS4\",\"PS3\",\"3DS\",\"XOne\",\"XOne\",\"WiiU\",\"PS4\",\"XOne\",\"XOne\",\"PS4\",\"PS3\",\"PS4\",\"XOne\",\"PS4\",\"PS3\",\"XOne\",\"PSV\",\"WiiU\",\"PC\",\"PS4\",\"PSV\",\"WiiU\",\"PS3\",\"X360\",\"PS4\",\"XOne\",\"XOne\",\"PS3\",\"3DS\",\"PC\",\"PS4\",\"PS4\",\"3DS\",\"PS4\",\"XOne\",\"PS3\",\"PS4\",\"PS3\",\"XOne\",\"PS4\",\"X360\",\"XOne\",\"PS4\",\"PS4\",\"PS4\",\"PS3\",\"PSV\",\"XOne\",\"PS3\",\"PS3\",\"XOne\",\"XOne\",\"WiiU\",\"PS3\",\"3DS\",\"PC\",\"XOne\",\"3DS\",\"XOne\",\"PS3\",\"Wii\",\"XOne\",\"PS4\",\"PS3\",\"PS4\",\"PC\",\"PC\",\"3DS\",\"WiiU\",\"XOne\",\"XOne\",\"PC\",\"3DS\",\"PC\",\"X360\",\"X360\",\"WiiU\",\"PS4\",\"PS4\",\"WiiU\",\"XOne\",\"PS3\",\"PS3\",\"PS4\",\"X360\",\"3DS\",\"3DS\",\"3DS\",\"XOne\",\"WiiU\",\"XOne\",\"3DS\",\"PS3\",\"XOne\",\"XOne\",\"PC\",\"XOne\",\"PS4\",\"PC\",\"X360\",\"XOne\",\"PS4\",\"PS3\",\"WiiU\",\"3DS\",\"X360\",\"X360\",\"3DS\",\"WiiU\",\"PS4\",\"PS3\",\"PC\",\"PC\",\"WiiU\",\"PS3\",\"PS4\",\"XOne\",\"X360\",\"XOne\",\"PS4\",\"3DS\",\"PS3\",\"XOne\",\"PS3\",\"X360\",\"PS4\",\"X360\",\"X360\",\"PS4\",\"3DS\",\"WiiU\",\"WiiU\",\"XOne\",\"PS4\",\"PS3\",\"XOne\",\"XOne\",\"PC\",\"PS3\",\"PSV\",\"PC\",\"XOne\",\"PS4\",\"PS4\",\"PS4\",\"PS3\",\"X360\",\"PS4\",\"PS4\",\"XOne\",\"PS4\",\"PS3\",\"PS4\",\"PS4\",\"PS4\",\"X360\",\"PC\",\"PS4\",\"X360\",\"PS3\",\"WiiU\",\"PS4\",\"PS3\",\"PS4\",\"PS4\",\"3DS\",\"PS4\",\"PS3\",\"PS3\",\"PS4\",\"XOne\",\"PC\",\"PS3\",\"WiiU\",\"PSV\",\"PS4\",\"3DS\",\"XOne\",\"PS3\",\"PS4\",\"PC\",\"X360\",\"PS4\",\"PS4\",\"PC\",\"X360\",\"XOne\",\"PS4\",\"XOne\",\"PS4\",\"WiiU\",\"XOne\",\"XOne\",\"PS4\",\"3DS\",\"PS4\",\"PS4\",\"PS4\",\"3DS\",\"PS3\",\"3DS\",\"XOne\",\"XOne\",\"3DS\",\"X360\",\"PC\",\"PSV\",\"PSV\",\"PS4\",\"X360\",\"X360\",\"PS3\",\"3DS\",\"WiiU\",\"XOne\",\"PS4\",\"PS4\",\"PS3\",\"PS4\",\"3DS\",\"XOne\",\"PS4\",\"X360\",\"PSV\",\"PS4\",\"PSV\",\"PSV\",\"XOne\",\"PSV\",\"PS4\",\"PS4\",\"PS3\",\"PC\",\"3DS\",\"XOne\",\"PS4\",\"PS4\",\"X360\",\"PC\",\"PS4\",\"3DS\",\"PS4\",\"X360\",\"PS3\",\"WiiU\",\"3DS\",\"X360\",\"PS4\",\"PS3\",\"3DS\",\"PC\",\"PS3\",\"PS4\",\"PS3\",\"XOne\",\"XOne\",\"PS3\",\"3DS\",\"PS4\",\"PS4\",\"PS4\",\"PC\",\"XOne\",\"XOne\",\"PS3\",\"PS3\",\"PS3\",\"PS4\",\"PS3\",\"XOne\",\"3DS\",\"PS3\",\"3DS\",\"PS4\",\"PC\",\"PS3\",\"WiiU\",\"PS3\",\"PS3\",\"PC\",\"PS4\",\"PS4\",\"XOne\",\"3DS\",\"XOne\",\"PS4\",\"XOne\",\"PS4\",\"3DS\",\"PC\",\"XOne\",\"3DS\",\"X360\",\"PS4\",\"3DS\",\"XOne\",\"WiiU\",\"3DS\",\"PSV\",\"PS4\",\"X360\",\"PC\",\"PC\",\"PS4\",\"PS4\",\"PSV\",\"XOne\",\"X360\",\"PS3\",\"X360\",\"3DS\",\"PSV\",\"WiiU\",\"PS4\",\"PSV\",\"PS4\",\"PC\",\"XOne\",\"XOne\",\"XOne\",\"3DS\",\"X360\",\"X360\",\"PC\",\"PS4\",\"3DS\",\"3DS\",\"3DS\",\"PC\",\"PSV\",\"PSV\",\"PS4\",\"XOne\",\"XOne\",\"PSV\",\"3DS\",\"PS4\",\"PS4\",\"PSV\",\"XOne\",\"PS4\",\"PS4\",\"3DS\",\"PC\",\"X360\",\"PS4\",\"XOne\",\"PS4\",\"XOne\",\"PC\",\"XOne\",\"PS3\",\"PS3\",\"3DS\",\"PS4\",\"3DS\",\"PSV\",\"3DS\",\"PS3\",\"PC\",\"WiiU\",\"PS4\",\"PC\",\"PSV\",\"PC\",\"PSV\",\"PS3\",\"PSV\",\"PSV\",\"PS4\",\"PSV\",\"XOne\",\"PS4\",\"PS4\",\"PS3\",\"Wii\",\"Wii\",\"XOne\",\"PSV\",\"X360\",\"PS3\",\"PS4\",\"PSV\",\"PS4\",\"WiiU\",\"PSV\",\"PS3\",\"XOne\",\"PS4\",\"PS4\",\"PS4\",\"PC\",\"XOne\",\"PS4\",\"PS4\",\"PS4\",\"X360\",\"PS4\",\"PSV\",\"3DS\",\"XOne\",\"PSV\",\"PS4\",\"3DS\",\"X360\",\"PSV\",\"3DS\",\"X360\",\"X360\",\"PSV\",\"PS3\",\"3DS\",\"PC\",\"PS3\",\"XOne\",\"3DS\",\"XOne\",\"PS3\",\"PC\",\"PS4\",\"PS4\",\"XOne\",\"XOne\",\"PS3\",\"X360\",\"PC\",\"3DS\",\"XOne\",\"XOne\",\"3DS\",\"PSV\",\"PSV\",\"PSV\",\"PS3\",\"PSV\",\"PSV\",\"PS3\",\"PS4\",\"XOne\",\"XOne\",\"PS4\",\"PSV\",\"PS4\",\"3DS\",\"PS3\",\"PS4\",\"Wii\",\"WiiU\",\"XOne\",\"3DS\",\"PS4\",\"3DS\",\"PC\",\"PC\",\"PS3\",\"X360\",\"PS4\",\"PS4\",\"XOne\",\"PS3\",\"PC\",\"3DS\",\"X360\",\"XOne\",\"3DS\",\"PSV\",\"XOne\",\"PS3\",\"PS4\",\"PSV\",\"XOne\",\"PS4\",\"XOne\",\"PC\",\"PS4\",\"PS3\",\"PS3\",\"PS3\",\"PC\",\"PSV\",\"PS3\",\"PSV\",\"XOne\",\"3DS\",\"3DS\",\"PS4\",\"PSV\",\"PC\",\"XOne\",\"PS3\",\"PC\",\"PS3\",\"PS4\",\"WiiU\",\"PSV\",\"3DS\",\"PSV\",\"PS3\",\"PSV\",\"3DS\",\"PS3\",\"PC\",\"XOne\",\"PSV\",\"XOne\",\"XOne\",\"3DS\",\"3DS\",\"3DS\",\"PSV\",\"PS3\",\"PS4\",\"PS4\",\"PS4\",\"PS4\",\"PC\",\"PSV\",\"XOne\",\"X360\",\"XOne\",\"PC\",\"3DS\",\"PS3\",\"XOne\",\"WiiU\",\"PS3\",\"X360\",\"3DS\",\"3DS\",\"PS4\",\"PS3\",\"PSV\",\"PS4\",\"PSV\",\"PC\",\"PS3\",\"PC\",\"PS3\",\"PS3\",\"PS4\",\"WiiU\",\"3DS\",\"PS3\",\"PSV\",\"3DS\",\"WiiU\",\"PS3\",\"3DS\",\"PS3\",\"PS3\",\"PSV\",\"XOne\",\"PSV\",\"PS4\",\"3DS\",\"PSV\",\"PSV\",\"PSV\",\"PS4\",\"XOne\",\"3DS\",\"PS4\",\"XOne\",\"XOne\",\"PS4\",\"PS3\",\"XOne\",\"PSV\",\"3DS\",\"X360\",\"PSV\",\"X360\",\"PS3\",\"PS4\",\"PSV\",\"PS3\",\"3DS\",\"PS3\",\"PC\",\"3DS\",\"PSV\",\"XOne\",\"PS3\",\"PC\",\"PSV\",\"XOne\",\"PC\",\"PS4\",\"PS3\",\"X360\",\"PC\",\"PSV\",\"PS4\",\"PS4\",\"X360\",\"PS4\",\"PSV\",\"PSV\",\"PS4\",\"X360\",\"PC\",\"PS4\",\"WiiU\",\"PSV\",\"PSV\",\"PSV\",\"PS4\",\"3DS\",\"PS4\",\"3DS\",\"PSV\",\"XOne\",\"WiiU\",\"PSV\",\"WiiU\",\"PS3\",\"3DS\",\"PS4\",\"PSV\",\"PSV\",\"PS4\",\"PS4\",\"PSV\",\"PS4\",\"PC\",\"PSV\",\"PC\",\"PS4\",\"PS3\",\"PS3\",\"3DS\",\"PS3\",\"X360\",\"PS3\",\"3DS\",\"PS3\",\"PS4\",\"X360\",\"X360\",\"PS4\",\"PSP\",\"PSV\",\"PC\",\"PC\",\"X360\",\"PS3\",\"PS3\",\"3DS\",\"PS3\",\"PC\",\"XOne\",\"PS3\",\"PS4\",\"XOne\",\"PS4\",\"3DS\",\"WiiU\",\"PS4\",\"PS4\",\"PSV\",\"3DS\",\"PS4\",\"PS4\",\"PS4\",\"3DS\",\"WiiU\",\"X360\",\"PS4\",\"PS4\",\"X360\",\"PS4\",\"PS3\",\"PC\",\"PS4\",\"PS4\",\"3DS\",\"PS3\",\"X360\",\"PC\",\"X360\",\"PSP\",\"PS4\",\"XOne\",\"3DS\",\"PS3\",\"PSV\",\"PS4\",\"PC\",\"PS4\",\"PS4\",\"XOne\",\"XOne\",\"WiiU\",\"PC\",\"X360\",\"PS4\",\"3DS\",\"PS4\",\"3DS\",\"XOne\",\"PS4\",\"3DS\",\"PSV\",\"3DS\",\"PSV\",\"PS4\",\"PS3\",\"3DS\",\"3DS\",\"XOne\",\"PS3\",\"3DS\",\"PSV\",\"PS4\",\"PS4\",\"PC\",\"PSV\",\"XOne\",\"PS4\",\"X360\",\"PSV\",\"PSV\",\"3DS\",\"3DS\",\"X360\",\"PSV\",\"X360\",\"X360\",\"PSV\",\"PSV\",\"PSV\",\"XOne\",\"PS3\",\"3DS\",\"3DS\",\"PS4\",\"PSV\",\"PS4\",\"PS4\",\"3DS\",\"PSV\",\"3DS\",\"PSV\",\"PS3\",\"X360\",\"PS4\",\"XOne\",\"WiiU\",\"3DS\",\"3DS\",\"3DS\",\"X360\",\"PSV\",\"3DS\",\"PS4\",\"X360\",\"WiiU\",\"PSV\",\"PSV\",\"WiiU\",\"XOne\",\"3DS\",\"PSV\",\"PC\",\"PS3\",\"3DS\",\"PS3\",\"3DS\",\"PS4\",\"XOne\",\"XOne\",\"PC\",\"PSV\",\"X360\",\"PSV\",\"PS3\",\"3DS\",\"PS4\",\"PC\",\"3DS\",\"PC\",\"3DS\",\"X360\",\"PSV\",\"PS4\",\"WiiU\",\"PS4\",\"PS4\",\"PS3\",\"3DS\",\"PS3\",\"XOne\",\"PSV\",\"PSV\",\"PS4\",\"XOne\",\"X360\",\"PSV\",\"PSV\",\"3DS\",\"PS3\",\"3DS\",\"WiiU\",\"PSV\",\"3DS\",\"3DS\",\"3DS\",\"XOne\",\"X360\",\"PS4\",\"PS3\",\"XOne\",\"PSV\",\"PSV\",\"PS4\",\"PC\",\"WiiU\",\"PS3\",\"PS4\",\"X360\",\"PS4\",\"PS4\",\"PS3\",\"PS3\",\"PSV\",\"PSV\",\"PS4\",\"PSV\",\"PS4\",\"PC\",\"PS4\",\"PSV\",\"XOne\",\"PSV\",\"PC\",\"PS3\",\"PS4\",\"PSV\",\"XOne\",\"PSV\",\"3DS\",\"PS3\",\"PC\",\"3DS\",\"PSV\",\"PS3\",\"PSV\",\"PSV\",\"PSV\",\"PS4\",\"PS4\",\"PS3\",\"PS4\",\"XOne\",\"PS4\",\"PC\",\"PSV\",\"PS3\",\"X360\",\"PS4\",\"WiiU\",\"PC\",\"PSV\",\"XOne\",\"X360\",\"XOne\",\"PS4\",\"WiiU\",\"PS4\",\"PSV\",\"XOne\",\"3DS\",\"PSV\",\"PS4\",\"PS3\",\"PS4\",\"PSV\",\"PC\",\"PS4\",\"3DS\",\"PS3\",\"XOne\",\"PS4\",\"PS4\",\"PC\",\"PS4\",\"PC\",\"PS4\",\"PS4\",\"PC\",\"PS3\",\"PSV\",\"PSV\",\"PS3\",\"XOne\",\"PS3\",\"PSV\",\"XOne\",\"X360\",\"3DS\",\"PSV\",\"3DS\",\"PSV\",\"PS3\",\"PS4\",\"PSP\",\"PSV\",\"PSV\",\"XOne\",\"PS4\",\"PSV\",\"PS4\",\"3DS\",\"PSV\",\"PC\",\"PS3\",\"PS4\",\"3DS\",\"PSV\",\"PC\",\"XOne\",\"PS3\",\"PSV\",\"Wii\",\"X360\",\"3DS\",\"3DS\",\"PS4\",\"X360\",\"PSV\",\"PS3\",\"PS3\",\"XOne\",\"PS3\",\"3DS\",\"PS4\",\"PSV\",\"PSV\",\"3DS\",\"3DS\",\"PSV\",\"PC\",\"PSV\",\"PS4\",\"PS3\",\"PC\",\"X360\",\"PS4\",\"PS3\",\"XOne\",\"3DS\",\"3DS\",\"PS3\",\"PSV\",\"PS4\",\"3DS\",\"PC\",\"PS3\",\"PS4\",\"PSV\",\"3DS\",\"3DS\",\"PS4\",\"PS4\",\"PSV\",\"XOne\",\"PC\",\"3DS\",\"PSV\",\"PC\",\"PS3\",\"XOne\",\"XOne\",\"PSV\",\"PC\",\"PS4\",\"PS3\",\"PS4\",\"PSV\",\"PSV\",\"PSV\",\"3DS\",\"PS3\",\"PC\",\"PC\",\"XOne\",\"X360\",\"PSV\",\"X360\",\"PS4\",\"3DS\",\"PSV\",\"3DS\",\"PSV\",\"3DS\",\"3DS\",\"PSV\",\"PC\",\"3DS\",\"PS4\",\"PS4\",\"PS4\",\"PSV\",\"PC\",\"PSV\",\"PS4\",\"3DS\",\"3DS\",\"PS4\",\"PC\",\"WiiU\",\"3DS\",\"PS4\",\"PS3\",\"3DS\",\"PC\",\"WiiU\",\"PS4\",\"PS4\",\"PS3\",\"PS3\",\"3DS\",\"PS3\",\"3DS\",\"PSV\",\"PC\",\"PC\",\"3DS\",\"XOne\",\"X360\",\"3DS\",\"PS4\",\"PC\",\"PS4\",\"PSV\",\"PSV\",\"PC\",\"PC\",\"PS4\",\"PSV\",\"PSV\",\"3DS\",\"PS3\",\"X360\",\"PS3\",\"PS3\",\"X360\",\"PSV\",\"PSV\",\"PSV\",\"PSV\",\"PSV\",\"PSV\",\"PS3\",\"PC\",\"XOne\",\"XOne\",\"PSV\",\"PS3\",\"PSV\",\"PS4\",\"WiiU\",\"PSV\",\"3DS\",\"X360\",\"PSV\",\"WiiU\",\"PSV\",\"XOne\",\"PSV\",\"3DS\",\"PSV\",\"PSV\",\"PSV\",\"3DS\",\"PS3\",\"PSV\",\"3DS\",\"PC\",\"PSV\",\"3DS\",\"XOne\",\"PSV\",\"Wii\",\"PS3\",\"PS4\",\"PSV\",\"PSV\",\"WiiU\",\"PC\",\"PSV\",\"PSV\",\"PS4\",\"3DS\",\"PSV\",\"PC\",\"PSV\",\"PC\",\"PSV\",\"X360\",\"PS4\",\"PSV\",\"PSV\",\"PS3\",\"PS3\",\"PSV\",\"PSV\",\"3DS\",\"PS4\",\"PS3\",\"PS3\",\"3DS\",\"PS3\",\"XOne\",\"PSV\",\"XOne\",\"PS4\",\"PSV\",\"3DS\",\"PS4\",\"3DS\",\"3DS\",\"PSV\",\"PS4\",\"PS4\",\"PSV\",\"3DS\",\"PS4\",\"PS4\",\"PS3\",\"PSV\",\"PSV\",\"PS4\",\"XOne\",\"3DS\",\"PSV\",\"PC\",\"PSV\",\"PS4\",\"PS3\",\"X360\",\"PS4\",\"PSP\",\"WiiU\",\"PSV\",\"PC\",\"PS4\",\"PS3\",\"PS3\",\"PSV\",\"PS4\",\"PS4\",\"PSV\",\"PSV\",\"PSV\",\"PS4\",\"X360\",\"PS3\",\"PS3\",\"X360\",\"PS3\",\"PS4\",\"PSV\",\"PS4\",\"PS3\",\"PSV\",\"3DS\",\"PSV\",\"3DS\",\"PSV\",\"PS4\",\"PS3\",\"PSV\",\"PSV\",\"XOne\",\"PS4\",\"PC\",\"PS3\",\"PS3\",\"PSV\",\"PSV\",\"PSV\",\"PS3\",\"PC\",\"PS4\",\"XOne\",\"PC\",\"X360\",\"PS4\",\"XOne\",\"PSV\",\"PC\",\"PC\",\"PS3\",\"PS3\",\"PC\",\"PSV\",\"PSV\",\"PS3\",\"XOne\",\"PSV\",\"XOne\",\"PC\",\"XOne\",\"PS4\",\"PC\",\"PC\",\"PSV\",\"PSP\",\"PSV\",\"PS3\",\"3DS\",\"3DS\",\"3DS\",\"PSV\",\"PS3\",\"PSV\",\"PS4\",\"PSV\",\"XOne\",\"PSV\",\"PS3\",\"X360\",\"XOne\",\"PSV\",\"PS4\",\"WiiU\",\"3DS\",\"XOne\",\"PS3\",\"PSV\",\"PS3\",\"PSV\",\"PSV\",\"PS3\",\"PC\",\"PSV\",\"PC\",\"PSV\",\"3DS\",\"PC\",\"PSV\",\"PSV\",\"PSV\",\"PS4\",\"PC\",\"XOne\",\"PS4\",\"PS3\",\"PSV\",\"PSV\",\"PS4\",\"PSV\",\"PS3\",\"PS4\",\"PS4\",\"PSV\",\"PS3\",\"PSV\",\"PS4\",\"PSV\",\"WiiU\",\"PSV\",\"PC\",\"PSV\",\"XOne\",\"PS4\",\"PSV\",\"PSV\",\"PS3\",\"PSV\",\"WiiU\",\"PSV\",\"PS3\",\"PSV\",\"PSV\",\"PS4\",\"PS4\",\"3DS\",\"PSV\",\"PSV\",\"PC\",\"PC\",\"PSV\",\"PSV\",\"PS4\",\"PS4\",\"PSP\",\"PSV\",\"PSV\",\"3DS\",\"XOne\",\"XOne\",\"PSV\",\"PC\",\"XOne\",\"PSV\",\"PSV\",\"XOne\",\"PSP\",\"PC\",\"PS4\",\"PSV\",\"PSV\",\"PC\",\"PS4\",\"3DS\",\"PC\",\"XOne\",\"PSP\",\"PS4\",\"PC\",\"XOne\",\"PSV\",\"3DS\",\"Wii\",\"PS3\",\"3DS\",\"PS4\",\"PSV\",\"PC\",\"PSV\",\"XOne\",\"XOne\",\"PS3\",\"PSV\",\"XOne\",\"PC\",\"PSV\",\"PSV\",\"PSV\",\"PSV\",\"3DS\",\"PSP\",\"PC\",\"PS3\",\"3DS\",\"PSV\",\"PSV\",\"XOne\",\"WiiU\",\"PSV\",\"PSV\",\"PC\",\"X360\",\"PSV\",\"WiiU\",\"Wii\",\"PSP\",\"XOne\",\"XOne\",\"PSV\",\"PC\",\"PSV\",\"PC\",\"PC\",\"PSV\",\"PSV\",\"PS3\",\"PS4\",\"PS3\",\"PSV\",\"PSV\",\"WiiU\",\"PSV\",\"XOne\",\"PS4\",\"PSV\",\"PSV\",\"WiiU\",\"3DS\",\"WiiU\",\"PC\",\"PS4\",\"PSV\",\"PC\",\"PC\",\"3DS\",\"PC\",\"PC\",\"PS3\",\"3DS\",\"PS4\",\"X360\",\"PS4\",\"PS3\",\"PS4\",\"PS4\",\"3DS\",\"PS4\",\"XOne\",\"PC\",\"WiiU\",\"3DS\",\"PC\",\"PSV\",\"PS4\",\"PS4\",\"XOne\",\"PSV\",\"PSP\",\"XOne\",\"PSV\",\"PS3\",\"PSV\",\"3DS\",\"PS3\",\"PSV\",\"PSV\",\"PSV\",\"PSV\",\"PS4\",\"XOne\",\"3DS\",\"XOne\",\"XOne\",\"3DS\",\"PSP\",\"3DS\",\"3DS\",\"PSP\",\"PC\",\"PSV\",\"PSV\",\"XOne\",\"PC\",\"PS3\",\"XOne\",\"PSV\",\"XOne\",\"WiiU\",\"PSV\",\"XOne\",\"PSV\",\"PSV\",\"3DS\",\"XOne\",\"PS3\",\"3DS\",\"PSV\",\"PSV\",\"PS3\",\"PC\",\"PSV\",\"PSV\",\"PSV\",\"PS3\",\"PSV\",\"PSV\"],\"y\":[14.629999999999999,12.620000000000001,11.68,8.58,7.98,7.66,7.6000000000000005,7.550000000000001,7.389999999999999,7.17,7.14,7.09,6.08,5.640000000000001,5.47,5.39,5.26,5.2700000000000005,4.87,4.72,4.62,4.49,4.470000000000001,4.4399999999999995,4.36,4.32,4.28,4.28,4.22,4.07,4.05,4.04,3.9699999999999998,3.96,3.96,3.89,3.87,3.8,3.66,3.5,3.4200000000000004,3.3899999999999997,3.37,3.32,3.28,3.28,3.25,3.2399999999999998,3.23,3.21,3.05,3.0500000000000003,2.96,2.95,2.92,2.7899999999999996,2.78,2.7600000000000002,2.6999999999999997,2.68,2.65,2.48,2.4499999999999997,2.42,2.4200000000000004,2.42,2.34,2.34,2.29,2.2600000000000002,2.25,2.21,2.19,2.18,2.1700000000000004,2.14,2.11,2.09,2.07,2.0500000000000003,2.01,2.01,1.9600000000000002,1.9200000000000002,1.92,1.9100000000000001,1.8800000000000001,1.85,1.83,1.83,1.81,1.7999999999999998,1.7900000000000003,1.74,1.75,1.7400000000000002,1.7200000000000002,1.7200000000000002,1.73,1.7,1.6900000000000002,1.69,1.6700000000000002,1.6600000000000001,1.6600000000000001,1.6400000000000001,1.6300000000000001,1.6100000000000003,1.58,1.5700000000000003,1.5699999999999998,1.56,1.54,1.54,1.5299999999999998,1.4900000000000002,1.49,1.4600000000000002,1.4000000000000001,1.4000000000000001,1.3800000000000001,1.38,1.3800000000000001,1.3599999999999999,1.3599999999999999,1.3399999999999999,1.3399999999999999,1.34,1.33,1.3199999999999998,1.3,1.3,1.2900000000000003,1.29,1.29,1.2800000000000002,1.28,1.2800000000000002,1.27,1.2799999999999998,1.2699999999999998,1.25,1.25,1.23,1.23,1.23,1.21,1.21,1.1900000000000002,1.1900000000000002,1.2000000000000002,1.17,1.1700000000000002,1.15,1.1300000000000001,1.14,1.13,1.1199999999999999,1.11,1.1,1.0799999999999998,1.08,1.08,1.07,1.06,1.05,1.03,1.03,1.01,1.02,1.01,0.98,0.97,0.9700000000000001,0.9500000000000001,0.95,0.95,0.9400000000000001,0.9400000000000001,0.93,0.93,0.93,0.92,0.93,0.93,0.93,0.9299999999999999,0.9,0.91,0.9,0.9,0.9000000000000001,0.89,0.89,0.89,0.89,0.88,0.88,0.87,0.87,0.86,0.86,0.85,0.8400000000000001,0.8500000000000001,0.8200000000000001,0.79,0.78,0.79,0.78,0.7799999999999999,0.7699999999999999,0.76,0.76,0.75,0.7500000000000001,0.7600000000000001,0.75,0.75,0.75,0.75,0.74,0.7300000000000001,0.73,0.75,0.7300000000000001,0.7300000000000001,0.7300000000000001,0.73,0.73,0.73,0.73,0.7200000000000001,0.72,0.73,0.73,0.7200000000000001,0.7,0.7,0.71,0.6900000000000001,0.6900000000000001,0.6900000000000002,0.69,0.6799999999999999,0.6700000000000002,0.6900000000000001,0.6800000000000002,0.6599999999999999,0.67,0.67,0.67,0.6599999999999999,0.66,0.66,0.6599999999999999,0.65,0.6499999999999999,0.65,0.64,0.64,0.6400000000000001,0.6399999999999999,0.6400000000000001,0.64,0.6400000000000001,0.6300000000000001,0.64,0.63,0.63,0.63,0.63,0.6200000000000001,0.62,0.6200000000000001,0.61,0.61,0.62,0.61,0.61,0.6100000000000001,0.6000000000000001,0.6,0.6,0.6,0.59,0.6,0.5900000000000001,0.5800000000000001,0.5800000000000001,0.5700000000000001,0.5700000000000001,0.5700000000000001,0.56,0.5700000000000001,0.56,0.56,0.56,0.56,0.56,0.56,0.55,0.54,0.5599999999999999,0.56,0.55,0.55,0.53,0.53,0.53,0.53,0.53,0.53,0.52,0.53,0.53,0.52,0.51,0.52,0.51,0.49999999999999994,0.51,0.49,0.49000000000000005,0.48000000000000004,0.49,0.48,0.48000000000000004,0.48000000000000004,0.48,0.4799999999999999,0.4800000000000001,0.49000000000000005,0.48,0.47,0.47,0.45999999999999996,0.47000000000000003,0.47,0.46,0.45,0.46,0.46,0.45999999999999996,0.4600000000000001,0.45,0.44999999999999996,0.45,0.45999999999999996,0.45,0.44,0.44999999999999996,0.44000000000000006,0.44000000000000006,0.44,0.44,0.44,0.45,0.43,0.43,0.44000000000000006,0.44,0.44,0.43,0.43,0.43,0.43000000000000005,0.42,0.43,0.42000000000000004,0.42000000000000004,0.42000000000000004,0.42,0.42,0.41000000000000003,0.41,0.41,0.41,0.41000000000000003,0.41000000000000003,0.41000000000000003,0.41,0.4,0.4,0.38999999999999996,0.39999999999999997,0.39,0.39999999999999997,0.4,0.38999999999999996,0.39999999999999997,0.39,0.37999999999999995,0.39,0.38,0.38,0.38,0.38,0.38,0.38,0.38,0.37,0.37,0.37,0.37000000000000005,0.38,0.36000000000000004,0.36000000000000004,0.37,0.36,0.37,0.36,0.36,0.37,0.36,0.36000000000000004,0.36,0.36,0.34,0.36000000000000004,0.35,0.36,0.35000000000000003,0.36,0.35000000000000003,0.35,0.33999999999999997,0.34,0.33999999999999997,0.34,0.34,0.33999999999999997,0.33999999999999997,0.33999999999999997,0.33,0.34,0.33,0.33999999999999997,0.33,0.33,0.32000000000000006,0.31999999999999995,0.31999999999999995,0.32,0.31000000000000005,0.32000000000000006,0.33,0.32,0.32,0.31999999999999995,0.31999999999999995,0.32000000000000006,0.31,0.31000000000000005,0.31000000000000005,0.32,0.3,0.3,0.3,0.31000000000000005,0.31000000000000005,0.31,0.31000000000000005,0.31,0.3,0.3,0.3,0.29000000000000004,0.30000000000000004,0.3,0.3,0.29000000000000004,0.28,0.29000000000000004,0.28,0.29,0.28,0.29000000000000004,0.29000000000000004,0.27999999999999997,0.28,0.29000000000000004,0.27,0.28,0.27,0.28,0.27,0.29000000000000004,0.29,0.27,0.28,0.26999999999999996,0.27,0.27,0.27,0.27,0.26,0.26,0.27,0.26,0.26,0.26,0.26,0.26,0.26,0.26,0.26,0.26,0.26,0.25,0.25,0.25,0.25,0.26,0.26,0.25,0.24999999999999997,0.25,0.24000000000000002,0.24,0.24000000000000002,0.25,0.24999999999999997,0.24000000000000002,0.24,0.25,0.24000000000000002,0.24000000000000002,0.24999999999999997,0.24,0.24000000000000002,0.24,0.23,0.24000000000000002,0.24,0.24000000000000002,0.24,0.23,0.23,0.24000000000000002,0.23,0.22999999999999998,0.23,0.23,0.23,0.22000000000000003,0.23,0.23,0.23,0.23,0.22,0.22999999999999998,0.22,0.23,0.22,0.23,0.22,0.22,0.22,0.22,0.21000000000000002,0.22,0.22,0.22,0.21000000000000002,0.22,0.21000000000000002,0.21,0.22,0.21,0.21,0.21000000000000002,0.21,0.21,0.21000000000000002,0.21,0.19999999999999998,0.2,0.2,0.21,0.2,0.19999999999999998,0.2,0.2,0.19999999999999998,0.2,0.19999999999999998,0.2,0.21,0.19999999999999998,0.19999999999999998,0.19999999999999998,0.2,0.2,0.19999999999999998,0.19,0.19,0.18000000000000002,0.19,0.19999999999999998,0.18999999999999997,0.19,0.18000000000000002,0.19,0.19999999999999998,0.19,0.18,0.19,0.18000000000000002,0.19,0.19,0.18,0.19999999999999998,0.19,0.19,0.18000000000000002,0.18,0.18,0.18,0.18,0.18,0.18,0.18,0.18,0.18999999999999997,0.16999999999999998,0.18000000000000002,0.18,0.18,0.18000000000000002,0.17,0.17,0.18,0.17,0.16999999999999998,0.16,0.18,0.17,0.17,0.17,0.16,0.17,0.16999999999999998,0.17,0.16000000000000003,0.17,0.17,0.16999999999999998,0.16999999999999998,0.17,0.17,0.16,0.16,0.15000000000000002,0.16,0.16000000000000003,0.16000000000000003,0.17,0.16,0.16,0.16,0.15000000000000002,0.15000000000000002,0.16,0.16,0.16000000000000003,0.16,0.15000000000000002,0.15000000000000002,0.15,0.16,0.15,0.15,0.15,0.14,0.15,0.15,0.15,0.15000000000000002,0.15000000000000002,0.15,0.15000000000000002,0.13999999999999999,0.15,0.16,0.15,0.15,0.15000000000000002,0.14,0.14,0.14,0.14,0.15000000000000002,0.15000000000000002,0.14,0.14,0.13999999999999999,0.13999999999999999,0.14,0.14,0.14,0.15,0.14,0.14,0.14,0.14,0.14,0.14,0.13999999999999999,0.14,0.14,0.13,0.13,0.14,0.13,0.14,0.14,0.13,0.13,0.13,0.13,0.13,0.13,0.13,0.13,0.12000000000000001,0.13,0.13,0.13,0.13,0.13,0.13,0.13,0.13,0.12000000000000001,0.13,0.13,0.12999999999999998,0.13,0.13,0.12000000000000001,0.13,0.13,0.12000000000000001,0.13,0.12,0.12,0.12,0.13,0.12,0.12,0.12,0.12,0.12000000000000001,0.11,0.12,0.11,0.12,0.12,0.12000000000000001,0.12000000000000001,0.11,0.12,0.12,0.12,0.12,0.12,0.12,0.12,0.11,0.12,0.12,0.12,0.12,0.12,0.12,0.12,0.11000000000000001,0.12,0.12000000000000001,0.11,0.11,0.11,0.11,0.11,0.11,0.11,0.11,0.11,0.12000000000000001,0.11,0.11,0.11,0.12000000000000001,0.11,0.11,0.11,0.11,0.12000000000000001,0.11,0.11,0.11,0.10999999999999999,0.11,0.09999999999999999,0.11,0.11,0.11,0.11,0.09999999999999999,0.11,0.09999999999999999,0.11000000000000001,0.11,0.1,0.1,0.1,0.11,0.09999999999999999,0.1,0.11,0.09999999999999999,0.11,0.11,0.11,0.1,0.09999999999999999,0.1,0.1,0.09999999999999999,0.09999999999999999,0.1,0.09,0.1,0.09999999999999999,0.09,0.1,0.1,0.1,0.09999999999999999,0.09999999999999999,0.1,0.09999999999999999,0.09999999999999999,0.1,0.09,0.1,0.1,0.09999999999999999,0.1,0.09999999999999999,0.09999999999999999,0.09,0.09000000000000001,0.09999999999999999,0.1,0.09999999999999999,0.09,0.09,0.09,0.09,0.1,0.09,0.09000000000000001,0.09,0.09,0.09999999999999999,0.08,0.09,0.1,0.09,0.1,0.09,0.09000000000000001,0.09,0.09,0.09,0.09999999999999999,0.09,0.09,0.09,0.09,0.08,0.08,0.09,0.08,0.09,0.09,0.08,0.08,0.09999999999999999,0.09,0.09,0.09,0.09,0.09,0.09,0.08,0.08,0.09,0.09,0.08,0.08,0.08,0.08,0.09,0.08,0.08,0.08,0.08,0.06999999999999999,0.08,0.09,0.09,0.09000000000000001,0.07,0.08,0.07999999999999999,0.08,0.07999999999999999,0.08,0.08,0.08,0.08,0.08,0.08,0.06999999999999999,0.08,0.06999999999999999,0.08,0.08,0.08,0.07999999999999999,0.07,0.09,0.07,0.08,0.08,0.08,0.08,0.08,0.08,0.08,0.08,0.08,0.08,0.07,0.07,0.07,0.08,0.08,0.07,0.07,0.06999999999999999,0.07,0.07,0.08,0.07,0.06999999999999999,0.08,0.07,0.06999999999999999,0.07,0.06999999999999999,0.06999999999999999,0.07,0.06999999999999999,0.07999999999999999,0.06999999999999999,0.06999999999999999,0.06999999999999999,0.06999999999999999,0.08,0.07,0.07,0.07,0.07,0.060000000000000005,0.06999999999999999,0.07,0.07,0.07,0.07,0.06999999999999999,0.060000000000000005,0.07,0.07,0.06999999999999999,0.07,0.06,0.07,0.07,0.06999999999999999,0.07,0.06999999999999999,0.06,0.06,0.06,0.06,0.06,0.06999999999999999,0.06,0.06,0.060000000000000005,0.06,0.06999999999999999,0.06999999999999999,0.06,0.060000000000000005,0.060000000000000005,0.06,0.06,0.060000000000000005,0.06999999999999999,0.060000000000000005,0.06,0.06,0.060000000000000005,0.06,0.06,0.06,0.06,0.060000000000000005,0.06999999999999999,0.060000000000000005,0.060000000000000005,0.060000000000000005,0.06999999999999999,0.06,0.06,0.06,0.05,0.06,0.06,0.06,0.060000000000000005,0.07,0.06,0.06,0.06,0.060000000000000005,0.06,0.06999999999999999,0.06,0.060000000000000005,0.06,0.06,0.060000000000000005,0.05,0.06,0.06999999999999999,0.060000000000000005,0.060000000000000005,0.06,0.06,0.05,0.05,0.06,0.060000000000000005,0.05,0.060000000000000005,0.060000000000000005,0.060000000000000005,0.060000000000000005,0.06,0.06,0.060000000000000005,0.06,0.06,0.05,0.060000000000000005,0.06,0.05,0.05,0.05,0.060000000000000005,0.05,0.05,0.05,0.05,0.05,0.060000000000000005,0.05,0.060000000000000005,0.05,0.05,0.060000000000000005,0.05,0.05,0.05,0.05,0.05,0.05,0.05,0.060000000000000005,0.05,0.05,0.05,0.05,0.05,0.05,0.05,0.05,0.05,0.05,0.060000000000000005,0.05,0.05,0.05,0.05,0.060000000000000005,0.05,0.05,0.05,0.05,0.05,0.05,0.05,0.05,0.04,0.060000000000000005,0.05,0.04,0.05,0.05,0.05,0.04,0.05,0.05,0.05,0.05,0.05,0.05,0.05,0.04,0.05,0.05,0.04,0.04,0.05,0.05,0.05,0.05,0.05,0.05,0.05,0.05,0.05,0.04,0.05,0.05,0.05,0.04,0.04,0.05,0.04,0.05,0.04,0.04,0.04,0.04,0.04,0.04,0.04,0.04,0.04,0.04,0.04,0.04,0.04,0.04,0.04,0.04,0.04,0.04,0.03,0.04,0.05,0.03,0.03,0.04,0.04,0.04,0.05,0.04,0.04,0.04,0.04,0.04,0.04,0.04,0.04,0.04,0.04,0.04,0.04,0.04,0.05,0.04,0.04,0.03,0.04,0.04,0.04,0.04,0.04,0.04,0.04,0.04,0.04,0.04,0.04,0.03,0.04,0.04,0.04,0.04,0.04,0.04,0.04,0.04,0.04,0.04,0.03,0.03,0.03,0.04,0.03,0.03,0.04,0.04,0.04,0.04,0.03,0.03,0.03,0.03,0.03,0.03,0.03,0.03,0.03,0.03,0.03,0.03,0.04,0.03,0.03,0.03,0.03,0.03,0.03,0.03,0.03,0.03,0.03,0.03,0.03,0.04,0.03,0.03,0.03,0.03,0.03,0.04,0.03,0.03,0.03,0.03,0.03,0.03,0.03,0.03,0.03,0.03,0.03,0.03,0.03,0.03,0.03,0.03,0.03,0.03,0.03,0.04,0.03,0.02,0.04,0.03,0.03,0.03,0.03,0.03,0.03,0.03,0.03,0.03,0.03,0.03,0.03,0.03,0.03,0.03,0.02,0.03,0.03,0.03,0.03,0.03,0.03,0.03,0.03,0.03,0.03,0.03,0.03,0.03,0.03,0.03,0.03,0.03,0.03,0.03,0.03,0.02,0.03,0.03,0.03,0.03,0.03,0.03,0.03,0.02,0.03,0.03,0.03,0.03,0.03,0.03,0.02,0.02,0.03,0.03,0.03,0.03,0.03,0.03,0.03,0.02,0.03,0.03,0.03,0.02,0.02,0.03,0.02,0.03,0.03,0.02,0.03,0.03,0.02,0.03,0.02,0.02,0.03,0.02,0.02,0.02,0.03,0.03,0.03,0.02,0.02,0.03,0.02,0.02,0.02,0.02,0.02,0.02,0.02,0.02,0.02,0.02,0.02,0.02,0.02,0.02,0.02,0.02,0.02,0.02,0.02,0.02,0.02,0.02,0.02,0.02,0.02,0.02,0.02,0.02,0.02,0.02,0.02,0.02,0.02,0.02,0.02,0.02,0.02,0.02,0.02,0.02,0.02,0.02,0.02,0.02,0.02,0.02,0.02,0.02,0.02,0.02,0.02,0.02,0.02,0.02,0.02,0.02,0.02,0.02,0.02,0.02,0.02,0.02,0.02,0.02,0.02,0.02,0.02,0.02,0.01,0.02,0.02,0.02,0.02,0.02,0.02,0.02,0.02,0.02,0.02,0.02,0.02,0.02,0.02,0.02,0.02,0.02,0.02,0.02,0.02,0.01,0.02,0.02,0.02,0.02,0.02,0.02,0.02,0.02,0.02,0.02,0.02,0.02,0.02,0.02,0.02,0.02,0.02,0.02,0.02,0.01,0.02,0.02,0.01,0.02,0.02,0.02,0.01,0.02,0.02,0.02,0.02,0.02,0.02,0.02,0.01,0.02,0.02,0.02,0.02,0.02,0.02,0.01,0.02,0.02,0.01,0.02,0.02,0.02,0.02,0.02,0.02,0.01,0.02,0.02,0.02,0.02,0.01,0.01,0.02,0.01,0.02,0.02,0.02,0.02,0.02,0.01,0.01,0.01,0.02,0.01,0.01,0.02,0.02,0.01,0.02,0.01,0.01,0.01,0.01,0.01,0.02,0.01,0.01,0.01,0.01,0.01,0.01,0.01,0.01,0.01,0.01,0.01,0.01,0.01,0.01,0.01,0.01,0.01,0.01,0.01,0.01,0.01,0.01,0.01,0.01,0.01,0.01,0.01,0.01,0.01,0.01,0.01,0.01,0.01,0.01,0.01,0.01,0.01,0.01,0.01,0.01,0.01,0.01,0.01,0.01,0.01,0.01,0.01,0.01,0.01,0.01,0.01,0.01,0.01,0.01,0.01,0.01,0.01,0.01,0.01,0.01,0.01,0.01,0.01,0.01,0.01,0.01,0.01,0.01,0.01,0.01,0.01,0.01,0.01,0.01,0.01,0.01,0.01,0.01,0.01,0.01,0.01,0.01,0.01,0.01,0.01,0.01,0.01,0.01,0.01,0.01,0.01,0.01,0.01,0.01,0.01,0.01,0.01,0.01,0.01,0.01,0.01,0.01,0.01,0.01,0.01,0.01,0.01,0.01,0.01,0.01,0.01,0.01,0.01,0.01,0.01,0.01,0.01,0.01,0.01,0.01,0.01,0.01,0.01,0.01,0.01,0.01,0.01,0.01,0.01,0.01,0.01,0.01,0.01,0.01,0.01,0.01,0.01,0.01,0.01,0.01,0.01,0.01,0.01],\"type\":\"box\"}],                        {\"template\":{\"data\":{\"bar\":[{\"error_x\":{\"color\":\"#2a3f5f\"},\"error_y\":{\"color\":\"#2a3f5f\"},\"marker\":{\"line\":{\"color\":\"#E5ECF6\",\"width\":0.5},\"pattern\":{\"fillmode\":\"overlay\",\"size\":10,\"solidity\":0.2}},\"type\":\"bar\"}],\"barpolar\":[{\"marker\":{\"line\":{\"color\":\"#E5ECF6\",\"width\":0.5},\"pattern\":{\"fillmode\":\"overlay\",\"size\":10,\"solidity\":0.2}},\"type\":\"barpolar\"}],\"carpet\":[{\"aaxis\":{\"endlinecolor\":\"#2a3f5f\",\"gridcolor\":\"white\",\"linecolor\":\"white\",\"minorgridcolor\":\"white\",\"startlinecolor\":\"#2a3f5f\"},\"baxis\":{\"endlinecolor\":\"#2a3f5f\",\"gridcolor\":\"white\",\"linecolor\":\"white\",\"minorgridcolor\":\"white\",\"startlinecolor\":\"#2a3f5f\"},\"type\":\"carpet\"}],\"choropleth\":[{\"colorbar\":{\"outlinewidth\":0,\"ticks\":\"\"},\"type\":\"choropleth\"}],\"contour\":[{\"colorbar\":{\"outlinewidth\":0,\"ticks\":\"\"},\"colorscale\":[[0.0,\"#0d0887\"],[0.1111111111111111,\"#46039f\"],[0.2222222222222222,\"#7201a8\"],[0.3333333333333333,\"#9c179e\"],[0.4444444444444444,\"#bd3786\"],[0.5555555555555556,\"#d8576b\"],[0.6666666666666666,\"#ed7953\"],[0.7777777777777778,\"#fb9f3a\"],[0.8888888888888888,\"#fdca26\"],[1.0,\"#f0f921\"]],\"type\":\"contour\"}],\"contourcarpet\":[{\"colorbar\":{\"outlinewidth\":0,\"ticks\":\"\"},\"type\":\"contourcarpet\"}],\"heatmap\":[{\"colorbar\":{\"outlinewidth\":0,\"ticks\":\"\"},\"colorscale\":[[0.0,\"#0d0887\"],[0.1111111111111111,\"#46039f\"],[0.2222222222222222,\"#7201a8\"],[0.3333333333333333,\"#9c179e\"],[0.4444444444444444,\"#bd3786\"],[0.5555555555555556,\"#d8576b\"],[0.6666666666666666,\"#ed7953\"],[0.7777777777777778,\"#fb9f3a\"],[0.8888888888888888,\"#fdca26\"],[1.0,\"#f0f921\"]],\"type\":\"heatmap\"}],\"heatmapgl\":[{\"colorbar\":{\"outlinewidth\":0,\"ticks\":\"\"},\"colorscale\":[[0.0,\"#0d0887\"],[0.1111111111111111,\"#46039f\"],[0.2222222222222222,\"#7201a8\"],[0.3333333333333333,\"#9c179e\"],[0.4444444444444444,\"#bd3786\"],[0.5555555555555556,\"#d8576b\"],[0.6666666666666666,\"#ed7953\"],[0.7777777777777778,\"#fb9f3a\"],[0.8888888888888888,\"#fdca26\"],[1.0,\"#f0f921\"]],\"type\":\"heatmapgl\"}],\"histogram\":[{\"marker\":{\"pattern\":{\"fillmode\":\"overlay\",\"size\":10,\"solidity\":0.2}},\"type\":\"histogram\"}],\"histogram2d\":[{\"colorbar\":{\"outlinewidth\":0,\"ticks\":\"\"},\"colorscale\":[[0.0,\"#0d0887\"],[0.1111111111111111,\"#46039f\"],[0.2222222222222222,\"#7201a8\"],[0.3333333333333333,\"#9c179e\"],[0.4444444444444444,\"#bd3786\"],[0.5555555555555556,\"#d8576b\"],[0.6666666666666666,\"#ed7953\"],[0.7777777777777778,\"#fb9f3a\"],[0.8888888888888888,\"#fdca26\"],[1.0,\"#f0f921\"]],\"type\":\"histogram2d\"}],\"histogram2dcontour\":[{\"colorbar\":{\"outlinewidth\":0,\"ticks\":\"\"},\"colorscale\":[[0.0,\"#0d0887\"],[0.1111111111111111,\"#46039f\"],[0.2222222222222222,\"#7201a8\"],[0.3333333333333333,\"#9c179e\"],[0.4444444444444444,\"#bd3786\"],[0.5555555555555556,\"#d8576b\"],[0.6666666666666666,\"#ed7953\"],[0.7777777777777778,\"#fb9f3a\"],[0.8888888888888888,\"#fdca26\"],[1.0,\"#f0f921\"]],\"type\":\"histogram2dcontour\"}],\"mesh3d\":[{\"colorbar\":{\"outlinewidth\":0,\"ticks\":\"\"},\"type\":\"mesh3d\"}],\"parcoords\":[{\"line\":{\"colorbar\":{\"outlinewidth\":0,\"ticks\":\"\"}},\"type\":\"parcoords\"}],\"pie\":[{\"automargin\":true,\"type\":\"pie\"}],\"scatter\":[{\"marker\":{\"colorbar\":{\"outlinewidth\":0,\"ticks\":\"\"}},\"type\":\"scatter\"}],\"scatter3d\":[{\"line\":{\"colorbar\":{\"outlinewidth\":0,\"ticks\":\"\"}},\"marker\":{\"colorbar\":{\"outlinewidth\":0,\"ticks\":\"\"}},\"type\":\"scatter3d\"}],\"scattercarpet\":[{\"marker\":{\"colorbar\":{\"outlinewidth\":0,\"ticks\":\"\"}},\"type\":\"scattercarpet\"}],\"scattergeo\":[{\"marker\":{\"colorbar\":{\"outlinewidth\":0,\"ticks\":\"\"}},\"type\":\"scattergeo\"}],\"scattergl\":[{\"marker\":{\"colorbar\":{\"outlinewidth\":0,\"ticks\":\"\"}},\"type\":\"scattergl\"}],\"scattermapbox\":[{\"marker\":{\"colorbar\":{\"outlinewidth\":0,\"ticks\":\"\"}},\"type\":\"scattermapbox\"}],\"scatterpolar\":[{\"marker\":{\"colorbar\":{\"outlinewidth\":0,\"ticks\":\"\"}},\"type\":\"scatterpolar\"}],\"scatterpolargl\":[{\"marker\":{\"colorbar\":{\"outlinewidth\":0,\"ticks\":\"\"}},\"type\":\"scatterpolargl\"}],\"scatterternary\":[{\"marker\":{\"colorbar\":{\"outlinewidth\":0,\"ticks\":\"\"}},\"type\":\"scatterternary\"}],\"surface\":[{\"colorbar\":{\"outlinewidth\":0,\"ticks\":\"\"},\"colorscale\":[[0.0,\"#0d0887\"],[0.1111111111111111,\"#46039f\"],[0.2222222222222222,\"#7201a8\"],[0.3333333333333333,\"#9c179e\"],[0.4444444444444444,\"#bd3786\"],[0.5555555555555556,\"#d8576b\"],[0.6666666666666666,\"#ed7953\"],[0.7777777777777778,\"#fb9f3a\"],[0.8888888888888888,\"#fdca26\"],[1.0,\"#f0f921\"]],\"type\":\"surface\"}],\"table\":[{\"cells\":{\"fill\":{\"color\":\"#EBF0F8\"},\"line\":{\"color\":\"white\"}},\"header\":{\"fill\":{\"color\":\"#C8D4E3\"},\"line\":{\"color\":\"white\"}},\"type\":\"table\"}]},\"layout\":{\"annotationdefaults\":{\"arrowcolor\":\"#2a3f5f\",\"arrowhead\":0,\"arrowwidth\":1},\"autotypenumbers\":\"strict\",\"coloraxis\":{\"colorbar\":{\"outlinewidth\":0,\"ticks\":\"\"}},\"colorscale\":{\"diverging\":[[0,\"#8e0152\"],[0.1,\"#c51b7d\"],[0.2,\"#de77ae\"],[0.3,\"#f1b6da\"],[0.4,\"#fde0ef\"],[0.5,\"#f7f7f7\"],[0.6,\"#e6f5d0\"],[0.7,\"#b8e186\"],[0.8,\"#7fbc41\"],[0.9,\"#4d9221\"],[1,\"#276419\"]],\"sequential\":[[0.0,\"#0d0887\"],[0.1111111111111111,\"#46039f\"],[0.2222222222222222,\"#7201a8\"],[0.3333333333333333,\"#9c179e\"],[0.4444444444444444,\"#bd3786\"],[0.5555555555555556,\"#d8576b\"],[0.6666666666666666,\"#ed7953\"],[0.7777777777777778,\"#fb9f3a\"],[0.8888888888888888,\"#fdca26\"],[1.0,\"#f0f921\"]],\"sequentialminus\":[[0.0,\"#0d0887\"],[0.1111111111111111,\"#46039f\"],[0.2222222222222222,\"#7201a8\"],[0.3333333333333333,\"#9c179e\"],[0.4444444444444444,\"#bd3786\"],[0.5555555555555556,\"#d8576b\"],[0.6666666666666666,\"#ed7953\"],[0.7777777777777778,\"#fb9f3a\"],[0.8888888888888888,\"#fdca26\"],[1.0,\"#f0f921\"]]},\"colorway\":[\"#636efa\",\"#EF553B\",\"#00cc96\",\"#ab63fa\",\"#FFA15A\",\"#19d3f3\",\"#FF6692\",\"#B6E880\",\"#FF97FF\",\"#FECB52\"],\"font\":{\"color\":\"#2a3f5f\"},\"geo\":{\"bgcolor\":\"white\",\"lakecolor\":\"white\",\"landcolor\":\"#E5ECF6\",\"showlakes\":true,\"showland\":true,\"subunitcolor\":\"white\"},\"hoverlabel\":{\"align\":\"left\"},\"hovermode\":\"closest\",\"mapbox\":{\"style\":\"light\"},\"paper_bgcolor\":\"white\",\"plot_bgcolor\":\"#E5ECF6\",\"polar\":{\"angularaxis\":{\"gridcolor\":\"white\",\"linecolor\":\"white\",\"ticks\":\"\"},\"bgcolor\":\"#E5ECF6\",\"radialaxis\":{\"gridcolor\":\"white\",\"linecolor\":\"white\",\"ticks\":\"\"}},\"scene\":{\"xaxis\":{\"backgroundcolor\":\"#E5ECF6\",\"gridcolor\":\"white\",\"gridwidth\":2,\"linecolor\":\"white\",\"showbackground\":true,\"ticks\":\"\",\"zerolinecolor\":\"white\"},\"yaxis\":{\"backgroundcolor\":\"#E5ECF6\",\"gridcolor\":\"white\",\"gridwidth\":2,\"linecolor\":\"white\",\"showbackground\":true,\"ticks\":\"\",\"zerolinecolor\":\"white\"},\"zaxis\":{\"backgroundcolor\":\"#E5ECF6\",\"gridcolor\":\"white\",\"gridwidth\":2,\"linecolor\":\"white\",\"showbackground\":true,\"ticks\":\"\",\"zerolinecolor\":\"white\"}},\"shapedefaults\":{\"line\":{\"color\":\"#2a3f5f\"}},\"ternary\":{\"aaxis\":{\"gridcolor\":\"white\",\"linecolor\":\"white\",\"ticks\":\"\"},\"baxis\":{\"gridcolor\":\"white\",\"linecolor\":\"white\",\"ticks\":\"\"},\"bgcolor\":\"#E5ECF6\",\"caxis\":{\"gridcolor\":\"white\",\"linecolor\":\"white\",\"ticks\":\"\"}},\"title\":{\"x\":0.05},\"xaxis\":{\"automargin\":true,\"gridcolor\":\"white\",\"linecolor\":\"white\",\"ticks\":\"\",\"title\":{\"standoff\":15},\"zerolinecolor\":\"white\",\"zerolinewidth\":2},\"yaxis\":{\"automargin\":true,\"gridcolor\":\"white\",\"linecolor\":\"white\",\"ticks\":\"\",\"title\":{\"standoff\":15},\"zerolinecolor\":\"white\",\"zerolinewidth\":2}}},\"title\":{\"text\":\"box-and-whiskers diagram with release\"},\"xaxis\":{\"title\":{\"text\":\"\\u041f\\u043b\\u0430\\u0442\\u0444\\u043e\\u0440\\u043c\\u044b\"}},\"yaxis\":{\"title\":{\"text\":\"\\u041f\\u0440\\u043e\\u0434\\u0430\\u0436\\u0438\"}}},                        {\"responsive\": true}                    ).then(function(){\n",
              "                            \n",
              "var gd = document.getElementById('7e4f4e93-d58b-4ab8-b827-f28dd90a5da7');\n",
              "var x = new MutationObserver(function (mutations, observer) {{\n",
              "        var display = window.getComputedStyle(gd).display;\n",
              "        if (!display || display === 'none') {{\n",
              "            console.log([gd, 'removed!']);\n",
              "            Plotly.purge(gd);\n",
              "            observer.disconnect();\n",
              "        }}\n",
              "}});\n",
              "\n",
              "// Listen for the removal of the full notebook cells\n",
              "var notebookContainer = gd.closest('#notebook-container');\n",
              "if (notebookContainer) {{\n",
              "    x.observe(notebookContainer, {childList: true});\n",
              "}}\n",
              "\n",
              "// Listen for the clearing of the current output cell\n",
              "var outputEl = gd.closest('.output');\n",
              "if (outputEl) {{\n",
              "    x.observe(outputEl, {childList: true});\n",
              "}}\n",
              "\n",
              "                        })                };                            </script>        </div>\n",
              "</body>\n",
              "</html>"
            ]
          },
          "metadata": {}
        },
        {
          "output_type": "display_data",
          "data": {
            "text/html": [
              "<html>\n",
              "<head><meta charset=\"utf-8\" /></head>\n",
              "<body>\n",
              "    <div>            <script src=\"https://cdnjs.cloudflare.com/ajax/libs/mathjax/2.7.5/MathJax.js?config=TeX-AMS-MML_SVG\"></script><script type=\"text/javascript\">if (window.MathJax) {MathJax.Hub.Config({SVG: {font: \"STIX-Web\"}});}</script>                <script type=\"text/javascript\">window.PlotlyConfig = {MathJaxConfig: 'local'};</script>\n",
              "        <script src=\"https://cdn.plot.ly/plotly-2.8.3.min.js\"></script>                <div id=\"5f9802b1-6b18-4209-a0ba-0e9eab4d3891\" class=\"plotly-graph-div\" style=\"height:525px; width:100%;\"></div>            <script type=\"text/javascript\">                                    window.PLOTLYENV=window.PLOTLYENV || {};                                    if (document.getElementById(\"5f9802b1-6b18-4209-a0ba-0e9eab4d3891\")) {                    Plotly.newPlot(                        \"5f9802b1-6b18-4209-a0ba-0e9eab4d3891\",                        [{\"x\":[\"PSV\",\"PS4\",\"X360\",\"PS4\",\"PS4\",\"PS4\",\"3DS\",\"PS4\",\"PS4\",\"XOne\",\"PS4\",\"PS4\",\"PS4\",\"PS3\",\"PS4\",\"PS4\",\"XOne\",\"X360\",\"PS4\",\"PS3\",\"3DS\",\"PS4\",\"PS4\",\"XOne\",\"X360\",\"PS3\",\"WiiU\",\"XOne\",\"X360\",\"XOne\",\"PS4\",\"PS4\",\"WiiU\",\"XOne\",\"PS4\",\"PS3\",\"PS4\",\"XOne\",\"3DS\",\"XOne\",\"XOne\",\"X360\",\"XOne\",\"XOne\",\"XOne\",\"PS3\",\"3DS\",\"PS4\",\"XOne\",\"WiiU\",\"XOne\",\"PS3\",\"XOne\",\"PC\",\"PS3\",\"XOne\",\"X360\",\"PS3\",\"PS4\",\"X360\",\"3DS\",\"XOne\",\"PS3\",\"WiiU\",\"PS4\",\"XOne\",\"PC\",\"WiiU\",\"XOne\",\"PS4\",\"PC\",\"PS4\",\"XOne\",\"PS4\",\"PS4\",\"PS4\",\"3DS\",\"PS4\",\"PS4\",\"XOne\",\"X360\",\"X360\",\"XOne\",\"PS4\",\"WiiU\",\"XOne\",\"X360\",\"PS4\",\"WiiU\",\"PS4\",\"X360\",\"PS4\",\"PS3\",\"Wii\",\"Wii\",\"X360\",\"PS4\",\"PS4\",\"XOne\",\"3DS\",\"PS4\",\"PS3\",\"PS4\",\"PS3\",\"X360\",\"PS4\",\"XOne\",\"X360\",\"PS4\",\"PC\",\"X360\",\"PS4\",\"X360\",\"X360\",\"XOne\",\"PS4\",\"3DS\",\"X360\",\"3DS\",\"PS4\",\"PS3\",\"WiiU\",\"PS3\",\"PS4\",\"3DS\",\"PS4\",\"XOne\",\"X360\",\"PS3\",\"PS3\",\"WiiU\",\"XOne\",\"3DS\",\"3DS\",\"PS4\",\"XOne\",\"PS4\",\"PS4\",\"3DS\",\"X360\",\"PS4\",\"PS4\",\"XOne\",\"PS3\",\"PS3\",\"PS3\",\"PC\",\"PS4\",\"WiiU\",\"PS4\",\"3DS\",\"PS4\",\"X360\",\"PS4\",\"PC\",\"PS4\",\"WiiU\",\"PS4\",\"PS4\",\"PS3\",\"3DS\",\"XOne\",\"XOne\",\"WiiU\",\"PS4\",\"XOne\",\"XOne\",\"PS4\",\"PS3\",\"PS4\",\"XOne\",\"PS4\",\"PS3\",\"XOne\",\"PSV\",\"WiiU\",\"PC\",\"PS4\",\"PSV\",\"WiiU\",\"PS3\",\"X360\",\"PS4\",\"XOne\",\"XOne\",\"PS3\",\"3DS\",\"PC\",\"PS4\",\"PS4\",\"3DS\",\"PS4\",\"XOne\",\"PS3\",\"PS4\",\"PS3\",\"XOne\",\"PS4\",\"X360\",\"XOne\",\"PS4\",\"PS4\",\"PS4\",\"PS3\",\"PSV\",\"XOne\",\"PS3\",\"PS3\",\"XOne\",\"XOne\",\"WiiU\",\"PS3\",\"3DS\",\"PC\",\"XOne\",\"3DS\",\"XOne\",\"PS3\",\"Wii\",\"XOne\",\"PS4\",\"PS3\",\"PS4\",\"PC\",\"PC\",\"3DS\",\"WiiU\",\"XOne\",\"XOne\",\"PC\",\"3DS\",\"PC\",\"X360\",\"X360\",\"WiiU\",\"PS4\",\"PS4\",\"WiiU\",\"XOne\",\"PS3\",\"PS3\",\"PS4\",\"X360\",\"3DS\",\"3DS\",\"3DS\",\"XOne\",\"WiiU\",\"XOne\",\"3DS\",\"PS3\",\"XOne\",\"XOne\",\"PC\",\"XOne\",\"PS4\",\"PC\",\"X360\",\"XOne\",\"PS4\",\"PS3\",\"WiiU\",\"3DS\",\"X360\",\"X360\",\"3DS\",\"WiiU\",\"PS4\",\"PS3\",\"PC\",\"PC\",\"WiiU\",\"PS3\",\"PS4\",\"XOne\",\"X360\",\"XOne\",\"PS4\",\"3DS\",\"PS3\",\"XOne\",\"PS3\",\"X360\",\"PS4\",\"X360\",\"X360\",\"PS4\",\"3DS\",\"WiiU\",\"WiiU\",\"XOne\",\"PS4\",\"PS3\",\"XOne\",\"XOne\",\"PC\",\"PS3\",\"PSV\",\"PC\",\"XOne\",\"PS4\",\"PS4\",\"PS4\",\"PS3\",\"X360\",\"PS4\",\"PS4\",\"XOne\",\"PS4\",\"PS3\",\"PS4\",\"PS4\",\"PS4\",\"X360\",\"PC\",\"PS4\",\"X360\",\"PS3\",\"WiiU\",\"PS4\",\"PS3\",\"PS4\",\"PS4\",\"3DS\",\"PS4\",\"PS3\",\"PS3\",\"PS4\",\"XOne\",\"PC\",\"PS3\",\"WiiU\",\"PSV\",\"PS4\",\"3DS\",\"XOne\",\"PS3\",\"PS4\",\"PC\",\"X360\",\"PS4\",\"PS4\",\"PC\",\"X360\",\"XOne\",\"PS4\",\"XOne\",\"PS4\",\"WiiU\",\"XOne\",\"XOne\",\"PS4\",\"3DS\",\"PS4\",\"PS4\",\"PS4\",\"3DS\",\"PS3\",\"3DS\",\"XOne\",\"XOne\",\"3DS\",\"X360\",\"PC\",\"PSV\",\"PSV\",\"PS4\",\"X360\",\"X360\",\"PS3\",\"3DS\",\"WiiU\",\"XOne\",\"PS4\",\"PS4\",\"PS3\",\"PS4\",\"3DS\",\"XOne\",\"PS4\",\"X360\",\"PSV\",\"PS4\",\"PSV\",\"PSV\",\"XOne\",\"PSV\",\"PS4\",\"PS4\",\"PS3\",\"PC\",\"3DS\",\"XOne\",\"PS4\",\"PS4\",\"X360\",\"PC\",\"PS4\",\"3DS\",\"PS4\",\"X360\",\"PS3\",\"WiiU\",\"3DS\",\"X360\",\"PS4\",\"PS3\",\"3DS\",\"PC\",\"PS3\",\"PS4\",\"PS3\",\"XOne\",\"XOne\",\"PS3\",\"3DS\",\"PS4\",\"PS4\",\"PS4\",\"PC\",\"XOne\",\"XOne\",\"PS3\",\"PS3\",\"PS3\",\"PS4\",\"PS3\",\"XOne\",\"3DS\",\"PS3\",\"3DS\",\"PS4\",\"PC\",\"PS3\",\"WiiU\",\"PS3\",\"PS3\",\"PC\",\"PS4\",\"PS4\",\"XOne\",\"3DS\",\"XOne\",\"PS4\",\"XOne\",\"PS4\",\"3DS\",\"PC\",\"XOne\",\"3DS\",\"X360\",\"PS4\",\"3DS\",\"XOne\",\"WiiU\",\"3DS\",\"PSV\",\"PS4\",\"X360\",\"PC\",\"PC\",\"PS4\",\"PS4\",\"PSV\",\"XOne\",\"X360\",\"PS3\",\"X360\",\"3DS\",\"PSV\",\"WiiU\",\"PS4\",\"PSV\",\"PS4\",\"PC\",\"XOne\",\"XOne\",\"XOne\",\"3DS\",\"X360\",\"X360\",\"PC\",\"PS4\",\"3DS\",\"3DS\",\"3DS\",\"PC\",\"PSV\",\"PSV\",\"PS4\",\"XOne\",\"XOne\",\"PSV\",\"3DS\",\"PS4\",\"PS4\",\"PSV\",\"XOne\",\"PS4\",\"PS4\",\"3DS\",\"PC\",\"X360\",\"PS4\",\"XOne\",\"PS4\",\"XOne\",\"PC\",\"XOne\",\"PS3\",\"PS3\",\"3DS\",\"PS4\",\"3DS\",\"PSV\",\"3DS\",\"PS3\",\"PC\",\"WiiU\",\"PS4\",\"PC\",\"PSV\",\"PC\",\"PSV\",\"PS3\",\"PSV\",\"PSV\",\"PS4\",\"PSV\",\"XOne\",\"PS4\",\"PS4\",\"PS3\",\"Wii\",\"Wii\",\"XOne\",\"PSV\",\"X360\",\"PS3\",\"PS4\",\"PSV\",\"PS4\",\"WiiU\",\"PSV\",\"PS3\",\"XOne\",\"PS4\",\"PS4\",\"PS4\",\"PC\",\"XOne\",\"PS4\",\"PS4\",\"PS4\",\"X360\",\"PS4\",\"PSV\",\"3DS\",\"XOne\",\"PSV\",\"PS4\",\"3DS\",\"X360\",\"PSV\",\"3DS\",\"X360\",\"X360\",\"PSV\",\"PS3\",\"3DS\",\"PC\",\"PS3\",\"XOne\",\"3DS\",\"XOne\",\"PS3\",\"PC\",\"PS4\",\"PS4\",\"XOne\",\"XOne\",\"PS3\",\"X360\",\"PC\",\"3DS\",\"XOne\",\"XOne\",\"3DS\",\"PSV\",\"PSV\",\"PSV\",\"PS3\",\"PSV\",\"PSV\",\"PS3\",\"PS4\",\"XOne\",\"XOne\",\"PS4\",\"PSV\",\"PS4\",\"3DS\",\"PS3\",\"PS4\",\"Wii\",\"WiiU\",\"XOne\",\"3DS\",\"PS4\",\"3DS\",\"PC\",\"PC\",\"PS3\",\"X360\",\"PS4\",\"PS4\",\"XOne\",\"PS3\",\"PC\",\"3DS\",\"X360\",\"XOne\",\"3DS\",\"PSV\",\"XOne\",\"PS3\",\"PS4\",\"PSV\",\"XOne\",\"PS4\",\"XOne\",\"PC\",\"PS4\",\"PS3\",\"PS3\",\"PS3\",\"PC\",\"PSV\",\"PS3\",\"PSV\",\"XOne\",\"3DS\",\"3DS\",\"PS4\",\"PSV\",\"PC\",\"XOne\",\"PS3\",\"PC\",\"PS3\",\"PS4\",\"WiiU\",\"PSV\",\"3DS\",\"PSV\",\"PS3\",\"PSV\",\"3DS\",\"PS3\",\"PC\",\"XOne\",\"PSV\",\"XOne\",\"XOne\",\"3DS\",\"3DS\",\"3DS\",\"PSV\",\"PS3\",\"PS4\",\"PS4\",\"PS4\",\"PS4\",\"PC\",\"PSV\",\"XOne\",\"X360\",\"XOne\",\"PC\",\"3DS\",\"PS3\",\"XOne\",\"WiiU\",\"PS3\",\"X360\",\"3DS\",\"3DS\",\"PS4\",\"PS3\",\"PSV\",\"PS4\",\"PSV\",\"PC\",\"PS3\",\"PC\",\"PS3\",\"PS3\",\"PS4\",\"WiiU\",\"3DS\",\"PS3\",\"PSV\",\"3DS\",\"WiiU\",\"PS3\",\"3DS\",\"PS3\",\"PS3\",\"PSV\",\"XOne\",\"PSV\",\"PS4\",\"3DS\",\"PSV\",\"PSV\",\"PSV\",\"PS4\",\"XOne\",\"3DS\",\"PS4\",\"XOne\",\"XOne\",\"PS4\",\"PS3\",\"XOne\",\"PSV\",\"3DS\",\"X360\",\"PSV\",\"X360\",\"PS3\",\"PS4\",\"PSV\",\"PS3\",\"3DS\",\"PS3\",\"PC\",\"3DS\",\"PSV\",\"XOne\",\"PS3\",\"PC\",\"PSV\",\"XOne\",\"PC\",\"PS4\",\"PS3\",\"X360\",\"PC\",\"PSV\",\"PS4\",\"PS4\",\"X360\",\"PS4\",\"PSV\",\"PSV\",\"PS4\",\"X360\",\"PC\",\"PS4\",\"WiiU\",\"PSV\",\"PSV\",\"PSV\",\"PS4\",\"3DS\",\"PS4\",\"3DS\",\"PSV\",\"XOne\",\"WiiU\",\"PSV\",\"WiiU\",\"PS3\",\"3DS\",\"PS4\",\"PSV\",\"PSV\",\"PS4\",\"PS4\",\"PSV\",\"PS4\",\"PC\",\"PSV\",\"PC\",\"PS4\",\"PS3\",\"PS3\",\"3DS\",\"PS3\",\"X360\",\"PS3\",\"3DS\",\"PS3\",\"PS4\",\"X360\",\"X360\",\"PS4\",\"PSP\",\"PSV\",\"PC\",\"PC\",\"X360\",\"PS3\",\"PS3\",\"3DS\",\"PS3\",\"PC\",\"XOne\",\"PS3\",\"PS4\",\"XOne\",\"PS4\",\"3DS\",\"WiiU\",\"PS4\",\"PS4\",\"PSV\",\"3DS\",\"PS4\",\"PS4\",\"PS4\",\"3DS\",\"WiiU\",\"X360\",\"PS4\",\"PS4\",\"X360\",\"PS4\",\"PS3\",\"PC\",\"PS4\",\"PS4\",\"3DS\",\"PS3\",\"X360\",\"PC\",\"X360\",\"PSP\",\"PS4\",\"XOne\",\"3DS\",\"PS3\",\"PSV\",\"PS4\",\"PC\",\"PS4\",\"PS4\",\"XOne\",\"XOne\",\"WiiU\",\"PC\",\"X360\",\"PS4\",\"3DS\",\"PS4\",\"3DS\",\"XOne\",\"PS4\",\"3DS\",\"PSV\",\"3DS\",\"PSV\",\"PS4\",\"PS3\",\"3DS\",\"3DS\",\"XOne\",\"PS3\",\"3DS\",\"PSV\",\"PS4\",\"PS4\",\"PC\",\"PSV\",\"XOne\",\"PS4\",\"X360\",\"PSV\",\"PSV\",\"3DS\",\"3DS\",\"X360\",\"PSV\",\"X360\",\"X360\",\"PSV\",\"PSV\",\"PSV\",\"XOne\",\"PS3\",\"3DS\",\"3DS\",\"PS4\",\"PSV\",\"PS4\",\"PS4\",\"3DS\",\"PSV\",\"3DS\",\"PSV\",\"PS3\",\"X360\",\"PS4\",\"XOne\",\"WiiU\",\"3DS\",\"3DS\",\"3DS\",\"X360\",\"PSV\",\"3DS\",\"PS4\",\"X360\",\"WiiU\",\"PSV\",\"PSV\",\"WiiU\",\"XOne\",\"3DS\",\"PSV\",\"PC\",\"PS3\",\"3DS\",\"PS3\",\"3DS\",\"PS4\",\"XOne\",\"XOne\",\"PC\",\"PSV\",\"X360\",\"PSV\",\"PS3\",\"3DS\",\"PS4\",\"PC\",\"3DS\",\"PC\",\"3DS\",\"X360\",\"PSV\",\"PS4\",\"WiiU\",\"PS4\",\"PS4\",\"PS3\",\"3DS\",\"PS3\",\"XOne\",\"PSV\",\"PSV\",\"PS4\",\"XOne\",\"X360\",\"PSV\",\"PSV\",\"3DS\",\"PS3\",\"3DS\",\"WiiU\",\"PSV\",\"3DS\",\"3DS\",\"3DS\",\"XOne\",\"X360\",\"PS4\",\"PS3\",\"XOne\",\"PSV\",\"PSV\",\"PS4\",\"PC\",\"WiiU\",\"PS3\",\"PS4\",\"X360\",\"PS4\",\"PS4\",\"PS3\",\"PS3\",\"PSV\",\"PSV\",\"PS4\",\"PSV\",\"PS4\",\"PC\",\"PS4\",\"PSV\",\"XOne\",\"PSV\",\"PC\",\"PS3\",\"PS4\",\"PSV\",\"XOne\",\"PSV\",\"3DS\",\"PS3\",\"PC\",\"3DS\",\"PSV\",\"PS3\",\"PSV\",\"PSV\",\"PSV\",\"PS4\",\"PS4\",\"PS3\",\"PS4\",\"XOne\",\"PS4\",\"PC\",\"PSV\",\"PS3\",\"X360\",\"PS4\",\"WiiU\",\"PC\",\"PSV\",\"XOne\",\"X360\",\"XOne\",\"PS4\",\"WiiU\",\"PS4\",\"PSV\",\"XOne\",\"3DS\",\"PSV\",\"PS4\",\"PS3\",\"PS4\",\"PSV\",\"PC\",\"PS4\",\"3DS\",\"PS3\",\"XOne\",\"PS4\",\"PS4\",\"PC\",\"PS4\",\"PC\",\"PS4\",\"PS4\",\"PC\",\"PS3\",\"PSV\",\"PSV\",\"PS3\",\"XOne\",\"PS3\",\"PSV\",\"XOne\",\"X360\",\"3DS\",\"PSV\",\"3DS\",\"PSV\",\"PS3\",\"PS4\",\"PSP\",\"PSV\",\"PSV\",\"XOne\",\"PS4\",\"PSV\",\"PS4\",\"3DS\",\"PSV\",\"PC\",\"PS3\",\"PS4\",\"3DS\",\"PSV\",\"PC\",\"XOne\",\"PS3\",\"PSV\",\"Wii\",\"X360\",\"3DS\",\"3DS\",\"PS4\",\"X360\",\"PSV\",\"PS3\",\"PS3\",\"XOne\",\"PS3\",\"3DS\",\"PS4\",\"PSV\",\"PSV\",\"3DS\",\"3DS\",\"PSV\",\"PC\",\"PSV\",\"PS4\",\"PS3\",\"PC\",\"X360\",\"PS4\",\"PS3\",\"XOne\",\"3DS\",\"3DS\",\"PS3\",\"PSV\",\"PS4\",\"3DS\",\"PC\",\"PS3\",\"PS4\",\"PSV\",\"3DS\",\"3DS\",\"PS4\",\"PS4\",\"PSV\",\"XOne\",\"PC\",\"3DS\",\"PSV\",\"PC\",\"PS3\",\"XOne\",\"XOne\",\"PSV\",\"PC\",\"PS4\",\"PS3\",\"PS4\",\"PSV\",\"PSV\",\"PSV\",\"3DS\",\"PS3\",\"PC\",\"PC\",\"XOne\",\"X360\",\"PSV\",\"X360\",\"PS4\",\"3DS\",\"PSV\",\"3DS\",\"PSV\",\"3DS\",\"3DS\",\"PSV\",\"PC\",\"3DS\",\"PS4\",\"PS4\",\"PS4\",\"PSV\",\"PC\",\"PSV\",\"PS4\",\"3DS\",\"3DS\",\"PS4\",\"PC\",\"WiiU\",\"3DS\",\"PS4\",\"PS3\",\"3DS\",\"PC\",\"WiiU\",\"PS4\",\"PS4\",\"PS3\",\"PS3\",\"3DS\",\"PS3\",\"3DS\",\"PSV\",\"PC\",\"PC\",\"3DS\",\"XOne\",\"X360\",\"3DS\",\"PS4\",\"PC\",\"PS4\",\"PSV\",\"PSV\",\"PC\",\"PC\",\"PS4\",\"PSV\",\"PSV\",\"3DS\",\"PS3\",\"X360\",\"PS3\",\"PS3\",\"X360\",\"PSV\",\"PSV\",\"PSV\",\"PSV\",\"PSV\",\"PSV\",\"PS3\",\"PC\",\"XOne\",\"XOne\",\"PSV\",\"PS3\",\"PSV\",\"PS4\",\"WiiU\",\"PSV\",\"3DS\",\"X360\",\"PSV\",\"WiiU\",\"PSV\",\"XOne\",\"PSV\",\"3DS\",\"PSV\",\"PSV\",\"PSV\",\"3DS\",\"PS3\",\"PSV\",\"3DS\",\"PC\",\"PSV\",\"3DS\",\"XOne\",\"PSV\",\"Wii\",\"PS3\",\"PS4\",\"PSV\",\"PSV\",\"WiiU\",\"PC\",\"PSV\",\"PSV\",\"PS4\",\"3DS\",\"PSV\",\"PC\",\"PSV\",\"PC\",\"PSV\",\"X360\",\"PS4\",\"PSV\",\"PSV\",\"PS3\",\"PS3\",\"PSV\",\"PSV\",\"3DS\",\"PS4\",\"PS3\",\"PS3\",\"3DS\",\"PS3\",\"XOne\",\"PSV\",\"XOne\",\"PS4\",\"PSV\",\"3DS\",\"PS4\",\"3DS\",\"3DS\",\"PSV\",\"PS4\",\"PS4\",\"PSV\",\"3DS\",\"PS4\",\"PS4\",\"PS3\",\"PSV\",\"PSV\",\"PS4\",\"XOne\",\"3DS\",\"PSV\",\"PC\",\"PSV\",\"PS4\",\"PS3\",\"X360\",\"PS4\",\"PSP\",\"WiiU\",\"PSV\",\"PC\",\"PS4\",\"PS3\",\"PS3\",\"PSV\",\"PS4\",\"PS4\",\"PSV\",\"PSV\",\"PSV\",\"PS4\",\"X360\",\"PS3\",\"PS3\",\"X360\",\"PS3\",\"PS4\",\"PSV\",\"PS4\",\"PS3\",\"PSV\",\"3DS\",\"PSV\",\"3DS\",\"PSV\",\"PS4\",\"PS3\",\"PSV\",\"PSV\",\"XOne\",\"PS4\",\"PC\",\"PS3\",\"PS3\",\"PSV\",\"PSV\",\"PSV\",\"PS3\",\"PC\",\"PS4\",\"XOne\",\"PC\",\"X360\",\"PS4\",\"XOne\",\"PSV\",\"PC\",\"PC\",\"PS3\",\"PS3\",\"PC\",\"PSV\",\"PSV\",\"PS3\",\"XOne\",\"PSV\",\"XOne\",\"PC\",\"XOne\",\"PS4\",\"PC\",\"PC\",\"PSV\",\"PSP\",\"PSV\",\"PS3\",\"3DS\",\"3DS\",\"3DS\",\"PSV\",\"PS3\",\"PSV\",\"PS4\",\"PSV\",\"XOne\",\"PSV\",\"PS3\",\"X360\",\"XOne\",\"PSV\",\"PS4\",\"WiiU\",\"3DS\",\"XOne\",\"PS3\",\"PSV\",\"PS3\",\"PSV\",\"PSV\",\"PS3\",\"PC\",\"PSV\",\"PC\",\"PSV\",\"3DS\",\"PC\",\"PSV\",\"PSV\",\"PSV\",\"PS4\",\"PC\",\"XOne\",\"PS4\",\"PS3\",\"PSV\",\"PSV\",\"PS4\",\"PSV\",\"PS3\",\"PS4\",\"PS4\",\"PSV\",\"PS3\",\"PSV\",\"PS4\",\"PSV\",\"WiiU\",\"PSV\",\"PC\",\"PSV\",\"XOne\",\"PS4\",\"PSV\",\"PSV\",\"PS3\",\"PSV\",\"WiiU\",\"PSV\",\"PS3\",\"PSV\",\"PSV\",\"PS4\",\"PS4\",\"3DS\",\"PSV\",\"PSV\",\"PC\",\"PC\",\"PSV\",\"PSV\",\"PS4\",\"PS4\",\"PSP\",\"PSV\",\"PSV\",\"3DS\",\"XOne\",\"XOne\",\"PSV\",\"PC\",\"XOne\",\"PSV\",\"PSV\",\"XOne\",\"PSP\",\"PC\",\"PS4\",\"PSV\",\"PSV\",\"PC\",\"PS4\",\"3DS\",\"PC\",\"XOne\",\"PSP\",\"PS4\",\"PC\",\"XOne\",\"PSV\",\"3DS\",\"Wii\",\"PS3\",\"3DS\",\"PS4\",\"PSV\",\"PC\",\"PSV\",\"XOne\",\"XOne\",\"PS3\",\"PSV\",\"XOne\",\"PC\",\"PSV\",\"PSV\",\"PSV\",\"PSV\",\"3DS\",\"PSP\",\"PC\",\"PS3\",\"3DS\",\"PSV\",\"PSV\",\"XOne\",\"WiiU\",\"PSV\",\"PSV\",\"PC\",\"X360\",\"PSV\",\"WiiU\",\"Wii\",\"PSP\",\"XOne\",\"XOne\",\"PSV\",\"PC\",\"PSV\",\"PC\",\"PC\",\"PSV\",\"PSV\",\"PS3\",\"PS4\",\"PS3\",\"PSV\",\"PSV\",\"WiiU\",\"PSV\",\"XOne\",\"PS4\",\"PSV\",\"PSV\",\"WiiU\",\"3DS\",\"WiiU\",\"PC\",\"PS4\",\"PSV\",\"PC\",\"PC\",\"3DS\",\"PC\",\"PC\",\"PS3\",\"3DS\",\"PS4\",\"X360\",\"PS4\",\"PS3\",\"PS4\",\"PS4\",\"3DS\",\"PS4\",\"XOne\",\"PC\",\"WiiU\",\"3DS\",\"PC\",\"PSV\",\"PS4\",\"PS4\",\"XOne\",\"PSV\",\"PSP\",\"XOne\",\"PSV\",\"PS3\",\"PSV\",\"3DS\",\"PS3\",\"PSV\",\"PSV\",\"PSV\",\"PSV\",\"PS4\",\"XOne\",\"3DS\",\"XOne\",\"XOne\",\"3DS\",\"PSP\",\"3DS\",\"3DS\",\"PSP\",\"PC\",\"PSV\",\"PSV\",\"XOne\",\"PC\",\"PS3\",\"XOne\",\"PSV\",\"XOne\",\"WiiU\",\"PSV\",\"XOne\",\"PSV\",\"PSV\",\"3DS\",\"XOne\",\"PS3\",\"3DS\",\"PSV\",\"PSV\",\"PS3\",\"PC\",\"PSV\",\"PSV\",\"PSV\",\"PS3\",\"PSV\",\"PSV\"],\"y\":[1.9600000000000002,1.9200000000000002,1.92,1.9100000000000001,1.8800000000000001,1.85,1.83,1.83,1.81,1.7999999999999998,1.7900000000000003,1.74,1.75,1.7400000000000002,1.7200000000000002,1.7200000000000002,1.73,1.7,1.6900000000000002,1.69,1.6700000000000002,1.6600000000000001,1.6600000000000001,1.6400000000000001,1.6300000000000001,1.6100000000000003,1.58,1.5700000000000003,1.5699999999999998,1.56,1.54,1.54,1.5299999999999998,1.4900000000000002,1.49,1.4600000000000002,1.4000000000000001,1.4000000000000001,1.3800000000000001,1.38,1.3800000000000001,1.3599999999999999,1.3599999999999999,1.3399999999999999,1.3399999999999999,1.34,1.33,1.3199999999999998,1.3,1.3,1.2900000000000003,1.29,1.29,1.2800000000000002,1.28,1.2800000000000002,1.27,1.2799999999999998,1.2699999999999998,1.25,1.25,1.23,1.23,1.23,1.21,1.21,1.1900000000000002,1.1900000000000002,1.2000000000000002,1.17,1.1700000000000002,1.15,1.1300000000000001,1.14,1.13,1.1199999999999999,1.11,1.1,1.0799999999999998,1.08,1.08,1.07,1.06,1.05,1.03,1.03,1.01,1.02,1.01,0.98,0.97,0.9700000000000001,0.9500000000000001,0.95,0.95,0.9400000000000001,0.9400000000000001,0.93,0.93,0.93,0.92,0.93,0.93,0.93,0.9299999999999999,0.9,0.91,0.9,0.9,0.9000000000000001,0.89,0.89,0.89,0.89,0.88,0.88,0.87,0.87,0.86,0.86,0.85,0.8400000000000001,0.8500000000000001,0.8200000000000001,0.79,0.78,0.79,0.78,0.7799999999999999,0.7699999999999999,0.76,0.76,0.75,0.7500000000000001,0.7600000000000001,0.75,0.75,0.75,0.75,0.74,0.7300000000000001,0.73,0.75,0.7300000000000001,0.7300000000000001,0.7300000000000001,0.73,0.73,0.73,0.73,0.7200000000000001,0.72,0.73,0.73,0.7200000000000001,0.7,0.7,0.71,0.6900000000000001,0.6900000000000001,0.6900000000000002,0.69,0.6799999999999999,0.6700000000000002,0.6900000000000001,0.6800000000000002,0.6599999999999999,0.67,0.67,0.67,0.6599999999999999,0.66,0.66,0.6599999999999999,0.65,0.6499999999999999,0.65,0.64,0.64,0.6400000000000001,0.6399999999999999,0.6400000000000001,0.64,0.6400000000000001,0.6300000000000001,0.64,0.63,0.63,0.63,0.63,0.6200000000000001,0.62,0.6200000000000001,0.61,0.61,0.62,0.61,0.61,0.6100000000000001,0.6000000000000001,0.6,0.6,0.6,0.59,0.6,0.5900000000000001,0.5800000000000001,0.5800000000000001,0.5700000000000001,0.5700000000000001,0.5700000000000001,0.56,0.5700000000000001,0.56,0.56,0.56,0.56,0.56,0.56,0.55,0.54,0.5599999999999999,0.56,0.55,0.55,0.53,0.53,0.53,0.53,0.53,0.53,0.52,0.53,0.53,0.52,0.51,0.52,0.51,0.49999999999999994,0.51,0.49,0.49000000000000005,0.48000000000000004,0.49,0.48,0.48000000000000004,0.48000000000000004,0.48,0.4799999999999999,0.4800000000000001,0.49000000000000005,0.48,0.47,0.47,0.45999999999999996,0.47000000000000003,0.47,0.46,0.45,0.46,0.46,0.45999999999999996,0.4600000000000001,0.45,0.44999999999999996,0.45,0.45999999999999996,0.45,0.44,0.44999999999999996,0.44000000000000006,0.44000000000000006,0.44,0.44,0.44,0.45,0.43,0.43,0.44000000000000006,0.44,0.44,0.43,0.43,0.43,0.43000000000000005,0.42,0.43,0.42000000000000004,0.42000000000000004,0.42000000000000004,0.42,0.42,0.41000000000000003,0.41,0.41,0.41,0.41000000000000003,0.41000000000000003,0.41000000000000003,0.41,0.4,0.4,0.38999999999999996,0.39999999999999997,0.39,0.39999999999999997,0.4,0.38999999999999996,0.39999999999999997,0.39,0.37999999999999995,0.39,0.38,0.38,0.38,0.38,0.38,0.38,0.38,0.37,0.37,0.37,0.37000000000000005,0.38,0.36000000000000004,0.36000000000000004,0.37,0.36,0.37,0.36,0.36,0.37,0.36,0.36000000000000004,0.36,0.36,0.34,0.36000000000000004,0.35,0.36,0.35000000000000003,0.36,0.35000000000000003,0.35,0.33999999999999997,0.34,0.33999999999999997,0.34,0.34,0.33999999999999997,0.33999999999999997,0.33999999999999997,0.33,0.34,0.33,0.33999999999999997,0.33,0.33,0.32000000000000006,0.31999999999999995,0.31999999999999995,0.32,0.31000000000000005,0.32000000000000006,0.33,0.32,0.32,0.31999999999999995,0.31999999999999995,0.32000000000000006,0.31,0.31000000000000005,0.31000000000000005,0.32,0.3,0.3,0.3,0.31000000000000005,0.31000000000000005,0.31,0.31000000000000005,0.31,0.3,0.3,0.3,0.29000000000000004,0.30000000000000004,0.3,0.3,0.29000000000000004,0.28,0.29000000000000004,0.28,0.29,0.28,0.29000000000000004,0.29000000000000004,0.27999999999999997,0.28,0.29000000000000004,0.27,0.28,0.27,0.28,0.27,0.29000000000000004,0.29,0.27,0.28,0.26999999999999996,0.27,0.27,0.27,0.27,0.26,0.26,0.27,0.26,0.26,0.26,0.26,0.26,0.26,0.26,0.26,0.26,0.26,0.25,0.25,0.25,0.25,0.26,0.26,0.25,0.24999999999999997,0.25,0.24000000000000002,0.24,0.24000000000000002,0.25,0.24999999999999997,0.24000000000000002,0.24,0.25,0.24000000000000002,0.24000000000000002,0.24999999999999997,0.24,0.24000000000000002,0.24,0.23,0.24000000000000002,0.24,0.24000000000000002,0.24,0.23,0.23,0.24000000000000002,0.23,0.22999999999999998,0.23,0.23,0.23,0.22000000000000003,0.23,0.23,0.23,0.23,0.22,0.22999999999999998,0.22,0.23,0.22,0.23,0.22,0.22,0.22,0.22,0.21000000000000002,0.22,0.22,0.22,0.21000000000000002,0.22,0.21000000000000002,0.21,0.22,0.21,0.21,0.21000000000000002,0.21,0.21,0.21000000000000002,0.21,0.19999999999999998,0.2,0.2,0.21,0.2,0.19999999999999998,0.2,0.2,0.19999999999999998,0.2,0.19999999999999998,0.2,0.21,0.19999999999999998,0.19999999999999998,0.19999999999999998,0.2,0.2,0.19999999999999998,0.19,0.19,0.18000000000000002,0.19,0.19999999999999998,0.18999999999999997,0.19,0.18000000000000002,0.19,0.19999999999999998,0.19,0.18,0.19,0.18000000000000002,0.19,0.19,0.18,0.19999999999999998,0.19,0.19,0.18000000000000002,0.18,0.18,0.18,0.18,0.18,0.18,0.18,0.18,0.18999999999999997,0.16999999999999998,0.18000000000000002,0.18,0.18,0.18000000000000002,0.17,0.17,0.18,0.17,0.16999999999999998,0.16,0.18,0.17,0.17,0.17,0.16,0.17,0.16999999999999998,0.17,0.16000000000000003,0.17,0.17,0.16999999999999998,0.16999999999999998,0.17,0.17,0.16,0.16,0.15000000000000002,0.16,0.16000000000000003,0.16000000000000003,0.17,0.16,0.16,0.16,0.15000000000000002,0.15000000000000002,0.16,0.16,0.16000000000000003,0.16,0.15000000000000002,0.15000000000000002,0.15,0.16,0.15,0.15,0.15,0.14,0.15,0.15,0.15,0.15000000000000002,0.15000000000000002,0.15,0.15000000000000002,0.13999999999999999,0.15,0.16,0.15,0.15,0.15000000000000002,0.14,0.14,0.14,0.14,0.15000000000000002,0.15000000000000002,0.14,0.14,0.13999999999999999,0.13999999999999999,0.14,0.14,0.14,0.15,0.14,0.14,0.14,0.14,0.14,0.14,0.13999999999999999,0.14,0.14,0.13,0.13,0.14,0.13,0.14,0.14,0.13,0.13,0.13,0.13,0.13,0.13,0.13,0.13,0.12000000000000001,0.13,0.13,0.13,0.13,0.13,0.13,0.13,0.13,0.12000000000000001,0.13,0.13,0.12999999999999998,0.13,0.13,0.12000000000000001,0.13,0.13,0.12000000000000001,0.13,0.12,0.12,0.12,0.13,0.12,0.12,0.12,0.12,0.12000000000000001,0.11,0.12,0.11,0.12,0.12,0.12000000000000001,0.12000000000000001,0.11,0.12,0.12,0.12,0.12,0.12,0.12,0.12,0.11,0.12,0.12,0.12,0.12,0.12,0.12,0.12,0.11000000000000001,0.12,0.12000000000000001,0.11,0.11,0.11,0.11,0.11,0.11,0.11,0.11,0.11,0.12000000000000001,0.11,0.11,0.11,0.12000000000000001,0.11,0.11,0.11,0.11,0.12000000000000001,0.11,0.11,0.11,0.10999999999999999,0.11,0.09999999999999999,0.11,0.11,0.11,0.11,0.09999999999999999,0.11,0.09999999999999999,0.11000000000000001,0.11,0.1,0.1,0.1,0.11,0.09999999999999999,0.1,0.11,0.09999999999999999,0.11,0.11,0.11,0.1,0.09999999999999999,0.1,0.1,0.09999999999999999,0.09999999999999999,0.1,0.09,0.1,0.09999999999999999,0.09,0.1,0.1,0.1,0.09999999999999999,0.09999999999999999,0.1,0.09999999999999999,0.09999999999999999,0.1,0.09,0.1,0.1,0.09999999999999999,0.1,0.09999999999999999,0.09999999999999999,0.09,0.09000000000000001,0.09999999999999999,0.1,0.09999999999999999,0.09,0.09,0.09,0.09,0.1,0.09,0.09000000000000001,0.09,0.09,0.09999999999999999,0.08,0.09,0.1,0.09,0.1,0.09,0.09000000000000001,0.09,0.09,0.09,0.09999999999999999,0.09,0.09,0.09,0.09,0.08,0.08,0.09,0.08,0.09,0.09,0.08,0.08,0.09999999999999999,0.09,0.09,0.09,0.09,0.09,0.09,0.08,0.08,0.09,0.09,0.08,0.08,0.08,0.08,0.09,0.08,0.08,0.08,0.08,0.06999999999999999,0.08,0.09,0.09,0.09000000000000001,0.07,0.08,0.07999999999999999,0.08,0.07999999999999999,0.08,0.08,0.08,0.08,0.08,0.08,0.06999999999999999,0.08,0.06999999999999999,0.08,0.08,0.08,0.07999999999999999,0.07,0.09,0.07,0.08,0.08,0.08,0.08,0.08,0.08,0.08,0.08,0.08,0.08,0.07,0.07,0.07,0.08,0.08,0.07,0.07,0.06999999999999999,0.07,0.07,0.08,0.07,0.06999999999999999,0.08,0.07,0.06999999999999999,0.07,0.06999999999999999,0.06999999999999999,0.07,0.06999999999999999,0.07999999999999999,0.06999999999999999,0.06999999999999999,0.06999999999999999,0.06999999999999999,0.08,0.07,0.07,0.07,0.07,0.060000000000000005,0.06999999999999999,0.07,0.07,0.07,0.07,0.06999999999999999,0.060000000000000005,0.07,0.07,0.06999999999999999,0.07,0.06,0.07,0.07,0.06999999999999999,0.07,0.06999999999999999,0.06,0.06,0.06,0.06,0.06,0.06999999999999999,0.06,0.06,0.060000000000000005,0.06,0.06999999999999999,0.06999999999999999,0.06,0.060000000000000005,0.060000000000000005,0.06,0.06,0.060000000000000005,0.06999999999999999,0.060000000000000005,0.06,0.06,0.060000000000000005,0.06,0.06,0.06,0.06,0.060000000000000005,0.06999999999999999,0.060000000000000005,0.060000000000000005,0.060000000000000005,0.06999999999999999,0.06,0.06,0.06,0.05,0.06,0.06,0.06,0.060000000000000005,0.07,0.06,0.06,0.06,0.060000000000000005,0.06,0.06999999999999999,0.06,0.060000000000000005,0.06,0.06,0.060000000000000005,0.05,0.06,0.06999999999999999,0.060000000000000005,0.060000000000000005,0.06,0.06,0.05,0.05,0.06,0.060000000000000005,0.05,0.060000000000000005,0.060000000000000005,0.060000000000000005,0.060000000000000005,0.06,0.06,0.060000000000000005,0.06,0.06,0.05,0.060000000000000005,0.06,0.05,0.05,0.05,0.060000000000000005,0.05,0.05,0.05,0.05,0.05,0.060000000000000005,0.05,0.060000000000000005,0.05,0.05,0.060000000000000005,0.05,0.05,0.05,0.05,0.05,0.05,0.05,0.060000000000000005,0.05,0.05,0.05,0.05,0.05,0.05,0.05,0.05,0.05,0.05,0.060000000000000005,0.05,0.05,0.05,0.05,0.060000000000000005,0.05,0.05,0.05,0.05,0.05,0.05,0.05,0.05,0.04,0.060000000000000005,0.05,0.04,0.05,0.05,0.05,0.04,0.05,0.05,0.05,0.05,0.05,0.05,0.05,0.04,0.05,0.05,0.04,0.04,0.05,0.05,0.05,0.05,0.05,0.05,0.05,0.05,0.05,0.04,0.05,0.05,0.05,0.04,0.04,0.05,0.04,0.05,0.04,0.04,0.04,0.04,0.04,0.04,0.04,0.04,0.04,0.04,0.04,0.04,0.04,0.04,0.04,0.04,0.04,0.04,0.03,0.04,0.05,0.03,0.03,0.04,0.04,0.04,0.05,0.04,0.04,0.04,0.04,0.04,0.04,0.04,0.04,0.04,0.04,0.04,0.04,0.04,0.05,0.04,0.04,0.03,0.04,0.04,0.04,0.04,0.04,0.04,0.04,0.04,0.04,0.04,0.04,0.03,0.04,0.04,0.04,0.04,0.04,0.04,0.04,0.04,0.04,0.04,0.03,0.03,0.03,0.04,0.03,0.03,0.04,0.04,0.04,0.04,0.03,0.03,0.03,0.03,0.03,0.03,0.03,0.03,0.03,0.03,0.03,0.03,0.04,0.03,0.03,0.03,0.03,0.03,0.03,0.03,0.03,0.03,0.03,0.03,0.03,0.04,0.03,0.03,0.03,0.03,0.03,0.04,0.03,0.03,0.03,0.03,0.03,0.03,0.03,0.03,0.03,0.03,0.03,0.03,0.03,0.03,0.03,0.03,0.03,0.03,0.03,0.04,0.03,0.02,0.04,0.03,0.03,0.03,0.03,0.03,0.03,0.03,0.03,0.03,0.03,0.03,0.03,0.03,0.03,0.03,0.02,0.03,0.03,0.03,0.03,0.03,0.03,0.03,0.03,0.03,0.03,0.03,0.03,0.03,0.03,0.03,0.03,0.03,0.03,0.03,0.03,0.02,0.03,0.03,0.03,0.03,0.03,0.03,0.03,0.02,0.03,0.03,0.03,0.03,0.03,0.03,0.02,0.02,0.03,0.03,0.03,0.03,0.03,0.03,0.03,0.02,0.03,0.03,0.03,0.02,0.02,0.03,0.02,0.03,0.03,0.02,0.03,0.03,0.02,0.03,0.02,0.02,0.03,0.02,0.02,0.02,0.03,0.03,0.03,0.02,0.02,0.03,0.02,0.02,0.02,0.02,0.02,0.02,0.02,0.02,0.02,0.02,0.02,0.02,0.02,0.02,0.02,0.02,0.02,0.02,0.02,0.02,0.02,0.02,0.02,0.02,0.02,0.02,0.02,0.02,0.02,0.02,0.02,0.02,0.02,0.02,0.02,0.02,0.02,0.02,0.02,0.02,0.02,0.02,0.02,0.02,0.02,0.02,0.02,0.02,0.02,0.02,0.02,0.02,0.02,0.02,0.02,0.02,0.02,0.02,0.02,0.02,0.02,0.02,0.02,0.02,0.02,0.02,0.02,0.02,0.01,0.02,0.02,0.02,0.02,0.02,0.02,0.02,0.02,0.02,0.02,0.02,0.02,0.02,0.02,0.02,0.02,0.02,0.02,0.02,0.02,0.01,0.02,0.02,0.02,0.02,0.02,0.02,0.02,0.02,0.02,0.02,0.02,0.02,0.02,0.02,0.02,0.02,0.02,0.02,0.02,0.01,0.02,0.02,0.01,0.02,0.02,0.02,0.01,0.02,0.02,0.02,0.02,0.02,0.02,0.02,0.01,0.02,0.02,0.02,0.02,0.02,0.02,0.01,0.02,0.02,0.01,0.02,0.02,0.02,0.02,0.02,0.02,0.01,0.02,0.02,0.02,0.02,0.01,0.01,0.02,0.01,0.02,0.02,0.02,0.02,0.02,0.01,0.01,0.01,0.02,0.01,0.01,0.02,0.02,0.01,0.02,0.01,0.01,0.01,0.01,0.01,0.02,0.01,0.01,0.01,0.01,0.01,0.01,0.01,0.01,0.01,0.01,0.01,0.01,0.01,0.01,0.01,0.01,0.01,0.01,0.01,0.01,0.01,0.01,0.01,0.01,0.01,0.01,0.01,0.01,0.01,0.01,0.01,0.01,0.01,0.01,0.01,0.01,0.01,0.01,0.01,0.01,0.01,0.01,0.01,0.01,0.01,0.01,0.01,0.01,0.01,0.01,0.01,0.01,0.01,0.01,0.01,0.01,0.01,0.01,0.01,0.01,0.01,0.01,0.01,0.01,0.01,0.01,0.01,0.01,0.01,0.01,0.01,0.01,0.01,0.01,0.01,0.01,0.01,0.01,0.01,0.01,0.01,0.01,0.01,0.01,0.01,0.01,0.01,0.01,0.01,0.01,0.01,0.01,0.01,0.01,0.01,0.01,0.01,0.01,0.01,0.01,0.01,0.01,0.01,0.01,0.01,0.01,0.01,0.01,0.01,0.01,0.01,0.01,0.01,0.01,0.01,0.01,0.01,0.01,0.01,0.01,0.01,0.01,0.01,0.01,0.01,0.01,0.01,0.01,0.01,0.01,0.01,0.01,0.01,0.01,0.01,0.01,0.01,0.01,0.01,0.01,0.01,0.01,0.01],\"type\":\"box\"}],                        {\"template\":{\"data\":{\"bar\":[{\"error_x\":{\"color\":\"#2a3f5f\"},\"error_y\":{\"color\":\"#2a3f5f\"},\"marker\":{\"line\":{\"color\":\"#E5ECF6\",\"width\":0.5},\"pattern\":{\"fillmode\":\"overlay\",\"size\":10,\"solidity\":0.2}},\"type\":\"bar\"}],\"barpolar\":[{\"marker\":{\"line\":{\"color\":\"#E5ECF6\",\"width\":0.5},\"pattern\":{\"fillmode\":\"overlay\",\"size\":10,\"solidity\":0.2}},\"type\":\"barpolar\"}],\"carpet\":[{\"aaxis\":{\"endlinecolor\":\"#2a3f5f\",\"gridcolor\":\"white\",\"linecolor\":\"white\",\"minorgridcolor\":\"white\",\"startlinecolor\":\"#2a3f5f\"},\"baxis\":{\"endlinecolor\":\"#2a3f5f\",\"gridcolor\":\"white\",\"linecolor\":\"white\",\"minorgridcolor\":\"white\",\"startlinecolor\":\"#2a3f5f\"},\"type\":\"carpet\"}],\"choropleth\":[{\"colorbar\":{\"outlinewidth\":0,\"ticks\":\"\"},\"type\":\"choropleth\"}],\"contour\":[{\"colorbar\":{\"outlinewidth\":0,\"ticks\":\"\"},\"colorscale\":[[0.0,\"#0d0887\"],[0.1111111111111111,\"#46039f\"],[0.2222222222222222,\"#7201a8\"],[0.3333333333333333,\"#9c179e\"],[0.4444444444444444,\"#bd3786\"],[0.5555555555555556,\"#d8576b\"],[0.6666666666666666,\"#ed7953\"],[0.7777777777777778,\"#fb9f3a\"],[0.8888888888888888,\"#fdca26\"],[1.0,\"#f0f921\"]],\"type\":\"contour\"}],\"contourcarpet\":[{\"colorbar\":{\"outlinewidth\":0,\"ticks\":\"\"},\"type\":\"contourcarpet\"}],\"heatmap\":[{\"colorbar\":{\"outlinewidth\":0,\"ticks\":\"\"},\"colorscale\":[[0.0,\"#0d0887\"],[0.1111111111111111,\"#46039f\"],[0.2222222222222222,\"#7201a8\"],[0.3333333333333333,\"#9c179e\"],[0.4444444444444444,\"#bd3786\"],[0.5555555555555556,\"#d8576b\"],[0.6666666666666666,\"#ed7953\"],[0.7777777777777778,\"#fb9f3a\"],[0.8888888888888888,\"#fdca26\"],[1.0,\"#f0f921\"]],\"type\":\"heatmap\"}],\"heatmapgl\":[{\"colorbar\":{\"outlinewidth\":0,\"ticks\":\"\"},\"colorscale\":[[0.0,\"#0d0887\"],[0.1111111111111111,\"#46039f\"],[0.2222222222222222,\"#7201a8\"],[0.3333333333333333,\"#9c179e\"],[0.4444444444444444,\"#bd3786\"],[0.5555555555555556,\"#d8576b\"],[0.6666666666666666,\"#ed7953\"],[0.7777777777777778,\"#fb9f3a\"],[0.8888888888888888,\"#fdca26\"],[1.0,\"#f0f921\"]],\"type\":\"heatmapgl\"}],\"histogram\":[{\"marker\":{\"pattern\":{\"fillmode\":\"overlay\",\"size\":10,\"solidity\":0.2}},\"type\":\"histogram\"}],\"histogram2d\":[{\"colorbar\":{\"outlinewidth\":0,\"ticks\":\"\"},\"colorscale\":[[0.0,\"#0d0887\"],[0.1111111111111111,\"#46039f\"],[0.2222222222222222,\"#7201a8\"],[0.3333333333333333,\"#9c179e\"],[0.4444444444444444,\"#bd3786\"],[0.5555555555555556,\"#d8576b\"],[0.6666666666666666,\"#ed7953\"],[0.7777777777777778,\"#fb9f3a\"],[0.8888888888888888,\"#fdca26\"],[1.0,\"#f0f921\"]],\"type\":\"histogram2d\"}],\"histogram2dcontour\":[{\"colorbar\":{\"outlinewidth\":0,\"ticks\":\"\"},\"colorscale\":[[0.0,\"#0d0887\"],[0.1111111111111111,\"#46039f\"],[0.2222222222222222,\"#7201a8\"],[0.3333333333333333,\"#9c179e\"],[0.4444444444444444,\"#bd3786\"],[0.5555555555555556,\"#d8576b\"],[0.6666666666666666,\"#ed7953\"],[0.7777777777777778,\"#fb9f3a\"],[0.8888888888888888,\"#fdca26\"],[1.0,\"#f0f921\"]],\"type\":\"histogram2dcontour\"}],\"mesh3d\":[{\"colorbar\":{\"outlinewidth\":0,\"ticks\":\"\"},\"type\":\"mesh3d\"}],\"parcoords\":[{\"line\":{\"colorbar\":{\"outlinewidth\":0,\"ticks\":\"\"}},\"type\":\"parcoords\"}],\"pie\":[{\"automargin\":true,\"type\":\"pie\"}],\"scatter\":[{\"marker\":{\"colorbar\":{\"outlinewidth\":0,\"ticks\":\"\"}},\"type\":\"scatter\"}],\"scatter3d\":[{\"line\":{\"colorbar\":{\"outlinewidth\":0,\"ticks\":\"\"}},\"marker\":{\"colorbar\":{\"outlinewidth\":0,\"ticks\":\"\"}},\"type\":\"scatter3d\"}],\"scattercarpet\":[{\"marker\":{\"colorbar\":{\"outlinewidth\":0,\"ticks\":\"\"}},\"type\":\"scattercarpet\"}],\"scattergeo\":[{\"marker\":{\"colorbar\":{\"outlinewidth\":0,\"ticks\":\"\"}},\"type\":\"scattergeo\"}],\"scattergl\":[{\"marker\":{\"colorbar\":{\"outlinewidth\":0,\"ticks\":\"\"}},\"type\":\"scattergl\"}],\"scattermapbox\":[{\"marker\":{\"colorbar\":{\"outlinewidth\":0,\"ticks\":\"\"}},\"type\":\"scattermapbox\"}],\"scatterpolar\":[{\"marker\":{\"colorbar\":{\"outlinewidth\":0,\"ticks\":\"\"}},\"type\":\"scatterpolar\"}],\"scatterpolargl\":[{\"marker\":{\"colorbar\":{\"outlinewidth\":0,\"ticks\":\"\"}},\"type\":\"scatterpolargl\"}],\"scatterternary\":[{\"marker\":{\"colorbar\":{\"outlinewidth\":0,\"ticks\":\"\"}},\"type\":\"scatterternary\"}],\"surface\":[{\"colorbar\":{\"outlinewidth\":0,\"ticks\":\"\"},\"colorscale\":[[0.0,\"#0d0887\"],[0.1111111111111111,\"#46039f\"],[0.2222222222222222,\"#7201a8\"],[0.3333333333333333,\"#9c179e\"],[0.4444444444444444,\"#bd3786\"],[0.5555555555555556,\"#d8576b\"],[0.6666666666666666,\"#ed7953\"],[0.7777777777777778,\"#fb9f3a\"],[0.8888888888888888,\"#fdca26\"],[1.0,\"#f0f921\"]],\"type\":\"surface\"}],\"table\":[{\"cells\":{\"fill\":{\"color\":\"#EBF0F8\"},\"line\":{\"color\":\"white\"}},\"header\":{\"fill\":{\"color\":\"#C8D4E3\"},\"line\":{\"color\":\"white\"}},\"type\":\"table\"}]},\"layout\":{\"annotationdefaults\":{\"arrowcolor\":\"#2a3f5f\",\"arrowhead\":0,\"arrowwidth\":1},\"autotypenumbers\":\"strict\",\"coloraxis\":{\"colorbar\":{\"outlinewidth\":0,\"ticks\":\"\"}},\"colorscale\":{\"diverging\":[[0,\"#8e0152\"],[0.1,\"#c51b7d\"],[0.2,\"#de77ae\"],[0.3,\"#f1b6da\"],[0.4,\"#fde0ef\"],[0.5,\"#f7f7f7\"],[0.6,\"#e6f5d0\"],[0.7,\"#b8e186\"],[0.8,\"#7fbc41\"],[0.9,\"#4d9221\"],[1,\"#276419\"]],\"sequential\":[[0.0,\"#0d0887\"],[0.1111111111111111,\"#46039f\"],[0.2222222222222222,\"#7201a8\"],[0.3333333333333333,\"#9c179e\"],[0.4444444444444444,\"#bd3786\"],[0.5555555555555556,\"#d8576b\"],[0.6666666666666666,\"#ed7953\"],[0.7777777777777778,\"#fb9f3a\"],[0.8888888888888888,\"#fdca26\"],[1.0,\"#f0f921\"]],\"sequentialminus\":[[0.0,\"#0d0887\"],[0.1111111111111111,\"#46039f\"],[0.2222222222222222,\"#7201a8\"],[0.3333333333333333,\"#9c179e\"],[0.4444444444444444,\"#bd3786\"],[0.5555555555555556,\"#d8576b\"],[0.6666666666666666,\"#ed7953\"],[0.7777777777777778,\"#fb9f3a\"],[0.8888888888888888,\"#fdca26\"],[1.0,\"#f0f921\"]]},\"colorway\":[\"#636efa\",\"#EF553B\",\"#00cc96\",\"#ab63fa\",\"#FFA15A\",\"#19d3f3\",\"#FF6692\",\"#B6E880\",\"#FF97FF\",\"#FECB52\"],\"font\":{\"color\":\"#2a3f5f\"},\"geo\":{\"bgcolor\":\"white\",\"lakecolor\":\"white\",\"landcolor\":\"#E5ECF6\",\"showlakes\":true,\"showland\":true,\"subunitcolor\":\"white\"},\"hoverlabel\":{\"align\":\"left\"},\"hovermode\":\"closest\",\"mapbox\":{\"style\":\"light\"},\"paper_bgcolor\":\"white\",\"plot_bgcolor\":\"#E5ECF6\",\"polar\":{\"angularaxis\":{\"gridcolor\":\"white\",\"linecolor\":\"white\",\"ticks\":\"\"},\"bgcolor\":\"#E5ECF6\",\"radialaxis\":{\"gridcolor\":\"white\",\"linecolor\":\"white\",\"ticks\":\"\"}},\"scene\":{\"xaxis\":{\"backgroundcolor\":\"#E5ECF6\",\"gridcolor\":\"white\",\"gridwidth\":2,\"linecolor\":\"white\",\"showbackground\":true,\"ticks\":\"\",\"zerolinecolor\":\"white\"},\"yaxis\":{\"backgroundcolor\":\"#E5ECF6\",\"gridcolor\":\"white\",\"gridwidth\":2,\"linecolor\":\"white\",\"showbackground\":true,\"ticks\":\"\",\"zerolinecolor\":\"white\"},\"zaxis\":{\"backgroundcolor\":\"#E5ECF6\",\"gridcolor\":\"white\",\"gridwidth\":2,\"linecolor\":\"white\",\"showbackground\":true,\"ticks\":\"\",\"zerolinecolor\":\"white\"}},\"shapedefaults\":{\"line\":{\"color\":\"#2a3f5f\"}},\"ternary\":{\"aaxis\":{\"gridcolor\":\"white\",\"linecolor\":\"white\",\"ticks\":\"\"},\"baxis\":{\"gridcolor\":\"white\",\"linecolor\":\"white\",\"ticks\":\"\"},\"bgcolor\":\"#E5ECF6\",\"caxis\":{\"gridcolor\":\"white\",\"linecolor\":\"white\",\"ticks\":\"\"}},\"title\":{\"x\":0.05},\"xaxis\":{\"automargin\":true,\"gridcolor\":\"white\",\"linecolor\":\"white\",\"ticks\":\"\",\"title\":{\"standoff\":15},\"zerolinecolor\":\"white\",\"zerolinewidth\":2},\"yaxis\":{\"automargin\":true,\"gridcolor\":\"white\",\"linecolor\":\"white\",\"ticks\":\"\",\"title\":{\"standoff\":15},\"zerolinecolor\":\"white\",\"zerolinewidth\":2}}},\"title\":{\"text\":\"box-and-whiskers diagram without release\"},\"xaxis\":{\"title\":{\"text\":\"\\u041f\\u043b\\u0430\\u0442\\u0444\\u043e\\u0440\\u043c\\u044b\"}},\"yaxis\":{\"title\":{\"text\":\"\\u041f\\u0440\\u043e\\u0434\\u0430\\u0436\\u0438\"}}},                        {\"responsive\": true}                    ).then(function(){\n",
              "                            \n",
              "var gd = document.getElementById('5f9802b1-6b18-4209-a0ba-0e9eab4d3891');\n",
              "var x = new MutationObserver(function (mutations, observer) {{\n",
              "        var display = window.getComputedStyle(gd).display;\n",
              "        if (!display || display === 'none') {{\n",
              "            console.log([gd, 'removed!']);\n",
              "            Plotly.purge(gd);\n",
              "            observer.disconnect();\n",
              "        }}\n",
              "}});\n",
              "\n",
              "// Listen for the removal of the full notebook cells\n",
              "var notebookContainer = gd.closest('#notebook-container');\n",
              "if (notebookContainer) {{\n",
              "    x.observe(notebookContainer, {childList: true});\n",
              "}}\n",
              "\n",
              "// Listen for the clearing of the current output cell\n",
              "var outputEl = gd.closest('.output');\n",
              "if (outputEl) {{\n",
              "    x.observe(outputEl, {childList: true});\n",
              "}}\n",
              "\n",
              "                        })                };                            </script>        </div>\n",
              "</body>\n",
              "</html>"
            ]
          },
          "metadata": {}
        }
      ],
      "source": [
        "# График с выбросами \n",
        "fig = go.Figure()\n",
        "fig.add_trace(go.Box(x = df_platform_3_1['platform'], y = df_platform_3_1['sum_sales']))\n",
        "fig.update_layout(title = \"box-and-whiskers diagram with release\",\n",
        "                  xaxis_title = \"Платформы\",\n",
        "                  yaxis_title = \"Продажи\")\n",
        "fig.show()\n",
        "\n",
        "# График без выбросов\n",
        "fig = go.Figure()\n",
        "fig.add_trace(go.Box(x = df_platform_3_2['platform'], y = df_platform_3_2['sum_sales']))\n",
        "fig.update_layout(title = \"box-and-whiskers diagram without release\",\n",
        "                  xaxis_title = \"Платформы\",\n",
        "                  yaxis_title = \"Продажи\")\n",
        "fig.show()"
      ]
    },
    {
      "cell_type": "markdown",
      "metadata": {
        "id": "ZMkUi_6s2UMm"
      },
      "source": [
        "**Приличную часть занимают выбросы, поэтому построено два графика.\n",
        "Самый большой размах принадлежит платформе XOne(1.12), однако медиана находится сильно ниже(0.15). Это значит, что примерно половина продаж находится в диапазоне от 0.01 до 0.15. Если грубо взглянуть на графики, то можно сделать вывод, что медиана и большинство значений находится в диапазоне 0.01 до 0.15**"
      ]
    },
    {
      "cell_type": "markdown",
      "metadata": {
        "id": "qz3R0TCl2UMm"
      },
      "source": [
        "### Влияние на продажи внутри одной популярной платформы отзывов пользователей и критиков"
      ]
    },
    {
      "cell_type": "markdown",
      "metadata": {
        "id": "Np36b3wO2UMm"
      },
      "source": [
        "**На рассмотрение возьмем платформу PS4, так как она самая популярная за актуальный период**"
      ]
    },
    {
      "cell_type": "code",
      "execution_count": 29,
      "metadata": {
        "id": "BGNrQROf2UMn"
      },
      "outputs": [],
      "source": [
        "df_influence_PS4 = df.query('platform == \"PS4\"')"
      ]
    },
    {
      "cell_type": "code",
      "execution_count": 30,
      "metadata": {
        "colab": {
          "base_uri": "https://localhost:8080/",
          "height": 444
        },
        "id": "bzgNBX0w2UMn",
        "outputId": "5dc5489c-976d-4645-a9a8-dc03089d9ef4"
      },
      "outputs": [
        {
          "output_type": "display_data",
          "data": {
            "text/plain": [
              "<Figure size 1152x504 with 2 Axes>"
            ],
            "image/png": "[encoded data removed]"
          },
          "metadata": {
            "needs_background": "light"
          }
        }
      ],
      "source": [
        "fig, ax = plt.subplots(1,2,figsize=(16,7))\n",
        "\n",
        "ax[0].scatter(df_influence_PS4['user_score'],\n",
        "           df_influence_PS4['sum_sales'],\n",
        "           c = 'deeppink')\n",
        "ax[1].scatter(df_influence_PS4['critic_score'],\n",
        "           df_influence_PS4['sum_sales'],\n",
        "           c = 'b') \n",
        "ax[0].set_facecolor('w')\n",
        "ax[0].set_title('Зависимость продаж от оценки пользователей')\n",
        "ax[0].grid(True)\n",
        "\n",
        "ax[1].set_facecolor('w')\n",
        "ax[1].set_title('Зависимость продаж от оценки критиков')\n",
        "ax[1].grid(True)\n",
        "\n",
        "plt.show()"
      ]
    },
    {
      "cell_type": "markdown",
      "metadata": {
        "id": "4zJ9nwH52UMo"
      },
      "source": [
        "**Расчет коэффициента корреляции**"
      ]
    },
    {
      "cell_type": "code",
      "execution_count": 31,
      "metadata": {
        "scrolled": false,
        "colab": {
          "base_uri": "https://localhost:8080/"
        },
        "id": "OckxfP_Z2UMo",
        "outputId": "3b8c2c05-b58b-4d58-f0fc-bf3cdbf32756"
      },
      "outputs": [
        {
          "output_type": "stream",
          "name": "stdout",
          "text": [
            "0.406567902061781\n",
            "-0.031957110204556424\n"
          ]
        }
      ],
      "source": [
        "print(df_influence_PS4['sum_sales'].corr(df_influence_PS4['critic_score']))\n",
        "print(df_influence_PS4['sum_sales'].corr(df_influence_PS4['user_score']))"
      ]
    },
    {
      "cell_type": "markdown",
      "metadata": {
        "id": "IFaHY58M2UMo"
      },
      "source": [
        "**Между продажами и оценками критиков зависимость прямая слабая, а между продажами и оценками пользователей зависимости не наблюдается вообще  \n",
        "В столбцах с рейтингом очень много пропусков, поэтому такая оценка может быть неточной. Стоит заметить, что чем выше оценка, тем больше продажи. А игры с самыми высокими продажами находятся только в диапазоне высоких рейтингов критиков**"
      ]
    },
    {
      "cell_type": "markdown",
      "metadata": {
        "id": "cO_6I6Xl2UMp"
      },
      "source": [
        "**Рассмотрим ближайших конкурентов**\n",
        "- XOne\n",
        "- 3DS"
      ]
    },
    {
      "cell_type": "code",
      "execution_count": 32,
      "metadata": {
        "id": "Y4ccUrJe2UMp"
      },
      "outputs": [],
      "source": [
        "df_influence_XOne = df.query('platform == \"XOne\"')\n",
        "df_influence_3DS = df.query('platform == \"3DS\"')"
      ]
    },
    {
      "cell_type": "code",
      "execution_count": 33,
      "metadata": {
        "scrolled": false,
        "colab": {
          "base_uri": "https://localhost:8080/",
          "height": 444
        },
        "id": "fHVysYxq2UMp",
        "outputId": "c9e172eb-6aba-4bad-a9af-fdae40fe6b60"
      },
      "outputs": [
        {
          "output_type": "display_data",
          "data": {
            "text/plain": [
              "<Figure size 1152x504 with 2 Axes>"
            ],
            "image/png": "[encoded data removed]"
          },
          "metadata": {
            "needs_background": "light"
          }
        }
      ],
      "source": [
        "fig, ax = plt.subplots(1,2,figsize=(16,7))\n",
        "\n",
        "ax[0].scatter(df_influence_XOne['user_score'],\n",
        "           df_influence_XOne['sum_sales'],\n",
        "           c = 'deeppink')\n",
        "ax[1].scatter(df_influence_XOne['critic_score'],\n",
        "           df_influence_XOne['sum_sales'],\n",
        "           c = 'b')\n",
        "\n",
        "ax[0].set_facecolor('w')\n",
        "ax[0].set_title('Зависимость продаж от оценки пользователей')\n",
        "ax[0].grid(True)\n",
        "\n",
        "ax[1].set_facecolor('w')\n",
        "ax[1].set_title('Зависимость продаж от оценки критиков')\n",
        "ax[1].grid(True)\n",
        "\n",
        "plt.show()"
      ]
    },
    {
      "cell_type": "code",
      "execution_count": 34,
      "metadata": {
        "colab": {
          "base_uri": "https://localhost:8080/",
          "height": 444
        },
        "id": "dg5nszTS2UMp",
        "outputId": "97a7563a-3701-4ad7-fedc-b3869c85cc19"
      },
      "outputs": [
        {
          "output_type": "display_data",
          "data": {
            "text/plain": [
              "<Figure size 1152x504 with 2 Axes>"
            ],
            "image/png": "[encoded data removed]"
          },
          "metadata": {
            "needs_background": "light"
          }
        }
      ],
      "source": [
        "fig, ax = plt.subplots(1,2,figsize=(16,7))\n",
        "\n",
        "ax[0].scatter(df_influence_3DS['user_score'],\n",
        "           df_influence_3DS['sum_sales'],\n",
        "           c = 'deeppink')\n",
        "ax[1].scatter(df_influence_3DS['critic_score'],\n",
        "           df_influence_3DS['sum_sales'],\n",
        "           c = 'b')\n",
        "ax[0].set_facecolor('w')\n",
        "ax[0].set_title('Зависимость продаж от оценки пользователей')\n",
        "ax[0].grid(True)\n",
        "\n",
        "ax[1].set_facecolor('w')\n",
        "ax[1].set_title('Зависимость продаж от оценки критиков')\n",
        "ax[1].grid(True)\n",
        "\n",
        "plt.show()"
      ]
    },
    {
      "cell_type": "markdown",
      "metadata": {
        "id": "0Kfk6n9x2UMq"
      },
      "source": [
        "**Расчет коэффициента корреляции**"
      ]
    },
    {
      "cell_type": "code",
      "execution_count": 35,
      "metadata": {
        "scrolled": true,
        "colab": {
          "base_uri": "https://localhost:8080/"
        },
        "id": "znbSunjp2UMq",
        "outputId": "99332046-61ca-408a-beb0-1828f3090f13"
      },
      "outputs": [
        {
          "output_type": "stream",
          "name": "stdout",
          "text": [
            "Коэффициент корреляции для платформы XOne\n",
            "0.41699832800840175\n",
            "-0.06892505328279412\n",
            "\n",
            "\n",
            "Коэффициент корреляции для платформы 3DS\n",
            "0.34873973059848346\n",
            "0.22207843643390884\n"
          ]
        }
      ],
      "source": [
        "print('Коэффициент корреляции для платформы XOne')\n",
        "print(df_influence_XOne['sum_sales'].corr(df_influence_XOne['critic_score']))\n",
        "print(df_influence_XOne['sum_sales'].corr(df_influence_XOne['user_score']))\n",
        "\n",
        "print('\\n')\n",
        "\n",
        "print('Коэффициент корреляции для платформы 3DS')\n",
        "print(df_influence_3DS['sum_sales'].corr(df_influence_3DS['critic_score']))\n",
        "print(df_influence_3DS['sum_sales'].corr(df_influence_3DS['user_score']))"
      ]
    },
    {
      "cell_type": "markdown",
      "metadata": {
        "id": "MYls0rR02UMq"
      },
      "source": [
        "**В целом, у конкурентов ситуация идентичная.  \n",
        "Слабая прямая зависимость продаж от оценки критинков и непрослеживающаяся зависимость от оценки пользователей**"
      ]
    },
    {
      "cell_type": "markdown",
      "metadata": {
        "id": "YHFvlVBd2UMr"
      },
      "source": [
        "### Распределение игр по жанрам"
      ]
    },
    {
      "cell_type": "code",
      "execution_count": 36,
      "metadata": {
        "scrolled": false,
        "colab": {
          "base_uri": "https://localhost:8080/",
          "height": 1000
        },
        "id": "3jC7Pq722UMr",
        "outputId": "6f9d1464-d3fa-4ef4-c02b-b3953cc8f41f"
      },
      "outputs": [
        {
          "output_type": "display_data",
          "data": {
            "text/html": [
              "<html>\n",
              "<head><meta charset=\"utf-8\" /></head>\n",
              "<body>\n",
              "    <div>            <script src=\"https://cdnjs.cloudflare.com/ajax/libs/mathjax/2.7.5/MathJax.js?config=TeX-AMS-MML_SVG\"></script><script type=\"text/javascript\">if (window.MathJax) {MathJax.Hub.Config({SVG: {font: \"STIX-Web\"}});}</script>                <script type=\"text/javascript\">window.PlotlyConfig = {MathJaxConfig: 'local'};</script>\n",
              "        <script src=\"https://cdn.plot.ly/plotly-2.8.3.min.js\"></script>                <div id=\"da5e23bd-686a-42d2-a68e-50af4512c4c8\" class=\"plotly-graph-div\" style=\"height:525px; width:100%;\"></div>            <script type=\"text/javascript\">                                    window.PLOTLYENV=window.PLOTLYENV || {};                                    if (document.getElementById(\"da5e23bd-686a-42d2-a68e-50af4512c4c8\")) {                    Plotly.newPlot(                        \"da5e23bd-686a-42d2-a68e-50af4512c4c8\",                        [{\"x\":[\"Shooter\",\"Action\",\"Role-Playing\",\"Sports\",\"Shooter\",\"Shooter\",\"Sports\",\"Fighting\",\"Shooter\",\"Role-Playing\",\"Role-Playing\",\"Racing\",\"Sports\",\"Shooter\",\"Action\",\"Shooter\",\"Shooter\",\"Misc\",\"Fighting\",\"Action\",\"Action\",\"Shooter\",\"Shooter\",\"Shooter\",\"Shooter\",\"Misc\",\"Shooter\",\"Sports\",\"Role-Playing\",\"Shooter\",\"Action\",\"Shooter\",\"Role-Playing\",\"Action\",\"Action\",\"Role-Playing\",\"Sports\",\"Shooter\",\"Shooter\",\"Action\",\"Action\",\"Action\",\"Shooter\",\"Action\",\"Role-Playing\",\"Shooter\",\"Sports\",\"Sports\",\"Shooter\",\"Platform\",\"Simulation\",\"Simulation\",\"Action\",\"Shooter\",\"Sports\",\"Action\",\"Fighting\",\"Misc\",\"Sports\",\"Role-Playing\",\"Sports\",\"Action\",\"Sports\",\"Racing\",\"Shooter\",\"Sports\",\"Action\",\"Sports\",\"Action\",\"Action\",\"Shooter\",\"Shooter\",\"Sports\",\"Sports\",\"Shooter\",\"Shooter\",\"Shooter\",\"Action\",\"Racing\",\"Sports\",\"Misc\",\"Role-Playing\",\"Misc\",\"Shooter\",\"Shooter\",\"Platform\",\"Sports\",\"Action\",\"Platform\",\"Role-Playing\",\"Action\",\"Racing\",\"Action\",\"Sports\",\"Role-Playing\",\"Action\",\"Shooter\",\"Racing\",\"Sports\",\"Shooter\",\"Action\",\"Shooter\",\"Role-Playing\",\"Adventure\",\"Role-Playing\",\"Shooter\",\"Sports\",\"Shooter\",\"Misc\",\"Action\",\"Sports\",\"Sports\",\"Shooter\",\"Platform\",\"Platform\",\"Action\",\"Shooter\",\"Sports\",\"Action\",\"Racing\",\"Platform\",\"Fighting\",\"Adventure\",\"Shooter\",\"Action\",\"Shooter\",\"Shooter\",\"Sports\",\"Action\",\"Role-Playing\",\"Role-Playing\",\"Platform\",\"Action\",\"Shooter\",\"Action\",\"Role-Playing\",\"Action\",\"Role-Playing\",\"Action\",\"Role-Playing\",\"Action\",\"Action\",\"Role-Playing\",\"Sports\",\"Role-Playing\",\"Action\",\"Sports\",\"Shooter\",\"Simulation\",\"Puzzle\",\"Shooter\",\"Action\",\"Action\",\"Sports\",\"Shooter\",\"Fighting\",\"Action\",\"Shooter\",\"Action\",\"Fighting\",\"Racing\",\"Racing\",\"Action\",\"Shooter\",\"Shooter\",\"Sports\",\"Action\",\"Sports\",\"Action\",\"Platform\",\"Fighting\",\"Role-Playing\",\"Sports\",\"Shooter\",\"Action\",\"Misc\",\"Action\",\"Sports\",\"Adventure\",\"Sports\",\"Role-Playing\",\"Action\",\"Action\",\"Action\",\"Sports\",\"Role-Playing\",\"Role-Playing\",\"Fighting\",\"Action\",\"Shooter\",\"Action\",\"Role-Playing\",\"Action\",\"Action\",\"Action\",\"Adventure\",\"Action\",\"Shooter\",\"Action\",\"Action\",\"Role-Playing\",\"Misc\",\"Action\",\"Role-Playing\",\"Action\",\"Action\",\"Role-Playing\",\"Sports\",\"Misc\",\"Racing\",\"Sports\",\"Sports\",\"Action\",\"Shooter\",\"Role-Playing\",\"Misc\",\"Shooter\",\"Action\",\"Sports\",\"Role-Playing\",\"Misc\",\"Role-Playing\",\"Role-Playing\",\"Action\",\"Role-Playing\",\"Action\",\"Sports\",\"Sports\",\"Role-Playing\",\"Action\",\"Misc\",\"Action\",\"Role-Playing\",\"Sports\",\"Shooter\",\"Action\",\"Role-Playing\",\"Action\",\"Action\",\"Action\",\"Adventure\",\"Adventure\",\"Action\",\"Racing\",\"Shooter\",\"Misc\",\"Shooter\",\"Shooter\",\"Action\",\"Action\",\"Action\",\"Racing\",\"Role-Playing\",\"Action\",\"Shooter\",\"Action\",\"Role-Playing\",\"Action\",\"Simulation\",\"Action\",\"Shooter\",\"Action\",\"Action\",\"Sports\",\"Action\",\"Racing\",\"Shooter\",\"Platform\",\"Role-Playing\",\"Shooter\",\"Misc\",\"Sports\",\"Action\",\"Action\",\"Action\",\"Sports\",\"Shooter\",\"Shooter\",\"Action\",\"Role-Playing\",\"Misc\",\"Sports\",\"Action\",\"Sports\",\"Sports\",\"Role-Playing\",\"Sports\",\"Sports\",\"Action\",\"Sports\",\"Shooter\",\"Sports\",\"Misc\",\"Role-Playing\",\"Role-Playing\",\"Shooter\",\"Adventure\",\"Action\",\"Action\",\"Action\",\"Sports\",\"Misc\",\"Action\",\"Action\",\"Action\",\"Action\",\"Shooter\",\"Role-Playing\",\"Action\",\"Misc\",\"Action\",\"Shooter\",\"Action\",\"Strategy\",\"Action\",\"Role-Playing\",\"Action\",\"Action\",\"Role-Playing\",\"Platform\",\"Shooter\",\"Sports\",\"Action\",\"Shooter\",\"Action\",\"Misc\",\"Role-Playing\",\"Puzzle\",\"Action\",\"Action\",\"Shooter\",\"Sports\",\"Fighting\",\"Sports\",\"Misc\",\"Action\",\"Sports\",\"Action\",\"Simulation\",\"Action\",\"Action\",\"Adventure\",\"Action\",\"Action\",\"Sports\",\"Action\",\"Sports\",\"Action\",\"Action\",\"Sports\",\"Action\",\"Shooter\",\"Action\",\"Sports\",\"Shooter\",\"Action\",\"Action\",\"Role-Playing\",\"Shooter\",\"Action\",\"Action\",\"Fighting\",\"Action\",\"Sports\",\"Sports\",\"Action\",\"Sports\",\"Action\",\"Racing\",\"Simulation\",\"Role-Playing\",\"Misc\",\"Sports\",\"Simulation\",\"Shooter\",\"Action\",\"Sports\",\"Shooter\",\"Racing\",\"Role-Playing\",\"Shooter\",\"Misc\",\"Role-Playing\",\"Role-Playing\",\"Adventure\",\"Sports\",\"Action\",\"Action\",\"Action\",\"Role-Playing\",\"Adventure\",\"Sports\",\"Racing\",\"Misc\",\"Misc\",\"Shooter\",\"Shooter\",\"Role-Playing\",\"Sports\",\"Fighting\",\"Sports\",\"Action\",\"Simulation\",\"Role-Playing\",\"Shooter\",\"Misc\",\"Sports\",\"Shooter\",\"Action\",\"Racing\",\"Action\",\"Strategy\",\"Sports\",\"Shooter\",\"Role-Playing\",\"Misc\",\"Role-Playing\",\"Action\",\"Action\",\"Simulation\",\"Action\",\"Simulation\",\"Shooter\",\"Fighting\",\"Simulation\",\"Shooter\",\"Action\",\"Platform\",\"Shooter\",\"Action\",\"Action\",\"Platform\",\"Action\",\"Fighting\",\"Action\",\"Role-Playing\",\"Sports\",\"Role-Playing\",\"Fighting\",\"Shooter\",\"Misc\",\"Misc\",\"Fighting\",\"Strategy\",\"Misc\",\"Role-Playing\",\"Misc\",\"Misc\",\"Action\",\"Adventure\",\"Action\",\"Fighting\",\"Action\",\"Action\",\"Action\",\"Simulation\",\"Action\",\"Fighting\",\"Action\",\"Misc\",\"Fighting\",\"Action\",\"Shooter\",\"Action\",\"Action\",\"Role-Playing\",\"Role-Playing\",\"Action\",\"Action\",\"Action\",\"Sports\",\"Action\",\"Shooter\",\"Action\",\"Action\",\"Role-Playing\",\"Action\",\"Shooter\",\"Sports\",\"Role-Playing\",\"Action\",\"Shooter\",\"Shooter\",\"Shooter\",\"Action\",\"Action\",\"Action\",\"Action\",\"Action\",\"Adventure\",\"Action\",\"Misc\",\"Adventure\",\"Action\",\"Action\",\"Action\",\"Action\",\"Action\",\"Action\",\"Platform\",\"Fighting\",\"Shooter\",\"Sports\",\"Racing\",\"Action\",\"Action\",\"Action\",\"Shooter\",\"Action\",\"Role-Playing\",\"Adventure\",\"Misc\",\"Role-Playing\",\"Misc\",\"Strategy\",\"Misc\",\"Role-Playing\",\"Action\",\"Adventure\",\"Strategy\",\"Adventure\",\"Role-Playing\",\"Racing\",\"Role-Playing\",\"Racing\",\"Action\",\"Action\",\"Action\",\"Platform\",\"Strategy\",\"Sports\",\"Action\",\"Fighting\",\"Shooter\",\"Role-Playing\",\"Sports\",\"Action\",\"Action\",\"Action\",\"Sports\",\"Action\",\"Strategy\",\"Shooter\",\"Action\",\"Role-Playing\",\"Action\",\"Role-Playing\",\"Misc\",\"Role-Playing\",\"Racing\",\"Action\",\"Action\",\"Action\",\"Action\",\"Action\",\"Racing\",\"Simulation\",\"Action\",\"Role-Playing\",\"Action\",\"Action\",\"Fighting\",\"Racing\",\"Shooter\",\"Action\",\"Strategy\",\"Action\",\"Role-Playing\",\"Action\",\"Role-Playing\",\"Action\",\"Adventure\",\"Strategy\",\"Sports\",\"Fighting\",\"Platform\",\"Sports\",\"Action\",\"Action\",\"Action\",\"Role-Playing\",\"Shooter\",\"Simulation\",\"Sports\",\"Adventure\",\"Action\",\"Action\",\"Role-Playing\",\"Action\",\"Action\",\"Simulation\",\"Action\",\"Action\",\"Role-Playing\",\"Role-Playing\",\"Action\",\"Action\",\"Action\",\"Misc\",\"Action\",\"Misc\",\"Action\",\"Role-Playing\",\"Action\",\"Shooter\",\"Action\",\"Adventure\",\"Role-Playing\",\"Role-Playing\",\"Misc\",\"Role-Playing\",\"Misc\",\"Role-Playing\",\"Action\",\"Fighting\",\"Adventure\",\"Misc\",\"Misc\",\"Sports\",\"Action\",\"Role-Playing\",\"Fighting\",\"Adventure\",\"Racing\",\"Platform\",\"Action\",\"Racing\",\"Shooter\",\"Action\",\"Adventure\",\"Sports\",\"Role-Playing\",\"Misc\",\"Action\",\"Racing\",\"Action\",\"Sports\",\"Sports\",\"Misc\",\"Role-Playing\",\"Role-Playing\",\"Role-Playing\",\"Action\",\"Action\",\"Adventure\",\"Action\",\"Role-Playing\",\"Racing\",\"Sports\",\"Action\",\"Sports\",\"Role-Playing\",\"Action\",\"Fighting\",\"Platform\",\"Simulation\",\"Action\",\"Action\",\"Racing\",\"Fighting\",\"Adventure\",\"Shooter\",\"Adventure\",\"Role-Playing\",\"Action\",\"Role-Playing\",\"Simulation\",\"Misc\",\"Action\",\"Misc\",\"Role-Playing\",\"Action\",\"Role-Playing\",\"Action\",\"Action\",\"Role-Playing\",\"Action\",\"Action\",\"Action\",\"Shooter\",\"Fighting\",\"Role-Playing\",\"Action\",\"Action\",\"Role-Playing\",\"Action\",\"Action\",\"Action\",\"Action\",\"Sports\",\"Action\",\"Sports\",\"Shooter\",\"Action\",\"Action\",\"Action\",\"Platform\",\"Strategy\",\"Sports\",\"Sports\",\"Simulation\",\"Platform\",\"Sports\",\"Adventure\",\"Action\",\"Role-Playing\",\"Shooter\",\"Sports\",\"Action\",\"Platform\",\"Action\",\"Action\",\"Action\",\"Shooter\",\"Adventure\",\"Action\",\"Role-Playing\",\"Fighting\",\"Shooter\",\"Action\",\"Action\",\"Action\",\"Adventure\",\"Adventure\",\"Action\",\"Action\",\"Fighting\",\"Strategy\",\"Misc\",\"Misc\",\"Action\",\"Sports\",\"Action\",\"Action\",\"Action\",\"Action\",\"Action\",\"Fighting\",\"Role-Playing\",\"Adventure\",\"Sports\",\"Racing\",\"Action\",\"Action\",\"Racing\",\"Racing\",\"Misc\",\"Role-Playing\",\"Action\",\"Action\",\"Action\",\"Sports\",\"Role-Playing\",\"Role-Playing\",\"Action\",\"Adventure\",\"Misc\",\"Shooter\",\"Action\",\"Simulation\",\"Action\",\"Role-Playing\",\"Role-Playing\",\"Sports\",\"Action\",\"Adventure\",\"Sports\",\"Action\",\"Fighting\",\"Action\",\"Role-Playing\",\"Sports\",\"Action\",\"Misc\",\"Simulation\",\"Sports\",\"Sports\",\"Sports\",\"Action\",\"Sports\",\"Misc\",\"Action\",\"Role-Playing\",\"Action\",\"Puzzle\",\"Action\",\"Action\",\"Action\",\"Action\",\"Racing\",\"Action\",\"Action\",\"Action\",\"Role-Playing\",\"Misc\",\"Action\",\"Action\",\"Adventure\",\"Role-Playing\",\"Action\",\"Puzzle\",\"Action\",\"Sports\",\"Shooter\",\"Role-Playing\",\"Racing\",\"Sports\",\"Sports\",\"Role-Playing\",\"Sports\",\"Fighting\",\"Adventure\",\"Platform\",\"Action\",\"Action\",\"Action\",\"Action\",\"Role-Playing\",\"Role-Playing\",\"Role-Playing\",\"Role-Playing\",\"Racing\",\"Adventure\",\"Simulation\",\"Action\",\"Action\",\"Action\",\"Action\",\"Role-Playing\",\"Action\",\"Sports\",\"Adventure\",\"Fighting\",\"Shooter\",\"Adventure\",\"Action\",\"Adventure\",\"Adventure\",\"Role-Playing\",\"Sports\",\"Racing\",\"Simulation\",\"Platform\",\"Role-Playing\",\"Action\",\"Role-Playing\",\"Action\",\"Role-Playing\",\"Action\",\"Sports\",\"Action\",\"Platform\",\"Action\",\"Fighting\",\"Misc\",\"Adventure\",\"Action\",\"Misc\",\"Action\",\"Role-Playing\",\"Action\",\"Action\",\"Action\",\"Action\",\"Adventure\",\"Adventure\",\"Simulation\",\"Racing\",\"Misc\",\"Fighting\",\"Platform\",\"Action\",\"Action\",\"Adventure\",\"Action\",\"Sports\",\"Racing\",\"Platform\",\"Platform\",\"Action\",\"Sports\",\"Action\",\"Strategy\",\"Action\",\"Racing\",\"Action\",\"Action\",\"Action\",\"Sports\",\"Role-Playing\",\"Fighting\",\"Action\",\"Adventure\",\"Sports\",\"Role-Playing\",\"Action\",\"Misc\",\"Action\",\"Action\",\"Strategy\",\"Action\",\"Action\",\"Strategy\",\"Fighting\",\"Adventure\",\"Adventure\",\"Action\",\"Sports\",\"Action\",\"Racing\",\"Platform\",\"Action\",\"Shooter\",\"Fighting\",\"Platform\",\"Action\",\"Role-Playing\",\"Action\",\"Shooter\",\"Fighting\",\"Action\",\"Sports\",\"Adventure\",\"Adventure\",\"Sports\",\"Role-Playing\",\"Shooter\",\"Action\",\"Action\",\"Role-Playing\",\"Action\",\"Action\",\"Action\",\"Action\",\"Action\",\"Racing\",\"Action\",\"Role-Playing\",\"Misc\",\"Adventure\",\"Action\",\"Adventure\",\"Role-Playing\",\"Misc\",\"Role-Playing\",\"Strategy\",\"Role-Playing\",\"Fighting\",\"Role-Playing\",\"Role-Playing\",\"Action\",\"Role-Playing\",\"Adventure\",\"Action\",\"Role-Playing\",\"Role-Playing\",\"Action\",\"Action\",\"Role-Playing\",\"Action\",\"Role-Playing\",\"Role-Playing\",\"Adventure\",\"Puzzle\",\"Action\",\"Misc\",\"Sports\",\"Misc\",\"Fighting\",\"Role-Playing\",\"Action\",\"Action\",\"Fighting\",\"Action\",\"Action\",\"Adventure\",\"Sports\",\"Action\",\"Adventure\",\"Action\",\"Action\",\"Role-Playing\",\"Role-Playing\",\"Adventure\",\"Fighting\",\"Action\",\"Action\",\"Adventure\",\"Strategy\",\"Action\",\"Adventure\",\"Action\",\"Role-Playing\",\"Misc\",\"Adventure\",\"Role-Playing\",\"Misc\",\"Action\",\"Action\",\"Action\",\"Action\",\"Puzzle\",\"Misc\",\"Platform\",\"Misc\",\"Action\",\"Role-Playing\",\"Action\",\"Racing\",\"Fighting\",\"Action\",\"Sports\",\"Adventure\",\"Action\",\"Action\",\"Action\",\"Action\",\"Action\",\"Action\",\"Simulation\",\"Action\",\"Adventure\",\"Racing\",\"Role-Playing\",\"Role-Playing\",\"Action\",\"Shooter\",\"Role-Playing\",\"Action\",\"Action\",\"Strategy\",\"Action\",\"Action\",\"Role-Playing\",\"Role-Playing\",\"Action\",\"Fighting\",\"Role-Playing\",\"Role-Playing\",\"Action\",\"Sports\",\"Strategy\",\"Action\",\"Adventure\",\"Adventure\",\"Role-Playing\",\"Role-Playing\",\"Racing\",\"Action\",\"Adventure\",\"Fighting\",\"Action\",\"Role-Playing\",\"Role-Playing\",\"Action\",\"Fighting\",\"Action\",\"Action\",\"Sports\",\"Simulation\",\"Sports\",\"Action\",\"Sports\",\"Role-Playing\",\"Misc\",\"Role-Playing\",\"Sports\",\"Action\",\"Strategy\",\"Sports\",\"Misc\",\"Misc\",\"Action\",\"Adventure\",\"Strategy\",\"Shooter\",\"Action\",\"Action\",\"Action\",\"Action\",\"Action\",\"Adventure\",\"Action\",\"Adventure\",\"Role-Playing\",\"Racing\",\"Role-Playing\",\"Role-Playing\",\"Strategy\",\"Platform\",\"Sports\",\"Racing\",\"Role-Playing\",\"Action\",\"Sports\",\"Racing\",\"Action\",\"Action\",\"Adventure\",\"Shooter\",\"Action\",\"Fighting\",\"Adventure\",\"Action\",\"Role-Playing\",\"Role-Playing\",\"Adventure\",\"Action\",\"Misc\",\"Action\",\"Sports\",\"Action\",\"Role-Playing\",\"Adventure\",\"Racing\",\"Action\",\"Action\",\"Adventure\",\"Role-Playing\",\"Action\",\"Role-Playing\",\"Action\",\"Misc\",\"Shooter\",\"Strategy\",\"Action\",\"Shooter\",\"Racing\",\"Role-Playing\",\"Action\",\"Adventure\",\"Racing\",\"Adventure\",\"Action\",\"Sports\",\"Role-Playing\",\"Puzzle\",\"Strategy\",\"Action\",\"Role-Playing\",\"Action\",\"Adventure\",\"Role-Playing\",\"Misc\",\"Racing\",\"Action\",\"Adventure\",\"Adventure\",\"Shooter\",\"Action\",\"Role-Playing\",\"Racing\",\"Action\",\"Action\",\"Adventure\",\"Action\",\"Action\",\"Misc\",\"Action\",\"Sports\",\"Action\",\"Puzzle\",\"Action\",\"Action\",\"Shooter\",\"Platform\",\"Action\",\"Strategy\",\"Action\",\"Adventure\",\"Fighting\",\"Role-Playing\",\"Adventure\",\"Action\",\"Action\",\"Fighting\",\"Adventure\",\"Fighting\",\"Action\",\"Action\",\"Action\",\"Strategy\",\"Misc\",\"Sports\",\"Action\",\"Strategy\",\"Shooter\",\"Adventure\",\"Action\",\"Action\",\"Adventure\",\"Adventure\",\"Action\",\"Action\",\"Action\",\"Misc\",\"Simulation\",\"Adventure\",\"Role-Playing\",\"Role-Playing\",\"Platform\",\"Adventure\",\"Action\",\"Action\",\"Action\",\"Sports\",\"Action\",\"Action\",\"Misc\",\"Simulation\",\"Adventure\",\"Action\",\"Racing\",\"Role-Playing\",\"Action\",\"Role-Playing\",\"Role-Playing\",\"Action\",\"Role-Playing\",\"Racing\",\"Role-Playing\",\"Strategy\",\"Misc\",\"Simulation\",\"Shooter\",\"Misc\",\"Misc\",\"Role-Playing\",\"Sports\",\"Action\",\"Misc\",\"Action\",\"Action\",\"Role-Playing\",\"Simulation\",\"Action\",\"Sports\",\"Sports\",\"Action\",\"Action\",\"Action\",\"Sports\",\"Action\",\"Racing\",\"Fighting\",\"Shooter\",\"Puzzle\",\"Role-Playing\",\"Role-Playing\",\"Action\",\"Action\",\"Action\",\"Fighting\",\"Action\",\"Role-Playing\",\"Role-Playing\",\"Misc\",\"Misc\",\"Action\",\"Role-Playing\",\"Role-Playing\",\"Role-Playing\",\"Role-Playing\",\"Role-Playing\",\"Sports\",\"Racing\",\"Role-Playing\",\"Misc\",\"Adventure\",\"Adventure\",\"Action\",\"Action\",\"Action\",\"Role-Playing\",\"Platform\",\"Action\",\"Racing\",\"Racing\",\"Action\",\"Action\",\"Role-Playing\",\"Action\",\"Fighting\",\"Sports\",\"Shooter\",\"Sports\",\"Adventure\",\"Action\",\"Adventure\",\"Action\",\"Adventure\",\"Sports\",\"Adventure\",\"Role-Playing\",\"Action\",\"Racing\",\"Sports\",\"Action\",\"Action\",\"Adventure\",\"Action\",\"Misc\",\"Adventure\",\"Action\",\"Sports\",\"Action\",\"Action\",\"Role-Playing\",\"Racing\",\"Action\",\"Role-Playing\",\"Action\",\"Action\",\"Role-Playing\",\"Strategy\",\"Action\",\"Adventure\",\"Action\",\"Role-Playing\",\"Role-Playing\",\"Misc\",\"Adventure\",\"Adventure\",\"Action\",\"Sports\",\"Action\",\"Role-Playing\",\"Adventure\",\"Platform\",\"Adventure\",\"Action\",\"Role-Playing\",\"Puzzle\",\"Action\",\"Action\",\"Racing\",\"Adventure\",\"Simulation\",\"Adventure\",\"Shooter\",\"Adventure\",\"Role-Playing\",\"Role-Playing\",\"Racing\",\"Action\",\"Adventure\",\"Simulation\",\"Misc\",\"Action\",\"Adventure\",\"Adventure\",\"Action\",\"Sports\",\"Sports\",\"Adventure\",\"Role-Playing\",\"Action\",\"Action\",\"Simulation\",\"Misc\",\"Fighting\",\"Strategy\",\"Misc\",\"Action\",\"Action\",\"Action\",\"Simulation\",\"Adventure\",\"Misc\",\"Misc\",\"Adventure\",\"Action\",\"Action\",\"Shooter\",\"Role-Playing\",\"Role-Playing\",\"Racing\",\"Role-Playing\",\"Fighting\",\"Adventure\",\"Action\",\"Shooter\",\"Action\",\"Action\",\"Adventure\",\"Action\",\"Role-Playing\",\"Action\",\"Action\",\"Action\",\"Misc\",\"Action\",\"Action\",\"Action\",\"Action\",\"Adventure\",\"Action\",\"Action\",\"Fighting\",\"Sports\",\"Action\",\"Action\",\"Adventure\",\"Action\",\"Misc\",\"Adventure\",\"Action\",\"Role-Playing\",\"Adventure\",\"Action\",\"Sports\",\"Action\",\"Action\",\"Misc\",\"Sports\",\"Role-Playing\",\"Shooter\",\"Shooter\",\"Simulation\",\"Adventure\",\"Adventure\",\"Action\",\"Adventure\",\"Action\",\"Shooter\",\"Misc\",\"Action\",\"Adventure\",\"Action\",\"Misc\",\"Adventure\",\"Role-Playing\",\"Sports\",\"Role-Playing\",\"Adventure\",\"Misc\",\"Adventure\",\"Action\",\"Misc\",\"Action\",\"Strategy\",\"Shooter\",\"Simulation\",\"Action\",\"Action\",\"Adventure\",\"Action\",\"Action\",\"Adventure\",\"Action\",\"Adventure\",\"Action\",\"Strategy\",\"Action\",\"Action\",\"Action\",\"Action\",\"Action\",\"Adventure\",\"Action\",\"Adventure\",\"Action\",\"Action\",\"Platform\",\"Action\",\"Simulation\",\"Action\",\"Misc\",\"Action\",\"Misc\",\"Action\",\"Action\",\"Action\",\"Action\",\"Action\",\"Misc\",\"Adventure\",\"Action\",\"Misc\",\"Action\",\"Role-Playing\",\"Adventure\",\"Adventure\",\"Adventure\",\"Action\",\"Adventure\",\"Adventure\",\"Misc\",\"Action\",\"Adventure\",\"Adventure\",\"Action\",\"Action\",\"Action\",\"Fighting\",\"Action\",\"Adventure\",\"Action\",\"Action\",\"Sports\",\"Adventure\",\"Shooter\",\"Adventure\",\"Role-Playing\",\"Adventure\",\"Adventure\",\"Misc\",\"Adventure\",\"Action\",\"Action\",\"Action\",\"Puzzle\",\"Action\",\"Adventure\",\"Role-Playing\",\"Adventure\",\"Action\",\"Action\",\"Action\",\"Adventure\",\"Adventure\",\"Action\",\"Simulation\",\"Adventure\",\"Sports\",\"Action\",\"Misc\",\"Action\",\"Action\",\"Action\",\"Adventure\",\"Action\",\"Sports\",\"Strategy\",\"Action\",\"Action\",\"Adventure\",\"Action\",\"Racing\",\"Action\",\"Misc\",\"Adventure\",\"Platform\",\"Action\",\"Racing\",\"Action\",\"Simulation\",\"Sports\",\"Sports\",\"Adventure\",\"Shooter\",\"Strategy\",\"Action\",\"Sports\",\"Action\",\"Action\",\"Sports\",\"Action\",\"Role-Playing\",\"Adventure\",\"Strategy\",\"Action\",\"Adventure\",\"Misc\",\"Action\",\"Adventure\",\"Action\",\"Role-Playing\",\"Adventure\",\"Action\",\"Adventure\",\"Action\",\"Action\",\"Misc\",\"Simulation\",\"Sports\",\"Action\",\"Adventure\",\"Platform\",\"Action\",\"Adventure\",\"Action\",\"Adventure\",\"Adventure\",\"Adventure\",\"Adventure\",\"Action\",\"Action\",\"Action\",\"Action\",\"Adventure\",\"Action\",\"Racing\",\"Action\",\"Strategy\",\"Action\",\"Puzzle\",\"Action\",\"Platform\",\"Action\",\"Fighting\",\"Adventure\",\"Adventure\",\"Role-Playing\",\"Action\",\"Simulation\",\"Adventure\",\"Action\",\"Adventure\",\"Action\",\"Adventure\",\"Puzzle\",\"Simulation\",\"Sports\",\"Adventure\",\"Strategy\",\"Action\",\"Action\",\"Action\",\"Action\",\"Adventure\",\"Action\",\"Action\",\"Racing\",\"Action\",\"Fighting\",\"Adventure\",\"Adventure\",\"Action\",\"Adventure\",\"Racing\",\"Racing\",\"Misc\",\"Adventure\",\"Sports\",\"Adventure\",\"Role-Playing\",\"Action\",\"Action\",\"Adventure\",\"Adventure\",\"Action\",\"Racing\",\"Adventure\",\"Simulation\",\"Action\",\"Action\",\"Misc\",\"Action\",\"Action\",\"Adventure\",\"Simulation\",\"Action\",\"Action\",\"Misc\",\"Action\",\"Puzzle\",\"Adventure\",\"Misc\",\"Adventure\",\"Misc\",\"Strategy\",\"Adventure\",\"Action\",\"Racing\",\"Action\",\"Sports\",\"Sports\",\"Action\",\"Action\",\"Action\",\"Adventure\",\"Action\",\"Action\",\"Adventure\",\"Action\",\"Action\",\"Action\",\"Action\",\"Action\",\"Adventure\",\"Action\",\"Action\",\"Action\",\"Adventure\",\"Misc\",\"Action\",\"Adventure\",\"Simulation\"],\"y\":[14.629999999999999,12.620000000000001,11.68,8.58,7.98,7.66,7.6000000000000005,7.550000000000001,7.389999999999999,7.17,7.14,7.09,6.08,5.640000000000001,5.47,5.39,5.26,5.2700000000000005,4.87,4.72,4.62,4.49,4.470000000000001,4.4399999999999995,4.36,4.32,4.28,4.28,4.22,4.07,4.05,4.04,3.9699999999999998,3.96,3.96,3.89,3.87,3.8,3.66,3.5,3.4200000000000004,3.3899999999999997,3.37,3.32,3.28,3.28,3.25,3.2399999999999998,3.23,3.21,3.05,3.0500000000000003,2.96,2.95,2.92,2.7899999999999996,2.78,2.7600000000000002,2.6999999999999997,2.68,2.65,2.48,2.4499999999999997,2.42,2.4200000000000004,2.42,2.34,2.34,2.29,2.2600000000000002,2.25,2.21,2.19,2.18,2.1700000000000004,2.14,2.11,2.09,2.07,2.0500000000000003,2.01,2.01,1.9600000000000002,1.9200000000000002,1.92,1.9100000000000001,1.8800000000000001,1.85,1.83,1.83,1.81,1.7999999999999998,1.7900000000000003,1.74,1.75,1.7400000000000002,1.7200000000000002,1.7200000000000002,1.73,1.7,1.6900000000000002,1.69,1.6700000000000002,1.6600000000000001,1.6600000000000001,1.6400000000000001,1.6300000000000001,1.6100000000000003,1.58,1.5700000000000003,1.5699999999999998,1.56,1.54,1.54,1.5299999999999998,1.4900000000000002,1.49,1.4600000000000002,1.4000000000000001,1.4000000000000001,1.3800000000000001,1.38,1.3800000000000001,1.3599999999999999,1.3599999999999999,1.3399999999999999,1.3399999999999999,1.34,1.33,1.3199999999999998,1.3,1.3,1.2900000000000003,1.29,1.29,1.2800000000000002,1.28,1.2800000000000002,1.27,1.2799999999999998,1.2699999999999998,1.25,1.25,1.23,1.23,1.23,1.21,1.21,1.1900000000000002,1.1900000000000002,1.2000000000000002,1.17,1.1700000000000002,1.15,1.1300000000000001,1.14,1.13,1.1199999999999999,1.11,1.1,1.0799999999999998,1.08,1.08,1.07,1.06,1.05,1.03,1.03,1.01,1.02,1.01,0.98,0.97,0.9700000000000001,0.9500000000000001,0.95,0.95,0.9400000000000001,0.9400000000000001,0.93,0.93,0.93,0.92,0.93,0.93,0.93,0.9299999999999999,0.9,0.91,0.9,0.9,0.9000000000000001,0.89,0.89,0.89,0.89,0.88,0.88,0.87,0.87,0.86,0.86,0.85,0.8400000000000001,0.8500000000000001,0.8200000000000001,0.79,0.78,0.79,0.78,0.7799999999999999,0.7699999999999999,0.76,0.76,0.75,0.7500000000000001,0.7600000000000001,0.75,0.75,0.75,0.75,0.74,0.7300000000000001,0.73,0.75,0.7300000000000001,0.7300000000000001,0.7300000000000001,0.73,0.73,0.73,0.73,0.7200000000000001,0.72,0.73,0.73,0.7200000000000001,0.7,0.7,0.71,0.6900000000000001,0.6900000000000001,0.6900000000000002,0.69,0.6799999999999999,0.6700000000000002,0.6900000000000001,0.6800000000000002,0.6599999999999999,0.67,0.67,0.67,0.6599999999999999,0.66,0.66,0.6599999999999999,0.65,0.6499999999999999,0.65,0.64,0.64,0.6400000000000001,0.6399999999999999,0.6400000000000001,0.64,0.6400000000000001,0.6300000000000001,0.64,0.63,0.63,0.63,0.63,0.6200000000000001,0.62,0.6200000000000001,0.61,0.61,0.62,0.61,0.61,0.6100000000000001,0.6000000000000001,0.6,0.6,0.6,0.59,0.6,0.5900000000000001,0.5800000000000001,0.5800000000000001,0.5700000000000001,0.5700000000000001,0.5700000000000001,0.56,0.5700000000000001,0.56,0.56,0.56,0.56,0.56,0.56,0.55,0.54,0.5599999999999999,0.56,0.55,0.55,0.53,0.53,0.53,0.53,0.53,0.53,0.52,0.53,0.53,0.52,0.51,0.52,0.51,0.49999999999999994,0.51,0.49,0.49000000000000005,0.48000000000000004,0.49,0.48,0.48000000000000004,0.48000000000000004,0.48,0.4799999999999999,0.4800000000000001,0.49000000000000005,0.48,0.47,0.47,0.45999999999999996,0.47000000000000003,0.47,0.46,0.45,0.46,0.46,0.45999999999999996,0.4600000000000001,0.45,0.44999999999999996,0.45,0.45999999999999996,0.45,0.44,0.44999999999999996,0.44000000000000006,0.44000000000000006,0.44,0.44,0.44,0.45,0.43,0.43,0.44000000000000006,0.44,0.44,0.43,0.43,0.43,0.43000000000000005,0.42,0.43,0.42000000000000004,0.42000000000000004,0.42000000000000004,0.42,0.42,0.41000000000000003,0.41,0.41,0.41,0.41000000000000003,0.41000000000000003,0.41000000000000003,0.41,0.4,0.4,0.38999999999999996,0.39999999999999997,0.39,0.39999999999999997,0.4,0.38999999999999996,0.39999999999999997,0.39,0.37999999999999995,0.39,0.38,0.38,0.38,0.38,0.38,0.38,0.38,0.37,0.37,0.37,0.37000000000000005,0.38,0.36000000000000004,0.36000000000000004,0.37,0.36,0.37,0.36,0.36,0.37,0.36,0.36000000000000004,0.36,0.36,0.34,0.36000000000000004,0.35,0.36,0.35000000000000003,0.36,0.35000000000000003,0.35,0.33999999999999997,0.34,0.33999999999999997,0.34,0.34,0.33999999999999997,0.33999999999999997,0.33999999999999997,0.33,0.34,0.33,0.33999999999999997,0.33,0.33,0.32000000000000006,0.31999999999999995,0.31999999999999995,0.32,0.31000000000000005,0.32000000000000006,0.33,0.32,0.32,0.31999999999999995,0.31999999999999995,0.32000000000000006,0.31,0.31000000000000005,0.31000000000000005,0.32,0.3,0.3,0.3,0.31000000000000005,0.31000000000000005,0.31,0.31000000000000005,0.31,0.3,0.3,0.3,0.29000000000000004,0.30000000000000004,0.3,0.3,0.29000000000000004,0.28,0.29000000000000004,0.28,0.29,0.28,0.29000000000000004,0.29000000000000004,0.27999999999999997,0.28,0.29000000000000004,0.27,0.28,0.27,0.28,0.27,0.29000000000000004,0.29,0.27,0.28,0.26999999999999996,0.27,0.27,0.27,0.27,0.26,0.26,0.27,0.26,0.26,0.26,0.26,0.26,0.26,0.26,0.26,0.26,0.26,0.25,0.25,0.25,0.25,0.26,0.26,0.25,0.24999999999999997,0.25,0.24000000000000002,0.24,0.24000000000000002,0.25,0.24999999999999997,0.24000000000000002,0.24,0.25,0.24000000000000002,0.24000000000000002,0.24999999999999997,0.24,0.24000000000000002,0.24,0.23,0.24000000000000002,0.24,0.24000000000000002,0.24,0.23,0.23,0.24000000000000002,0.23,0.22999999999999998,0.23,0.23,0.23,0.22000000000000003,0.23,0.23,0.23,0.23,0.22,0.22999999999999998,0.22,0.23,0.22,0.23,0.22,0.22,0.22,0.22,0.21000000000000002,0.22,0.22,0.22,0.21000000000000002,0.22,0.21000000000000002,0.21,0.22,0.21,0.21,0.21000000000000002,0.21,0.21,0.21000000000000002,0.21,0.19999999999999998,0.2,0.2,0.21,0.2,0.19999999999999998,0.2,0.2,0.19999999999999998,0.2,0.19999999999999998,0.2,0.21,0.19999999999999998,0.19999999999999998,0.19999999999999998,0.2,0.2,0.19999999999999998,0.19,0.19,0.18000000000000002,0.19,0.19999999999999998,0.18999999999999997,0.19,0.18000000000000002,0.19,0.19999999999999998,0.19,0.18,0.19,0.18000000000000002,0.19,0.19,0.18,0.19999999999999998,0.19,0.19,0.18000000000000002,0.18,0.18,0.18,0.18,0.18,0.18,0.18,0.18,0.18999999999999997,0.16999999999999998,0.18000000000000002,0.18,0.18,0.18000000000000002,0.17,0.17,0.18,0.17,0.16999999999999998,0.16,0.18,0.17,0.17,0.17,0.16,0.17,0.16999999999999998,0.17,0.16000000000000003,0.17,0.17,0.16999999999999998,0.16999999999999998,0.17,0.17,0.16,0.16,0.15000000000000002,0.16,0.16000000000000003,0.16000000000000003,0.17,0.16,0.16,0.16,0.15000000000000002,0.15000000000000002,0.16,0.16,0.16000000000000003,0.16,0.15000000000000002,0.15000000000000002,0.15,0.16,0.15,0.15,0.15,0.14,0.15,0.15,0.15,0.15000000000000002,0.15000000000000002,0.15,0.15000000000000002,0.13999999999999999,0.15,0.16,0.15,0.15,0.15000000000000002,0.14,0.14,0.14,0.14,0.15000000000000002,0.15000000000000002,0.14,0.14,0.13999999999999999,0.13999999999999999,0.14,0.14,0.14,0.15,0.14,0.14,0.14,0.14,0.14,0.14,0.13999999999999999,0.14,0.14,0.13,0.13,0.14,0.13,0.14,0.14,0.13,0.13,0.13,0.13,0.13,0.13,0.13,0.13,0.12000000000000001,0.13,0.13,0.13,0.13,0.13,0.13,0.13,0.13,0.12000000000000001,0.13,0.13,0.12999999999999998,0.13,0.13,0.12000000000000001,0.13,0.13,0.12000000000000001,0.13,0.12,0.12,0.12,0.13,0.12,0.12,0.12,0.12,0.12000000000000001,0.11,0.12,0.11,0.12,0.12,0.12000000000000001,0.12000000000000001,0.11,0.12,0.12,0.12,0.12,0.12,0.12,0.12,0.11,0.12,0.12,0.12,0.12,0.12,0.12,0.12,0.11000000000000001,0.12,0.12000000000000001,0.11,0.11,0.11,0.11,0.11,0.11,0.11,0.11,0.11,0.12000000000000001,0.11,0.11,0.11,0.12000000000000001,0.11,0.11,0.11,0.11,0.12000000000000001,0.11,0.11,0.11,0.10999999999999999,0.11,0.09999999999999999,0.11,0.11,0.11,0.11,0.09999999999999999,0.11,0.09999999999999999,0.11000000000000001,0.11,0.1,0.1,0.1,0.11,0.09999999999999999,0.1,0.11,0.09999999999999999,0.11,0.11,0.11,0.1,0.09999999999999999,0.1,0.1,0.09999999999999999,0.09999999999999999,0.1,0.09,0.1,0.09999999999999999,0.09,0.1,0.1,0.1,0.09999999999999999,0.09999999999999999,0.1,0.09999999999999999,0.09999999999999999,0.1,0.09,0.1,0.1,0.09999999999999999,0.1,0.09999999999999999,0.09999999999999999,0.09,0.09000000000000001,0.09999999999999999,0.1,0.09999999999999999,0.09,0.09,0.09,0.09,0.1,0.09,0.09000000000000001,0.09,0.09,0.09999999999999999,0.08,0.09,0.1,0.09,0.1,0.09,0.09000000000000001,0.09,0.09,0.09,0.09999999999999999,0.09,0.09,0.09,0.09,0.08,0.08,0.09,0.08,0.09,0.09,0.08,0.08,0.09999999999999999,0.09,0.09,0.09,0.09,0.09,0.09,0.08,0.08,0.09,0.09,0.08,0.08,0.08,0.08,0.09,0.08,0.08,0.08,0.08,0.06999999999999999,0.08,0.09,0.09,0.09000000000000001,0.07,0.08,0.07999999999999999,0.08,0.07999999999999999,0.08,0.08,0.08,0.08,0.08,0.08,0.06999999999999999,0.08,0.06999999999999999,0.08,0.08,0.08,0.07999999999999999,0.07,0.09,0.07,0.08,0.08,0.08,0.08,0.08,0.08,0.08,0.08,0.08,0.08,0.07,0.07,0.07,0.08,0.08,0.07,0.07,0.06999999999999999,0.07,0.07,0.08,0.07,0.06999999999999999,0.08,0.07,0.06999999999999999,0.07,0.06999999999999999,0.06999999999999999,0.07,0.06999999999999999,0.07999999999999999,0.06999999999999999,0.06999999999999999,0.06999999999999999,0.06999999999999999,0.08,0.07,0.07,0.07,0.07,0.060000000000000005,0.06999999999999999,0.07,0.07,0.07,0.07,0.06999999999999999,0.060000000000000005,0.07,0.07,0.06999999999999999,0.07,0.06,0.07,0.07,0.06999999999999999,0.07,0.06999999999999999,0.06,0.06,0.06,0.06,0.06,0.06999999999999999,0.06,0.06,0.060000000000000005,0.06,0.06999999999999999,0.06999999999999999,0.06,0.060000000000000005,0.060000000000000005,0.06,0.06,0.060000000000000005,0.06999999999999999,0.060000000000000005,0.06,0.06,0.060000000000000005,0.06,0.06,0.06,0.06,0.060000000000000005,0.06999999999999999,0.060000000000000005,0.060000000000000005,0.060000000000000005,0.06999999999999999,0.06,0.06,0.06,0.05,0.06,0.06,0.06,0.060000000000000005,0.07,0.06,0.06,0.06,0.060000000000000005,0.06,0.06999999999999999,0.06,0.060000000000000005,0.06,0.06,0.060000000000000005,0.05,0.06,0.06999999999999999,0.060000000000000005,0.060000000000000005,0.06,0.06,0.05,0.05,0.06,0.060000000000000005,0.05,0.060000000000000005,0.060000000000000005,0.060000000000000005,0.060000000000000005,0.06,0.06,0.060000000000000005,0.06,0.06,0.05,0.060000000000000005,0.06,0.05,0.05,0.05,0.060000000000000005,0.05,0.05,0.05,0.05,0.05,0.060000000000000005,0.05,0.060000000000000005,0.05,0.05,0.060000000000000005,0.05,0.05,0.05,0.05,0.05,0.05,0.05,0.060000000000000005,0.05,0.05,0.05,0.05,0.05,0.05,0.05,0.05,0.05,0.05,0.060000000000000005,0.05,0.05,0.05,0.05,0.060000000000000005,0.05,0.05,0.05,0.05,0.05,0.05,0.05,0.05,0.04,0.060000000000000005,0.05,0.04,0.05,0.05,0.05,0.04,0.05,0.05,0.05,0.05,0.05,0.05,0.05,0.04,0.05,0.05,0.04,0.04,0.05,0.05,0.05,0.05,0.05,0.05,0.05,0.05,0.05,0.04,0.05,0.05,0.05,0.04,0.04,0.05,0.04,0.05,0.04,0.04,0.04,0.04,0.04,0.04,0.04,0.04,0.04,0.04,0.04,0.04,0.04,0.04,0.04,0.04,0.04,0.04,0.03,0.04,0.05,0.03,0.03,0.04,0.04,0.04,0.05,0.04,0.04,0.04,0.04,0.04,0.04,0.04,0.04,0.04,0.04,0.04,0.04,0.04,0.05,0.04,0.04,0.03,0.04,0.04,0.04,0.04,0.04,0.04,0.04,0.04,0.04,0.04,0.04,0.03,0.04,0.04,0.04,0.04,0.04,0.04,0.04,0.04,0.04,0.04,0.03,0.03,0.03,0.04,0.03,0.03,0.04,0.04,0.04,0.04,0.03,0.03,0.03,0.03,0.03,0.03,0.03,0.03,0.03,0.03,0.03,0.03,0.04,0.03,0.03,0.03,0.03,0.03,0.03,0.03,0.03,0.03,0.03,0.03,0.03,0.04,0.03,0.03,0.03,0.03,0.03,0.04,0.03,0.03,0.03,0.03,0.03,0.03,0.03,0.03,0.03,0.03,0.03,0.03,0.03,0.03,0.03,0.03,0.03,0.03,0.03,0.04,0.03,0.02,0.04,0.03,0.03,0.03,0.03,0.03,0.03,0.03,0.03,0.03,0.03,0.03,0.03,0.03,0.03,0.03,0.02,0.03,0.03,0.03,0.03,0.03,0.03,0.03,0.03,0.03,0.03,0.03,0.03,0.03,0.03,0.03,0.03,0.03,0.03,0.03,0.03,0.02,0.03,0.03,0.03,0.03,0.03,0.03,0.03,0.02,0.03,0.03,0.03,0.03,0.03,0.03,0.02,0.02,0.03,0.03,0.03,0.03,0.03,0.03,0.03,0.02,0.03,0.03,0.03,0.02,0.02,0.03,0.02,0.03,0.03,0.02,0.03,0.03,0.02,0.03,0.02,0.02,0.03,0.02,0.02,0.02,0.03,0.03,0.03,0.02,0.02,0.03,0.02,0.02,0.02,0.02,0.02,0.02,0.02,0.02,0.02,0.02,0.02,0.02,0.02,0.02,0.02,0.02,0.02,0.02,0.02,0.02,0.02,0.02,0.02,0.02,0.02,0.02,0.02,0.02,0.02,0.02,0.02,0.02,0.02,0.02,0.02,0.02,0.02,0.02,0.02,0.02,0.02,0.02,0.02,0.02,0.02,0.02,0.02,0.02,0.02,0.02,0.02,0.02,0.02,0.02,0.02,0.02,0.02,0.02,0.02,0.02,0.02,0.02,0.02,0.02,0.02,0.02,0.02,0.02,0.01,0.02,0.02,0.02,0.02,0.02,0.02,0.02,0.02,0.02,0.02,0.02,0.02,0.02,0.02,0.02,0.02,0.02,0.02,0.02,0.02,0.01,0.02,0.02,0.02,0.02,0.02,0.02,0.02,0.02,0.02,0.02,0.02,0.02,0.02,0.02,0.02,0.02,0.02,0.02,0.02,0.01,0.02,0.02,0.01,0.02,0.02,0.02,0.01,0.02,0.02,0.02,0.02,0.02,0.02,0.02,0.01,0.02,0.02,0.02,0.02,0.02,0.02,0.01,0.02,0.02,0.01,0.02,0.02,0.02,0.02,0.02,0.02,0.01,0.02,0.02,0.02,0.02,0.01,0.01,0.02,0.01,0.02,0.02,0.02,0.02,0.02,0.01,0.01,0.01,0.02,0.01,0.01,0.02,0.02,0.01,0.02,0.01,0.01,0.01,0.01,0.01,0.02,0.01,0.01,0.01,0.01,0.01,0.01,0.01,0.01,0.01,0.01,0.01,0.01,0.01,0.01,0.01,0.01,0.01,0.01,0.01,0.01,0.01,0.01,0.01,0.01,0.01,0.01,0.01,0.01,0.01,0.01,0.01,0.01,0.01,0.01,0.01,0.01,0.01,0.01,0.01,0.01,0.01,0.01,0.01,0.01,0.01,0.01,0.01,0.01,0.01,0.01,0.01,0.01,0.01,0.01,0.01,0.01,0.01,0.01,0.01,0.01,0.01,0.01,0.01,0.01,0.01,0.01,0.01,0.01,0.01,0.01,0.01,0.01,0.01,0.01,0.01,0.01,0.01,0.01,0.01,0.01,0.01,0.01,0.01,0.01,0.01,0.01,0.01,0.01,0.01,0.01,0.01,0.01,0.01,0.01,0.01,0.01,0.01,0.01,0.01,0.01,0.01,0.01,0.01,0.01,0.01,0.01,0.01,0.01,0.01,0.01,0.01,0.01,0.01,0.01,0.01,0.01,0.01,0.01,0.01,0.01,0.01,0.01,0.01,0.01,0.01,0.01,0.01,0.01,0.01,0.01,0.01,0.01,0.01,0.01,0.01,0.01,0.01,0.01,0.01,0.01,0.01,0.01,0.01],\"type\":\"box\"}],                        {\"template\":{\"data\":{\"bar\":[{\"error_x\":{\"color\":\"#2a3f5f\"},\"error_y\":{\"color\":\"#2a3f5f\"},\"marker\":{\"line\":{\"color\":\"#E5ECF6\",\"width\":0.5},\"pattern\":{\"fillmode\":\"overlay\",\"size\":10,\"solidity\":0.2}},\"type\":\"bar\"}],\"barpolar\":[{\"marker\":{\"line\":{\"color\":\"#E5ECF6\",\"width\":0.5},\"pattern\":{\"fillmode\":\"overlay\",\"size\":10,\"solidity\":0.2}},\"type\":\"barpolar\"}],\"carpet\":[{\"aaxis\":{\"endlinecolor\":\"#2a3f5f\",\"gridcolor\":\"white\",\"linecolor\":\"white\",\"minorgridcolor\":\"white\",\"startlinecolor\":\"#2a3f5f\"},\"baxis\":{\"endlinecolor\":\"#2a3f5f\",\"gridcolor\":\"white\",\"linecolor\":\"white\",\"minorgridcolor\":\"white\",\"startlinecolor\":\"#2a3f5f\"},\"type\":\"carpet\"}],\"choropleth\":[{\"colorbar\":{\"outlinewidth\":0,\"ticks\":\"\"},\"type\":\"choropleth\"}],\"contour\":[{\"colorbar\":{\"outlinewidth\":0,\"ticks\":\"\"},\"colorscale\":[[0.0,\"#0d0887\"],[0.1111111111111111,\"#46039f\"],[0.2222222222222222,\"#7201a8\"],[0.3333333333333333,\"#9c179e\"],[0.4444444444444444,\"#bd3786\"],[0.5555555555555556,\"#d8576b\"],[0.6666666666666666,\"#ed7953\"],[0.7777777777777778,\"#fb9f3a\"],[0.8888888888888888,\"#fdca26\"],[1.0,\"#f0f921\"]],\"type\":\"contour\"}],\"contourcarpet\":[{\"colorbar\":{\"outlinewidth\":0,\"ticks\":\"\"},\"type\":\"contourcarpet\"}],\"heatmap\":[{\"colorbar\":{\"outlinewidth\":0,\"ticks\":\"\"},\"colorscale\":[[0.0,\"#0d0887\"],[0.1111111111111111,\"#46039f\"],[0.2222222222222222,\"#7201a8\"],[0.3333333333333333,\"#9c179e\"],[0.4444444444444444,\"#bd3786\"],[0.5555555555555556,\"#d8576b\"],[0.6666666666666666,\"#ed7953\"],[0.7777777777777778,\"#fb9f3a\"],[0.8888888888888888,\"#fdca26\"],[1.0,\"#f0f921\"]],\"type\":\"heatmap\"}],\"heatmapgl\":[{\"colorbar\":{\"outlinewidth\":0,\"ticks\":\"\"},\"colorscale\":[[0.0,\"#0d0887\"],[0.1111111111111111,\"#46039f\"],[0.2222222222222222,\"#7201a8\"],[0.3333333333333333,\"#9c179e\"],[0.4444444444444444,\"#bd3786\"],[0.5555555555555556,\"#d8576b\"],[0.6666666666666666,\"#ed7953\"],[0.7777777777777778,\"#fb9f3a\"],[0.8888888888888888,\"#fdca26\"],[1.0,\"#f0f921\"]],\"type\":\"heatmapgl\"}],\"histogram\":[{\"marker\":{\"pattern\":{\"fillmode\":\"overlay\",\"size\":10,\"solidity\":0.2}},\"type\":\"histogram\"}],\"histogram2d\":[{\"colorbar\":{\"outlinewidth\":0,\"ticks\":\"\"},\"colorscale\":[[0.0,\"#0d0887\"],[0.1111111111111111,\"#46039f\"],[0.2222222222222222,\"#7201a8\"],[0.3333333333333333,\"#9c179e\"],[0.4444444444444444,\"#bd3786\"],[0.5555555555555556,\"#d8576b\"],[0.6666666666666666,\"#ed7953\"],[0.7777777777777778,\"#fb9f3a\"],[0.8888888888888888,\"#fdca26\"],[1.0,\"#f0f921\"]],\"type\":\"histogram2d\"}],\"histogram2dcontour\":[{\"colorbar\":{\"outlinewidth\":0,\"ticks\":\"\"},\"colorscale\":[[0.0,\"#0d0887\"],[0.1111111111111111,\"#46039f\"],[0.2222222222222222,\"#7201a8\"],[0.3333333333333333,\"#9c179e\"],[0.4444444444444444,\"#bd3786\"],[0.5555555555555556,\"#d8576b\"],[0.6666666666666666,\"#ed7953\"],[0.7777777777777778,\"#fb9f3a\"],[0.8888888888888888,\"#fdca26\"],[1.0,\"#f0f921\"]],\"type\":\"histogram2dcontour\"}],\"mesh3d\":[{\"colorbar\":{\"outlinewidth\":0,\"ticks\":\"\"},\"type\":\"mesh3d\"}],\"parcoords\":[{\"line\":{\"colorbar\":{\"outlinewidth\":0,\"ticks\":\"\"}},\"type\":\"parcoords\"}],\"pie\":[{\"automargin\":true,\"type\":\"pie\"}],\"scatter\":[{\"marker\":{\"colorbar\":{\"outlinewidth\":0,\"ticks\":\"\"}},\"type\":\"scatter\"}],\"scatter3d\":[{\"line\":{\"colorbar\":{\"outlinewidth\":0,\"ticks\":\"\"}},\"marker\":{\"colorbar\":{\"outlinewidth\":0,\"ticks\":\"\"}},\"type\":\"scatter3d\"}],\"scattercarpet\":[{\"marker\":{\"colorbar\":{\"outlinewidth\":0,\"ticks\":\"\"}},\"type\":\"scattercarpet\"}],\"scattergeo\":[{\"marker\":{\"colorbar\":{\"outlinewidth\":0,\"ticks\":\"\"}},\"type\":\"scattergeo\"}],\"scattergl\":[{\"marker\":{\"colorbar\":{\"outlinewidth\":0,\"ticks\":\"\"}},\"type\":\"scattergl\"}],\"scattermapbox\":[{\"marker\":{\"colorbar\":{\"outlinewidth\":0,\"ticks\":\"\"}},\"type\":\"scattermapbox\"}],\"scatterpolar\":[{\"marker\":{\"colorbar\":{\"outlinewidth\":0,\"ticks\":\"\"}},\"type\":\"scatterpolar\"}],\"scatterpolargl\":[{\"marker\":{\"colorbar\":{\"outlinewidth\":0,\"ticks\":\"\"}},\"type\":\"scatterpolargl\"}],\"scatterternary\":[{\"marker\":{\"colorbar\":{\"outlinewidth\":0,\"ticks\":\"\"}},\"type\":\"scatterternary\"}],\"surface\":[{\"colorbar\":{\"outlinewidth\":0,\"ticks\":\"\"},\"colorscale\":[[0.0,\"#0d0887\"],[0.1111111111111111,\"#46039f\"],[0.2222222222222222,\"#7201a8\"],[0.3333333333333333,\"#9c179e\"],[0.4444444444444444,\"#bd3786\"],[0.5555555555555556,\"#d8576b\"],[0.6666666666666666,\"#ed7953\"],[0.7777777777777778,\"#fb9f3a\"],[0.8888888888888888,\"#fdca26\"],[1.0,\"#f0f921\"]],\"type\":\"surface\"}],\"table\":[{\"cells\":{\"fill\":{\"color\":\"#EBF0F8\"},\"line\":{\"color\":\"white\"}},\"header\":{\"fill\":{\"color\":\"#C8D4E3\"},\"line\":{\"color\":\"white\"}},\"type\":\"table\"}]},\"layout\":{\"annotationdefaults\":{\"arrowcolor\":\"#2a3f5f\",\"arrowhead\":0,\"arrowwidth\":1},\"autotypenumbers\":\"strict\",\"coloraxis\":{\"colorbar\":{\"outlinewidth\":0,\"ticks\":\"\"}},\"colorscale\":{\"diverging\":[[0,\"#8e0152\"],[0.1,\"#c51b7d\"],[0.2,\"#de77ae\"],[0.3,\"#f1b6da\"],[0.4,\"#fde0ef\"],[0.5,\"#f7f7f7\"],[0.6,\"#e6f5d0\"],[0.7,\"#b8e186\"],[0.8,\"#7fbc41\"],[0.9,\"#4d9221\"],[1,\"#276419\"]],\"sequential\":[[0.0,\"#0d0887\"],[0.1111111111111111,\"#46039f\"],[0.2222222222222222,\"#7201a8\"],[0.3333333333333333,\"#9c179e\"],[0.4444444444444444,\"#bd3786\"],[0.5555555555555556,\"#d8576b\"],[0.6666666666666666,\"#ed7953\"],[0.7777777777777778,\"#fb9f3a\"],[0.8888888888888888,\"#fdca26\"],[1.0,\"#f0f921\"]],\"sequentialminus\":[[0.0,\"#0d0887\"],[0.1111111111111111,\"#46039f\"],[0.2222222222222222,\"#7201a8\"],[0.3333333333333333,\"#9c179e\"],[0.4444444444444444,\"#bd3786\"],[0.5555555555555556,\"#d8576b\"],[0.6666666666666666,\"#ed7953\"],[0.7777777777777778,\"#fb9f3a\"],[0.8888888888888888,\"#fdca26\"],[1.0,\"#f0f921\"]]},\"colorway\":[\"#636efa\",\"#EF553B\",\"#00cc96\",\"#ab63fa\",\"#FFA15A\",\"#19d3f3\",\"#FF6692\",\"#B6E880\",\"#FF97FF\",\"#FECB52\"],\"font\":{\"color\":\"#2a3f5f\"},\"geo\":{\"bgcolor\":\"white\",\"lakecolor\":\"white\",\"landcolor\":\"#E5ECF6\",\"showlakes\":true,\"showland\":true,\"subunitcolor\":\"white\"},\"hoverlabel\":{\"align\":\"left\"},\"hovermode\":\"closest\",\"mapbox\":{\"style\":\"light\"},\"paper_bgcolor\":\"white\",\"plot_bgcolor\":\"#E5ECF6\",\"polar\":{\"angularaxis\":{\"gridcolor\":\"white\",\"linecolor\":\"white\",\"ticks\":\"\"},\"bgcolor\":\"#E5ECF6\",\"radialaxis\":{\"gridcolor\":\"white\",\"linecolor\":\"white\",\"ticks\":\"\"}},\"scene\":{\"xaxis\":{\"backgroundcolor\":\"#E5ECF6\",\"gridcolor\":\"white\",\"gridwidth\":2,\"linecolor\":\"white\",\"showbackground\":true,\"ticks\":\"\",\"zerolinecolor\":\"white\"},\"yaxis\":{\"backgroundcolor\":\"#E5ECF6\",\"gridcolor\":\"white\",\"gridwidth\":2,\"linecolor\":\"white\",\"showbackground\":true,\"ticks\":\"\",\"zerolinecolor\":\"white\"},\"zaxis\":{\"backgroundcolor\":\"#E5ECF6\",\"gridcolor\":\"white\",\"gridwidth\":2,\"linecolor\":\"white\",\"showbackground\":true,\"ticks\":\"\",\"zerolinecolor\":\"white\"}},\"shapedefaults\":{\"line\":{\"color\":\"#2a3f5f\"}},\"ternary\":{\"aaxis\":{\"gridcolor\":\"white\",\"linecolor\":\"white\",\"ticks\":\"\"},\"baxis\":{\"gridcolor\":\"white\",\"linecolor\":\"white\",\"ticks\":\"\"},\"bgcolor\":\"#E5ECF6\",\"caxis\":{\"gridcolor\":\"white\",\"linecolor\":\"white\",\"ticks\":\"\"}},\"title\":{\"x\":0.05},\"xaxis\":{\"automargin\":true,\"gridcolor\":\"white\",\"linecolor\":\"white\",\"ticks\":\"\",\"title\":{\"standoff\":15},\"zerolinecolor\":\"white\",\"zerolinewidth\":2},\"yaxis\":{\"automargin\":true,\"gridcolor\":\"white\",\"linecolor\":\"white\",\"ticks\":\"\",\"title\":{\"standoff\":15},\"zerolinecolor\":\"white\",\"zerolinewidth\":2}}},\"title\":{\"text\":\"box-and-whiskers diagram with release\"},\"xaxis\":{\"title\":{\"text\":\"\\u0416\\u0430\\u043d\\u0440\\u044b\"}},\"yaxis\":{\"title\":{\"text\":\"\\u041f\\u0440\\u043e\\u0434\\u0430\\u0436\\u0438\"}}},                        {\"responsive\": true}                    ).then(function(){\n",
              "                            \n",
              "var gd = document.getElementById('da5e23bd-686a-42d2-a68e-50af4512c4c8');\n",
              "var x = new MutationObserver(function (mutations, observer) {{\n",
              "        var display = window.getComputedStyle(gd).display;\n",
              "        if (!display || display === 'none') {{\n",
              "            console.log([gd, 'removed!']);\n",
              "            Plotly.purge(gd);\n",
              "            observer.disconnect();\n",
              "        }}\n",
              "}});\n",
              "\n",
              "// Listen for the removal of the full notebook cells\n",
              "var notebookContainer = gd.closest('#notebook-container');\n",
              "if (notebookContainer) {{\n",
              "    x.observe(notebookContainer, {childList: true});\n",
              "}}\n",
              "\n",
              "// Listen for the clearing of the current output cell\n",
              "var outputEl = gd.closest('.output');\n",
              "if (outputEl) {{\n",
              "    x.observe(outputEl, {childList: true});\n",
              "}}\n",
              "\n",
              "                        })                };                            </script>        </div>\n",
              "</body>\n",
              "</html>"
            ]
          },
          "metadata": {}
        },
        {
          "output_type": "display_data",
          "data": {
            "text/html": [
              "<html>\n",
              "<head><meta charset=\"utf-8\" /></head>\n",
              "<body>\n",
              "    <div>            <script src=\"https://cdnjs.cloudflare.com/ajax/libs/mathjax/2.7.5/MathJax.js?config=TeX-AMS-MML_SVG\"></script><script type=\"text/javascript\">if (window.MathJax) {MathJax.Hub.Config({SVG: {font: \"STIX-Web\"}});}</script>                <script type=\"text/javascript\">window.PlotlyConfig = {MathJaxConfig: 'local'};</script>\n",
              "        <script src=\"https://cdn.plot.ly/plotly-2.8.3.min.js\"></script>                <div id=\"f3eb86f0-bc14-4d10-9f6f-aef18fee0213\" class=\"plotly-graph-div\" style=\"height:525px; width:100%;\"></div>            <script type=\"text/javascript\">                                    window.PLOTLYENV=window.PLOTLYENV || {};                                    if (document.getElementById(\"f3eb86f0-bc14-4d10-9f6f-aef18fee0213\")) {                    Plotly.newPlot(                        \"f3eb86f0-bc14-4d10-9f6f-aef18fee0213\",                        [{\"x\":[\"Misc\",\"Shooter\",\"Shooter\",\"Platform\",\"Sports\",\"Action\",\"Platform\",\"Role-Playing\",\"Action\",\"Racing\",\"Action\",\"Sports\",\"Role-Playing\",\"Action\",\"Shooter\",\"Racing\",\"Sports\",\"Shooter\",\"Action\",\"Shooter\",\"Role-Playing\",\"Adventure\",\"Role-Playing\",\"Shooter\",\"Sports\",\"Shooter\",\"Misc\",\"Action\",\"Sports\",\"Sports\",\"Shooter\",\"Platform\",\"Platform\",\"Action\",\"Shooter\",\"Sports\",\"Action\",\"Racing\",\"Platform\",\"Fighting\",\"Adventure\",\"Shooter\",\"Action\",\"Shooter\",\"Shooter\",\"Sports\",\"Action\",\"Role-Playing\",\"Role-Playing\",\"Platform\",\"Action\",\"Shooter\",\"Action\",\"Role-Playing\",\"Action\",\"Role-Playing\",\"Action\",\"Role-Playing\",\"Action\",\"Action\",\"Role-Playing\",\"Sports\",\"Role-Playing\",\"Action\",\"Sports\",\"Shooter\",\"Simulation\",\"Puzzle\",\"Shooter\",\"Action\",\"Action\",\"Sports\",\"Shooter\",\"Fighting\",\"Action\",\"Shooter\",\"Action\",\"Fighting\",\"Racing\",\"Racing\",\"Action\",\"Shooter\",\"Shooter\",\"Sports\",\"Action\",\"Sports\",\"Action\",\"Platform\",\"Fighting\",\"Role-Playing\",\"Sports\",\"Shooter\",\"Action\",\"Misc\",\"Action\",\"Sports\",\"Adventure\",\"Sports\",\"Role-Playing\",\"Action\",\"Action\",\"Action\",\"Sports\",\"Role-Playing\",\"Role-Playing\",\"Fighting\",\"Action\",\"Shooter\",\"Action\",\"Role-Playing\",\"Action\",\"Action\",\"Action\",\"Adventure\",\"Action\",\"Shooter\",\"Action\",\"Action\",\"Role-Playing\",\"Misc\",\"Action\",\"Role-Playing\",\"Action\",\"Action\",\"Role-Playing\",\"Sports\",\"Misc\",\"Racing\",\"Sports\",\"Sports\",\"Action\",\"Shooter\",\"Role-Playing\",\"Misc\",\"Shooter\",\"Action\",\"Sports\",\"Role-Playing\",\"Misc\",\"Role-Playing\",\"Role-Playing\",\"Action\",\"Role-Playing\",\"Action\",\"Sports\",\"Sports\",\"Role-Playing\",\"Action\",\"Misc\",\"Action\",\"Role-Playing\",\"Sports\",\"Shooter\",\"Action\",\"Role-Playing\",\"Action\",\"Action\",\"Action\",\"Adventure\",\"Adventure\",\"Action\",\"Racing\",\"Shooter\",\"Misc\",\"Shooter\",\"Shooter\",\"Action\",\"Action\",\"Action\",\"Racing\",\"Role-Playing\",\"Action\",\"Shooter\",\"Action\",\"Role-Playing\",\"Action\",\"Simulation\",\"Action\",\"Shooter\",\"Action\",\"Action\",\"Sports\",\"Action\",\"Racing\",\"Shooter\",\"Platform\",\"Role-Playing\",\"Shooter\",\"Misc\",\"Sports\",\"Action\",\"Action\",\"Action\",\"Sports\",\"Shooter\",\"Shooter\",\"Action\",\"Role-Playing\",\"Misc\",\"Sports\",\"Action\",\"Sports\",\"Sports\",\"Role-Playing\",\"Sports\",\"Sports\",\"Action\",\"Sports\",\"Shooter\",\"Sports\",\"Misc\",\"Role-Playing\",\"Role-Playing\",\"Shooter\",\"Adventure\",\"Action\",\"Action\",\"Action\",\"Sports\",\"Misc\",\"Action\",\"Action\",\"Action\",\"Action\",\"Shooter\",\"Role-Playing\",\"Action\",\"Misc\",\"Action\",\"Shooter\",\"Action\",\"Strategy\",\"Action\",\"Role-Playing\",\"Action\",\"Action\",\"Role-Playing\",\"Platform\",\"Shooter\",\"Sports\",\"Action\",\"Shooter\",\"Action\",\"Misc\",\"Role-Playing\",\"Puzzle\",\"Action\",\"Action\",\"Shooter\",\"Sports\",\"Fighting\",\"Sports\",\"Misc\",\"Action\",\"Sports\",\"Action\",\"Simulation\",\"Action\",\"Action\",\"Adventure\",\"Action\",\"Action\",\"Sports\",\"Action\",\"Sports\",\"Action\",\"Action\",\"Sports\",\"Action\",\"Shooter\",\"Action\",\"Sports\",\"Shooter\",\"Action\",\"Action\",\"Role-Playing\",\"Shooter\",\"Action\",\"Action\",\"Fighting\",\"Action\",\"Sports\",\"Sports\",\"Action\",\"Sports\",\"Action\",\"Racing\",\"Simulation\",\"Role-Playing\",\"Misc\",\"Sports\",\"Simulation\",\"Shooter\",\"Action\",\"Sports\",\"Shooter\",\"Racing\",\"Role-Playing\",\"Shooter\",\"Misc\",\"Role-Playing\",\"Role-Playing\",\"Adventure\",\"Sports\",\"Action\",\"Action\",\"Action\",\"Role-Playing\",\"Adventure\",\"Sports\",\"Racing\",\"Misc\",\"Misc\",\"Shooter\",\"Shooter\",\"Role-Playing\",\"Sports\",\"Fighting\",\"Sports\",\"Action\",\"Simulation\",\"Role-Playing\",\"Shooter\",\"Misc\",\"Sports\",\"Shooter\",\"Action\",\"Racing\",\"Action\",\"Strategy\",\"Sports\",\"Shooter\",\"Role-Playing\",\"Misc\",\"Role-Playing\",\"Action\",\"Action\",\"Simulation\",\"Action\",\"Simulation\",\"Shooter\",\"Fighting\",\"Simulation\",\"Shooter\",\"Action\",\"Platform\",\"Shooter\",\"Action\",\"Action\",\"Platform\",\"Action\",\"Fighting\",\"Action\",\"Role-Playing\",\"Sports\",\"Role-Playing\",\"Fighting\",\"Shooter\",\"Misc\",\"Misc\",\"Fighting\",\"Strategy\",\"Misc\",\"Role-Playing\",\"Misc\",\"Misc\",\"Action\",\"Adventure\",\"Action\",\"Fighting\",\"Action\",\"Action\",\"Action\",\"Simulation\",\"Action\",\"Fighting\",\"Action\",\"Misc\",\"Fighting\",\"Action\",\"Shooter\",\"Action\",\"Action\",\"Role-Playing\",\"Role-Playing\",\"Action\",\"Action\",\"Action\",\"Sports\",\"Action\",\"Shooter\",\"Action\",\"Action\",\"Role-Playing\",\"Action\",\"Shooter\",\"Sports\",\"Role-Playing\",\"Action\",\"Shooter\",\"Shooter\",\"Shooter\",\"Action\",\"Action\",\"Action\",\"Action\",\"Action\",\"Adventure\",\"Action\",\"Misc\",\"Adventure\",\"Action\",\"Action\",\"Action\",\"Action\",\"Action\",\"Action\",\"Platform\",\"Fighting\",\"Shooter\",\"Sports\",\"Racing\",\"Action\",\"Action\",\"Action\",\"Shooter\",\"Action\",\"Role-Playing\",\"Adventure\",\"Misc\",\"Role-Playing\",\"Misc\",\"Strategy\",\"Misc\",\"Role-Playing\",\"Action\",\"Adventure\",\"Strategy\",\"Adventure\",\"Role-Playing\",\"Racing\",\"Role-Playing\",\"Racing\",\"Action\",\"Action\",\"Action\",\"Platform\",\"Strategy\",\"Sports\",\"Action\",\"Fighting\",\"Shooter\",\"Role-Playing\",\"Sports\",\"Action\",\"Action\",\"Action\",\"Sports\",\"Action\",\"Strategy\",\"Shooter\",\"Action\",\"Role-Playing\",\"Action\",\"Role-Playing\",\"Misc\",\"Role-Playing\",\"Racing\",\"Action\",\"Action\",\"Action\",\"Action\",\"Action\",\"Racing\",\"Simulation\",\"Action\",\"Role-Playing\",\"Action\",\"Action\",\"Fighting\",\"Racing\",\"Shooter\",\"Action\",\"Strategy\",\"Action\",\"Role-Playing\",\"Action\",\"Role-Playing\",\"Action\",\"Adventure\",\"Strategy\",\"Sports\",\"Fighting\",\"Platform\",\"Sports\",\"Action\",\"Action\",\"Action\",\"Role-Playing\",\"Shooter\",\"Simulation\",\"Sports\",\"Adventure\",\"Action\",\"Action\",\"Role-Playing\",\"Action\",\"Action\",\"Simulation\",\"Action\",\"Action\",\"Role-Playing\",\"Role-Playing\",\"Action\",\"Action\",\"Action\",\"Misc\",\"Action\",\"Misc\",\"Action\",\"Role-Playing\",\"Action\",\"Shooter\",\"Action\",\"Adventure\",\"Role-Playing\",\"Role-Playing\",\"Misc\",\"Role-Playing\",\"Misc\",\"Role-Playing\",\"Action\",\"Fighting\",\"Adventure\",\"Misc\",\"Misc\",\"Sports\",\"Action\",\"Role-Playing\",\"Fighting\",\"Adventure\",\"Racing\",\"Platform\",\"Action\",\"Racing\",\"Shooter\",\"Action\",\"Adventure\",\"Sports\",\"Role-Playing\",\"Misc\",\"Action\",\"Racing\",\"Action\",\"Sports\",\"Sports\",\"Misc\",\"Role-Playing\",\"Role-Playing\",\"Role-Playing\",\"Action\",\"Action\",\"Adventure\",\"Action\",\"Role-Playing\",\"Racing\",\"Sports\",\"Action\",\"Sports\",\"Role-Playing\",\"Action\",\"Fighting\",\"Platform\",\"Simulation\",\"Action\",\"Action\",\"Racing\",\"Fighting\",\"Adventure\",\"Shooter\",\"Adventure\",\"Role-Playing\",\"Action\",\"Role-Playing\",\"Simulation\",\"Misc\",\"Action\",\"Misc\",\"Role-Playing\",\"Action\",\"Role-Playing\",\"Action\",\"Action\",\"Role-Playing\",\"Action\",\"Action\",\"Action\",\"Shooter\",\"Fighting\",\"Role-Playing\",\"Action\",\"Action\",\"Role-Playing\",\"Action\",\"Action\",\"Action\",\"Action\",\"Sports\",\"Action\",\"Sports\",\"Shooter\",\"Action\",\"Action\",\"Action\",\"Platform\",\"Strategy\",\"Sports\",\"Sports\",\"Simulation\",\"Platform\",\"Sports\",\"Adventure\",\"Action\",\"Role-Playing\",\"Shooter\",\"Sports\",\"Action\",\"Platform\",\"Action\",\"Action\",\"Action\",\"Shooter\",\"Adventure\",\"Action\",\"Role-Playing\",\"Fighting\",\"Shooter\",\"Action\",\"Action\",\"Action\",\"Adventure\",\"Adventure\",\"Action\",\"Action\",\"Fighting\",\"Strategy\",\"Misc\",\"Misc\",\"Action\",\"Sports\",\"Action\",\"Action\",\"Action\",\"Action\",\"Action\",\"Fighting\",\"Role-Playing\",\"Adventure\",\"Sports\",\"Racing\",\"Action\",\"Action\",\"Racing\",\"Racing\",\"Misc\",\"Role-Playing\",\"Action\",\"Action\",\"Action\",\"Sports\",\"Role-Playing\",\"Role-Playing\",\"Action\",\"Adventure\",\"Misc\",\"Shooter\",\"Action\",\"Simulation\",\"Action\",\"Role-Playing\",\"Role-Playing\",\"Sports\",\"Action\",\"Adventure\",\"Sports\",\"Action\",\"Fighting\",\"Action\",\"Role-Playing\",\"Sports\",\"Action\",\"Misc\",\"Simulation\",\"Sports\",\"Sports\",\"Sports\",\"Action\",\"Sports\",\"Misc\",\"Action\",\"Role-Playing\",\"Action\",\"Puzzle\",\"Action\",\"Action\",\"Action\",\"Action\",\"Racing\",\"Action\",\"Action\",\"Action\",\"Role-Playing\",\"Misc\",\"Action\",\"Action\",\"Adventure\",\"Role-Playing\",\"Action\",\"Puzzle\",\"Action\",\"Sports\",\"Shooter\",\"Role-Playing\",\"Racing\",\"Sports\",\"Sports\",\"Role-Playing\",\"Sports\",\"Fighting\",\"Adventure\",\"Platform\",\"Action\",\"Action\",\"Action\",\"Action\",\"Role-Playing\",\"Role-Playing\",\"Role-Playing\",\"Role-Playing\",\"Racing\",\"Adventure\",\"Simulation\",\"Action\",\"Action\",\"Action\",\"Action\",\"Role-Playing\",\"Action\",\"Sports\",\"Adventure\",\"Fighting\",\"Shooter\",\"Adventure\",\"Action\",\"Adventure\",\"Adventure\",\"Role-Playing\",\"Sports\",\"Racing\",\"Simulation\",\"Platform\",\"Role-Playing\",\"Action\",\"Role-Playing\",\"Action\",\"Role-Playing\",\"Action\",\"Sports\",\"Action\",\"Platform\",\"Action\",\"Fighting\",\"Misc\",\"Adventure\",\"Action\",\"Misc\",\"Action\",\"Role-Playing\",\"Action\",\"Action\",\"Action\",\"Action\",\"Adventure\",\"Adventure\",\"Simulation\",\"Racing\",\"Misc\",\"Fighting\",\"Platform\",\"Action\",\"Action\",\"Adventure\",\"Action\",\"Sports\",\"Racing\",\"Platform\",\"Platform\",\"Action\",\"Sports\",\"Action\",\"Strategy\",\"Action\",\"Racing\",\"Action\",\"Action\",\"Action\",\"Sports\",\"Role-Playing\",\"Fighting\",\"Action\",\"Adventure\",\"Sports\",\"Role-Playing\",\"Action\",\"Misc\",\"Action\",\"Action\",\"Strategy\",\"Action\",\"Action\",\"Strategy\",\"Fighting\",\"Adventure\",\"Adventure\",\"Action\",\"Sports\",\"Action\",\"Racing\",\"Platform\",\"Action\",\"Shooter\",\"Fighting\",\"Platform\",\"Action\",\"Role-Playing\",\"Action\",\"Shooter\",\"Fighting\",\"Action\",\"Sports\",\"Adventure\",\"Adventure\",\"Sports\",\"Role-Playing\",\"Shooter\",\"Action\",\"Action\",\"Role-Playing\",\"Action\",\"Action\",\"Action\",\"Action\",\"Action\",\"Racing\",\"Action\",\"Role-Playing\",\"Misc\",\"Adventure\",\"Action\",\"Adventure\",\"Role-Playing\",\"Misc\",\"Role-Playing\",\"Strategy\",\"Role-Playing\",\"Fighting\",\"Role-Playing\",\"Role-Playing\",\"Action\",\"Role-Playing\",\"Adventure\",\"Action\",\"Role-Playing\",\"Role-Playing\",\"Action\",\"Action\",\"Role-Playing\",\"Action\",\"Role-Playing\",\"Role-Playing\",\"Adventure\",\"Puzzle\",\"Action\",\"Misc\",\"Sports\",\"Misc\",\"Fighting\",\"Role-Playing\",\"Action\",\"Action\",\"Fighting\",\"Action\",\"Action\",\"Adventure\",\"Sports\",\"Action\",\"Adventure\",\"Action\",\"Action\",\"Role-Playing\",\"Role-Playing\",\"Adventure\",\"Fighting\",\"Action\",\"Action\",\"Adventure\",\"Strategy\",\"Action\",\"Adventure\",\"Action\",\"Role-Playing\",\"Misc\",\"Adventure\",\"Role-Playing\",\"Misc\",\"Action\",\"Action\",\"Action\",\"Action\",\"Puzzle\",\"Misc\",\"Platform\",\"Misc\",\"Action\",\"Role-Playing\",\"Action\",\"Racing\",\"Fighting\",\"Action\",\"Sports\",\"Adventure\",\"Action\",\"Action\",\"Action\",\"Action\",\"Action\",\"Action\",\"Simulation\",\"Action\",\"Adventure\",\"Racing\",\"Role-Playing\",\"Role-Playing\",\"Action\",\"Shooter\",\"Role-Playing\",\"Action\",\"Action\",\"Strategy\",\"Action\",\"Action\",\"Role-Playing\",\"Role-Playing\",\"Action\",\"Fighting\",\"Role-Playing\",\"Role-Playing\",\"Action\",\"Sports\",\"Strategy\",\"Action\",\"Adventure\",\"Adventure\",\"Role-Playing\",\"Role-Playing\",\"Racing\",\"Action\",\"Adventure\",\"Fighting\",\"Action\",\"Role-Playing\",\"Role-Playing\",\"Action\",\"Fighting\",\"Action\",\"Action\",\"Sports\",\"Simulation\",\"Sports\",\"Action\",\"Sports\",\"Role-Playing\",\"Misc\",\"Role-Playing\",\"Sports\",\"Action\",\"Strategy\",\"Sports\",\"Misc\",\"Misc\",\"Action\",\"Adventure\",\"Strategy\",\"Shooter\",\"Action\",\"Action\",\"Action\",\"Action\",\"Action\",\"Adventure\",\"Action\",\"Adventure\",\"Role-Playing\",\"Racing\",\"Role-Playing\",\"Role-Playing\",\"Strategy\",\"Platform\",\"Sports\",\"Racing\",\"Role-Playing\",\"Action\",\"Sports\",\"Racing\",\"Action\",\"Action\",\"Adventure\",\"Shooter\",\"Action\",\"Fighting\",\"Adventure\",\"Action\",\"Role-Playing\",\"Role-Playing\",\"Adventure\",\"Action\",\"Misc\",\"Action\",\"Sports\",\"Action\",\"Role-Playing\",\"Adventure\",\"Racing\",\"Action\",\"Action\",\"Adventure\",\"Role-Playing\",\"Action\",\"Role-Playing\",\"Action\",\"Misc\",\"Shooter\",\"Strategy\",\"Action\",\"Shooter\",\"Racing\",\"Role-Playing\",\"Action\",\"Adventure\",\"Racing\",\"Adventure\",\"Action\",\"Sports\",\"Role-Playing\",\"Puzzle\",\"Strategy\",\"Action\",\"Role-Playing\",\"Action\",\"Adventure\",\"Role-Playing\",\"Misc\",\"Racing\",\"Action\",\"Adventure\",\"Adventure\",\"Shooter\",\"Action\",\"Role-Playing\",\"Racing\",\"Action\",\"Action\",\"Adventure\",\"Action\",\"Action\",\"Misc\",\"Action\",\"Sports\",\"Action\",\"Puzzle\",\"Action\",\"Action\",\"Shooter\",\"Platform\",\"Action\",\"Strategy\",\"Action\",\"Adventure\",\"Fighting\",\"Role-Playing\",\"Adventure\",\"Action\",\"Action\",\"Fighting\",\"Adventure\",\"Fighting\",\"Action\",\"Action\",\"Action\",\"Strategy\",\"Misc\",\"Sports\",\"Action\",\"Strategy\",\"Shooter\",\"Adventure\",\"Action\",\"Action\",\"Adventure\",\"Adventure\",\"Action\",\"Action\",\"Action\",\"Misc\",\"Simulation\",\"Adventure\",\"Role-Playing\",\"Role-Playing\",\"Platform\",\"Adventure\",\"Action\",\"Action\",\"Action\",\"Sports\",\"Action\",\"Action\",\"Misc\",\"Simulation\",\"Adventure\",\"Action\",\"Racing\",\"Role-Playing\",\"Action\",\"Role-Playing\",\"Role-Playing\",\"Action\",\"Role-Playing\",\"Racing\",\"Role-Playing\",\"Strategy\",\"Misc\",\"Simulation\",\"Shooter\",\"Misc\",\"Misc\",\"Role-Playing\",\"Sports\",\"Action\",\"Misc\",\"Action\",\"Action\",\"Role-Playing\",\"Simulation\",\"Action\",\"Sports\",\"Sports\",\"Action\",\"Action\",\"Action\",\"Sports\",\"Action\",\"Racing\",\"Fighting\",\"Shooter\",\"Puzzle\",\"Role-Playing\",\"Role-Playing\",\"Action\",\"Action\",\"Action\",\"Fighting\",\"Action\",\"Role-Playing\",\"Role-Playing\",\"Misc\",\"Misc\",\"Action\",\"Role-Playing\",\"Role-Playing\",\"Role-Playing\",\"Role-Playing\",\"Role-Playing\",\"Sports\",\"Racing\",\"Role-Playing\",\"Misc\",\"Adventure\",\"Adventure\",\"Action\",\"Action\",\"Action\",\"Role-Playing\",\"Platform\",\"Action\",\"Racing\",\"Racing\",\"Action\",\"Action\",\"Role-Playing\",\"Action\",\"Fighting\",\"Sports\",\"Shooter\",\"Sports\",\"Adventure\",\"Action\",\"Adventure\",\"Action\",\"Adventure\",\"Sports\",\"Adventure\",\"Role-Playing\",\"Action\",\"Racing\",\"Sports\",\"Action\",\"Action\",\"Adventure\",\"Action\",\"Misc\",\"Adventure\",\"Action\",\"Sports\",\"Action\",\"Action\",\"Role-Playing\",\"Racing\",\"Action\",\"Role-Playing\",\"Action\",\"Action\",\"Role-Playing\",\"Strategy\",\"Action\",\"Adventure\",\"Action\",\"Role-Playing\",\"Role-Playing\",\"Misc\",\"Adventure\",\"Adventure\",\"Action\",\"Sports\",\"Action\",\"Role-Playing\",\"Adventure\",\"Platform\",\"Adventure\",\"Action\",\"Role-Playing\",\"Puzzle\",\"Action\",\"Action\",\"Racing\",\"Adventure\",\"Simulation\",\"Adventure\",\"Shooter\",\"Adventure\",\"Role-Playing\",\"Role-Playing\",\"Racing\",\"Action\",\"Adventure\",\"Simulation\",\"Misc\",\"Action\",\"Adventure\",\"Adventure\",\"Action\",\"Sports\",\"Sports\",\"Adventure\",\"Role-Playing\",\"Action\",\"Action\",\"Simulation\",\"Misc\",\"Fighting\",\"Strategy\",\"Misc\",\"Action\",\"Action\",\"Action\",\"Simulation\",\"Adventure\",\"Misc\",\"Misc\",\"Adventure\",\"Action\",\"Action\",\"Shooter\",\"Role-Playing\",\"Role-Playing\",\"Racing\",\"Role-Playing\",\"Fighting\",\"Adventure\",\"Action\",\"Shooter\",\"Action\",\"Action\",\"Adventure\",\"Action\",\"Role-Playing\",\"Action\",\"Action\",\"Action\",\"Misc\",\"Action\",\"Action\",\"Action\",\"Action\",\"Adventure\",\"Action\",\"Action\",\"Fighting\",\"Sports\",\"Action\",\"Action\",\"Adventure\",\"Action\",\"Misc\",\"Adventure\",\"Action\",\"Role-Playing\",\"Adventure\",\"Action\",\"Sports\",\"Action\",\"Action\",\"Misc\",\"Sports\",\"Role-Playing\",\"Shooter\",\"Shooter\",\"Simulation\",\"Adventure\",\"Adventure\",\"Action\",\"Adventure\",\"Action\",\"Shooter\",\"Misc\",\"Action\",\"Adventure\",\"Action\",\"Misc\",\"Adventure\",\"Role-Playing\",\"Sports\",\"Role-Playing\",\"Adventure\",\"Misc\",\"Adventure\",\"Action\",\"Misc\",\"Action\",\"Strategy\",\"Shooter\",\"Simulation\",\"Action\",\"Action\",\"Adventure\",\"Action\",\"Action\",\"Adventure\",\"Action\",\"Adventure\",\"Action\",\"Strategy\",\"Action\",\"Action\",\"Action\",\"Action\",\"Action\",\"Adventure\",\"Action\",\"Adventure\",\"Action\",\"Action\",\"Platform\",\"Action\",\"Simulation\",\"Action\",\"Misc\",\"Action\",\"Misc\",\"Action\",\"Action\",\"Action\",\"Action\",\"Action\",\"Misc\",\"Adventure\",\"Action\",\"Misc\",\"Action\",\"Role-Playing\",\"Adventure\",\"Adventure\",\"Adventure\",\"Action\",\"Adventure\",\"Adventure\",\"Misc\",\"Action\",\"Adventure\",\"Adventure\",\"Action\",\"Action\",\"Action\",\"Fighting\",\"Action\",\"Adventure\",\"Action\",\"Action\",\"Sports\",\"Adventure\",\"Shooter\",\"Adventure\",\"Role-Playing\",\"Adventure\",\"Adventure\",\"Misc\",\"Adventure\",\"Action\",\"Action\",\"Action\",\"Puzzle\",\"Action\",\"Adventure\",\"Role-Playing\",\"Adventure\",\"Action\",\"Action\",\"Action\",\"Adventure\",\"Adventure\",\"Action\",\"Simulation\",\"Adventure\",\"Sports\",\"Action\",\"Misc\",\"Action\",\"Action\",\"Action\",\"Adventure\",\"Action\",\"Sports\",\"Strategy\",\"Action\",\"Action\",\"Adventure\",\"Action\",\"Racing\",\"Action\",\"Misc\",\"Adventure\",\"Platform\",\"Action\",\"Racing\",\"Action\",\"Simulation\",\"Sports\",\"Sports\",\"Adventure\",\"Shooter\",\"Strategy\",\"Action\",\"Sports\",\"Action\",\"Action\",\"Sports\",\"Action\",\"Role-Playing\",\"Adventure\",\"Strategy\",\"Action\",\"Adventure\",\"Misc\",\"Action\",\"Adventure\",\"Action\",\"Role-Playing\",\"Adventure\",\"Action\",\"Adventure\",\"Action\",\"Action\",\"Misc\",\"Simulation\",\"Sports\",\"Action\",\"Adventure\",\"Platform\",\"Action\",\"Adventure\",\"Action\",\"Adventure\",\"Adventure\",\"Adventure\",\"Adventure\",\"Action\",\"Action\",\"Action\",\"Action\",\"Adventure\",\"Action\",\"Racing\",\"Action\",\"Strategy\",\"Action\",\"Puzzle\",\"Action\",\"Platform\",\"Action\",\"Fighting\",\"Adventure\",\"Adventure\",\"Role-Playing\",\"Action\",\"Simulation\",\"Adventure\",\"Action\",\"Adventure\",\"Action\",\"Adventure\",\"Puzzle\",\"Simulation\",\"Sports\",\"Adventure\",\"Strategy\",\"Action\",\"Action\",\"Action\",\"Action\",\"Adventure\",\"Action\",\"Action\",\"Racing\",\"Action\",\"Fighting\",\"Adventure\",\"Adventure\",\"Action\",\"Adventure\",\"Racing\",\"Racing\",\"Misc\",\"Adventure\",\"Sports\",\"Adventure\",\"Role-Playing\",\"Action\",\"Action\",\"Adventure\",\"Adventure\",\"Action\",\"Racing\",\"Adventure\",\"Simulation\",\"Action\",\"Action\",\"Misc\",\"Action\",\"Action\",\"Adventure\",\"Simulation\",\"Action\",\"Action\",\"Misc\",\"Action\",\"Puzzle\",\"Adventure\",\"Misc\",\"Adventure\",\"Misc\",\"Strategy\",\"Adventure\",\"Action\",\"Racing\",\"Action\",\"Sports\",\"Sports\",\"Action\",\"Action\",\"Action\",\"Adventure\",\"Action\",\"Action\",\"Adventure\",\"Action\",\"Action\",\"Action\",\"Action\",\"Action\",\"Adventure\",\"Action\",\"Action\",\"Action\",\"Adventure\",\"Misc\",\"Action\",\"Adventure\",\"Simulation\"],\"y\":[1.9600000000000002,1.9200000000000002,1.92,1.9100000000000001,1.8800000000000001,1.85,1.83,1.83,1.81,1.7999999999999998,1.7900000000000003,1.74,1.75,1.7400000000000002,1.7200000000000002,1.7200000000000002,1.73,1.7,1.6900000000000002,1.69,1.6700000000000002,1.6600000000000001,1.6600000000000001,1.6400000000000001,1.6300000000000001,1.6100000000000003,1.58,1.5700000000000003,1.5699999999999998,1.56,1.54,1.54,1.5299999999999998,1.4900000000000002,1.49,1.4600000000000002,1.4000000000000001,1.4000000000000001,1.3800000000000001,1.38,1.3800000000000001,1.3599999999999999,1.3599999999999999,1.3399999999999999,1.3399999999999999,1.34,1.33,1.3199999999999998,1.3,1.3,1.2900000000000003,1.29,1.29,1.2800000000000002,1.28,1.2800000000000002,1.27,1.2799999999999998,1.2699999999999998,1.25,1.25,1.23,1.23,1.23,1.21,1.21,1.1900000000000002,1.1900000000000002,1.2000000000000002,1.17,1.1700000000000002,1.15,1.1300000000000001,1.14,1.13,1.1199999999999999,1.11,1.1,1.0799999999999998,1.08,1.08,1.07,1.06,1.05,1.03,1.03,1.01,1.02,1.01,0.98,0.97,0.9700000000000001,0.9500000000000001,0.95,0.95,0.9400000000000001,0.9400000000000001,0.93,0.93,0.93,0.92,0.93,0.93,0.93,0.9299999999999999,0.9,0.91,0.9,0.9,0.9000000000000001,0.89,0.89,0.89,0.89,0.88,0.88,0.87,0.87,0.86,0.86,0.85,0.8400000000000001,0.8500000000000001,0.8200000000000001,0.79,0.78,0.79,0.78,0.7799999999999999,0.7699999999999999,0.76,0.76,0.75,0.7500000000000001,0.7600000000000001,0.75,0.75,0.75,0.75,0.74,0.7300000000000001,0.73,0.75,0.7300000000000001,0.7300000000000001,0.7300000000000001,0.73,0.73,0.73,0.73,0.7200000000000001,0.72,0.73,0.73,0.7200000000000001,0.7,0.7,0.71,0.6900000000000001,0.6900000000000001,0.6900000000000002,0.69,0.6799999999999999,0.6700000000000002,0.6900000000000001,0.6800000000000002,0.6599999999999999,0.67,0.67,0.67,0.6599999999999999,0.66,0.66,0.6599999999999999,0.65,0.6499999999999999,0.65,0.64,0.64,0.6400000000000001,0.6399999999999999,0.6400000000000001,0.64,0.6400000000000001,0.6300000000000001,0.64,0.63,0.63,0.63,0.63,0.6200000000000001,0.62,0.6200000000000001,0.61,0.61,0.62,0.61,0.61,0.6100000000000001,0.6000000000000001,0.6,0.6,0.6,0.59,0.6,0.5900000000000001,0.5800000000000001,0.5800000000000001,0.5700000000000001,0.5700000000000001,0.5700000000000001,0.56,0.5700000000000001,0.56,0.56,0.56,0.56,0.56,0.56,0.55,0.54,0.5599999999999999,0.56,0.55,0.55,0.53,0.53,0.53,0.53,0.53,0.53,0.52,0.53,0.53,0.52,0.51,0.52,0.51,0.49999999999999994,0.51,0.49,0.49000000000000005,0.48000000000000004,0.49,0.48,0.48000000000000004,0.48000000000000004,0.48,0.4799999999999999,0.4800000000000001,0.49000000000000005,0.48,0.47,0.47,0.45999999999999996,0.47000000000000003,0.47,0.46,0.45,0.46,0.46,0.45999999999999996,0.4600000000000001,0.45,0.44999999999999996,0.45,0.45999999999999996,0.45,0.44,0.44999999999999996,0.44000000000000006,0.44000000000000006,0.44,0.44,0.44,0.45,0.43,0.43,0.44000000000000006,0.44,0.44,0.43,0.43,0.43,0.43000000000000005,0.42,0.43,0.42000000000000004,0.42000000000000004,0.42000000000000004,0.42,0.42,0.41000000000000003,0.41,0.41,0.41,0.41000000000000003,0.41000000000000003,0.41000000000000003,0.41,0.4,0.4,0.38999999999999996,0.39999999999999997,0.39,0.39999999999999997,0.4,0.38999999999999996,0.39999999999999997,0.39,0.37999999999999995,0.39,0.38,0.38,0.38,0.38,0.38,0.38,0.38,0.37,0.37,0.37,0.37000000000000005,0.38,0.36000000000000004,0.36000000000000004,0.37,0.36,0.37,0.36,0.36,0.37,0.36,0.36000000000000004,0.36,0.36,0.34,0.36000000000000004,0.35,0.36,0.35000000000000003,0.36,0.35000000000000003,0.35,0.33999999999999997,0.34,0.33999999999999997,0.34,0.34,0.33999999999999997,0.33999999999999997,0.33999999999999997,0.33,0.34,0.33,0.33999999999999997,0.33,0.33,0.32000000000000006,0.31999999999999995,0.31999999999999995,0.32,0.31000000000000005,0.32000000000000006,0.33,0.32,0.32,0.31999999999999995,0.31999999999999995,0.32000000000000006,0.31,0.31000000000000005,0.31000000000000005,0.32,0.3,0.3,0.3,0.31000000000000005,0.31000000000000005,0.31,0.31000000000000005,0.31,0.3,0.3,0.3,0.29000000000000004,0.30000000000000004,0.3,0.3,0.29000000000000004,0.28,0.29000000000000004,0.28,0.29,0.28,0.29000000000000004,0.29000000000000004,0.27999999999999997,0.28,0.29000000000000004,0.27,0.28,0.27,0.28,0.27,0.29000000000000004,0.29,0.27,0.28,0.26999999999999996,0.27,0.27,0.27,0.27,0.26,0.26,0.27,0.26,0.26,0.26,0.26,0.26,0.26,0.26,0.26,0.26,0.26,0.25,0.25,0.25,0.25,0.26,0.26,0.25,0.24999999999999997,0.25,0.24000000000000002,0.24,0.24000000000000002,0.25,0.24999999999999997,0.24000000000000002,0.24,0.25,0.24000000000000002,0.24000000000000002,0.24999999999999997,0.24,0.24000000000000002,0.24,0.23,0.24000000000000002,0.24,0.24000000000000002,0.24,0.23,0.23,0.24000000000000002,0.23,0.22999999999999998,0.23,0.23,0.23,0.22000000000000003,0.23,0.23,0.23,0.23,0.22,0.22999999999999998,0.22,0.23,0.22,0.23,0.22,0.22,0.22,0.22,0.21000000000000002,0.22,0.22,0.22,0.21000000000000002,0.22,0.21000000000000002,0.21,0.22,0.21,0.21,0.21000000000000002,0.21,0.21,0.21000000000000002,0.21,0.19999999999999998,0.2,0.2,0.21,0.2,0.19999999999999998,0.2,0.2,0.19999999999999998,0.2,0.19999999999999998,0.2,0.21,0.19999999999999998,0.19999999999999998,0.19999999999999998,0.2,0.2,0.19999999999999998,0.19,0.19,0.18000000000000002,0.19,0.19999999999999998,0.18999999999999997,0.19,0.18000000000000002,0.19,0.19999999999999998,0.19,0.18,0.19,0.18000000000000002,0.19,0.19,0.18,0.19999999999999998,0.19,0.19,0.18000000000000002,0.18,0.18,0.18,0.18,0.18,0.18,0.18,0.18,0.18999999999999997,0.16999999999999998,0.18000000000000002,0.18,0.18,0.18000000000000002,0.17,0.17,0.18,0.17,0.16999999999999998,0.16,0.18,0.17,0.17,0.17,0.16,0.17,0.16999999999999998,0.17,0.16000000000000003,0.17,0.17,0.16999999999999998,0.16999999999999998,0.17,0.17,0.16,0.16,0.15000000000000002,0.16,0.16000000000000003,0.16000000000000003,0.17,0.16,0.16,0.16,0.15000000000000002,0.15000000000000002,0.16,0.16,0.16000000000000003,0.16,0.15000000000000002,0.15000000000000002,0.15,0.16,0.15,0.15,0.15,0.14,0.15,0.15,0.15,0.15000000000000002,0.15000000000000002,0.15,0.15000000000000002,0.13999999999999999,0.15,0.16,0.15,0.15,0.15000000000000002,0.14,0.14,0.14,0.14,0.15000000000000002,0.15000000000000002,0.14,0.14,0.13999999999999999,0.13999999999999999,0.14,0.14,0.14,0.15,0.14,0.14,0.14,0.14,0.14,0.14,0.13999999999999999,0.14,0.14,0.13,0.13,0.14,0.13,0.14,0.14,0.13,0.13,0.13,0.13,0.13,0.13,0.13,0.13,0.12000000000000001,0.13,0.13,0.13,0.13,0.13,0.13,0.13,0.13,0.12000000000000001,0.13,0.13,0.12999999999999998,0.13,0.13,0.12000000000000001,0.13,0.13,0.12000000000000001,0.13,0.12,0.12,0.12,0.13,0.12,0.12,0.12,0.12,0.12000000000000001,0.11,0.12,0.11,0.12,0.12,0.12000000000000001,0.12000000000000001,0.11,0.12,0.12,0.12,0.12,0.12,0.12,0.12,0.11,0.12,0.12,0.12,0.12,0.12,0.12,0.12,0.11000000000000001,0.12,0.12000000000000001,0.11,0.11,0.11,0.11,0.11,0.11,0.11,0.11,0.11,0.12000000000000001,0.11,0.11,0.11,0.12000000000000001,0.11,0.11,0.11,0.11,0.12000000000000001,0.11,0.11,0.11,0.10999999999999999,0.11,0.09999999999999999,0.11,0.11,0.11,0.11,0.09999999999999999,0.11,0.09999999999999999,0.11000000000000001,0.11,0.1,0.1,0.1,0.11,0.09999999999999999,0.1,0.11,0.09999999999999999,0.11,0.11,0.11,0.1,0.09999999999999999,0.1,0.1,0.09999999999999999,0.09999999999999999,0.1,0.09,0.1,0.09999999999999999,0.09,0.1,0.1,0.1,0.09999999999999999,0.09999999999999999,0.1,0.09999999999999999,0.09999999999999999,0.1,0.09,0.1,0.1,0.09999999999999999,0.1,0.09999999999999999,0.09999999999999999,0.09,0.09000000000000001,0.09999999999999999,0.1,0.09999999999999999,0.09,0.09,0.09,0.09,0.1,0.09,0.09000000000000001,0.09,0.09,0.09999999999999999,0.08,0.09,0.1,0.09,0.1,0.09,0.09000000000000001,0.09,0.09,0.09,0.09999999999999999,0.09,0.09,0.09,0.09,0.08,0.08,0.09,0.08,0.09,0.09,0.08,0.08,0.09999999999999999,0.09,0.09,0.09,0.09,0.09,0.09,0.08,0.08,0.09,0.09,0.08,0.08,0.08,0.08,0.09,0.08,0.08,0.08,0.08,0.06999999999999999,0.08,0.09,0.09,0.09000000000000001,0.07,0.08,0.07999999999999999,0.08,0.07999999999999999,0.08,0.08,0.08,0.08,0.08,0.08,0.06999999999999999,0.08,0.06999999999999999,0.08,0.08,0.08,0.07999999999999999,0.07,0.09,0.07,0.08,0.08,0.08,0.08,0.08,0.08,0.08,0.08,0.08,0.08,0.07,0.07,0.07,0.08,0.08,0.07,0.07,0.06999999999999999,0.07,0.07,0.08,0.07,0.06999999999999999,0.08,0.07,0.06999999999999999,0.07,0.06999999999999999,0.06999999999999999,0.07,0.06999999999999999,0.07999999999999999,0.06999999999999999,0.06999999999999999,0.06999999999999999,0.06999999999999999,0.08,0.07,0.07,0.07,0.07,0.060000000000000005,0.06999999999999999,0.07,0.07,0.07,0.07,0.06999999999999999,0.060000000000000005,0.07,0.07,0.06999999999999999,0.07,0.06,0.07,0.07,0.06999999999999999,0.07,0.06999999999999999,0.06,0.06,0.06,0.06,0.06,0.06999999999999999,0.06,0.06,0.060000000000000005,0.06,0.06999999999999999,0.06999999999999999,0.06,0.060000000000000005,0.060000000000000005,0.06,0.06,0.060000000000000005,0.06999999999999999,0.060000000000000005,0.06,0.06,0.060000000000000005,0.06,0.06,0.06,0.06,0.060000000000000005,0.06999999999999999,0.060000000000000005,0.060000000000000005,0.060000000000000005,0.06999999999999999,0.06,0.06,0.06,0.05,0.06,0.06,0.06,0.060000000000000005,0.07,0.06,0.06,0.06,0.060000000000000005,0.06,0.06999999999999999,0.06,0.060000000000000005,0.06,0.06,0.060000000000000005,0.05,0.06,0.06999999999999999,0.060000000000000005,0.060000000000000005,0.06,0.06,0.05,0.05,0.06,0.060000000000000005,0.05,0.060000000000000005,0.060000000000000005,0.060000000000000005,0.060000000000000005,0.06,0.06,0.060000000000000005,0.06,0.06,0.05,0.060000000000000005,0.06,0.05,0.05,0.05,0.060000000000000005,0.05,0.05,0.05,0.05,0.05,0.060000000000000005,0.05,0.060000000000000005,0.05,0.05,0.060000000000000005,0.05,0.05,0.05,0.05,0.05,0.05,0.05,0.060000000000000005,0.05,0.05,0.05,0.05,0.05,0.05,0.05,0.05,0.05,0.05,0.060000000000000005,0.05,0.05,0.05,0.05,0.060000000000000005,0.05,0.05,0.05,0.05,0.05,0.05,0.05,0.05,0.04,0.060000000000000005,0.05,0.04,0.05,0.05,0.05,0.04,0.05,0.05,0.05,0.05,0.05,0.05,0.05,0.04,0.05,0.05,0.04,0.04,0.05,0.05,0.05,0.05,0.05,0.05,0.05,0.05,0.05,0.04,0.05,0.05,0.05,0.04,0.04,0.05,0.04,0.05,0.04,0.04,0.04,0.04,0.04,0.04,0.04,0.04,0.04,0.04,0.04,0.04,0.04,0.04,0.04,0.04,0.04,0.04,0.03,0.04,0.05,0.03,0.03,0.04,0.04,0.04,0.05,0.04,0.04,0.04,0.04,0.04,0.04,0.04,0.04,0.04,0.04,0.04,0.04,0.04,0.05,0.04,0.04,0.03,0.04,0.04,0.04,0.04,0.04,0.04,0.04,0.04,0.04,0.04,0.04,0.03,0.04,0.04,0.04,0.04,0.04,0.04,0.04,0.04,0.04,0.04,0.03,0.03,0.03,0.04,0.03,0.03,0.04,0.04,0.04,0.04,0.03,0.03,0.03,0.03,0.03,0.03,0.03,0.03,0.03,0.03,0.03,0.03,0.04,0.03,0.03,0.03,0.03,0.03,0.03,0.03,0.03,0.03,0.03,0.03,0.03,0.04,0.03,0.03,0.03,0.03,0.03,0.04,0.03,0.03,0.03,0.03,0.03,0.03,0.03,0.03,0.03,0.03,0.03,0.03,0.03,0.03,0.03,0.03,0.03,0.03,0.03,0.04,0.03,0.02,0.04,0.03,0.03,0.03,0.03,0.03,0.03,0.03,0.03,0.03,0.03,0.03,0.03,0.03,0.03,0.03,0.02,0.03,0.03,0.03,0.03,0.03,0.03,0.03,0.03,0.03,0.03,0.03,0.03,0.03,0.03,0.03,0.03,0.03,0.03,0.03,0.03,0.02,0.03,0.03,0.03,0.03,0.03,0.03,0.03,0.02,0.03,0.03,0.03,0.03,0.03,0.03,0.02,0.02,0.03,0.03,0.03,0.03,0.03,0.03,0.03,0.02,0.03,0.03,0.03,0.02,0.02,0.03,0.02,0.03,0.03,0.02,0.03,0.03,0.02,0.03,0.02,0.02,0.03,0.02,0.02,0.02,0.03,0.03,0.03,0.02,0.02,0.03,0.02,0.02,0.02,0.02,0.02,0.02,0.02,0.02,0.02,0.02,0.02,0.02,0.02,0.02,0.02,0.02,0.02,0.02,0.02,0.02,0.02,0.02,0.02,0.02,0.02,0.02,0.02,0.02,0.02,0.02,0.02,0.02,0.02,0.02,0.02,0.02,0.02,0.02,0.02,0.02,0.02,0.02,0.02,0.02,0.02,0.02,0.02,0.02,0.02,0.02,0.02,0.02,0.02,0.02,0.02,0.02,0.02,0.02,0.02,0.02,0.02,0.02,0.02,0.02,0.02,0.02,0.02,0.02,0.01,0.02,0.02,0.02,0.02,0.02,0.02,0.02,0.02,0.02,0.02,0.02,0.02,0.02,0.02,0.02,0.02,0.02,0.02,0.02,0.02,0.01,0.02,0.02,0.02,0.02,0.02,0.02,0.02,0.02,0.02,0.02,0.02,0.02,0.02,0.02,0.02,0.02,0.02,0.02,0.02,0.01,0.02,0.02,0.01,0.02,0.02,0.02,0.01,0.02,0.02,0.02,0.02,0.02,0.02,0.02,0.01,0.02,0.02,0.02,0.02,0.02,0.02,0.01,0.02,0.02,0.01,0.02,0.02,0.02,0.02,0.02,0.02,0.01,0.02,0.02,0.02,0.02,0.01,0.01,0.02,0.01,0.02,0.02,0.02,0.02,0.02,0.01,0.01,0.01,0.02,0.01,0.01,0.02,0.02,0.01,0.02,0.01,0.01,0.01,0.01,0.01,0.02,0.01,0.01,0.01,0.01,0.01,0.01,0.01,0.01,0.01,0.01,0.01,0.01,0.01,0.01,0.01,0.01,0.01,0.01,0.01,0.01,0.01,0.01,0.01,0.01,0.01,0.01,0.01,0.01,0.01,0.01,0.01,0.01,0.01,0.01,0.01,0.01,0.01,0.01,0.01,0.01,0.01,0.01,0.01,0.01,0.01,0.01,0.01,0.01,0.01,0.01,0.01,0.01,0.01,0.01,0.01,0.01,0.01,0.01,0.01,0.01,0.01,0.01,0.01,0.01,0.01,0.01,0.01,0.01,0.01,0.01,0.01,0.01,0.01,0.01,0.01,0.01,0.01,0.01,0.01,0.01,0.01,0.01,0.01,0.01,0.01,0.01,0.01,0.01,0.01,0.01,0.01,0.01,0.01,0.01,0.01,0.01,0.01,0.01,0.01,0.01,0.01,0.01,0.01,0.01,0.01,0.01,0.01,0.01,0.01,0.01,0.01,0.01,0.01,0.01,0.01,0.01,0.01,0.01,0.01,0.01,0.01,0.01,0.01,0.01,0.01,0.01,0.01,0.01,0.01,0.01,0.01,0.01,0.01,0.01,0.01,0.01,0.01,0.01,0.01,0.01,0.01,0.01,0.01],\"type\":\"box\"}],                        {\"template\":{\"data\":{\"bar\":[{\"error_x\":{\"color\":\"#2a3f5f\"},\"error_y\":{\"color\":\"#2a3f5f\"},\"marker\":{\"line\":{\"color\":\"#E5ECF6\",\"width\":0.5},\"pattern\":{\"fillmode\":\"overlay\",\"size\":10,\"solidity\":0.2}},\"type\":\"bar\"}],\"barpolar\":[{\"marker\":{\"line\":{\"color\":\"#E5ECF6\",\"width\":0.5},\"pattern\":{\"fillmode\":\"overlay\",\"size\":10,\"solidity\":0.2}},\"type\":\"barpolar\"}],\"carpet\":[{\"aaxis\":{\"endlinecolor\":\"#2a3f5f\",\"gridcolor\":\"white\",\"linecolor\":\"white\",\"minorgridcolor\":\"white\",\"startlinecolor\":\"#2a3f5f\"},\"baxis\":{\"endlinecolor\":\"#2a3f5f\",\"gridcolor\":\"white\",\"linecolor\":\"white\",\"minorgridcolor\":\"white\",\"startlinecolor\":\"#2a3f5f\"},\"type\":\"carpet\"}],\"choropleth\":[{\"colorbar\":{\"outlinewidth\":0,\"ticks\":\"\"},\"type\":\"choropleth\"}],\"contour\":[{\"colorbar\":{\"outlinewidth\":0,\"ticks\":\"\"},\"colorscale\":[[0.0,\"#0d0887\"],[0.1111111111111111,\"#46039f\"],[0.2222222222222222,\"#7201a8\"],[0.3333333333333333,\"#9c179e\"],[0.4444444444444444,\"#bd3786\"],[0.5555555555555556,\"#d8576b\"],[0.6666666666666666,\"#ed7953\"],[0.7777777777777778,\"#fb9f3a\"],[0.8888888888888888,\"#fdca26\"],[1.0,\"#f0f921\"]],\"type\":\"contour\"}],\"contourcarpet\":[{\"colorbar\":{\"outlinewidth\":0,\"ticks\":\"\"},\"type\":\"contourcarpet\"}],\"heatmap\":[{\"colorbar\":{\"outlinewidth\":0,\"ticks\":\"\"},\"colorscale\":[[0.0,\"#0d0887\"],[0.1111111111111111,\"#46039f\"],[0.2222222222222222,\"#7201a8\"],[0.3333333333333333,\"#9c179e\"],[0.4444444444444444,\"#bd3786\"],[0.5555555555555556,\"#d8576b\"],[0.6666666666666666,\"#ed7953\"],[0.7777777777777778,\"#fb9f3a\"],[0.8888888888888888,\"#fdca26\"],[1.0,\"#f0f921\"]],\"type\":\"heatmap\"}],\"heatmapgl\":[{\"colorbar\":{\"outlinewidth\":0,\"ticks\":\"\"},\"colorscale\":[[0.0,\"#0d0887\"],[0.1111111111111111,\"#46039f\"],[0.2222222222222222,\"#7201a8\"],[0.3333333333333333,\"#9c179e\"],[0.4444444444444444,\"#bd3786\"],[0.5555555555555556,\"#d8576b\"],[0.6666666666666666,\"#ed7953\"],[0.7777777777777778,\"#fb9f3a\"],[0.8888888888888888,\"#fdca26\"],[1.0,\"#f0f921\"]],\"type\":\"heatmapgl\"}],\"histogram\":[{\"marker\":{\"pattern\":{\"fillmode\":\"overlay\",\"size\":10,\"solidity\":0.2}},\"type\":\"histogram\"}],\"histogram2d\":[{\"colorbar\":{\"outlinewidth\":0,\"ticks\":\"\"},\"colorscale\":[[0.0,\"#0d0887\"],[0.1111111111111111,\"#46039f\"],[0.2222222222222222,\"#7201a8\"],[0.3333333333333333,\"#9c179e\"],[0.4444444444444444,\"#bd3786\"],[0.5555555555555556,\"#d8576b\"],[0.6666666666666666,\"#ed7953\"],[0.7777777777777778,\"#fb9f3a\"],[0.8888888888888888,\"#fdca26\"],[1.0,\"#f0f921\"]],\"type\":\"histogram2d\"}],\"histogram2dcontour\":[{\"colorbar\":{\"outlinewidth\":0,\"ticks\":\"\"},\"colorscale\":[[0.0,\"#0d0887\"],[0.1111111111111111,\"#46039f\"],[0.2222222222222222,\"#7201a8\"],[0.3333333333333333,\"#9c179e\"],[0.4444444444444444,\"#bd3786\"],[0.5555555555555556,\"#d8576b\"],[0.6666666666666666,\"#ed7953\"],[0.7777777777777778,\"#fb9f3a\"],[0.8888888888888888,\"#fdca26\"],[1.0,\"#f0f921\"]],\"type\":\"histogram2dcontour\"}],\"mesh3d\":[{\"colorbar\":{\"outlinewidth\":0,\"ticks\":\"\"},\"type\":\"mesh3d\"}],\"parcoords\":[{\"line\":{\"colorbar\":{\"outlinewidth\":0,\"ticks\":\"\"}},\"type\":\"parcoords\"}],\"pie\":[{\"automargin\":true,\"type\":\"pie\"}],\"scatter\":[{\"marker\":{\"colorbar\":{\"outlinewidth\":0,\"ticks\":\"\"}},\"type\":\"scatter\"}],\"scatter3d\":[{\"line\":{\"colorbar\":{\"outlinewidth\":0,\"ticks\":\"\"}},\"marker\":{\"colorbar\":{\"outlinewidth\":0,\"ticks\":\"\"}},\"type\":\"scatter3d\"}],\"scattercarpet\":[{\"marker\":{\"colorbar\":{\"outlinewidth\":0,\"ticks\":\"\"}},\"type\":\"scattercarpet\"}],\"scattergeo\":[{\"marker\":{\"colorbar\":{\"outlinewidth\":0,\"ticks\":\"\"}},\"type\":\"scattergeo\"}],\"scattergl\":[{\"marker\":{\"colorbar\":{\"outlinewidth\":0,\"ticks\":\"\"}},\"type\":\"scattergl\"}],\"scattermapbox\":[{\"marker\":{\"colorbar\":{\"outlinewidth\":0,\"ticks\":\"\"}},\"type\":\"scattermapbox\"}],\"scatterpolar\":[{\"marker\":{\"colorbar\":{\"outlinewidth\":0,\"ticks\":\"\"}},\"type\":\"scatterpolar\"}],\"scatterpolargl\":[{\"marker\":{\"colorbar\":{\"outlinewidth\":0,\"ticks\":\"\"}},\"type\":\"scatterpolargl\"}],\"scatterternary\":[{\"marker\":{\"colorbar\":{\"outlinewidth\":0,\"ticks\":\"\"}},\"type\":\"scatterternary\"}],\"surface\":[{\"colorbar\":{\"outlinewidth\":0,\"ticks\":\"\"},\"colorscale\":[[0.0,\"#0d0887\"],[0.1111111111111111,\"#46039f\"],[0.2222222222222222,\"#7201a8\"],[0.3333333333333333,\"#9c179e\"],[0.4444444444444444,\"#bd3786\"],[0.5555555555555556,\"#d8576b\"],[0.6666666666666666,\"#ed7953\"],[0.7777777777777778,\"#fb9f3a\"],[0.8888888888888888,\"#fdca26\"],[1.0,\"#f0f921\"]],\"type\":\"surface\"}],\"table\":[{\"cells\":{\"fill\":{\"color\":\"#EBF0F8\"},\"line\":{\"color\":\"white\"}},\"header\":{\"fill\":{\"color\":\"#C8D4E3\"},\"line\":{\"color\":\"white\"}},\"type\":\"table\"}]},\"layout\":{\"annotationdefaults\":{\"arrowcolor\":\"#2a3f5f\",\"arrowhead\":0,\"arrowwidth\":1},\"autotypenumbers\":\"strict\",\"coloraxis\":{\"colorbar\":{\"outlinewidth\":0,\"ticks\":\"\"}},\"colorscale\":{\"diverging\":[[0,\"#8e0152\"],[0.1,\"#c51b7d\"],[0.2,\"#de77ae\"],[0.3,\"#f1b6da\"],[0.4,\"#fde0ef\"],[0.5,\"#f7f7f7\"],[0.6,\"#e6f5d0\"],[0.7,\"#b8e186\"],[0.8,\"#7fbc41\"],[0.9,\"#4d9221\"],[1,\"#276419\"]],\"sequential\":[[0.0,\"#0d0887\"],[0.1111111111111111,\"#46039f\"],[0.2222222222222222,\"#7201a8\"],[0.3333333333333333,\"#9c179e\"],[0.4444444444444444,\"#bd3786\"],[0.5555555555555556,\"#d8576b\"],[0.6666666666666666,\"#ed7953\"],[0.7777777777777778,\"#fb9f3a\"],[0.8888888888888888,\"#fdca26\"],[1.0,\"#f0f921\"]],\"sequentialminus\":[[0.0,\"#0d0887\"],[0.1111111111111111,\"#46039f\"],[0.2222222222222222,\"#7201a8\"],[0.3333333333333333,\"#9c179e\"],[0.4444444444444444,\"#bd3786\"],[0.5555555555555556,\"#d8576b\"],[0.6666666666666666,\"#ed7953\"],[0.7777777777777778,\"#fb9f3a\"],[0.8888888888888888,\"#fdca26\"],[1.0,\"#f0f921\"]]},\"colorway\":[\"#636efa\",\"#EF553B\",\"#00cc96\",\"#ab63fa\",\"#FFA15A\",\"#19d3f3\",\"#FF6692\",\"#B6E880\",\"#FF97FF\",\"#FECB52\"],\"font\":{\"color\":\"#2a3f5f\"},\"geo\":{\"bgcolor\":\"white\",\"lakecolor\":\"white\",\"landcolor\":\"#E5ECF6\",\"showlakes\":true,\"showland\":true,\"subunitcolor\":\"white\"},\"hoverlabel\":{\"align\":\"left\"},\"hovermode\":\"closest\",\"mapbox\":{\"style\":\"light\"},\"paper_bgcolor\":\"white\",\"plot_bgcolor\":\"#E5ECF6\",\"polar\":{\"angularaxis\":{\"gridcolor\":\"white\",\"linecolor\":\"white\",\"ticks\":\"\"},\"bgcolor\":\"#E5ECF6\",\"radialaxis\":{\"gridcolor\":\"white\",\"linecolor\":\"white\",\"ticks\":\"\"}},\"scene\":{\"xaxis\":{\"backgroundcolor\":\"#E5ECF6\",\"gridcolor\":\"white\",\"gridwidth\":2,\"linecolor\":\"white\",\"showbackground\":true,\"ticks\":\"\",\"zerolinecolor\":\"white\"},\"yaxis\":{\"backgroundcolor\":\"#E5ECF6\",\"gridcolor\":\"white\",\"gridwidth\":2,\"linecolor\":\"white\",\"showbackground\":true,\"ticks\":\"\",\"zerolinecolor\":\"white\"},\"zaxis\":{\"backgroundcolor\":\"#E5ECF6\",\"gridcolor\":\"white\",\"gridwidth\":2,\"linecolor\":\"white\",\"showbackground\":true,\"ticks\":\"\",\"zerolinecolor\":\"white\"}},\"shapedefaults\":{\"line\":{\"color\":\"#2a3f5f\"}},\"ternary\":{\"aaxis\":{\"gridcolor\":\"white\",\"linecolor\":\"white\",\"ticks\":\"\"},\"baxis\":{\"gridcolor\":\"white\",\"linecolor\":\"white\",\"ticks\":\"\"},\"bgcolor\":\"#E5ECF6\",\"caxis\":{\"gridcolor\":\"white\",\"linecolor\":\"white\",\"ticks\":\"\"}},\"title\":{\"x\":0.05},\"xaxis\":{\"automargin\":true,\"gridcolor\":\"white\",\"linecolor\":\"white\",\"ticks\":\"\",\"title\":{\"standoff\":15},\"zerolinecolor\":\"white\",\"zerolinewidth\":2},\"yaxis\":{\"automargin\":true,\"gridcolor\":\"white\",\"linecolor\":\"white\",\"ticks\":\"\",\"title\":{\"standoff\":15},\"zerolinecolor\":\"white\",\"zerolinewidth\":2}}},\"title\":{\"text\":\"box-and-whiskers diagram without release\"},\"xaxis\":{\"title\":{\"text\":\"\\u0416\\u0430\\u043d\\u0440\\u044b\"}},\"yaxis\":{\"title\":{\"text\":\"\\u041f\\u0440\\u043e\\u0434\\u0430\\u0436\\u0438\"}}},                        {\"responsive\": true}                    ).then(function(){\n",
              "                            \n",
              "var gd = document.getElementById('f3eb86f0-bc14-4d10-9f6f-aef18fee0213');\n",
              "var x = new MutationObserver(function (mutations, observer) {{\n",
              "        var display = window.getComputedStyle(gd).display;\n",
              "        if (!display || display === 'none') {{\n",
              "            console.log([gd, 'removed!']);\n",
              "            Plotly.purge(gd);\n",
              "            observer.disconnect();\n",
              "        }}\n",
              "}});\n",
              "\n",
              "// Listen for the removal of the full notebook cells\n",
              "var notebookContainer = gd.closest('#notebook-container');\n",
              "if (notebookContainer) {{\n",
              "    x.observe(notebookContainer, {childList: true});\n",
              "}}\n",
              "\n",
              "// Listen for the clearing of the current output cell\n",
              "var outputEl = gd.closest('.output');\n",
              "if (outputEl) {{\n",
              "    x.observe(outputEl, {childList: true});\n",
              "}}\n",
              "\n",
              "                        })                };                            </script>        </div>\n",
              "</body>\n",
              "</html>"
            ]
          },
          "metadata": {}
        }
      ],
      "source": [
        "# График с выбросами\n",
        "fig = go.Figure()\n",
        "fig.add_trace(go.Box(x = df_platform_3_1['genre'], y = df_platform_3_1['sum_sales']))\n",
        "fig.update_layout(title = \"box-and-whiskers diagram with release\",\n",
        "                  xaxis_title = \"Жанры\",\n",
        "                  yaxis_title = \"Продажи\")\n",
        "fig.show()\n",
        "\n",
        "# График без выбросов\n",
        "fig = go.Figure()\n",
        "fig.add_trace(go.Box(x = df_platform_3_2['genre'], y = df_platform_3_2['sum_sales']))\n",
        "fig.update_layout(title = \"box-and-whiskers diagram without release\",\n",
        "                  xaxis_title = \"Жанры\",\n",
        "                  yaxis_title = \"Продажи\")\n",
        "fig.show()"
      ]
    },
    {
      "cell_type": "markdown",
      "metadata": {
        "id": "5MTrdrib2UMs"
      },
      "source": [
        "**Самый большой размах принадлежит жанру Shooter (1.53), примерно 50% значений которого лежит выше 0,365. Также стоит отметить огромное количество выбросов жанра Action, появившихся вследствие низкой медианы и большого числа значений ниже нее. То же самое можно сказать и про Role-Playing и Sports.**"
      ]
    },
    {
      "cell_type": "markdown",
      "metadata": {
        "id": "ySyRX1DJ2UMu"
      },
      "source": [
        "## Портрет пользователя каждого региона"
      ]
    },
    {
      "cell_type": "markdown",
      "metadata": {
        "id": "ARKoKvSE2UMv"
      },
      "source": [
        "### Самые популярные платформы для пользователя каждого региона"
      ]
    },
    {
      "cell_type": "markdown",
      "metadata": {
        "id": "V9v4j7-s2UMv"
      },
      "source": [
        "**Создадим три сводные таблицы, демонстрирующие продажи в отдельно взятом регионе**"
      ]
    },
    {
      "cell_type": "code",
      "execution_count": 37,
      "metadata": {
        "id": "bQ2SUXxM2UMv"
      },
      "outputs": [],
      "source": [
        "sales_na = df_platform_3_1.pivot_table(index = 'platform', values = 'na_sales', aggfunc = 'sum')\\\n",
        "        .sort_values(by = 'na_sales', ascending = False).reset_index()\n",
        "sales_eu = df_platform_3_1.pivot_table(index = 'platform', values = 'eu_sales', aggfunc = 'sum')\\\n",
        "        .sort_values(by = 'eu_sales', ascending = False).reset_index()\n",
        "sales_jp = df_platform_3_1.pivot_table(index = 'platform', values = 'jp_sales', aggfunc = 'sum')\\\n",
        "        .sort_values(by = 'jp_sales', ascending = False).reset_index()\n"
      ]
    },
    {
      "cell_type": "code",
      "execution_count": 38,
      "metadata": {
        "id": "frhHR29q2UMw"
      },
      "outputs": [],
      "source": [
        "#display(sales_na.head(10))\n",
        "#display(sales_eu.head(10))\n",
        "#display(sales_jp.head(10))"
      ]
    },
    {
      "cell_type": "markdown",
      "metadata": {
        "id": "mWGVedVZ2UMw"
      },
      "source": [
        "**Видоизменим таблицы: все, что не вошло в ТОП-5 объединим в категорию \"другие\"**"
      ]
    },
    {
      "cell_type": "code",
      "execution_count": 39,
      "metadata": {
        "scrolled": true,
        "colab": {
          "base_uri": "https://localhost:8080/"
        },
        "id": "klzx34lR2UMw",
        "outputId": "51132e44-9e9d-4620-e9fe-5ce3f183f046"
      },
      "outputs": [
        {
          "output_type": "stream",
          "name": "stdout",
          "text": [
            "31.189999999999994\n",
            "190.07999999999993\n",
            "56.53999999999999\n"
          ]
        }
      ],
      "source": [
        "# Посчитаем суммарные продажи для не ТОП-5\n",
        "\n",
        "# Для Северной Америки\n",
        "other_na = sales_na['na_sales'].sum()\n",
        "for i in range(5):\n",
        "    other_na = other_na - sales_na['na_sales'][i]\n",
        "print(other_na)\n",
        "\n",
        "# Для Европы\n",
        "other_eu = sales_eu['eu_sales'].sum()\n",
        "for j in range(5):\n",
        "    other_eu = other_eu - sales_eu['eu_sales'][i]\n",
        "print(other_eu)\n",
        "\n",
        "# Для Японии\n",
        "other_jp = sales_jp['jp_sales'].sum()\n",
        "for k in range(5):\n",
        "    other_jp = other_jp - sales_jp['jp_sales'][i]\n",
        "print(other_jp)"
      ]
    },
    {
      "cell_type": "code",
      "execution_count": 40,
      "metadata": {
        "id": "Et2tXsb02UMx"
      },
      "outputs": [],
      "source": [
        "# Сократим таблицы до шести строк\n",
        "sales_na = sales_na.loc[:5,:]\n",
        "sales_eu = sales_eu.loc[:5,:]\n",
        "sales_jp = sales_jp.loc[:5,:]\n",
        "\n",
        "# Заменим шестую строку: платформа - другие, продажи - сумма из предыдущего пункта\n",
        "sales_na['platform'][5] = 'Другие'\n",
        "sales_na['na_sales'][5] = other_na\n",
        "\n",
        "sales_eu['platform'][5] = 'Другие'\n",
        "sales_eu['eu_sales'][5] = other_eu\n",
        "\n",
        "sales_jp['platform'][5] = 'Другие'\n",
        "sales_jp['jp_sales'][5] = other_jp"
      ]
    },
    {
      "cell_type": "markdown",
      "metadata": {
        "id": "Mk1hbzkH2UMx"
      },
      "source": [
        "**Для наглядности построим график**"
      ]
    },
    {
      "cell_type": "code",
      "execution_count": 41,
      "metadata": {
        "scrolled": false,
        "colab": {
          "base_uri": "https://localhost:8080/",
          "height": 1000
        },
        "id": "5gjKGoky2UMy",
        "outputId": "d49f9615-a883-4751-b61e-8a81478329a5"
      },
      "outputs": [
        {
          "output_type": "display_data",
          "data": {
            "text/plain": [
              "<Figure size 1080x1440 with 3 Axes>"
            ],
            "image/png": "[encoded data removed]"
          },
          "metadata": {
            "needs_background": "light"
          }
        }
      ],
      "source": [
        "fig, ax = plt.subplots(3, 1, figsize = (15,20))\n",
        "\n",
        "ax[0].scatter(sales_na['platform'],\n",
        "           sales_na['na_sales'],\n",
        "           c = 'deeppink')\n",
        "\n",
        "ax[1].scatter(sales_eu['platform'],\n",
        "           sales_eu['eu_sales'],\n",
        "           c = 'b')\n",
        "\n",
        "ax[2].scatter(sales_jp['platform'],\n",
        "           sales_jp['jp_sales'],\n",
        "           c = 'g')\n",
        "\n",
        "ax[0].set_facecolor('w')\n",
        "ax[0].set_title('Продажи в Северной Америке по платформам')\n",
        "ax[0].grid(True)\n",
        "\n",
        "ax[1].set_facecolor('w')\n",
        "ax[1].set_title('Продажи в Европе по платформам')\n",
        "ax[1].grid(True)\n",
        "\n",
        "ax[2].set_facecolor('w')\n",
        "ax[2].set_title('Продажи в Японии по платформам')\n",
        "ax[2].grid(True)\n",
        "\n",
        "fig.tight_layout();\n",
        "plt.show()"
      ]
    },
    {
      "cell_type": "markdown",
      "metadata": {
        "id": "6cL1q4K12UMy"
      },
      "source": [
        "**В Северной Америке лидером по продажам стала PS4, причем эта платформа обогнала по продажам все платформы, не входящие в топ-5, вместе взятые. Продажи XOne не дотягивают до по продажам до PS4, но уверенно держатся позади. Примерно на одном уровне на 50 млн ниже находятся платформы X360, 3DS, PS3, \"Другие\".  \n",
        "В Европе ситуация другая: Категория \"другие\" занимает первое место, но фаворитом в одиночных продажах остается PS4, на порядок ниже которой колеблются XOne, PS3, PC и 3DS.  \n",
        "В Японии категория \"Другие\" лидирует, а на втором месте по продажам находится платформа 3DS, конкуренты которой колеблются на одном уровне на 30-40 млн ниже: PS4, PSV, PS3, WiiU**"
      ]
    },
    {
      "cell_type": "markdown",
      "metadata": {
        "id": "RQjpd1Q32UMy"
      },
      "source": [
        "### Самые популярные жанры для пользователей каждого региона"
      ]
    },
    {
      "cell_type": "markdown",
      "metadata": {
        "id": "jhy4YwfR2UMz"
      },
      "source": [
        "**Создадим три сводные таблицы, демонстрирующие продажи игр по жанрам в отдельно взятом регионе**"
      ]
    },
    {
      "cell_type": "code",
      "execution_count": 42,
      "metadata": {
        "id": "T_6-rCfM2UMz"
      },
      "outputs": [],
      "source": [
        "genres_na = df_platform_3_1.pivot_table(index = 'genre', values = 'na_sales', aggfunc = 'sum')\\\n",
        "        .sort_values(by = 'na_sales', ascending = False).reset_index()\n",
        "genres_eu = df_platform_3_1.pivot_table(index = 'genre', values = 'eu_sales', aggfunc = 'sum')\\\n",
        "        .sort_values(by = 'eu_sales', ascending = False).reset_index()\n",
        "genres_jp = df_platform_3_1.pivot_table(index = 'genre', values = 'jp_sales', aggfunc = 'sum')\\\n",
        "        .sort_values(by = 'jp_sales', ascending = False).reset_index()"
      ]
    },
    {
      "cell_type": "code",
      "execution_count": 43,
      "metadata": {
        "id": "v2X3yxyH2UMz"
      },
      "outputs": [],
      "source": [
        "#display(genres_na.head(5))\n",
        "#display(genres_eu.head(5))\n",
        "#display(genres_jp.head(5))"
      ]
    },
    {
      "cell_type": "markdown",
      "metadata": {
        "id": "mx2N3-r_2UM0"
      },
      "source": [
        "**Видоизменим таблицы: все, что не вошло в ТОП-5 объединим в категорию \"другие\"**"
      ]
    },
    {
      "cell_type": "code",
      "execution_count": 44,
      "metadata": {
        "scrolled": true,
        "colab": {
          "base_uri": "https://localhost:8080/"
        },
        "id": "y0YwwFJG2UM0",
        "outputId": "2306e0ae-04e2-4f78-9186-348ee12dadba"
      },
      "outputs": [
        {
          "output_type": "stream",
          "name": "stdout",
          "text": [
            "37.86000000000003\n",
            "200.03000000000003\n",
            "68.74\n"
          ]
        }
      ],
      "source": [
        "# Посчитаем суммарные продажи для не ТОП-5\n",
        "\n",
        "# Для Северной Америки\n",
        "other_na_genre = genres_na['na_sales'].sum()\n",
        "for i in range(5):\n",
        "    other_na_genre = other_na_genre - genres_na['na_sales'][i]\n",
        "print(other_na_genre)\n",
        "\n",
        "# Для Европы\n",
        "other_eu_genre = genres_eu['eu_sales'].sum()\n",
        "for j in range(5):\n",
        "    other_eu_genre = other_eu_genre - genres_eu['eu_sales'][i]\n",
        "print(other_eu_genre)\n",
        "\n",
        "# Для Японии\n",
        "other_jp_genre = genres_jp['jp_sales'].sum()\n",
        "for k in range(5):\n",
        "    other_jp_genre = other_jp_genre - genres_jp['jp_sales'][i]\n",
        "print(other_jp_genre)"
      ]
    },
    {
      "cell_type": "code",
      "execution_count": 45,
      "metadata": {
        "id": "Gz7-e88V2UM0"
      },
      "outputs": [],
      "source": [
        "# Сократим таблицы до шести строк\n",
        "genres_na = genres_na.loc[:5,:]\n",
        "genres_eu = genres_eu.loc[:5,:]\n",
        "genres_jp = genres_jp.loc[:5,:]\n",
        "\n",
        "# Заменим шестую строку: платформа - другие, продажи - сумма из предыдущего пункта\n",
        "genres_na['genre'][5] = 'Другие'\n",
        "genres_na['na_sales'][5] = other_na_genre\n",
        "\n",
        "genres_eu['genre'][5] = 'Другие'\n",
        "genres_eu['eu_sales'][5] = other_eu_genre\n",
        "\n",
        "genres_jp['genre'][5] = 'Другие'\n",
        "genres_jp['jp_sales'][5] = other_jp_genre"
      ]
    },
    {
      "cell_type": "markdown",
      "metadata": {
        "id": "xUFclW3q2UM0"
      },
      "source": [
        "**Построим график**"
      ]
    },
    {
      "cell_type": "code",
      "execution_count": 46,
      "metadata": {
        "colab": {
          "base_uri": "https://localhost:8080/",
          "height": 1000
        },
        "id": "C8aKkXvN2UM0",
        "outputId": "8261f01c-b329-4cfe-9f39-61ffd88ec97b"
      },
      "outputs": [
        {
          "output_type": "display_data",
          "data": {
            "text/plain": [
              "<Figure size 1080x1440 with 3 Axes>"
            ],
            "image/png": "[encoded data removed]"
          },
          "metadata": {
            "needs_background": "light"
          }
        }
      ],
      "source": [
        "fig, ax = plt.subplots(3, 1, figsize = (15,20))\n",
        "\n",
        "ax[0].scatter(genres_na['genre'],\n",
        "           genres_na['na_sales'],\n",
        "           c = 'deeppink')\n",
        "\n",
        "ax[1].scatter(genres_eu['genre'],\n",
        "           genres_eu['eu_sales'],\n",
        "           c = 'b')\n",
        "\n",
        "ax[2].scatter(genres_jp['genre'],\n",
        "           genres_jp['jp_sales'],\n",
        "           c = 'g')\n",
        "\n",
        "ax[0].set_facecolor('w')\n",
        "ax[0].set_title('Продажи в Северной Америке по жанрам')\n",
        "ax[0].grid(True)\n",
        "\n",
        "ax[1].set_facecolor('w')\n",
        "ax[1].set_title('Продажи в Европе по жанрам')\n",
        "ax[1].grid(True)\n",
        "\n",
        "ax[2].set_facecolor('w')\n",
        "ax[2].set_title('Продажи в Японии по жанрам')\n",
        "ax[2].grid(True)\n",
        "\n",
        "fig.tight_layout();\n",
        "plt.show()"
      ]
    },
    {
      "cell_type": "markdown",
      "metadata": {
        "id": "FftQP1DJ2UM1"
      },
      "source": [
        "**Категория \"другие\" в Европе и Японии имеет больше всего продаж. Но в Северной америке расположилась лишь на 4-ом месте со значением около 40 млн  \n",
        "Топ 5 самых популярных жанров для:** \n",
        "- Северной Америки: Shooter, Action, Sports, Role-Playing, Misc     \n",
        "- Европы: Action, Shooter, Sports, Role-Playing, Racing   \n",
        "- Японии: Role-Playing, Action, Fighting, Misc, Shooter  "
      ]
    },
    {
      "cell_type": "markdown",
      "metadata": {
        "id": "P7AY9ThX2UM1"
      },
      "source": [
        "### Влияние рейтинга ESRB на продажи в отдельном регионе"
      ]
    },
    {
      "cell_type": "markdown",
      "metadata": {
        "id": "9I072RhQ2UM2"
      },
      "source": [
        "**Создадим в df новый столбец с обобщенными категориями - дети младшего возраста, подростки, взрослые. Также добавим категорию \"Ожидается\" (для статуса RP(рейтинг ожидается))**"
      ]
    },
    {
      "cell_type": "code",
      "execution_count": 47,
      "metadata": {
        "id": "n5PDkKk42UM2"
      },
      "outputs": [],
      "source": [
        "def rating_2(row):\n",
        "    rating = row['rating']\n",
        "    try:\n",
        "        if rating in ['E', 'E10+', 'K-A', 'EC']:\n",
        "            return 'Дети мл. возраста'\n",
        "        elif rating in ['T', 'M']:\n",
        "            return 'Подростки'\n",
        "        elif rating == 'AO':\n",
        "            return 'Взрослые'\n",
        "        elif rating == 'RP':\n",
        "            return 'Ожидается' \n",
        "        elif rating == 'unknown':\n",
        "            return 'Нет рейтинга'\n",
        "            \n",
        "    except:\n",
        "        return rating"
      ]
    },
    {
      "cell_type": "markdown",
      "metadata": {
        "id": "ImO0DRrp2UM2"
      },
      "source": [
        "**Применим функцию rating_2 к df**"
      ]
    },
    {
      "cell_type": "code",
      "execution_count": 48,
      "metadata": {
        "id": "AwyJXZu12UM2"
      },
      "outputs": [],
      "source": [
        "df['rating_category'] = df.apply(rating_2, axis = 1)"
      ]
    },
    {
      "cell_type": "markdown",
      "metadata": {
        "id": "KK83OX0_2UM3"
      },
      "source": [
        "**Создадим три сводные таблицы, демонстрирующие продажи игр по категории рейтинга ESRP в каждом регионе**"
      ]
    },
    {
      "cell_type": "code",
      "execution_count": 49,
      "metadata": {
        "scrolled": true,
        "colab": {
          "base_uri": "https://localhost:8080/",
          "height": 206
        },
        "id": "IKcYrF2j2UM3",
        "outputId": "6205c995-71d8-4489-bb48-c6849bf235df"
      },
      "outputs": [
        {
          "output_type": "display_data",
          "data": {
            "text/plain": [
              "     rating_category  eu_sales  jp_sales  na_sales\n",
              "0  Дети мл. возраста    887.60    239.62   1623.83\n",
              "1          Подростки    901.79    214.28   1490.49\n",
              "2       Нет рейтинга    609.65    836.72   1225.84\n",
              "3           Взрослые      0.61      0.00      1.26\n",
              "4          Ожидается      0.03      0.00      0.00"
            ],
            "text/html": [
              "\n",
              "  <div id=\"df-698c7116-001d-49c0-b68c-123768d2c0dc\">\n",
              "    <div class=\"colab-df-container\">\n",
              "      <div>\n",
              "<style scoped>\n",
              "    .dataframe tbody tr th:only-of-type {\n",
              "        vertical-align: middle;\n",
              "    }\n",
              "\n",
              "    .dataframe tbody tr th {\n",
              "        vertical-align: top;\n",
              "    }\n",
              "\n",
              "    .dataframe thead th {\n",
              "        text-align: right;\n",
              "    }\n",
              "</style>\n",
              "<table border=\"1\" class=\"dataframe\">\n",
              "  <thead>\n",
              "    <tr style=\"text-align: right;\">\n",
              "      <th></th>\n",
              "      <th>rating_category</th>\n",
              "      <th>eu_sales</th>\n",
              "      <th>jp_sales</th>\n",
              "      <th>na_sales</th>\n",
              "    </tr>\n",
              "  </thead>\n",
              "  <tbody>\n",
              "    <tr>\n",
              "      <th>0</th>\n",
              "      <td>Дети мл. возраста</td>\n",
              "      <td>887.60</td>\n",
              "      <td>239.62</td>\n",
              "      <td>1623.83</td>\n",
              "    </tr>\n",
              "    <tr>\n",
              "      <th>1</th>\n",
              "      <td>Подростки</td>\n",
              "      <td>901.79</td>\n",
              "      <td>214.28</td>\n",
              "      <td>1490.49</td>\n",
              "    </tr>\n",
              "    <tr>\n",
              "      <th>2</th>\n",
              "      <td>Нет рейтинга</td>\n",
              "      <td>609.65</td>\n",
              "      <td>836.72</td>\n",
              "      <td>1225.84</td>\n",
              "    </tr>\n",
              "    <tr>\n",
              "      <th>3</th>\n",
              "      <td>Взрослые</td>\n",
              "      <td>0.61</td>\n",
              "      <td>0.00</td>\n",
              "      <td>1.26</td>\n",
              "    </tr>\n",
              "    <tr>\n",
              "      <th>4</th>\n",
              "      <td>Ожидается</td>\n",
              "      <td>0.03</td>\n",
              "      <td>0.00</td>\n",
              "      <td>0.00</td>\n",
              "    </tr>\n",
              "  </tbody>\n",
              "</table>\n",
              "</div>\n",
              "      <button class=\"colab-df-convert\" onclick=\"convertToInteractive('df-698c7116-001d-49c0-b68c-123768d2c0dc')\"\n",
              "              title=\"Convert this dataframe to an interactive table.\"\n",
              "              style=\"display:none;\">\n",
              "        \n",
              "  <svg xmlns=\"http://www.w3.org/2000/svg\" height=\"24px\"viewBox=\"0 0 24 24\"\n",
              "       width=\"24px\">\n",
              "    <path d=\"M0 0h24v24H0V0z\" fill=\"none\"/>\n",
              "    <path d=\"M18.56 5.44l.94 2.06.94-2.06 2.06-.94-2.06-.94-.94-2.06-.94 2.06-2.06.94zm-11 1L8.5 8.5l.94-2.06 2.06-.94-2.06-.94L8.5 2.5l-.94 2.06-2.06.94zm10 10l.94 2.06.94-2.06 2.06-.94-2.06-.94-.94-2.06-.94 2.06-2.06.94z\"/><path d=\"M17.41 7.96l-1.37-1.37c-.4-.4-.92-.59-1.43-.59-.52 0-1.04.2-1.43.59L10.3 9.45l-7.72 7.72c-.78.78-.78 2.05 0 2.83L4 21.41c.39.39.9.59 1.41.59.51 0 1.02-.2 1.41-.59l7.78-7.78 2.81-2.81c.8-.78.8-2.07 0-2.86zM5.41 20L4 18.59l7.72-7.72 1.47 1.35L5.41 20z\"/>\n",
              "  </svg>\n",
              "      </button>\n",
              "      \n",
              "  <style>\n",
              "    .colab-df-container {\n",
              "      display:flex;\n",
              "      flex-wrap:wrap;\n",
              "      gap: 12px;\n",
              "    }\n",
              "\n",
              "    .colab-df-convert {\n",
              "      background-color: #E8F0FE;\n",
              "      border: none;\n",
              "      border-radius: 50%;\n",
              "      cursor: pointer;\n",
              "      display: none;\n",
              "      fill: #1967D2;\n",
              "      height: 32px;\n",
              "      padding: 0 0 0 0;\n",
              "      width: 32px;\n",
              "    }\n",
              "\n",
              "    .colab-df-convert:hover {\n",
              "      background-color: #E2EBFA;\n",
              "      box-shadow: 0px 1px 2px rgba(60, 64, 67, 0.3), 0px 1px 3px 1px rgba(60, 64, 67, 0.15);\n",
              "      fill: #174EA6;\n",
              "    }\n",
              "\n",
              "    [theme=dark] .colab-df-convert {\n",
              "      background-color: #3B4455;\n",
              "      fill: #D2E3FC;\n",
              "    }\n",
              "\n",
              "    [theme=dark] .colab-df-convert:hover {\n",
              "      background-color: #434B5C;\n",
              "      box-shadow: 0px 1px 3px 1px rgba(0, 0, 0, 0.15);\n",
              "      filter: drop-shadow(0px 1px 2px rgba(0, 0, 0, 0.3));\n",
              "      fill: #FFFFFF;\n",
              "    }\n",
              "  </style>\n",
              "\n",
              "      <script>\n",
              "        const buttonEl =\n",
              "          document.querySelector('#df-698c7116-001d-49c0-b68c-123768d2c0dc button.colab-df-convert');\n",
              "        buttonEl.style.display =\n",
              "          google.colab.kernel.accessAllowed ? 'block' : 'none';\n",
              "\n",
              "        async function convertToInteractive(key) {\n",
              "          const element = document.querySelector('#df-698c7116-001d-49c0-b68c-123768d2c0dc');\n",
              "          const dataTable =\n",
              "            await google.colab.kernel.invokeFunction('convertToInteractive',\n",
              "                                                     [key], {});\n",
              "          if (!dataTable) return;\n",
              "\n",
              "          const docLinkHtml = 'Like what you see? Visit the ' +\n",
              "            '<a target=\"_blank\" href=https://colab.research.google.com/notebooks/data_table.ipynb>data table notebook</a>'\n",
              "            + ' to learn more about interactive tables.';\n",
              "          element.innerHTML = '';\n",
              "          dataTable['output_type'] = 'display_data';\n",
              "          await google.colab.output.renderOutput(dataTable, element);\n",
              "          const docLink = document.createElement('div');\n",
              "          docLink.innerHTML = docLinkHtml;\n",
              "          element.appendChild(docLink);\n",
              "        }\n",
              "      </script>\n",
              "    </div>\n",
              "  </div>\n",
              "  "
            ]
          },
          "metadata": {}
        }
      ],
      "source": [
        "rating_sales = df.pivot_table(index = 'rating_category', values = ['na_sales', 'eu_sales', 'jp_sales'], aggfunc = 'sum')\\\n",
        "        .sort_values(by = 'na_sales', ascending = False).reset_index()\n",
        "\n",
        "display(rating_sales)"
      ]
    },
    {
      "cell_type": "markdown",
      "metadata": {
        "id": "YoTKC18e2UM3"
      },
      "source": [
        "**Построим график**"
      ]
    },
    {
      "cell_type": "code",
      "execution_count": 50,
      "metadata": {
        "colab": {
          "base_uri": "https://localhost:8080/",
          "height": 542
        },
        "id": "lBdygZjk2UM3",
        "outputId": "605138b0-7602-4996-edf9-6566cedfbff7"
      },
      "outputs": [
        {
          "output_type": "display_data",
          "data": {
            "text/html": [
              "<html>\n",
              "<head><meta charset=\"utf-8\" /></head>\n",
              "<body>\n",
              "    <div>            <script src=\"https://cdnjs.cloudflare.com/ajax/libs/mathjax/2.7.5/MathJax.js?config=TeX-AMS-MML_SVG\"></script><script type=\"text/javascript\">if (window.MathJax) {MathJax.Hub.Config({SVG: {font: \"STIX-Web\"}});}</script>                <script type=\"text/javascript\">window.PlotlyConfig = {MathJaxConfig: 'local'};</script>\n",
              "        <script src=\"https://cdn.plot.ly/plotly-2.8.3.min.js\"></script>                <div id=\"4ce81a4a-d416-4b89-9c56-669b47da5d1d\" class=\"plotly-graph-div\" style=\"height:525px; width:100%;\"></div>            <script type=\"text/javascript\">                                    window.PLOTLYENV=window.PLOTLYENV || {};                                    if (document.getElementById(\"4ce81a4a-d416-4b89-9c56-669b47da5d1d\")) {                    Plotly.newPlot(                        \"4ce81a4a-d416-4b89-9c56-669b47da5d1d\",                        [{\"name\":\"NA\",\"x\":[\"\\u0414\\u0435\\u0442\\u0438 \\u043c\\u043b. \\u0432\\u043e\\u0437\\u0440\\u0430\\u0441\\u0442\\u0430\",\"\\u041f\\u043e\\u0434\\u0440\\u043e\\u0441\\u0442\\u043a\\u0438\",\"\\u041d\\u0435\\u0442 \\u0440\\u0435\\u0439\\u0442\\u0438\\u043d\\u0433\\u0430\",\"\\u0412\\u0437\\u0440\\u043e\\u0441\\u043b\\u044b\\u0435\",\"\\u041e\\u0436\\u0438\\u0434\\u0430\\u0435\\u0442\\u0441\\u044f\"],\"y\":[1623.83,1490.49,1225.84,1.26,0.0],\"type\":\"bar\"},{\"name\":\"EU\",\"x\":[\"\\u0414\\u0435\\u0442\\u0438 \\u043c\\u043b. \\u0432\\u043e\\u0437\\u0440\\u0430\\u0441\\u0442\\u0430\",\"\\u041f\\u043e\\u0434\\u0440\\u043e\\u0441\\u0442\\u043a\\u0438\",\"\\u041d\\u0435\\u0442 \\u0440\\u0435\\u0439\\u0442\\u0438\\u043d\\u0433\\u0430\",\"\\u0412\\u0437\\u0440\\u043e\\u0441\\u043b\\u044b\\u0435\",\"\\u041e\\u0436\\u0438\\u0434\\u0430\\u0435\\u0442\\u0441\\u044f\"],\"y\":[887.6,901.79,609.65,0.61,0.03],\"type\":\"bar\"},{\"name\":\"JP\",\"x\":[\"\\u0414\\u0435\\u0442\\u0438 \\u043c\\u043b. \\u0432\\u043e\\u0437\\u0440\\u0430\\u0441\\u0442\\u0430\",\"\\u041f\\u043e\\u0434\\u0440\\u043e\\u0441\\u0442\\u043a\\u0438\",\"\\u041d\\u0435\\u0442 \\u0440\\u0435\\u0439\\u0442\\u0438\\u043d\\u0433\\u0430\",\"\\u0412\\u0437\\u0440\\u043e\\u0441\\u043b\\u044b\\u0435\",\"\\u041e\\u0436\\u0438\\u0434\\u0430\\u0435\\u0442\\u0441\\u044f\"],\"y\":[239.62,214.28,836.72,0.0,0.0],\"type\":\"bar\"}],                        {\"template\":{\"data\":{\"bar\":[{\"error_x\":{\"color\":\"#2a3f5f\"},\"error_y\":{\"color\":\"#2a3f5f\"},\"marker\":{\"line\":{\"color\":\"#E5ECF6\",\"width\":0.5},\"pattern\":{\"fillmode\":\"overlay\",\"size\":10,\"solidity\":0.2}},\"type\":\"bar\"}],\"barpolar\":[{\"marker\":{\"line\":{\"color\":\"#E5ECF6\",\"width\":0.5},\"pattern\":{\"fillmode\":\"overlay\",\"size\":10,\"solidity\":0.2}},\"type\":\"barpolar\"}],\"carpet\":[{\"aaxis\":{\"endlinecolor\":\"#2a3f5f\",\"gridcolor\":\"white\",\"linecolor\":\"white\",\"minorgridcolor\":\"white\",\"startlinecolor\":\"#2a3f5f\"},\"baxis\":{\"endlinecolor\":\"#2a3f5f\",\"gridcolor\":\"white\",\"linecolor\":\"white\",\"minorgridcolor\":\"white\",\"startlinecolor\":\"#2a3f5f\"},\"type\":\"carpet\"}],\"choropleth\":[{\"colorbar\":{\"outlinewidth\":0,\"ticks\":\"\"},\"type\":\"choropleth\"}],\"contour\":[{\"colorbar\":{\"outlinewidth\":0,\"ticks\":\"\"},\"colorscale\":[[0.0,\"#0d0887\"],[0.1111111111111111,\"#46039f\"],[0.2222222222222222,\"#7201a8\"],[0.3333333333333333,\"#9c179e\"],[0.4444444444444444,\"#bd3786\"],[0.5555555555555556,\"#d8576b\"],[0.6666666666666666,\"#ed7953\"],[0.7777777777777778,\"#fb9f3a\"],[0.8888888888888888,\"#fdca26\"],[1.0,\"#f0f921\"]],\"type\":\"contour\"}],\"contourcarpet\":[{\"colorbar\":{\"outlinewidth\":0,\"ticks\":\"\"},\"type\":\"contourcarpet\"}],\"heatmap\":[{\"colorbar\":{\"outlinewidth\":0,\"ticks\":\"\"},\"colorscale\":[[0.0,\"#0d0887\"],[0.1111111111111111,\"#46039f\"],[0.2222222222222222,\"#7201a8\"],[0.3333333333333333,\"#9c179e\"],[0.4444444444444444,\"#bd3786\"],[0.5555555555555556,\"#d8576b\"],[0.6666666666666666,\"#ed7953\"],[0.7777777777777778,\"#fb9f3a\"],[0.8888888888888888,\"#fdca26\"],[1.0,\"#f0f921\"]],\"type\":\"heatmap\"}],\"heatmapgl\":[{\"colorbar\":{\"outlinewidth\":0,\"ticks\":\"\"},\"colorscale\":[[0.0,\"#0d0887\"],[0.1111111111111111,\"#46039f\"],[0.2222222222222222,\"#7201a8\"],[0.3333333333333333,\"#9c179e\"],[0.4444444444444444,\"#bd3786\"],[0.5555555555555556,\"#d8576b\"],[0.6666666666666666,\"#ed7953\"],[0.7777777777777778,\"#fb9f3a\"],[0.8888888888888888,\"#fdca26\"],[1.0,\"#f0f921\"]],\"type\":\"heatmapgl\"}],\"histogram\":[{\"marker\":{\"pattern\":{\"fillmode\":\"overlay\",\"size\":10,\"solidity\":0.2}},\"type\":\"histogram\"}],\"histogram2d\":[{\"colorbar\":{\"outlinewidth\":0,\"ticks\":\"\"},\"colorscale\":[[0.0,\"#0d0887\"],[0.1111111111111111,\"#46039f\"],[0.2222222222222222,\"#7201a8\"],[0.3333333333333333,\"#9c179e\"],[0.4444444444444444,\"#bd3786\"],[0.5555555555555556,\"#d8576b\"],[0.6666666666666666,\"#ed7953\"],[0.7777777777777778,\"#fb9f3a\"],[0.8888888888888888,\"#fdca26\"],[1.0,\"#f0f921\"]],\"type\":\"histogram2d\"}],\"histogram2dcontour\":[{\"colorbar\":{\"outlinewidth\":0,\"ticks\":\"\"},\"colorscale\":[[0.0,\"#0d0887\"],[0.1111111111111111,\"#46039f\"],[0.2222222222222222,\"#7201a8\"],[0.3333333333333333,\"#9c179e\"],[0.4444444444444444,\"#bd3786\"],[0.5555555555555556,\"#d8576b\"],[0.6666666666666666,\"#ed7953\"],[0.7777777777777778,\"#fb9f3a\"],[0.8888888888888888,\"#fdca26\"],[1.0,\"#f0f921\"]],\"type\":\"histogram2dcontour\"}],\"mesh3d\":[{\"colorbar\":{\"outlinewidth\":0,\"ticks\":\"\"},\"type\":\"mesh3d\"}],\"parcoords\":[{\"line\":{\"colorbar\":{\"outlinewidth\":0,\"ticks\":\"\"}},\"type\":\"parcoords\"}],\"pie\":[{\"automargin\":true,\"type\":\"pie\"}],\"scatter\":[{\"marker\":{\"colorbar\":{\"outlinewidth\":0,\"ticks\":\"\"}},\"type\":\"scatter\"}],\"scatter3d\":[{\"line\":{\"colorbar\":{\"outlinewidth\":0,\"ticks\":\"\"}},\"marker\":{\"colorbar\":{\"outlinewidth\":0,\"ticks\":\"\"}},\"type\":\"scatter3d\"}],\"scattercarpet\":[{\"marker\":{\"colorbar\":{\"outlinewidth\":0,\"ticks\":\"\"}},\"type\":\"scattercarpet\"}],\"scattergeo\":[{\"marker\":{\"colorbar\":{\"outlinewidth\":0,\"ticks\":\"\"}},\"type\":\"scattergeo\"}],\"scattergl\":[{\"marker\":{\"colorbar\":{\"outlinewidth\":0,\"ticks\":\"\"}},\"type\":\"scattergl\"}],\"scattermapbox\":[{\"marker\":{\"colorbar\":{\"outlinewidth\":0,\"ticks\":\"\"}},\"type\":\"scattermapbox\"}],\"scatterpolar\":[{\"marker\":{\"colorbar\":{\"outlinewidth\":0,\"ticks\":\"\"}},\"type\":\"scatterpolar\"}],\"scatterpolargl\":[{\"marker\":{\"colorbar\":{\"outlinewidth\":0,\"ticks\":\"\"}},\"type\":\"scatterpolargl\"}],\"scatterternary\":[{\"marker\":{\"colorbar\":{\"outlinewidth\":0,\"ticks\":\"\"}},\"type\":\"scatterternary\"}],\"surface\":[{\"colorbar\":{\"outlinewidth\":0,\"ticks\":\"\"},\"colorscale\":[[0.0,\"#0d0887\"],[0.1111111111111111,\"#46039f\"],[0.2222222222222222,\"#7201a8\"],[0.3333333333333333,\"#9c179e\"],[0.4444444444444444,\"#bd3786\"],[0.5555555555555556,\"#d8576b\"],[0.6666666666666666,\"#ed7953\"],[0.7777777777777778,\"#fb9f3a\"],[0.8888888888888888,\"#fdca26\"],[1.0,\"#f0f921\"]],\"type\":\"surface\"}],\"table\":[{\"cells\":{\"fill\":{\"color\":\"#EBF0F8\"},\"line\":{\"color\":\"white\"}},\"header\":{\"fill\":{\"color\":\"#C8D4E3\"},\"line\":{\"color\":\"white\"}},\"type\":\"table\"}]},\"layout\":{\"annotationdefaults\":{\"arrowcolor\":\"#2a3f5f\",\"arrowhead\":0,\"arrowwidth\":1},\"autotypenumbers\":\"strict\",\"coloraxis\":{\"colorbar\":{\"outlinewidth\":0,\"ticks\":\"\"}},\"colorscale\":{\"diverging\":[[0,\"#8e0152\"],[0.1,\"#c51b7d\"],[0.2,\"#de77ae\"],[0.3,\"#f1b6da\"],[0.4,\"#fde0ef\"],[0.5,\"#f7f7f7\"],[0.6,\"#e6f5d0\"],[0.7,\"#b8e186\"],[0.8,\"#7fbc41\"],[0.9,\"#4d9221\"],[1,\"#276419\"]],\"sequential\":[[0.0,\"#0d0887\"],[0.1111111111111111,\"#46039f\"],[0.2222222222222222,\"#7201a8\"],[0.3333333333333333,\"#9c179e\"],[0.4444444444444444,\"#bd3786\"],[0.5555555555555556,\"#d8576b\"],[0.6666666666666666,\"#ed7953\"],[0.7777777777777778,\"#fb9f3a\"],[0.8888888888888888,\"#fdca26\"],[1.0,\"#f0f921\"]],\"sequentialminus\":[[0.0,\"#0d0887\"],[0.1111111111111111,\"#46039f\"],[0.2222222222222222,\"#7201a8\"],[0.3333333333333333,\"#9c179e\"],[0.4444444444444444,\"#bd3786\"],[0.5555555555555556,\"#d8576b\"],[0.6666666666666666,\"#ed7953\"],[0.7777777777777778,\"#fb9f3a\"],[0.8888888888888888,\"#fdca26\"],[1.0,\"#f0f921\"]]},\"colorway\":[\"#636efa\",\"#EF553B\",\"#00cc96\",\"#ab63fa\",\"#FFA15A\",\"#19d3f3\",\"#FF6692\",\"#B6E880\",\"#FF97FF\",\"#FECB52\"],\"font\":{\"color\":\"#2a3f5f\"},\"geo\":{\"bgcolor\":\"white\",\"lakecolor\":\"white\",\"landcolor\":\"#E5ECF6\",\"showlakes\":true,\"showland\":true,\"subunitcolor\":\"white\"},\"hoverlabel\":{\"align\":\"left\"},\"hovermode\":\"closest\",\"mapbox\":{\"style\":\"light\"},\"paper_bgcolor\":\"white\",\"plot_bgcolor\":\"#E5ECF6\",\"polar\":{\"angularaxis\":{\"gridcolor\":\"white\",\"linecolor\":\"white\",\"ticks\":\"\"},\"bgcolor\":\"#E5ECF6\",\"radialaxis\":{\"gridcolor\":\"white\",\"linecolor\":\"white\",\"ticks\":\"\"}},\"scene\":{\"xaxis\":{\"backgroundcolor\":\"#E5ECF6\",\"gridcolor\":\"white\",\"gridwidth\":2,\"linecolor\":\"white\",\"showbackground\":true,\"ticks\":\"\",\"zerolinecolor\":\"white\"},\"yaxis\":{\"backgroundcolor\":\"#E5ECF6\",\"gridcolor\":\"white\",\"gridwidth\":2,\"linecolor\":\"white\",\"showbackground\":true,\"ticks\":\"\",\"zerolinecolor\":\"white\"},\"zaxis\":{\"backgroundcolor\":\"#E5ECF6\",\"gridcolor\":\"white\",\"gridwidth\":2,\"linecolor\":\"white\",\"showbackground\":true,\"ticks\":\"\",\"zerolinecolor\":\"white\"}},\"shapedefaults\":{\"line\":{\"color\":\"#2a3f5f\"}},\"ternary\":{\"aaxis\":{\"gridcolor\":\"white\",\"linecolor\":\"white\",\"ticks\":\"\"},\"baxis\":{\"gridcolor\":\"white\",\"linecolor\":\"white\",\"ticks\":\"\"},\"bgcolor\":\"#E5ECF6\",\"caxis\":{\"gridcolor\":\"white\",\"linecolor\":\"white\",\"ticks\":\"\"}},\"title\":{\"x\":0.05},\"xaxis\":{\"automargin\":true,\"gridcolor\":\"white\",\"linecolor\":\"white\",\"ticks\":\"\",\"title\":{\"standoff\":15},\"zerolinecolor\":\"white\",\"zerolinewidth\":2},\"yaxis\":{\"automargin\":true,\"gridcolor\":\"white\",\"linecolor\":\"white\",\"ticks\":\"\",\"title\":{\"standoff\":15},\"zerolinecolor\":\"white\",\"zerolinewidth\":2}}}},                        {\"responsive\": true}                    ).then(function(){\n",
              "                            \n",
              "var gd = document.getElementById('4ce81a4a-d416-4b89-9c56-669b47da5d1d');\n",
              "var x = new MutationObserver(function (mutations, observer) {{\n",
              "        var display = window.getComputedStyle(gd).display;\n",
              "        if (!display || display === 'none') {{\n",
              "            console.log([gd, 'removed!']);\n",
              "            Plotly.purge(gd);\n",
              "            observer.disconnect();\n",
              "        }}\n",
              "}});\n",
              "\n",
              "// Listen for the removal of the full notebook cells\n",
              "var notebookContainer = gd.closest('#notebook-container');\n",
              "if (notebookContainer) {{\n",
              "    x.observe(notebookContainer, {childList: true});\n",
              "}}\n",
              "\n",
              "// Listen for the clearing of the current output cell\n",
              "var outputEl = gd.closest('.output');\n",
              "if (outputEl) {{\n",
              "    x.observe(outputEl, {childList: true});\n",
              "}}\n",
              "\n",
              "                        })                };                            </script>        </div>\n",
              "</body>\n",
              "</html>"
            ]
          },
          "metadata": {}
        }
      ],
      "source": [
        "fig_6 = go.Figure([\n",
        "    go.Bar(                         \n",
        "        x = rating_sales['rating_category'], \n",
        "        y = rating_sales['na_sales'],\n",
        "        name = 'NA'\n",
        "    ),\n",
        "    go.Bar(                         \n",
        "        x = rating_sales['rating_category'], \n",
        "        y = rating_sales['eu_sales'],\n",
        "        name = 'EU',\n",
        "    ),\n",
        "    go.Bar(                         \n",
        "        x = rating_sales['rating_category'], \n",
        "        y = rating_sales['jp_sales'],\n",
        "        name = 'JP',\n",
        "    )\n",
        "])\n",
        "fig_6.show()"
      ]
    },
    {
      "cell_type": "markdown",
      "metadata": {
        "id": "CmeHv2Hr2UM3"
      },
      "source": [
        "**Во всех регионах больше всего продаются игры для детей младшего возраста. Так в Северной Америке это 1600 млн проданных копий против 1490 млн в категории для подростков и 1225 млн для игр с неопределенным рейтингом.  \n",
        "Игры для подростков имеют практически такие же результаты, но по продажам ниже.  \n",
        "Игры для взрослых продаются только в Европе (610 тыс копий) и Северной америке (1.26 млн копий) и их очень мало, а со статусом \"рейтинг ожидается\" - только в Европе (30 000 копий)  \n",
        "Игр без рейтинга очень много в Японии, если смотреть по общему числу игр. Также без рейтинга много игр в Америке и Европе, но значений здесь гораздо больше**"
      ]
    },
    {
      "cell_type": "markdown",
      "metadata": {
        "id": "zz_BumZf2UM4"
      },
      "source": [
        "## Проверка гипотез"
      ]
    },
    {
      "cell_type": "markdown",
      "metadata": {
        "id": "bJYP__Bo2UM4"
      },
      "source": [
        "### Тест №1"
      ]
    },
    {
      "cell_type": "markdown",
      "metadata": {
        "id": "f_eYqvFv2UM5"
      },
      "source": [
        "**Проверка двусторонней гипотезы:  \n",
        "Нулевая гипотеза H0: Средние пользовательские рейтинги платформ Xbox One и PC одинаковые  \n",
        "Альтернативная гипотеза H1: Средние пользовательские рейтинги платформ Xbox One и PC неодинаковые**"
      ]
    },
    {
      "cell_type": "markdown",
      "metadata": {
        "id": "C5wQwzQY2UM5"
      },
      "source": [
        "**Проверим периоды использования платформ**"
      ]
    },
    {
      "cell_type": "code",
      "execution_count": 51,
      "metadata": {
        "colab": {
          "base_uri": "https://localhost:8080/"
        },
        "id": "NPgLKGh62UM5",
        "outputId": "9881e4d2-6034-4c1d-f80f-b5e90e3ed154"
      },
      "outputs": [
        {
          "output_type": "stream",
          "name": "stdout",
          "text": [
            "[2015 2014 2013 2016]\n",
            "[2009 2004 2012 1996 2010 1995 1997 2007 2011 2002 1994 2014 2000 2001\n",
            " 1992 1998 1999 2003 2013 2008 2015 2005 2016 2006 1988]\n"
          ]
        }
      ],
      "source": [
        "x=df.query('platform == \"XOne\" and year_of_release > 1985')\n",
        "print(x['year_of_release'].unique())\n",
        "y=df.query('platform == \"PC\" and year_of_release > 1985')\n",
        "print(y['year_of_release'].unique())"
      ]
    },
    {
      "cell_type": "markdown",
      "metadata": {
        "id": "AVWdY5y72UM6"
      },
      "source": [
        "**Так как платформа XOne вышла на рынок совсем недавно, а PC используется с 1988 года, нужно уравнять периоды**"
      ]
    },
    {
      "cell_type": "code",
      "execution_count": 52,
      "metadata": {
        "id": "65m5mCiy2UM6"
      },
      "outputs": [],
      "source": [
        "# Сделаем срез таблицы df по критериям:\n",
        "df_Xone = df.query('platform == \"XOne\"')\n",
        "df_PC = df.query('platform == \"PC\" and year_of_release >= 2012')\n",
        "\n",
        "# Оставим только нужный нам столбец\n",
        "df_Xone = df_Xone.loc[:,'user_score']\n",
        "df_PC = df_PC.loc[:,'user_score']\n",
        "\n",
        "# Выборки практически одинакового размера. Для проверки гипотезы осталось удалить малочисленные пропуски\n",
        "df_Xone=df_Xone.dropna()\n",
        "df_PC=df_PC.dropna()\n"
      ]
    },
    {
      "cell_type": "code",
      "execution_count": 53,
      "metadata": {
        "colab": {
          "base_uri": "https://localhost:8080/"
        },
        "id": "XPBKszVv2UM7",
        "outputId": "383f6a6f-2dc5-4013-8075-1ce87302b788"
      },
      "outputs": [
        {
          "output_type": "stream",
          "name": "stdout",
          "text": [
            "p-значение: 0.5535080500643661\n",
            "Не получилось отвергнуть нулевую гипотезу\n"
          ]
        }
      ],
      "source": [
        "alpha = .05 # критический уровень статистической значимости\n",
        "\n",
        "results = st.ttest_ind(df_Xone, df_PC)\n",
        "\n",
        "print('p-значение:', results.pvalue)\n",
        "\n",
        "if results.pvalue < alpha:\n",
        "    print(\"Отвергаем нулевую гипотезу\")\n",
        "else:\n",
        "    print(\"Не получилось отвергнуть нулевую гипотезу\")"
      ]
    },
    {
      "cell_type": "markdown",
      "metadata": {
        "id": "mFN58QDV2UM8"
      },
      "source": [
        "**p-value показывает, какова вероятность получить СЛУЧАЙНО отличающееся значение, а, значит, чем больше p-value, тем больше у нас аргументов, чтобы гипотезу не отвергать. В данном случае с вероятность 55% может произойти это отличие, а значит, гипотезу не отвергаем  \n",
        "Нулевая гипотеза не отвергнута. Делаем вывод, что средние пользовательские рейтинги платформ PC и XOne одинаковые**"
      ]
    },
    {
      "cell_type": "markdown",
      "metadata": {
        "id": "7GYDK8VB2UM8"
      },
      "source": [
        "### Тест №2"
      ]
    },
    {
      "cell_type": "markdown",
      "metadata": {
        "id": "6e34X4TW2UM9"
      },
      "source": [
        "**Проверка двусторонней гипотезы:  \n",
        "Нулевая гипотеза H0: Средние пользовательские рейтинги жанров Action и Sports одинаковые  \n",
        "Альтернативная гипотеза H1: Средние пользовательские рейтинги жанров Action и Sports не одинаковые**"
      ]
    },
    {
      "cell_type": "code",
      "execution_count": 54,
      "metadata": {
        "id": "pNOuzjVO2UM-"
      },
      "outputs": [],
      "source": [
        "# Сделаем срез таблицы df по критериям:\n",
        "df_action = df.query('genre == \"Action\" and year_of_release > 2013')\n",
        "df_sports = df.query('genre == \"Sports\" and year_of_release > 2013')\n",
        "\n",
        "# Оставим только нужный нам столбец\n",
        "df_action = df_action.loc[:,'user_score']\n",
        "df_sports = df_sports.loc[:,'user_score']\n",
        "\n",
        "# Выборки практически одинакового размера. Для проверки гипотезы осталось удалить пропуски\n",
        "df_action=df_action.dropna()\n",
        "df_sports=df_sports.dropna()"
      ]
    },
    {
      "cell_type": "code",
      "execution_count": 55,
      "metadata": {
        "scrolled": true,
        "colab": {
          "base_uri": "https://localhost:8080/"
        },
        "id": "F2TL-6vk2UM-",
        "outputId": "dcc4e2a7-a192-410c-d121-a03a3a51d369"
      },
      "outputs": [
        {
          "output_type": "stream",
          "name": "stdout",
          "text": [
            "p-значение: 2.8711147985105864e-19\n",
            "Отвергаем нулевую гипотезу\n"
          ]
        }
      ],
      "source": [
        "alpha = .05 # критический уровень статистической значимости\n",
        "\n",
        "results = st.ttest_ind(df_action, df_sports)\n",
        "\n",
        "print('p-значение:', results.pvalue)\n",
        "\n",
        "if results.pvalue < alpha:\n",
        "    print(\"Отвергаем нулевую гипотезу\")\n",
        "else:\n",
        "    print(\"Не получилось отвергнуть нулевую гипотезу\")"
      ]
    },
    {
      "cell_type": "markdown",
      "metadata": {
        "id": "2fJSdm2B2UM_"
      },
      "source": [
        "**p-value является бесконечно малым, а, значит, вероятность получить такое или большее значение случайно крайне мала, соответственно, гипотезу отвергаем  \n",
        "Данную гипотезу мы отвергаем, значит, средние пользовательские рейтинги жанров Action и Sports принимаем не одинаковыми.**"
      ]
    },
    {
      "cell_type": "markdown",
      "metadata": {
        "id": "mywora5d2UNB"
      },
      "source": [
        "## Вывод"
      ]
    },
    {
      "cell_type": "markdown",
      "metadata": {
        "id": "jLi1XQ0U2UNB"
      },
      "source": [
        "**Проведен анализ определяющих успешность игры закономерностей. Была проведена предобработка данных.  \n",
        "Сделаны следующие выводы:**\n",
        "- Количество выпущенных игр непрерывно увеличивалось, не считая последней пары лет\n",
        "- Самыми популярными платформами являются PS4, XOne и 3DS, несмотря на то, что популярность последних двух сильно упала за последние пару лет. Значит, можно спрогнозировать, что игры на этих платформах будут продаваться лучше, чем на остальных\n",
        "-  Если грубо взглянуть на диаграмму размаха по продажам по платформам, то можно сделать вывод, что медиана и большинство значений находится в диапазоне 0.01 до 0.15, а все, что выше 1 млн переходит в выбросы, т.к. таких значений крайне мало. \n",
        "- Также можно спрогнозировать, что лучше продаются игры, имеющие высокую оценку в основном именно у критиков, а не у юзеров\n",
        "- Стоит учесть большой размах продаж в жанрах Action, Sports, Shooter и Role-Playing за актуальный период. Это значит, что данные жанры будут приносить прибыль и дальше  \n",
        "Проведен анализ пользователей из разных регионов:    \n",
        "-  Самые большие продажи в Северной Америке наблюдаются на моделях: PS4, XOne, X360, 3DS, PS3; Европы: PS4, XOne, PS3, PC, 3DS; Японии: 3DS, PS4, PSV, PS3, WiiU. Эти платформы в разбивке по регионам должны приносить больше всего прибыли\n",
        "- В пятерку самых популярных жанров в трех регионах вошли: Action, Sports, Shooter, Fighting, Misc, Racing, Role-Playing\n",
        "- Во всех регионах больше всего продаются игры для детей младшего возраста. Игры для подростков имеют практически такие же результаты, но по продажам ниже. Игры для взрослых продаются только в Европе (610 тыс копий) и Северной америке (1.26 млн копий) и их очень мало, а со статусом \"рейтинг ожидается\" - только в Европе (30 000 копий). Многие игры не имеют рейтинга вообще - это связано с тем, что ESRB работает в основном на домашний рынок (NA) и производители из других регионов не стремятся получить их оценку  \n",
        "Проверены гипотезы:\n",
        "- Средние пользовательские рейтинги платформ Xbox One и PC одинаковые - не отвергнута. Принимаем, что средние пользовательские рейтинги платформ XOne и PC - одинаковые.\n",
        "- Средние пользовательские рейтинги жанров Action и Sports разные. Гипотеза была переформулирована: средние пользовательские рейтинги жанров Action и Sports одинаковые - отвергнута. Принимаем, что средние пользовательские рейтинги жанров Action и Sports разные\n"
      ]
    }
  ],
  "metadata": {
    "ExecuteTimeLog": [
      {
        "duration": 412,
        "start_time": "2022-08-09T10:05:15.016Z"
      },
      {
        "duration": 4,
        "start_time": "2022-08-09T10:05:28.016Z"
      },
      {
        "duration": 3,
        "start_time": "2022-08-09T13:10:20.975Z"
      },
      {
        "duration": 3,
        "start_time": "2022-08-09T13:10:27.750Z"
      },
      {
        "duration": 290,
        "start_time": "2022-08-09T13:11:01.722Z"
      },
      {
        "duration": 93,
        "start_time": "2022-08-09T13:11:21.895Z"
      },
      {
        "duration": 21,
        "start_time": "2022-08-09T13:11:33.984Z"
      },
      {
        "duration": 18,
        "start_time": "2022-08-09T13:13:35.280Z"
      },
      {
        "duration": 12,
        "start_time": "2022-08-09T13:13:47.010Z"
      },
      {
        "duration": 16,
        "start_time": "2022-08-09T13:13:53.866Z"
      },
      {
        "duration": 23,
        "start_time": "2022-08-09T13:14:54.153Z"
      },
      {
        "duration": 15,
        "start_time": "2022-08-09T13:16:13.777Z"
      },
      {
        "duration": 18,
        "start_time": "2022-08-09T13:16:52.905Z"
      },
      {
        "duration": 56,
        "start_time": "2022-08-09T13:19:05.457Z"
      },
      {
        "duration": 15,
        "start_time": "2022-08-09T13:19:06.407Z"
      },
      {
        "duration": 29,
        "start_time": "2022-08-09T13:19:13.841Z"
      },
      {
        "duration": 13,
        "start_time": "2022-08-09T13:27:25.659Z"
      },
      {
        "duration": 13,
        "start_time": "2022-08-09T13:27:36.828Z"
      },
      {
        "duration": 18,
        "start_time": "2022-08-09T13:28:13.932Z"
      },
      {
        "duration": 19,
        "start_time": "2022-08-09T13:28:30.915Z"
      },
      {
        "duration": 6,
        "start_time": "2022-08-09T13:32:30.585Z"
      },
      {
        "duration": 3,
        "start_time": "2022-08-09T13:32:51.484Z"
      },
      {
        "duration": 57,
        "start_time": "2022-08-09T13:32:51.662Z"
      },
      {
        "duration": 16,
        "start_time": "2022-08-09T13:32:51.827Z"
      },
      {
        "duration": 24,
        "start_time": "2022-08-09T13:32:52.022Z"
      },
      {
        "duration": 5,
        "start_time": "2022-08-09T13:32:58.181Z"
      },
      {
        "duration": 5,
        "start_time": "2022-08-09T13:34:14.204Z"
      },
      {
        "duration": 16,
        "start_time": "2022-08-09T13:34:24.117Z"
      },
      {
        "duration": 5,
        "start_time": "2022-08-09T13:34:34.173Z"
      },
      {
        "duration": 26,
        "start_time": "2022-08-09T13:35:07.250Z"
      },
      {
        "duration": 22,
        "start_time": "2022-08-09T13:35:25.737Z"
      },
      {
        "duration": 23,
        "start_time": "2022-08-09T13:39:50.590Z"
      },
      {
        "duration": 14,
        "start_time": "2022-08-09T13:39:59.650Z"
      },
      {
        "duration": 13,
        "start_time": "2022-08-09T13:40:03.897Z"
      },
      {
        "duration": 31,
        "start_time": "2022-08-09T13:40:29.842Z"
      },
      {
        "duration": 13,
        "start_time": "2022-08-09T13:40:44.436Z"
      },
      {
        "duration": 3,
        "start_time": "2022-08-09T13:41:08.919Z"
      },
      {
        "duration": 10,
        "start_time": "2022-08-09T13:41:13.913Z"
      },
      {
        "duration": 33,
        "start_time": "2022-08-09T13:41:30.915Z"
      },
      {
        "duration": 28,
        "start_time": "2022-08-09T13:42:51.037Z"
      },
      {
        "duration": 28,
        "start_time": "2022-08-09T13:43:00.437Z"
      },
      {
        "duration": 28,
        "start_time": "2022-08-09T13:43:09.767Z"
      },
      {
        "duration": 11,
        "start_time": "2022-08-09T13:43:42.397Z"
      },
      {
        "duration": 12,
        "start_time": "2022-08-09T13:43:56.328Z"
      },
      {
        "duration": 12,
        "start_time": "2022-08-09T13:44:51.691Z"
      },
      {
        "duration": 7,
        "start_time": "2022-08-09T13:48:05.972Z"
      },
      {
        "duration": 12,
        "start_time": "2022-08-09T13:48:47.797Z"
      },
      {
        "duration": 10,
        "start_time": "2022-08-09T13:48:56.745Z"
      },
      {
        "duration": 73,
        "start_time": "2022-08-09T13:51:03.236Z"
      },
      {
        "duration": 9,
        "start_time": "2022-08-09T13:51:17.407Z"
      },
      {
        "duration": 27,
        "start_time": "2022-08-09T13:51:29.177Z"
      },
      {
        "duration": 19,
        "start_time": "2022-08-09T13:51:36.929Z"
      },
      {
        "duration": 46,
        "start_time": "2022-08-09T13:52:12.660Z"
      },
      {
        "duration": 8,
        "start_time": "2022-08-09T16:27:46.983Z"
      },
      {
        "duration": 6,
        "start_time": "2022-08-09T16:50:14.729Z"
      },
      {
        "duration": 10,
        "start_time": "2022-08-09T16:50:24.638Z"
      },
      {
        "duration": 7,
        "start_time": "2022-08-09T16:50:38.513Z"
      },
      {
        "duration": 15,
        "start_time": "2022-08-09T16:50:38.748Z"
      },
      {
        "duration": 5,
        "start_time": "2022-08-09T16:51:07.826Z"
      },
      {
        "duration": 5,
        "start_time": "2022-08-09T16:51:08.411Z"
      },
      {
        "duration": 3,
        "start_time": "2022-08-09T16:51:27.236Z"
      },
      {
        "duration": 69,
        "start_time": "2022-08-09T16:51:27.568Z"
      },
      {
        "duration": 14,
        "start_time": "2022-08-09T16:51:27.909Z"
      },
      {
        "duration": 28,
        "start_time": "2022-08-09T16:51:27.925Z"
      },
      {
        "duration": 7,
        "start_time": "2022-08-09T16:51:29.095Z"
      },
      {
        "duration": 11,
        "start_time": "2022-08-09T16:51:30.405Z"
      },
      {
        "duration": 23,
        "start_time": "2022-08-09T16:51:33.363Z"
      },
      {
        "duration": 10,
        "start_time": "2022-08-09T16:51:36.432Z"
      },
      {
        "duration": 109,
        "start_time": "2022-08-09T16:51:55.889Z"
      },
      {
        "duration": 10,
        "start_time": "2022-08-09T16:51:56.226Z"
      },
      {
        "duration": 6,
        "start_time": "2022-08-09T16:52:10.807Z"
      },
      {
        "duration": 8,
        "start_time": "2022-08-09T16:52:14.934Z"
      },
      {
        "duration": 12,
        "start_time": "2022-08-09T16:52:15.289Z"
      },
      {
        "duration": 13,
        "start_time": "2022-08-09T16:52:58.405Z"
      },
      {
        "duration": 10,
        "start_time": "2022-08-09T16:52:58.796Z"
      },
      {
        "duration": 10,
        "start_time": "2022-08-09T16:53:19.796Z"
      },
      {
        "duration": 14,
        "start_time": "2022-08-09T16:53:20.941Z"
      },
      {
        "duration": 2,
        "start_time": "2022-08-09T16:53:27.841Z"
      },
      {
        "duration": 80,
        "start_time": "2022-08-09T16:53:27.845Z"
      },
      {
        "duration": 15,
        "start_time": "2022-08-09T16:53:28.201Z"
      },
      {
        "duration": 37,
        "start_time": "2022-08-09T16:53:28.468Z"
      },
      {
        "duration": 5,
        "start_time": "2022-08-09T16:53:29.447Z"
      },
      {
        "duration": 11,
        "start_time": "2022-08-09T16:53:31.307Z"
      },
      {
        "duration": 10,
        "start_time": "2022-08-09T16:53:34.731Z"
      },
      {
        "duration": 24,
        "start_time": "2022-08-09T16:53:38.564Z"
      },
      {
        "duration": 9,
        "start_time": "2022-08-09T17:09:49.455Z"
      },
      {
        "duration": 13,
        "start_time": "2022-08-09T17:10:21.865Z"
      },
      {
        "duration": 28,
        "start_time": "2022-08-09T17:12:42.098Z"
      },
      {
        "duration": 7,
        "start_time": "2022-08-09T17:12:56.225Z"
      },
      {
        "duration": 19,
        "start_time": "2022-08-09T17:13:01.592Z"
      },
      {
        "duration": 20,
        "start_time": "2022-08-09T17:13:32.691Z"
      },
      {
        "duration": 8,
        "start_time": "2022-08-09T17:14:23.497Z"
      },
      {
        "duration": 11,
        "start_time": "2022-08-09T17:14:25.297Z"
      },
      {
        "duration": 21,
        "start_time": "2022-08-09T17:14:26.698Z"
      },
      {
        "duration": 2,
        "start_time": "2022-08-09T17:15:07.042Z"
      },
      {
        "duration": 62,
        "start_time": "2022-08-09T17:15:07.213Z"
      },
      {
        "duration": 17,
        "start_time": "2022-08-09T17:15:07.387Z"
      },
      {
        "duration": 32,
        "start_time": "2022-08-09T17:15:07.550Z"
      },
      {
        "duration": 7,
        "start_time": "2022-08-09T17:15:08.088Z"
      },
      {
        "duration": 37,
        "start_time": "2022-08-09T17:15:09.359Z"
      },
      {
        "duration": 10,
        "start_time": "2022-08-09T17:15:12.406Z"
      },
      {
        "duration": 15,
        "start_time": "2022-08-09T17:15:12.587Z"
      },
      {
        "duration": 10,
        "start_time": "2022-08-09T17:15:25.122Z"
      },
      {
        "duration": 16,
        "start_time": "2022-08-09T17:15:25.532Z"
      },
      {
        "duration": 19,
        "start_time": "2022-08-09T17:15:26.820Z"
      },
      {
        "duration": 8,
        "start_time": "2022-08-09T17:18:21.839Z"
      },
      {
        "duration": 11,
        "start_time": "2022-08-09T17:18:22.302Z"
      },
      {
        "duration": 17,
        "start_time": "2022-08-09T17:18:44.278Z"
      },
      {
        "duration": 11,
        "start_time": "2022-08-09T17:18:47.048Z"
      },
      {
        "duration": 9,
        "start_time": "2022-08-09T17:22:25.005Z"
      },
      {
        "duration": 11,
        "start_time": "2022-08-09T17:22:38.430Z"
      },
      {
        "duration": 8,
        "start_time": "2022-08-09T17:28:58.904Z"
      },
      {
        "duration": 19,
        "start_time": "2022-08-09T17:29:03.345Z"
      },
      {
        "duration": 7,
        "start_time": "2022-08-09T17:31:45.297Z"
      },
      {
        "duration": 6,
        "start_time": "2022-08-09T17:31:52.456Z"
      },
      {
        "duration": 13,
        "start_time": "2022-08-09T17:32:07.887Z"
      },
      {
        "duration": 27,
        "start_time": "2022-08-09T17:35:26.396Z"
      },
      {
        "duration": 7,
        "start_time": "2022-08-09T17:36:04.298Z"
      },
      {
        "duration": 6,
        "start_time": "2022-08-09T17:36:11.782Z"
      },
      {
        "duration": 21,
        "start_time": "2022-08-09T17:36:24.849Z"
      },
      {
        "duration": 4,
        "start_time": "2022-08-09T17:37:55.131Z"
      },
      {
        "duration": 94,
        "start_time": "2022-08-09T17:48:50.945Z"
      },
      {
        "duration": 6,
        "start_time": "2022-08-09T17:49:10.886Z"
      },
      {
        "duration": 5,
        "start_time": "2022-08-09T17:49:22.821Z"
      },
      {
        "duration": 11,
        "start_time": "2022-08-09T17:50:18.685Z"
      },
      {
        "duration": 8,
        "start_time": "2022-08-09T17:50:22.778Z"
      },
      {
        "duration": 12,
        "start_time": "2022-08-09T17:50:26.749Z"
      },
      {
        "duration": 9,
        "start_time": "2022-08-09T17:50:30.432Z"
      },
      {
        "duration": 9,
        "start_time": "2022-08-09T17:50:41.985Z"
      },
      {
        "duration": 4,
        "start_time": "2022-08-09T17:50:52.127Z"
      },
      {
        "duration": 5,
        "start_time": "2022-08-09T17:52:30.829Z"
      },
      {
        "duration": 16,
        "start_time": "2022-08-09T17:52:39.506Z"
      },
      {
        "duration": 5,
        "start_time": "2022-08-09T17:53:18.256Z"
      },
      {
        "duration": 5,
        "start_time": "2022-08-09T17:53:23.000Z"
      },
      {
        "duration": 3,
        "start_time": "2022-08-09T17:55:55.344Z"
      },
      {
        "duration": 33,
        "start_time": "2022-08-09T17:56:06.946Z"
      },
      {
        "duration": 9,
        "start_time": "2022-08-09T17:56:31.433Z"
      },
      {
        "duration": 62,
        "start_time": "2022-08-09T17:58:14.678Z"
      },
      {
        "duration": 35,
        "start_time": "2022-08-09T17:58:49.644Z"
      },
      {
        "duration": 92,
        "start_time": "2022-08-09T18:00:53.502Z"
      },
      {
        "duration": 31,
        "start_time": "2022-08-09T18:01:10.198Z"
      },
      {
        "duration": 28,
        "start_time": "2022-08-09T18:02:42.882Z"
      },
      {
        "duration": 78,
        "start_time": "2022-08-09T18:04:43.129Z"
      },
      {
        "duration": 10,
        "start_time": "2022-08-09T18:05:04.610Z"
      },
      {
        "duration": 20,
        "start_time": "2022-08-09T18:05:45.805Z"
      },
      {
        "duration": 20,
        "start_time": "2022-08-09T18:06:15.409Z"
      },
      {
        "duration": 27,
        "start_time": "2022-08-09T18:07:23.458Z"
      },
      {
        "duration": 21,
        "start_time": "2022-08-09T18:08:01.320Z"
      },
      {
        "duration": 23,
        "start_time": "2022-08-09T18:09:29.982Z"
      },
      {
        "duration": 9,
        "start_time": "2022-08-09T18:21:36.816Z"
      },
      {
        "duration": 6,
        "start_time": "2022-08-09T18:22:29.688Z"
      },
      {
        "duration": 168,
        "start_time": "2022-08-09T18:22:31.196Z"
      },
      {
        "duration": 6,
        "start_time": "2022-08-09T18:22:56.994Z"
      },
      {
        "duration": 16,
        "start_time": "2022-08-09T18:23:34.605Z"
      },
      {
        "duration": 2,
        "start_time": "2022-08-09T18:24:57.189Z"
      },
      {
        "duration": 60,
        "start_time": "2022-08-09T18:24:57.357Z"
      },
      {
        "duration": 14,
        "start_time": "2022-08-09T18:24:57.508Z"
      },
      {
        "duration": 26,
        "start_time": "2022-08-09T18:24:57.691Z"
      },
      {
        "duration": 5,
        "start_time": "2022-08-09T18:24:58.186Z"
      },
      {
        "duration": 9,
        "start_time": "2022-08-09T18:24:58.557Z"
      },
      {
        "duration": 7,
        "start_time": "2022-08-09T18:24:59.289Z"
      },
      {
        "duration": 9,
        "start_time": "2022-08-09T18:24:59.689Z"
      },
      {
        "duration": 9,
        "start_time": "2022-08-09T18:25:00.914Z"
      },
      {
        "duration": 9,
        "start_time": "2022-08-09T18:25:01.308Z"
      },
      {
        "duration": 4,
        "start_time": "2022-08-09T18:25:02.282Z"
      },
      {
        "duration": 5,
        "start_time": "2022-08-09T18:25:02.651Z"
      },
      {
        "duration": 5,
        "start_time": "2022-08-09T18:25:03.836Z"
      },
      {
        "duration": 19,
        "start_time": "2022-08-09T18:25:04.769Z"
      },
      {
        "duration": 5,
        "start_time": "2022-08-09T18:25:12.309Z"
      },
      {
        "duration": 954,
        "start_time": "2022-08-09T18:25:13.835Z"
      },
      {
        "duration": 6,
        "start_time": "2022-08-09T18:25:14.791Z"
      },
      {
        "duration": 15,
        "start_time": "2022-08-09T18:25:27.670Z"
      },
      {
        "duration": 5,
        "start_time": "2022-08-09T18:25:46.845Z"
      },
      {
        "duration": 159,
        "start_time": "2022-08-09T18:25:47.666Z"
      },
      {
        "duration": 6,
        "start_time": "2022-08-09T18:25:48.274Z"
      },
      {
        "duration": 5,
        "start_time": "2022-08-09T18:25:58.122Z"
      },
      {
        "duration": 152,
        "start_time": "2022-08-09T18:25:58.558Z"
      },
      {
        "duration": 5,
        "start_time": "2022-08-09T18:25:59.450Z"
      },
      {
        "duration": 16,
        "start_time": "2022-08-09T18:26:02.969Z"
      },
      {
        "duration": 3,
        "start_time": "2022-08-09T20:44:47.572Z"
      },
      {
        "duration": 56,
        "start_time": "2022-08-09T20:44:47.788Z"
      },
      {
        "duration": 14,
        "start_time": "2022-08-09T20:44:48.102Z"
      },
      {
        "duration": 27,
        "start_time": "2022-08-09T20:44:49.517Z"
      },
      {
        "duration": 5,
        "start_time": "2022-08-09T20:44:59.998Z"
      },
      {
        "duration": 11,
        "start_time": "2022-08-09T20:45:01.742Z"
      },
      {
        "duration": 8,
        "start_time": "2022-08-09T20:45:11.878Z"
      },
      {
        "duration": 9,
        "start_time": "2022-08-09T20:45:12.183Z"
      },
      {
        "duration": 8,
        "start_time": "2022-08-09T20:45:15.877Z"
      },
      {
        "duration": 8,
        "start_time": "2022-08-09T20:45:16.899Z"
      },
      {
        "duration": 4,
        "start_time": "2022-08-09T20:45:18.887Z"
      },
      {
        "duration": 5,
        "start_time": "2022-08-09T20:45:21.273Z"
      },
      {
        "duration": 5,
        "start_time": "2022-08-09T20:45:22.295Z"
      },
      {
        "duration": 19,
        "start_time": "2022-08-09T20:45:23.741Z"
      },
      {
        "duration": 5,
        "start_time": "2022-08-09T20:45:37.480Z"
      },
      {
        "duration": 150,
        "start_time": "2022-08-09T20:45:39.346Z"
      },
      {
        "duration": 5,
        "start_time": "2022-08-09T20:45:39.731Z"
      },
      {
        "duration": 14,
        "start_time": "2022-08-09T20:45:45.580Z"
      },
      {
        "duration": 23,
        "start_time": "2022-08-09T20:46:04.792Z"
      },
      {
        "duration": 26,
        "start_time": "2022-08-09T20:46:12.218Z"
      },
      {
        "duration": 31,
        "start_time": "2022-08-09T20:46:22.601Z"
      },
      {
        "duration": 21,
        "start_time": "2022-08-09T20:46:31.011Z"
      },
      {
        "duration": 20,
        "start_time": "2022-08-09T20:46:38.443Z"
      },
      {
        "duration": 5,
        "start_time": "2022-08-09T20:47:39.620Z"
      },
      {
        "duration": 64,
        "start_time": "2022-08-09T20:47:39.929Z"
      },
      {
        "duration": 15,
        "start_time": "2022-08-09T20:47:39.995Z"
      },
      {
        "duration": 26,
        "start_time": "2022-08-09T20:47:40.184Z"
      },
      {
        "duration": 4,
        "start_time": "2022-08-09T20:47:40.797Z"
      },
      {
        "duration": 9,
        "start_time": "2022-08-09T20:47:41.264Z"
      },
      {
        "duration": 7,
        "start_time": "2022-08-09T20:47:41.713Z"
      },
      {
        "duration": 9,
        "start_time": "2022-08-09T20:47:41.959Z"
      },
      {
        "duration": 9,
        "start_time": "2022-08-09T20:47:43.541Z"
      },
      {
        "duration": 8,
        "start_time": "2022-08-09T20:47:46.802Z"
      },
      {
        "duration": 4,
        "start_time": "2022-08-09T20:47:50.998Z"
      },
      {
        "duration": 5,
        "start_time": "2022-08-09T20:47:52.141Z"
      },
      {
        "duration": 6,
        "start_time": "2022-08-09T20:47:54.395Z"
      },
      {
        "duration": 20,
        "start_time": "2022-08-09T20:47:55.732Z"
      },
      {
        "duration": 5,
        "start_time": "2022-08-09T20:48:08.158Z"
      },
      {
        "duration": 154,
        "start_time": "2022-08-09T20:48:09.885Z"
      },
      {
        "duration": 10,
        "start_time": "2022-08-09T20:49:01.847Z"
      },
      {
        "duration": 6,
        "start_time": "2022-08-09T20:51:50.799Z"
      },
      {
        "duration": 28,
        "start_time": "2022-08-09T20:52:50.650Z"
      },
      {
        "duration": 28,
        "start_time": "2022-08-09T20:53:16.081Z"
      },
      {
        "duration": 6,
        "start_time": "2022-08-09T20:53:24.401Z"
      },
      {
        "duration": 26,
        "start_time": "2022-08-09T20:53:24.840Z"
      },
      {
        "duration": 30,
        "start_time": "2022-08-09T20:53:31.122Z"
      },
      {
        "duration": 32,
        "start_time": "2022-08-09T20:55:30.364Z"
      },
      {
        "duration": 435,
        "start_time": "2022-08-10T09:29:52.308Z"
      },
      {
        "duration": 176,
        "start_time": "2022-08-10T09:29:52.744Z"
      },
      {
        "duration": 13,
        "start_time": "2022-08-10T09:29:53.728Z"
      },
      {
        "duration": 32,
        "start_time": "2022-08-10T09:29:53.945Z"
      },
      {
        "duration": 4,
        "start_time": "2022-08-10T09:29:57.391Z"
      },
      {
        "duration": 9,
        "start_time": "2022-08-10T09:29:59.527Z"
      },
      {
        "duration": 9,
        "start_time": "2022-08-10T09:30:00.721Z"
      },
      {
        "duration": 8,
        "start_time": "2022-08-10T09:32:12.226Z"
      },
      {
        "duration": 8,
        "start_time": "2022-08-10T09:32:18.163Z"
      },
      {
        "duration": 7,
        "start_time": "2022-08-10T09:32:20.320Z"
      },
      {
        "duration": 4,
        "start_time": "2022-08-10T09:32:25.738Z"
      },
      {
        "duration": 4,
        "start_time": "2022-08-10T09:32:26.748Z"
      },
      {
        "duration": 5,
        "start_time": "2022-08-10T09:32:32.425Z"
      },
      {
        "duration": 18,
        "start_time": "2022-08-10T09:32:45.673Z"
      },
      {
        "duration": 5,
        "start_time": "2022-08-10T09:33:13.786Z"
      },
      {
        "duration": 135,
        "start_time": "2022-08-10T09:33:17.480Z"
      },
      {
        "duration": 4,
        "start_time": "2022-08-10T09:33:43.377Z"
      },
      {
        "duration": 31,
        "start_time": "2022-08-10T09:33:57.035Z"
      },
      {
        "duration": 9,
        "start_time": "2022-08-10T09:38:25.159Z"
      },
      {
        "duration": 19,
        "start_time": "2022-08-10T09:39:24.932Z"
      },
      {
        "duration": 24,
        "start_time": "2022-08-10T09:39:32.552Z"
      },
      {
        "duration": 274,
        "start_time": "2022-08-10T09:41:10.415Z"
      },
      {
        "duration": 4,
        "start_time": "2022-08-10T09:41:20.465Z"
      },
      {
        "duration": 65,
        "start_time": "2022-08-10T09:42:54.474Z"
      },
      {
        "duration": 3,
        "start_time": "2022-08-10T09:45:26.719Z"
      },
      {
        "duration": 158,
        "start_time": "2022-08-10T09:45:27.934Z"
      },
      {
        "duration": 3,
        "start_time": "2022-08-10T09:46:02.715Z"
      },
      {
        "duration": 139,
        "start_time": "2022-08-10T09:46:03.088Z"
      },
      {
        "duration": 9,
        "start_time": "2022-08-10T09:46:11.977Z"
      },
      {
        "duration": 19,
        "start_time": "2022-08-10T09:47:47.338Z"
      },
      {
        "duration": 3,
        "start_time": "2022-08-10T09:48:22.022Z"
      },
      {
        "duration": 133,
        "start_time": "2022-08-10T09:48:22.353Z"
      },
      {
        "duration": 10,
        "start_time": "2022-08-10T09:48:23.320Z"
      },
      {
        "duration": 21,
        "start_time": "2022-08-10T09:48:32.761Z"
      },
      {
        "duration": 2,
        "start_time": "2022-08-10T09:48:37.217Z"
      },
      {
        "duration": 47,
        "start_time": "2022-08-10T09:48:37.385Z"
      },
      {
        "duration": 12,
        "start_time": "2022-08-10T09:48:37.573Z"
      },
      {
        "duration": 23,
        "start_time": "2022-08-10T09:48:37.913Z"
      },
      {
        "duration": 4,
        "start_time": "2022-08-10T09:48:38.458Z"
      },
      {
        "duration": 8,
        "start_time": "2022-08-10T09:48:38.826Z"
      },
      {
        "duration": 6,
        "start_time": "2022-08-10T09:48:39.186Z"
      },
      {
        "duration": 9,
        "start_time": "2022-08-10T09:48:39.370Z"
      },
      {
        "duration": 10,
        "start_time": "2022-08-10T09:48:39.953Z"
      },
      {
        "duration": 8,
        "start_time": "2022-08-10T09:48:40.322Z"
      },
      {
        "duration": 5,
        "start_time": "2022-08-10T09:48:40.921Z"
      },
      {
        "duration": 4,
        "start_time": "2022-08-10T09:48:41.332Z"
      },
      {
        "duration": 5,
        "start_time": "2022-08-10T09:48:41.786Z"
      },
      {
        "duration": 18,
        "start_time": "2022-08-10T09:48:42.226Z"
      },
      {
        "duration": 5,
        "start_time": "2022-08-10T09:48:42.692Z"
      },
      {
        "duration": 135,
        "start_time": "2022-08-10T09:48:43.769Z"
      },
      {
        "duration": 4,
        "start_time": "2022-08-10T09:48:44.556Z"
      },
      {
        "duration": 24,
        "start_time": "2022-08-10T09:48:45.969Z"
      },
      {
        "duration": 3,
        "start_time": "2022-08-10T09:48:49.395Z"
      },
      {
        "duration": 17,
        "start_time": "2022-08-10T09:48:51.194Z"
      },
      {
        "duration": 3,
        "start_time": "2022-08-10T09:54:46.792Z"
      },
      {
        "duration": 392,
        "start_time": "2022-08-10T09:54:47.731Z"
      },
      {
        "duration": 2,
        "start_time": "2022-08-10T09:55:35.900Z"
      },
      {
        "duration": 353,
        "start_time": "2022-08-10T09:55:36.663Z"
      },
      {
        "duration": 3,
        "start_time": "2022-08-10T09:56:21.355Z"
      },
      {
        "duration": 314,
        "start_time": "2022-08-10T09:56:21.714Z"
      },
      {
        "duration": 3,
        "start_time": "2022-08-10T09:57:14.601Z"
      },
      {
        "duration": 308,
        "start_time": "2022-08-10T09:57:15.169Z"
      },
      {
        "duration": 17,
        "start_time": "2022-08-10T09:57:51.671Z"
      },
      {
        "duration": 2,
        "start_time": "2022-08-10T09:57:53.314Z"
      },
      {
        "duration": 17,
        "start_time": "2022-08-10T09:57:53.809Z"
      },
      {
        "duration": 70,
        "start_time": "2022-08-10T09:59:35.951Z"
      },
      {
        "duration": 3,
        "start_time": "2022-08-10T09:59:44.105Z"
      },
      {
        "duration": 95,
        "start_time": "2022-08-10T09:59:44.982Z"
      },
      {
        "duration": 22,
        "start_time": "2022-08-10T10:00:05.206Z"
      },
      {
        "duration": 2,
        "start_time": "2022-08-10T10:00:23.600Z"
      },
      {
        "duration": 96,
        "start_time": "2022-08-10T10:00:23.897Z"
      },
      {
        "duration": 24,
        "start_time": "2022-08-10T10:00:24.614Z"
      },
      {
        "duration": 25,
        "start_time": "2022-08-10T10:02:13.789Z"
      },
      {
        "duration": 2,
        "start_time": "2022-08-10T10:02:14.132Z"
      },
      {
        "duration": 3,
        "start_time": "2022-08-10T10:02:18.870Z"
      },
      {
        "duration": 46,
        "start_time": "2022-08-10T10:02:19.027Z"
      },
      {
        "duration": 13,
        "start_time": "2022-08-10T10:02:19.219Z"
      },
      {
        "duration": 24,
        "start_time": "2022-08-10T10:02:19.408Z"
      },
      {
        "duration": 5,
        "start_time": "2022-08-10T10:02:19.916Z"
      },
      {
        "duration": 9,
        "start_time": "2022-08-10T10:02:20.281Z"
      },
      {
        "duration": 7,
        "start_time": "2022-08-10T10:02:20.658Z"
      },
      {
        "duration": 7,
        "start_time": "2022-08-10T10:02:20.860Z"
      },
      {
        "duration": 7,
        "start_time": "2022-08-10T10:02:21.403Z"
      },
      {
        "duration": 8,
        "start_time": "2022-08-10T10:02:21.770Z"
      },
      {
        "duration": 4,
        "start_time": "2022-08-10T10:02:22.332Z"
      },
      {
        "duration": 5,
        "start_time": "2022-08-10T10:02:22.714Z"
      },
      {
        "duration": 5,
        "start_time": "2022-08-10T10:02:23.506Z"
      },
      {
        "duration": 18,
        "start_time": "2022-08-10T10:02:24.771Z"
      },
      {
        "duration": 4,
        "start_time": "2022-08-10T10:02:25.820Z"
      },
      {
        "duration": 135,
        "start_time": "2022-08-10T10:02:28.291Z"
      },
      {
        "duration": 5,
        "start_time": "2022-08-10T10:02:46.804Z"
      },
      {
        "duration": 24,
        "start_time": "2022-08-10T10:02:48.860Z"
      },
      {
        "duration": 3,
        "start_time": "2022-08-10T10:02:51.787Z"
      },
      {
        "duration": 110,
        "start_time": "2022-08-10T10:02:52.541Z"
      },
      {
        "duration": 26,
        "start_time": "2022-08-10T10:02:53.127Z"
      },
      {
        "duration": 2,
        "start_time": "2022-08-10T10:05:21.215Z"
      },
      {
        "duration": 148,
        "start_time": "2022-08-10T10:05:22.106Z"
      },
      {
        "duration": 25,
        "start_time": "2022-08-10T10:05:26.652Z"
      },
      {
        "duration": 132,
        "start_time": "2022-08-10T10:06:12.049Z"
      },
      {
        "duration": 23,
        "start_time": "2022-08-10T10:06:13.464Z"
      },
      {
        "duration": 10,
        "start_time": "2022-08-10T10:06:35.875Z"
      },
      {
        "duration": 3,
        "start_time": "2022-08-10T10:09:00.948Z"
      },
      {
        "duration": 46,
        "start_time": "2022-08-10T10:09:01.118Z"
      },
      {
        "duration": 13,
        "start_time": "2022-08-10T10:09:01.266Z"
      },
      {
        "duration": 377,
        "start_time": "2022-08-10T10:09:04.008Z"
      },
      {
        "duration": 59,
        "start_time": "2022-08-10T10:09:04.388Z"
      },
      {
        "duration": 20,
        "start_time": "2022-08-10T10:09:04.449Z"
      },
      {
        "duration": 57,
        "start_time": "2022-08-10T10:09:04.471Z"
      },
      {
        "duration": 5,
        "start_time": "2022-08-10T10:09:04.530Z"
      },
      {
        "duration": 20,
        "start_time": "2022-08-10T10:09:04.537Z"
      },
      {
        "duration": 11,
        "start_time": "2022-08-10T10:09:04.559Z"
      },
      {
        "duration": 10,
        "start_time": "2022-08-10T10:09:04.572Z"
      },
      {
        "duration": 8,
        "start_time": "2022-08-10T10:09:04.606Z"
      },
      {
        "duration": 7,
        "start_time": "2022-08-10T10:09:04.615Z"
      },
      {
        "duration": 4,
        "start_time": "2022-08-10T10:09:04.623Z"
      },
      {
        "duration": 7,
        "start_time": "2022-08-10T10:09:04.628Z"
      },
      {
        "duration": 10,
        "start_time": "2022-08-10T10:09:04.636Z"
      },
      {
        "duration": 19,
        "start_time": "2022-08-10T10:09:04.648Z"
      },
      {
        "duration": 4,
        "start_time": "2022-08-10T10:09:04.669Z"
      },
      {
        "duration": 152,
        "start_time": "2022-08-10T10:09:04.706Z"
      },
      {
        "duration": 7,
        "start_time": "2022-08-10T10:09:04.860Z"
      },
      {
        "duration": 26,
        "start_time": "2022-08-10T10:09:04.869Z"
      },
      {
        "duration": 3,
        "start_time": "2022-08-10T10:09:04.905Z"
      },
      {
        "duration": 109,
        "start_time": "2022-08-10T10:09:04.909Z"
      },
      {
        "duration": 3,
        "start_time": "2022-08-10T10:09:05.020Z"
      },
      {
        "duration": 144,
        "start_time": "2022-08-10T10:09:05.024Z"
      },
      {
        "duration": 17,
        "start_time": "2022-08-10T12:51:30.675Z"
      },
      {
        "duration": 5,
        "start_time": "2022-08-10T12:55:04.453Z"
      },
      {
        "duration": 15,
        "start_time": "2022-08-10T12:55:13.772Z"
      },
      {
        "duration": 6,
        "start_time": "2022-08-10T13:12:54.952Z"
      },
      {
        "duration": 39,
        "start_time": "2022-08-10T13:14:59.344Z"
      },
      {
        "duration": 10,
        "start_time": "2022-08-10T13:15:06.290Z"
      },
      {
        "duration": 6,
        "start_time": "2022-08-10T13:15:22.470Z"
      },
      {
        "duration": 7,
        "start_time": "2022-08-10T13:15:30.520Z"
      },
      {
        "duration": 661,
        "start_time": "2022-08-10T13:18:17.285Z"
      },
      {
        "duration": 7,
        "start_time": "2022-08-10T13:19:11.476Z"
      },
      {
        "duration": 6,
        "start_time": "2022-08-10T13:19:24.884Z"
      },
      {
        "duration": 2597,
        "start_time": "2022-08-10T13:19:53.684Z"
      },
      {
        "duration": 3698,
        "start_time": "2022-08-10T13:20:05.242Z"
      },
      {
        "duration": 77,
        "start_time": "2022-08-10T13:23:15.812Z"
      },
      {
        "duration": 11,
        "start_time": "2022-08-10T13:23:26.161Z"
      },
      {
        "duration": 15,
        "start_time": "2022-08-10T13:23:35.974Z"
      },
      {
        "duration": 1329,
        "start_time": "2022-08-10T13:23:43.377Z"
      },
      {
        "duration": 1244,
        "start_time": "2022-08-10T13:24:07.180Z"
      },
      {
        "duration": 1468,
        "start_time": "2022-08-10T13:24:40.880Z"
      },
      {
        "duration": 4854,
        "start_time": "2022-08-10T13:25:09.912Z"
      },
      {
        "duration": 9,
        "start_time": "2022-08-10T13:30:11.854Z"
      },
      {
        "duration": 9,
        "start_time": "2022-08-10T13:30:32.240Z"
      },
      {
        "duration": 13,
        "start_time": "2022-08-10T13:38:01.481Z"
      },
      {
        "duration": 18,
        "start_time": "2022-08-10T13:40:06.589Z"
      },
      {
        "duration": 37,
        "start_time": "2022-08-10T13:40:14.950Z"
      },
      {
        "duration": 13,
        "start_time": "2022-08-10T13:40:41.220Z"
      },
      {
        "duration": 1313,
        "start_time": "2022-08-10T13:43:13.764Z"
      },
      {
        "duration": 1297,
        "start_time": "2022-08-10T13:43:22.181Z"
      },
      {
        "duration": 1355,
        "start_time": "2022-08-10T13:43:27.614Z"
      },
      {
        "duration": 20,
        "start_time": "2022-08-10T13:45:15.534Z"
      },
      {
        "duration": 23,
        "start_time": "2022-08-10T13:45:28.341Z"
      },
      {
        "duration": 28,
        "start_time": "2022-08-10T13:46:16.120Z"
      },
      {
        "duration": 29,
        "start_time": "2022-08-10T13:46:34.984Z"
      },
      {
        "duration": 16,
        "start_time": "2022-08-10T13:46:56.757Z"
      },
      {
        "duration": 21,
        "start_time": "2022-08-10T13:48:14.183Z"
      },
      {
        "duration": 906,
        "start_time": "2022-08-10T13:48:32.883Z"
      },
      {
        "duration": 58,
        "start_time": "2022-08-10T13:48:40.140Z"
      },
      {
        "duration": 31,
        "start_time": "2022-08-10T13:48:52.639Z"
      },
      {
        "duration": 32,
        "start_time": "2022-08-10T13:49:16.180Z"
      },
      {
        "duration": 29,
        "start_time": "2022-08-10T13:50:27.351Z"
      },
      {
        "duration": 26,
        "start_time": "2022-08-10T13:50:52.695Z"
      },
      {
        "duration": 20,
        "start_time": "2022-08-10T13:51:04.630Z"
      },
      {
        "duration": 18,
        "start_time": "2022-08-10T13:51:40.085Z"
      },
      {
        "duration": 15,
        "start_time": "2022-08-10T13:51:48.436Z"
      },
      {
        "duration": 2,
        "start_time": "2022-08-10T13:52:04.594Z"
      },
      {
        "duration": 15,
        "start_time": "2022-08-10T13:52:12.780Z"
      },
      {
        "duration": 17,
        "start_time": "2022-08-10T13:52:30.342Z"
      },
      {
        "duration": 22,
        "start_time": "2022-08-10T13:53:21.043Z"
      },
      {
        "duration": 99,
        "start_time": "2022-08-10T13:54:34.032Z"
      },
      {
        "duration": 101,
        "start_time": "2022-08-10T13:54:43.318Z"
      },
      {
        "duration": 22,
        "start_time": "2022-08-10T13:54:49.776Z"
      },
      {
        "duration": 16,
        "start_time": "2022-08-10T13:55:51.273Z"
      },
      {
        "duration": 12,
        "start_time": "2022-08-10T13:56:04.138Z"
      },
      {
        "duration": 11,
        "start_time": "2022-08-10T13:56:15.535Z"
      },
      {
        "duration": 17,
        "start_time": "2022-08-10T13:56:26.175Z"
      },
      {
        "duration": 11,
        "start_time": "2022-08-10T13:56:35.564Z"
      },
      {
        "duration": 18,
        "start_time": "2022-08-10T13:57:00.635Z"
      },
      {
        "duration": 358,
        "start_time": "2022-08-10T13:57:44.258Z"
      },
      {
        "duration": 105,
        "start_time": "2022-08-10T13:58:28.968Z"
      },
      {
        "duration": 147,
        "start_time": "2022-08-10T13:58:40.734Z"
      },
      {
        "duration": 12,
        "start_time": "2022-08-10T14:01:26.216Z"
      },
      {
        "duration": 13,
        "start_time": "2022-08-10T14:01:47.999Z"
      },
      {
        "duration": 13,
        "start_time": "2022-08-10T14:01:58.673Z"
      },
      {
        "duration": 430,
        "start_time": "2022-08-10T14:02:25.840Z"
      },
      {
        "duration": 23,
        "start_time": "2022-08-10T14:03:00.188Z"
      },
      {
        "duration": 17,
        "start_time": "2022-08-10T14:04:27.985Z"
      },
      {
        "duration": 21,
        "start_time": "2022-08-10T14:05:03.231Z"
      },
      {
        "duration": 53,
        "start_time": "2022-08-10T14:08:06.932Z"
      },
      {
        "duration": 15,
        "start_time": "2022-08-10T14:08:22.683Z"
      },
      {
        "duration": 95,
        "start_time": "2022-08-10T14:08:29.962Z"
      },
      {
        "duration": 17,
        "start_time": "2022-08-10T14:08:39.439Z"
      },
      {
        "duration": 24,
        "start_time": "2022-08-10T14:08:45.498Z"
      },
      {
        "duration": 24,
        "start_time": "2022-08-10T14:08:53.121Z"
      },
      {
        "duration": 27,
        "start_time": "2022-08-10T14:08:55.203Z"
      },
      {
        "duration": 3,
        "start_time": "2022-08-10T14:11:38.331Z"
      },
      {
        "duration": 99,
        "start_time": "2022-08-10T14:12:51.401Z"
      },
      {
        "duration": 89,
        "start_time": "2022-08-10T14:13:22.448Z"
      },
      {
        "duration": 103,
        "start_time": "2022-08-10T14:13:53.831Z"
      },
      {
        "duration": 3,
        "start_time": "2022-08-10T14:14:47.518Z"
      },
      {
        "duration": 61,
        "start_time": "2022-08-10T14:14:47.679Z"
      },
      {
        "duration": 13,
        "start_time": "2022-08-10T14:14:47.876Z"
      },
      {
        "duration": 34,
        "start_time": "2022-08-10T14:14:48.100Z"
      },
      {
        "duration": 4,
        "start_time": "2022-08-10T14:14:49.197Z"
      },
      {
        "duration": 9,
        "start_time": "2022-08-10T14:14:49.599Z"
      },
      {
        "duration": 6,
        "start_time": "2022-08-10T14:14:49.945Z"
      },
      {
        "duration": 11,
        "start_time": "2022-08-10T14:14:50.138Z"
      },
      {
        "duration": 8,
        "start_time": "2022-08-10T14:14:50.937Z"
      },
      {
        "duration": 8,
        "start_time": "2022-08-10T14:14:51.694Z"
      },
      {
        "duration": 4,
        "start_time": "2022-08-10T14:14:52.198Z"
      },
      {
        "duration": 5,
        "start_time": "2022-08-10T14:14:52.536Z"
      },
      {
        "duration": 5,
        "start_time": "2022-08-10T14:14:52.950Z"
      },
      {
        "duration": 19,
        "start_time": "2022-08-10T14:14:53.775Z"
      },
      {
        "duration": 7,
        "start_time": "2022-08-10T14:14:55.442Z"
      },
      {
        "duration": 188,
        "start_time": "2022-08-10T14:14:56.227Z"
      },
      {
        "duration": 5,
        "start_time": "2022-08-10T14:14:57.230Z"
      },
      {
        "duration": 28,
        "start_time": "2022-08-10T14:14:57.929Z"
      },
      {
        "duration": 3,
        "start_time": "2022-08-10T14:15:00.899Z"
      },
      {
        "duration": 117,
        "start_time": "2022-08-10T14:15:01.984Z"
      },
      {
        "duration": 3,
        "start_time": "2022-08-10T14:15:02.595Z"
      },
      {
        "duration": 150,
        "start_time": "2022-08-10T14:15:05.067Z"
      },
      {
        "duration": 5,
        "start_time": "2022-08-10T14:15:05.584Z"
      },
      {
        "duration": 19,
        "start_time": "2022-08-10T14:15:09.697Z"
      },
      {
        "duration": 136,
        "start_time": "2022-08-10T14:15:18.918Z"
      },
      {
        "duration": 129,
        "start_time": "2022-08-10T14:15:33.464Z"
      },
      {
        "duration": 151,
        "start_time": "2022-08-10T14:15:57.118Z"
      },
      {
        "duration": 148,
        "start_time": "2022-08-10T14:16:03.771Z"
      },
      {
        "duration": 159,
        "start_time": "2022-08-10T14:16:08.061Z"
      },
      {
        "duration": 158,
        "start_time": "2022-08-10T14:16:30.737Z"
      },
      {
        "duration": 192,
        "start_time": "2022-08-10T14:16:51.972Z"
      },
      {
        "duration": 164,
        "start_time": "2022-08-10T14:17:39.496Z"
      },
      {
        "duration": 26,
        "start_time": "2022-08-10T14:22:46.598Z"
      },
      {
        "duration": 1079,
        "start_time": "2022-08-10T14:23:00.056Z"
      },
      {
        "duration": 62,
        "start_time": "2022-08-10T14:23:01.137Z"
      },
      {
        "duration": 15,
        "start_time": "2022-08-10T14:23:01.200Z"
      },
      {
        "duration": 42,
        "start_time": "2022-08-10T14:23:01.216Z"
      },
      {
        "duration": 5,
        "start_time": "2022-08-10T14:23:01.260Z"
      },
      {
        "duration": 12,
        "start_time": "2022-08-10T14:23:01.267Z"
      },
      {
        "duration": 10,
        "start_time": "2022-08-10T14:23:01.280Z"
      },
      {
        "duration": 30,
        "start_time": "2022-08-10T14:23:01.291Z"
      },
      {
        "duration": 10,
        "start_time": "2022-08-10T14:23:01.322Z"
      },
      {
        "duration": 9,
        "start_time": "2022-08-10T14:23:01.333Z"
      },
      {
        "duration": 6,
        "start_time": "2022-08-10T14:23:01.343Z"
      },
      {
        "duration": 12,
        "start_time": "2022-08-10T14:23:01.350Z"
      },
      {
        "duration": 23,
        "start_time": "2022-08-10T14:23:01.363Z"
      },
      {
        "duration": 30,
        "start_time": "2022-08-10T14:23:01.388Z"
      },
      {
        "duration": 6,
        "start_time": "2022-08-10T14:23:01.420Z"
      },
      {
        "duration": 151,
        "start_time": "2022-08-10T14:23:01.428Z"
      },
      {
        "duration": 5,
        "start_time": "2022-08-10T14:23:01.581Z"
      },
      {
        "duration": 42,
        "start_time": "2022-08-10T14:23:01.588Z"
      },
      {
        "duration": 3,
        "start_time": "2022-08-10T14:23:01.632Z"
      },
      {
        "duration": 116,
        "start_time": "2022-08-10T14:23:01.637Z"
      },
      {
        "duration": 3,
        "start_time": "2022-08-10T14:23:01.755Z"
      },
      {
        "duration": 208,
        "start_time": "2022-08-10T14:23:01.760Z"
      },
      {
        "duration": 4,
        "start_time": "2022-08-10T14:23:01.970Z"
      },
      {
        "duration": 19,
        "start_time": "2022-08-10T14:23:01.975Z"
      },
      {
        "duration": 326,
        "start_time": "2022-08-10T14:23:02.005Z"
      },
      {
        "duration": 146,
        "start_time": "2022-08-10T14:24:38.602Z"
      },
      {
        "duration": 16,
        "start_time": "2022-08-10T14:25:02.425Z"
      },
      {
        "duration": 15,
        "start_time": "2022-08-10T14:25:53.927Z"
      },
      {
        "duration": 16,
        "start_time": "2022-08-10T14:26:05.746Z"
      },
      {
        "duration": 25,
        "start_time": "2022-08-10T14:26:08.019Z"
      },
      {
        "duration": 15,
        "start_time": "2022-08-10T14:26:36.974Z"
      },
      {
        "duration": 16,
        "start_time": "2022-08-10T14:26:40.749Z"
      },
      {
        "duration": 22,
        "start_time": "2022-08-10T14:26:41.931Z"
      },
      {
        "duration": 1083,
        "start_time": "2022-08-10T14:30:35.922Z"
      },
      {
        "duration": 60,
        "start_time": "2022-08-10T14:30:37.007Z"
      },
      {
        "duration": 14,
        "start_time": "2022-08-10T14:30:37.068Z"
      },
      {
        "duration": 27,
        "start_time": "2022-08-10T14:30:37.084Z"
      },
      {
        "duration": 6,
        "start_time": "2022-08-10T14:30:37.112Z"
      },
      {
        "duration": 15,
        "start_time": "2022-08-10T14:30:37.119Z"
      },
      {
        "duration": 7,
        "start_time": "2022-08-10T14:30:37.135Z"
      },
      {
        "duration": 8,
        "start_time": "2022-08-10T14:30:37.144Z"
      },
      {
        "duration": 8,
        "start_time": "2022-08-10T14:30:37.153Z"
      },
      {
        "duration": 43,
        "start_time": "2022-08-10T14:30:37.163Z"
      },
      {
        "duration": 4,
        "start_time": "2022-08-10T14:30:37.208Z"
      },
      {
        "duration": 14,
        "start_time": "2022-08-10T14:30:37.214Z"
      },
      {
        "duration": 7,
        "start_time": "2022-08-10T14:30:37.229Z"
      },
      {
        "duration": 24,
        "start_time": "2022-08-10T14:30:37.237Z"
      },
      {
        "duration": 5,
        "start_time": "2022-08-10T14:30:37.262Z"
      },
      {
        "duration": 195,
        "start_time": "2022-08-10T14:30:37.269Z"
      },
      {
        "duration": 5,
        "start_time": "2022-08-10T14:30:37.466Z"
      },
      {
        "duration": 47,
        "start_time": "2022-08-10T14:30:37.473Z"
      },
      {
        "duration": 3,
        "start_time": "2022-08-10T14:30:37.522Z"
      },
      {
        "duration": 120,
        "start_time": "2022-08-10T14:30:37.526Z"
      },
      {
        "duration": 4,
        "start_time": "2022-08-10T14:30:37.647Z"
      },
      {
        "duration": 160,
        "start_time": "2022-08-10T14:30:37.652Z"
      },
      {
        "duration": 9,
        "start_time": "2022-08-10T14:30:37.813Z"
      },
      {
        "duration": 16,
        "start_time": "2022-08-10T14:30:37.824Z"
      },
      {
        "duration": 188,
        "start_time": "2022-08-10T14:30:37.842Z"
      },
      {
        "duration": 11,
        "start_time": "2022-08-10T14:31:05.646Z"
      },
      {
        "duration": 150,
        "start_time": "2022-08-10T14:31:06.922Z"
      },
      {
        "duration": 5,
        "start_time": "2022-08-10T16:18:48.238Z"
      },
      {
        "duration": 10,
        "start_time": "2022-08-10T16:19:03.903Z"
      },
      {
        "duration": 108,
        "start_time": "2022-08-10T16:19:31.056Z"
      },
      {
        "duration": 8,
        "start_time": "2022-08-10T16:19:34.352Z"
      },
      {
        "duration": 6,
        "start_time": "2022-08-10T16:22:25.827Z"
      },
      {
        "duration": 7,
        "start_time": "2022-08-10T16:22:39.111Z"
      },
      {
        "duration": 6,
        "start_time": "2022-08-10T16:22:50.698Z"
      },
      {
        "duration": 102,
        "start_time": "2022-08-10T16:26:01.626Z"
      },
      {
        "duration": 61,
        "start_time": "2022-08-10T16:26:04.678Z"
      },
      {
        "duration": 13,
        "start_time": "2022-08-10T16:26:04.859Z"
      },
      {
        "duration": 29,
        "start_time": "2022-08-10T16:26:05.040Z"
      },
      {
        "duration": 4,
        "start_time": "2022-08-10T16:26:05.535Z"
      },
      {
        "duration": 8,
        "start_time": "2022-08-10T16:26:05.917Z"
      },
      {
        "duration": 9,
        "start_time": "2022-08-10T16:26:06.254Z"
      },
      {
        "duration": 10,
        "start_time": "2022-08-10T16:26:06.451Z"
      },
      {
        "duration": 8,
        "start_time": "2022-08-10T16:26:07.019Z"
      },
      {
        "duration": 9,
        "start_time": "2022-08-10T16:26:07.412Z"
      },
      {
        "duration": 6,
        "start_time": "2022-08-10T16:26:07.970Z"
      },
      {
        "duration": 6,
        "start_time": "2022-08-10T16:26:08.523Z"
      },
      {
        "duration": 5,
        "start_time": "2022-08-10T16:26:08.887Z"
      },
      {
        "duration": 18,
        "start_time": "2022-08-10T16:26:09.262Z"
      },
      {
        "duration": 5,
        "start_time": "2022-08-10T16:26:09.654Z"
      },
      {
        "duration": 144,
        "start_time": "2022-08-10T16:26:10.046Z"
      },
      {
        "duration": 4,
        "start_time": "2022-08-10T16:26:10.640Z"
      },
      {
        "duration": 24,
        "start_time": "2022-08-10T16:26:11.021Z"
      },
      {
        "duration": 4,
        "start_time": "2022-08-10T16:26:11.621Z"
      },
      {
        "duration": 116,
        "start_time": "2022-08-10T16:26:12.024Z"
      },
      {
        "duration": 4,
        "start_time": "2022-08-10T16:26:12.409Z"
      },
      {
        "duration": 143,
        "start_time": "2022-08-10T16:26:12.830Z"
      },
      {
        "duration": 5,
        "start_time": "2022-08-10T16:26:13.487Z"
      },
      {
        "duration": 11,
        "start_time": "2022-08-10T16:26:13.894Z"
      },
      {
        "duration": 165,
        "start_time": "2022-08-10T16:26:15.864Z"
      },
      {
        "duration": 7,
        "start_time": "2022-08-10T16:26:22.886Z"
      },
      {
        "duration": 10,
        "start_time": "2022-08-10T16:48:13.023Z"
      },
      {
        "duration": 13,
        "start_time": "2022-08-10T16:48:24.874Z"
      },
      {
        "duration": 13,
        "start_time": "2022-08-10T16:48:56.284Z"
      },
      {
        "duration": 21,
        "start_time": "2022-08-10T16:49:10.827Z"
      },
      {
        "duration": 29,
        "start_time": "2022-08-10T16:49:16.799Z"
      },
      {
        "duration": 79,
        "start_time": "2022-08-10T16:50:34.336Z"
      },
      {
        "duration": 25,
        "start_time": "2022-08-10T16:50:39.806Z"
      },
      {
        "duration": 3,
        "start_time": "2022-08-10T16:51:16.619Z"
      },
      {
        "duration": 57,
        "start_time": "2022-08-10T16:51:16.807Z"
      },
      {
        "duration": 15,
        "start_time": "2022-08-10T16:51:16.991Z"
      },
      {
        "duration": 26,
        "start_time": "2022-08-10T16:51:17.162Z"
      },
      {
        "duration": 5,
        "start_time": "2022-08-10T16:51:17.688Z"
      },
      {
        "duration": 9,
        "start_time": "2022-08-10T16:51:18.037Z"
      },
      {
        "duration": 8,
        "start_time": "2022-08-10T16:51:18.382Z"
      },
      {
        "duration": 8,
        "start_time": "2022-08-10T16:51:18.567Z"
      },
      {
        "duration": 1184,
        "start_time": "2022-08-10T16:51:21.830Z"
      },
      {
        "duration": 63,
        "start_time": "2022-08-10T16:51:23.016Z"
      },
      {
        "duration": 15,
        "start_time": "2022-08-10T16:51:23.081Z"
      },
      {
        "duration": 34,
        "start_time": "2022-08-10T16:51:23.098Z"
      },
      {
        "duration": 5,
        "start_time": "2022-08-10T16:51:23.133Z"
      },
      {
        "duration": 11,
        "start_time": "2022-08-10T16:51:23.139Z"
      },
      {
        "duration": 7,
        "start_time": "2022-08-10T16:51:23.152Z"
      },
      {
        "duration": 10,
        "start_time": "2022-08-10T16:51:23.161Z"
      },
      {
        "duration": 33,
        "start_time": "2022-08-10T16:51:23.173Z"
      },
      {
        "duration": 16,
        "start_time": "2022-08-10T16:51:23.211Z"
      },
      {
        "duration": 7,
        "start_time": "2022-08-10T16:51:23.229Z"
      },
      {
        "duration": 21,
        "start_time": "2022-08-10T16:51:23.237Z"
      },
      {
        "duration": 17,
        "start_time": "2022-08-10T16:51:23.260Z"
      },
      {
        "duration": 34,
        "start_time": "2022-08-10T16:51:23.279Z"
      },
      {
        "duration": 11,
        "start_time": "2022-08-10T16:51:23.315Z"
      },
      {
        "duration": 177,
        "start_time": "2022-08-10T16:51:23.328Z"
      },
      {
        "duration": 5,
        "start_time": "2022-08-10T16:51:23.508Z"
      },
      {
        "duration": 37,
        "start_time": "2022-08-10T16:51:23.515Z"
      },
      {
        "duration": 4,
        "start_time": "2022-08-10T16:51:23.554Z"
      },
      {
        "duration": 128,
        "start_time": "2022-08-10T16:51:23.560Z"
      },
      {
        "duration": 3,
        "start_time": "2022-08-10T16:51:23.691Z"
      },
      {
        "duration": 183,
        "start_time": "2022-08-10T16:51:23.708Z"
      },
      {
        "duration": 5,
        "start_time": "2022-08-10T16:51:23.892Z"
      },
      {
        "duration": 34,
        "start_time": "2022-08-10T16:51:23.899Z"
      },
      {
        "duration": 182,
        "start_time": "2022-08-10T16:51:23.934Z"
      },
      {
        "duration": 9,
        "start_time": "2022-08-10T16:51:24.117Z"
      },
      {
        "duration": 45,
        "start_time": "2022-08-10T16:51:24.127Z"
      },
      {
        "duration": 1363,
        "start_time": "2022-08-11T08:22:28.035Z"
      },
      {
        "duration": 196,
        "start_time": "2022-08-11T08:22:29.400Z"
      },
      {
        "duration": 13,
        "start_time": "2022-08-11T08:22:29.598Z"
      },
      {
        "duration": 30,
        "start_time": "2022-08-11T08:22:29.613Z"
      },
      {
        "duration": 6,
        "start_time": "2022-08-11T08:22:29.644Z"
      },
      {
        "duration": 12,
        "start_time": "2022-08-11T08:22:29.651Z"
      },
      {
        "duration": 8,
        "start_time": "2022-08-11T08:22:29.664Z"
      },
      {
        "duration": 40,
        "start_time": "2022-08-11T08:22:29.674Z"
      },
      {
        "duration": 14,
        "start_time": "2022-08-11T08:22:29.716Z"
      },
      {
        "duration": 6,
        "start_time": "2022-08-11T08:22:29.732Z"
      },
      {
        "duration": 5,
        "start_time": "2022-08-11T08:22:29.739Z"
      },
      {
        "duration": 17,
        "start_time": "2022-08-11T08:22:29.745Z"
      },
      {
        "duration": 14,
        "start_time": "2022-08-11T08:22:29.764Z"
      },
      {
        "duration": 25,
        "start_time": "2022-08-11T08:22:29.806Z"
      },
      {
        "duration": 5,
        "start_time": "2022-08-11T08:22:29.832Z"
      },
      {
        "duration": 164,
        "start_time": "2022-08-11T08:22:29.839Z"
      },
      {
        "duration": 4,
        "start_time": "2022-08-11T08:22:30.006Z"
      },
      {
        "duration": 38,
        "start_time": "2022-08-11T08:22:30.011Z"
      },
      {
        "duration": 3,
        "start_time": "2022-08-11T08:22:30.057Z"
      },
      {
        "duration": 128,
        "start_time": "2022-08-11T08:22:30.062Z"
      },
      {
        "duration": 3,
        "start_time": "2022-08-11T08:22:30.192Z"
      },
      {
        "duration": 142,
        "start_time": "2022-08-11T08:22:30.206Z"
      },
      {
        "duration": 5,
        "start_time": "2022-08-11T08:22:30.350Z"
      },
      {
        "duration": 14,
        "start_time": "2022-08-11T08:22:30.357Z"
      },
      {
        "duration": 189,
        "start_time": "2022-08-11T08:22:30.372Z"
      },
      {
        "duration": 8,
        "start_time": "2022-08-11T08:22:30.563Z"
      },
      {
        "duration": 37,
        "start_time": "2022-08-11T08:22:30.573Z"
      },
      {
        "duration": 56,
        "start_time": "2022-08-11T08:30:20.728Z"
      },
      {
        "duration": 16,
        "start_time": "2022-08-11T08:30:28.486Z"
      },
      {
        "duration": 17,
        "start_time": "2022-08-11T08:31:59.224Z"
      },
      {
        "duration": 8,
        "start_time": "2022-08-11T08:35:40.822Z"
      },
      {
        "duration": 8,
        "start_time": "2022-08-11T08:36:10.006Z"
      },
      {
        "duration": 10,
        "start_time": "2022-08-11T08:36:36.519Z"
      },
      {
        "duration": 7,
        "start_time": "2022-08-11T08:38:30.823Z"
      },
      {
        "duration": 107,
        "start_time": "2022-08-11T08:44:09.056Z"
      },
      {
        "duration": 24,
        "start_time": "2022-08-11T08:44:25.464Z"
      },
      {
        "duration": 1290,
        "start_time": "2022-08-11T08:44:54.669Z"
      },
      {
        "duration": 22,
        "start_time": "2022-08-11T08:45:06.228Z"
      },
      {
        "duration": 30,
        "start_time": "2022-08-11T08:45:15.570Z"
      },
      {
        "duration": 23,
        "start_time": "2022-08-11T08:45:23.374Z"
      },
      {
        "duration": 15,
        "start_time": "2022-08-11T08:45:45.605Z"
      },
      {
        "duration": 16,
        "start_time": "2022-08-11T08:45:49.676Z"
      },
      {
        "duration": 17,
        "start_time": "2022-08-11T08:45:59.974Z"
      },
      {
        "duration": 31,
        "start_time": "2022-08-11T08:47:06.448Z"
      },
      {
        "duration": 27,
        "start_time": "2022-08-11T08:47:18.899Z"
      },
      {
        "duration": 14,
        "start_time": "2022-08-11T08:47:57.363Z"
      },
      {
        "duration": 29,
        "start_time": "2022-08-11T08:49:57.083Z"
      },
      {
        "duration": 25,
        "start_time": "2022-08-11T08:51:25.320Z"
      },
      {
        "duration": 25,
        "start_time": "2022-08-11T08:51:48.225Z"
      },
      {
        "duration": 26,
        "start_time": "2022-08-11T08:52:05.720Z"
      },
      {
        "duration": 29,
        "start_time": "2022-08-11T08:52:13.683Z"
      },
      {
        "duration": 388,
        "start_time": "2022-08-11T08:52:35.675Z"
      },
      {
        "duration": 17,
        "start_time": "2022-08-11T08:54:59.601Z"
      },
      {
        "duration": 5,
        "start_time": "2022-08-11T08:55:12.905Z"
      },
      {
        "duration": 8,
        "start_time": "2022-08-11T08:57:32.230Z"
      },
      {
        "duration": 10,
        "start_time": "2022-08-11T08:59:50.972Z"
      },
      {
        "duration": 10,
        "start_time": "2022-08-11T09:00:00.746Z"
      },
      {
        "duration": 8,
        "start_time": "2022-08-11T09:00:15.949Z"
      },
      {
        "duration": 9,
        "start_time": "2022-08-11T09:04:06.298Z"
      },
      {
        "duration": 10,
        "start_time": "2022-08-11T09:04:14.991Z"
      },
      {
        "duration": 8,
        "start_time": "2022-08-11T09:04:57.116Z"
      },
      {
        "duration": 4,
        "start_time": "2022-08-11T09:05:05.650Z"
      },
      {
        "duration": 50,
        "start_time": "2022-08-11T09:05:05.810Z"
      },
      {
        "duration": 13,
        "start_time": "2022-08-11T09:05:05.962Z"
      },
      {
        "duration": 32,
        "start_time": "2022-08-11T09:05:06.132Z"
      },
      {
        "duration": 5,
        "start_time": "2022-08-11T09:05:06.635Z"
      },
      {
        "duration": 9,
        "start_time": "2022-08-11T09:05:06.986Z"
      },
      {
        "duration": 6,
        "start_time": "2022-08-11T09:05:07.355Z"
      },
      {
        "duration": 9,
        "start_time": "2022-08-11T09:05:07.538Z"
      },
      {
        "duration": 10,
        "start_time": "2022-08-11T09:05:08.057Z"
      },
      {
        "duration": 7,
        "start_time": "2022-08-11T09:05:08.436Z"
      },
      {
        "duration": 4,
        "start_time": "2022-08-11T09:05:09.002Z"
      },
      {
        "duration": 6,
        "start_time": "2022-08-11T09:05:09.683Z"
      },
      {
        "duration": 5,
        "start_time": "2022-08-11T09:05:10.057Z"
      },
      {
        "duration": 18,
        "start_time": "2022-08-11T09:05:10.442Z"
      },
      {
        "duration": 5,
        "start_time": "2022-08-11T09:05:10.925Z"
      },
      {
        "duration": 137,
        "start_time": "2022-08-11T09:05:11.899Z"
      },
      {
        "duration": 9,
        "start_time": "2022-08-11T09:05:12.954Z"
      },
      {
        "duration": 24,
        "start_time": "2022-08-11T09:05:13.383Z"
      },
      {
        "duration": 3,
        "start_time": "2022-08-11T09:05:15.012Z"
      },
      {
        "duration": 107,
        "start_time": "2022-08-11T09:05:15.665Z"
      },
      {
        "duration": 3,
        "start_time": "2022-08-11T09:05:16.677Z"
      },
      {
        "duration": 153,
        "start_time": "2022-08-11T09:05:19.761Z"
      },
      {
        "duration": 5,
        "start_time": "2022-08-11T09:05:21.082Z"
      },
      {
        "duration": 6,
        "start_time": "2022-08-11T09:05:38.740Z"
      },
      {
        "duration": 3,
        "start_time": "2022-08-11T09:05:55.444Z"
      },
      {
        "duration": 49,
        "start_time": "2022-08-11T09:05:55.614Z"
      },
      {
        "duration": 19,
        "start_time": "2022-08-11T09:05:55.786Z"
      },
      {
        "duration": 38,
        "start_time": "2022-08-11T09:05:55.950Z"
      },
      {
        "duration": 5,
        "start_time": "2022-08-11T09:05:56.507Z"
      },
      {
        "duration": 8,
        "start_time": "2022-08-11T09:05:56.890Z"
      },
      {
        "duration": 9,
        "start_time": "2022-08-11T09:05:57.267Z"
      },
      {
        "duration": 13,
        "start_time": "2022-08-11T09:05:57.443Z"
      },
      {
        "duration": 9,
        "start_time": "2022-08-11T09:05:57.977Z"
      },
      {
        "duration": 9,
        "start_time": "2022-08-11T09:05:58.347Z"
      },
      {
        "duration": 4,
        "start_time": "2022-08-11T09:05:58.923Z"
      },
      {
        "duration": 5,
        "start_time": "2022-08-11T09:05:59.451Z"
      },
      {
        "duration": 5,
        "start_time": "2022-08-11T09:05:59.835Z"
      },
      {
        "duration": 20,
        "start_time": "2022-08-11T09:06:00.226Z"
      },
      {
        "duration": 4,
        "start_time": "2022-08-11T09:06:00.625Z"
      },
      {
        "duration": 147,
        "start_time": "2022-08-11T09:06:01.378Z"
      },
      {
        "duration": 6,
        "start_time": "2022-08-11T09:06:01.906Z"
      },
      {
        "duration": 26,
        "start_time": "2022-08-11T09:06:02.284Z"
      },
      {
        "duration": 3,
        "start_time": "2022-08-11T09:06:03.326Z"
      },
      {
        "duration": 111,
        "start_time": "2022-08-11T09:06:03.714Z"
      },
      {
        "duration": 3,
        "start_time": "2022-08-11T09:06:04.879Z"
      },
      {
        "duration": 136,
        "start_time": "2022-08-11T09:06:06.289Z"
      },
      {
        "duration": 5,
        "start_time": "2022-08-11T09:06:07.794Z"
      },
      {
        "duration": 5,
        "start_time": "2022-08-11T09:06:09.100Z"
      },
      {
        "duration": 6,
        "start_time": "2022-08-11T09:07:15.867Z"
      },
      {
        "duration": 10,
        "start_time": "2022-08-11T09:07:23.136Z"
      },
      {
        "duration": 8,
        "start_time": "2022-08-11T09:07:29.418Z"
      },
      {
        "duration": 4,
        "start_time": "2022-08-11T09:07:42.359Z"
      },
      {
        "duration": 47,
        "start_time": "2022-08-11T09:07:42.525Z"
      },
      {
        "duration": 15,
        "start_time": "2022-08-11T09:07:42.692Z"
      },
      {
        "duration": 23,
        "start_time": "2022-08-11T09:07:42.873Z"
      },
      {
        "duration": 4,
        "start_time": "2022-08-11T09:07:43.387Z"
      },
      {
        "duration": 24,
        "start_time": "2022-08-11T09:07:43.741Z"
      },
      {
        "duration": 10,
        "start_time": "2022-08-11T09:07:44.123Z"
      },
      {
        "duration": 10,
        "start_time": "2022-08-11T09:07:44.323Z"
      },
      {
        "duration": 8,
        "start_time": "2022-08-11T09:07:44.859Z"
      },
      {
        "duration": 7,
        "start_time": "2022-08-11T09:07:45.235Z"
      },
      {
        "duration": 4,
        "start_time": "2022-08-11T09:07:45.781Z"
      },
      {
        "duration": 5,
        "start_time": "2022-08-11T09:07:46.339Z"
      },
      {
        "duration": 5,
        "start_time": "2022-08-11T09:07:46.707Z"
      },
      {
        "duration": 19,
        "start_time": "2022-08-11T09:07:47.091Z"
      },
      {
        "duration": 4,
        "start_time": "2022-08-11T09:07:47.452Z"
      },
      {
        "duration": 149,
        "start_time": "2022-08-11T09:07:47.822Z"
      },
      {
        "duration": 6,
        "start_time": "2022-08-11T09:07:48.381Z"
      },
      {
        "duration": 33,
        "start_time": "2022-08-11T09:07:48.772Z"
      },
      {
        "duration": 3,
        "start_time": "2022-08-11T09:07:49.347Z"
      },
      {
        "duration": 108,
        "start_time": "2022-08-11T09:07:50.051Z"
      },
      {
        "duration": 3,
        "start_time": "2022-08-11T09:07:50.461Z"
      },
      {
        "duration": 132,
        "start_time": "2022-08-11T09:07:51.140Z"
      },
      {
        "duration": 12,
        "start_time": "2022-08-11T09:07:52.295Z"
      },
      {
        "duration": 5,
        "start_time": "2022-08-11T09:08:03.244Z"
      },
      {
        "duration": 50,
        "start_time": "2022-08-11T09:08:03.438Z"
      },
      {
        "duration": 14,
        "start_time": "2022-08-11T09:08:03.588Z"
      },
      {
        "duration": 23,
        "start_time": "2022-08-11T09:08:03.757Z"
      },
      {
        "duration": 4,
        "start_time": "2022-08-11T09:08:04.308Z"
      },
      {
        "duration": 8,
        "start_time": "2022-08-11T09:08:04.723Z"
      },
      {
        "duration": 6,
        "start_time": "2022-08-11T09:08:05.072Z"
      },
      {
        "duration": 9,
        "start_time": "2022-08-11T09:08:05.259Z"
      },
      {
        "duration": 8,
        "start_time": "2022-08-11T09:08:05.859Z"
      },
      {
        "duration": 8,
        "start_time": "2022-08-11T09:08:06.261Z"
      },
      {
        "duration": 4,
        "start_time": "2022-08-11T09:08:07.018Z"
      },
      {
        "duration": 4,
        "start_time": "2022-08-11T09:08:07.640Z"
      },
      {
        "duration": 5,
        "start_time": "2022-08-11T09:08:07.892Z"
      },
      {
        "duration": 18,
        "start_time": "2022-08-11T09:08:08.275Z"
      },
      {
        "duration": 4,
        "start_time": "2022-08-11T09:08:08.693Z"
      },
      {
        "duration": 138,
        "start_time": "2022-08-11T09:08:09.107Z"
      },
      {
        "duration": 5,
        "start_time": "2022-08-11T09:08:10.638Z"
      },
      {
        "duration": 25,
        "start_time": "2022-08-11T09:08:11.005Z"
      },
      {
        "duration": 3,
        "start_time": "2022-08-11T09:08:13.915Z"
      },
      {
        "duration": 3,
        "start_time": "2022-08-11T09:08:36.357Z"
      },
      {
        "duration": 93,
        "start_time": "2022-08-11T09:08:37.556Z"
      },
      {
        "duration": 4,
        "start_time": "2022-08-11T09:08:39.776Z"
      },
      {
        "duration": 139,
        "start_time": "2022-08-11T09:08:40.869Z"
      },
      {
        "duration": 10,
        "start_time": "2022-08-11T09:08:42.476Z"
      },
      {
        "duration": 4,
        "start_time": "2022-08-11T09:08:45.834Z"
      },
      {
        "duration": 15,
        "start_time": "2022-08-11T09:08:48.118Z"
      },
      {
        "duration": 159,
        "start_time": "2022-08-11T09:08:48.895Z"
      },
      {
        "duration": 8,
        "start_time": "2022-08-11T09:08:52.316Z"
      },
      {
        "duration": 7,
        "start_time": "2022-08-11T09:08:55.173Z"
      },
      {
        "duration": 388,
        "start_time": "2022-08-11T09:09:00.687Z"
      },
      {
        "duration": 5,
        "start_time": "2022-08-11T09:09:18.317Z"
      },
      {
        "duration": 8,
        "start_time": "2022-08-11T09:09:26.157Z"
      },
      {
        "duration": 1626,
        "start_time": "2022-08-11T09:12:59.603Z"
      },
      {
        "duration": 489,
        "start_time": "2022-08-11T09:13:09.068Z"
      },
      {
        "duration": 485,
        "start_time": "2022-08-11T09:13:53.631Z"
      },
      {
        "duration": 492,
        "start_time": "2022-08-11T09:13:56.671Z"
      },
      {
        "duration": 753,
        "start_time": "2022-08-11T09:14:08.022Z"
      },
      {
        "duration": 25,
        "start_time": "2022-08-11T09:17:16.254Z"
      },
      {
        "duration": 23,
        "start_time": "2022-08-11T09:17:26.363Z"
      },
      {
        "duration": 32,
        "start_time": "2022-08-11T09:17:36.237Z"
      },
      {
        "duration": 32,
        "start_time": "2022-08-11T09:17:55.951Z"
      },
      {
        "duration": 31,
        "start_time": "2022-08-11T09:18:13.868Z"
      },
      {
        "duration": 27,
        "start_time": "2022-08-11T09:19:15.101Z"
      },
      {
        "duration": 14,
        "start_time": "2022-08-11T09:19:49.223Z"
      },
      {
        "duration": 14,
        "start_time": "2022-08-11T09:19:58.391Z"
      },
      {
        "duration": 15,
        "start_time": "2022-08-11T09:20:31.485Z"
      },
      {
        "duration": 14,
        "start_time": "2022-08-11T09:20:59.126Z"
      },
      {
        "duration": 29,
        "start_time": "2022-08-11T09:22:47.675Z"
      },
      {
        "duration": 18,
        "start_time": "2022-08-11T09:23:02.760Z"
      },
      {
        "duration": 21,
        "start_time": "2022-08-11T09:23:40.003Z"
      },
      {
        "duration": 27,
        "start_time": "2022-08-11T09:23:58.931Z"
      },
      {
        "duration": 23,
        "start_time": "2022-08-11T09:24:07.063Z"
      },
      {
        "duration": 32,
        "start_time": "2022-08-11T09:24:21.949Z"
      },
      {
        "duration": 21,
        "start_time": "2022-08-11T09:24:34.456Z"
      },
      {
        "duration": 25,
        "start_time": "2022-08-11T09:36:27.776Z"
      },
      {
        "duration": 25,
        "start_time": "2022-08-11T09:36:35.117Z"
      },
      {
        "duration": 21,
        "start_time": "2022-08-11T09:36:47.966Z"
      },
      {
        "duration": 27,
        "start_time": "2022-08-11T09:39:21.323Z"
      },
      {
        "duration": 30,
        "start_time": "2022-08-11T09:39:28.851Z"
      },
      {
        "duration": 28,
        "start_time": "2022-08-11T09:39:41.419Z"
      },
      {
        "duration": 26,
        "start_time": "2022-08-11T09:42:41.606Z"
      },
      {
        "duration": 15,
        "start_time": "2022-08-11T09:44:31.066Z"
      },
      {
        "duration": 21,
        "start_time": "2022-08-11T09:47:27.650Z"
      },
      {
        "duration": 1644,
        "start_time": "2022-08-11T09:47:57.686Z"
      },
      {
        "duration": 1186,
        "start_time": "2022-08-11T09:49:02.603Z"
      },
      {
        "duration": 54,
        "start_time": "2022-08-11T09:49:03.791Z"
      },
      {
        "duration": 13,
        "start_time": "2022-08-11T09:49:03.846Z"
      },
      {
        "duration": 36,
        "start_time": "2022-08-11T09:49:03.862Z"
      },
      {
        "duration": 8,
        "start_time": "2022-08-11T09:49:03.899Z"
      },
      {
        "duration": 13,
        "start_time": "2022-08-11T09:49:03.908Z"
      },
      {
        "duration": 7,
        "start_time": "2022-08-11T09:49:03.922Z"
      },
      {
        "duration": 8,
        "start_time": "2022-08-11T09:49:03.930Z"
      },
      {
        "duration": 8,
        "start_time": "2022-08-11T09:49:03.939Z"
      },
      {
        "duration": 6,
        "start_time": "2022-08-11T09:49:03.949Z"
      },
      {
        "duration": 5,
        "start_time": "2022-08-11T09:49:03.956Z"
      },
      {
        "duration": 45,
        "start_time": "2022-08-11T09:49:03.962Z"
      },
      {
        "duration": 5,
        "start_time": "2022-08-11T09:49:04.008Z"
      },
      {
        "duration": 19,
        "start_time": "2022-08-11T09:49:04.015Z"
      },
      {
        "duration": 5,
        "start_time": "2022-08-11T09:49:04.036Z"
      },
      {
        "duration": 170,
        "start_time": "2022-08-11T09:49:04.043Z"
      },
      {
        "duration": 5,
        "start_time": "2022-08-11T09:49:04.214Z"
      },
      {
        "duration": 32,
        "start_time": "2022-08-11T09:49:04.221Z"
      },
      {
        "duration": 3,
        "start_time": "2022-08-11T09:49:04.254Z"
      },
      {
        "duration": 126,
        "start_time": "2022-08-11T09:49:04.258Z"
      },
      {
        "duration": 3,
        "start_time": "2022-08-11T09:49:04.386Z"
      },
      {
        "duration": 148,
        "start_time": "2022-08-11T09:49:04.390Z"
      },
      {
        "duration": 6,
        "start_time": "2022-08-11T09:49:04.540Z"
      },
      {
        "duration": 29,
        "start_time": "2022-08-11T09:49:04.548Z"
      },
      {
        "duration": 37,
        "start_time": "2022-08-11T09:49:04.579Z"
      },
      {
        "duration": 185,
        "start_time": "2022-08-11T09:49:04.618Z"
      },
      {
        "duration": 7,
        "start_time": "2022-08-11T09:49:04.806Z"
      },
      {
        "duration": 32,
        "start_time": "2022-08-11T09:49:04.816Z"
      },
      {
        "duration": 1529,
        "start_time": "2022-08-11T09:49:04.849Z"
      },
      {
        "duration": 22,
        "start_time": "2022-08-11T09:49:29.244Z"
      },
      {
        "duration": 24,
        "start_time": "2022-08-11T09:49:46.217Z"
      },
      {
        "duration": 26,
        "start_time": "2022-08-11T09:50:24.340Z"
      },
      {
        "duration": 230,
        "start_time": "2022-08-11T09:50:40.732Z"
      },
      {
        "duration": 22,
        "start_time": "2022-08-11T09:52:23.589Z"
      },
      {
        "duration": 1254,
        "start_time": "2022-08-11T09:53:58.927Z"
      },
      {
        "duration": 21,
        "start_time": "2022-08-11T09:55:51.478Z"
      },
      {
        "duration": 444,
        "start_time": "2022-08-11T09:56:43.499Z"
      },
      {
        "duration": 24,
        "start_time": "2022-08-11T09:56:58.686Z"
      },
      {
        "duration": 32,
        "start_time": "2022-08-11T09:57:43.686Z"
      },
      {
        "duration": 40,
        "start_time": "2022-08-11T09:58:04.113Z"
      },
      {
        "duration": 38,
        "start_time": "2022-08-11T09:58:27.672Z"
      },
      {
        "duration": 38,
        "start_time": "2022-08-11T09:59:05.396Z"
      },
      {
        "duration": 36,
        "start_time": "2022-08-11T09:59:32.410Z"
      },
      {
        "duration": 37,
        "start_time": "2022-08-11T09:59:44.593Z"
      },
      {
        "duration": 38,
        "start_time": "2022-08-11T09:59:50.627Z"
      },
      {
        "duration": 39,
        "start_time": "2022-08-11T09:59:56.729Z"
      },
      {
        "duration": 42,
        "start_time": "2022-08-11T10:00:03.319Z"
      },
      {
        "duration": 38,
        "start_time": "2022-08-11T10:00:14.657Z"
      },
      {
        "duration": 40,
        "start_time": "2022-08-11T10:06:56.478Z"
      },
      {
        "duration": 43,
        "start_time": "2022-08-11T10:07:19.161Z"
      },
      {
        "duration": 4,
        "start_time": "2022-08-11T10:10:00.121Z"
      },
      {
        "duration": 52,
        "start_time": "2022-08-11T10:10:00.288Z"
      },
      {
        "duration": 12,
        "start_time": "2022-08-11T10:10:00.465Z"
      },
      {
        "duration": 24,
        "start_time": "2022-08-11T10:10:00.641Z"
      },
      {
        "duration": 4,
        "start_time": "2022-08-11T10:10:01.161Z"
      },
      {
        "duration": 9,
        "start_time": "2022-08-11T10:10:01.512Z"
      },
      {
        "duration": 8,
        "start_time": "2022-08-11T10:10:01.896Z"
      },
      {
        "duration": 9,
        "start_time": "2022-08-11T10:10:02.087Z"
      },
      {
        "duration": 7,
        "start_time": "2022-08-11T10:10:02.769Z"
      },
      {
        "duration": 8,
        "start_time": "2022-08-11T10:10:03.144Z"
      },
      {
        "duration": 4,
        "start_time": "2022-08-11T10:10:03.751Z"
      },
      {
        "duration": 5,
        "start_time": "2022-08-11T10:10:04.335Z"
      },
      {
        "duration": 5,
        "start_time": "2022-08-11T10:10:04.729Z"
      },
      {
        "duration": 20,
        "start_time": "2022-08-11T10:10:05.096Z"
      },
      {
        "duration": 5,
        "start_time": "2022-08-11T10:10:05.473Z"
      },
      {
        "duration": 147,
        "start_time": "2022-08-11T10:10:06.394Z"
      },
      {
        "duration": 5,
        "start_time": "2022-08-11T10:10:06.976Z"
      },
      {
        "duration": 24,
        "start_time": "2022-08-11T10:10:07.681Z"
      },
      {
        "duration": 3,
        "start_time": "2022-08-11T10:10:08.175Z"
      },
      {
        "duration": 97,
        "start_time": "2022-08-11T10:10:08.891Z"
      },
      {
        "duration": 3,
        "start_time": "2022-08-11T10:10:09.273Z"
      },
      {
        "duration": 138,
        "start_time": "2022-08-11T10:10:10.084Z"
      },
      {
        "duration": 6,
        "start_time": "2022-08-11T10:10:10.525Z"
      },
      {
        "duration": 5,
        "start_time": "2022-08-11T10:10:12.157Z"
      },
      {
        "duration": 16,
        "start_time": "2022-08-11T10:10:31.449Z"
      },
      {
        "duration": 204,
        "start_time": "2022-08-11T10:10:46.002Z"
      },
      {
        "duration": 13,
        "start_time": "2022-08-11T10:10:56.132Z"
      },
      {
        "duration": 7,
        "start_time": "2022-08-11T10:11:03.458Z"
      },
      {
        "duration": 10,
        "start_time": "2022-08-11T10:11:11.099Z"
      },
      {
        "duration": 11,
        "start_time": "2022-08-11T10:11:53.620Z"
      },
      {
        "duration": 17,
        "start_time": "2022-08-11T10:12:09.151Z"
      },
      {
        "duration": 758,
        "start_time": "2022-08-11T10:12:55.031Z"
      },
      {
        "duration": 170,
        "start_time": "2022-08-11T10:13:23.303Z"
      },
      {
        "duration": 36,
        "start_time": "2022-08-11T10:14:15.612Z"
      },
      {
        "duration": 10,
        "start_time": "2022-08-11T10:19:18.141Z"
      },
      {
        "duration": 14,
        "start_time": "2022-08-11T10:19:27.446Z"
      },
      {
        "duration": 17,
        "start_time": "2022-08-11T10:19:45.627Z"
      },
      {
        "duration": 25,
        "start_time": "2022-08-11T10:20:22.917Z"
      },
      {
        "duration": 30,
        "start_time": "2022-08-11T10:20:53.971Z"
      },
      {
        "duration": 32,
        "start_time": "2022-08-11T10:20:58.041Z"
      },
      {
        "duration": 34,
        "start_time": "2022-08-11T10:33:53.013Z"
      },
      {
        "duration": 90,
        "start_time": "2022-08-11T10:42:33.017Z"
      },
      {
        "duration": 77,
        "start_time": "2022-08-11T10:42:45.130Z"
      },
      {
        "duration": 87,
        "start_time": "2022-08-11T10:43:03.716Z"
      },
      {
        "duration": 72,
        "start_time": "2022-08-11T10:43:18.139Z"
      },
      {
        "duration": 49,
        "start_time": "2022-08-11T10:43:27.592Z"
      },
      {
        "duration": 40,
        "start_time": "2022-08-11T10:43:38.228Z"
      },
      {
        "duration": 39,
        "start_time": "2022-08-11T10:43:51.309Z"
      },
      {
        "duration": 43,
        "start_time": "2022-08-11T10:44:16.378Z"
      },
      {
        "duration": 52,
        "start_time": "2022-08-11T10:44:21.532Z"
      },
      {
        "duration": 39,
        "start_time": "2022-08-11T10:44:34.094Z"
      },
      {
        "duration": 46,
        "start_time": "2022-08-11T10:45:00.329Z"
      },
      {
        "duration": 46,
        "start_time": "2022-08-11T10:45:11.059Z"
      },
      {
        "duration": 54,
        "start_time": "2022-08-11T10:45:32.714Z"
      },
      {
        "duration": 39,
        "start_time": "2022-08-11T10:46:08.623Z"
      },
      {
        "duration": 73,
        "start_time": "2022-08-11T10:46:39.081Z"
      },
      {
        "duration": 1696,
        "start_time": "2022-08-11T10:47:06.786Z"
      },
      {
        "duration": 81,
        "start_time": "2022-08-11T10:47:35.142Z"
      },
      {
        "duration": 74,
        "start_time": "2022-08-11T10:51:23.923Z"
      },
      {
        "duration": 1202,
        "start_time": "2022-08-11T10:51:34.178Z"
      },
      {
        "duration": 37,
        "start_time": "2022-08-11T13:06:08.206Z"
      },
      {
        "duration": 34,
        "start_time": "2022-08-11T13:06:30.388Z"
      },
      {
        "duration": 39,
        "start_time": "2022-08-11T13:06:55.535Z"
      },
      {
        "duration": 1263,
        "start_time": "2022-08-11T13:07:21.279Z"
      },
      {
        "duration": 35,
        "start_time": "2022-08-11T13:07:30.875Z"
      },
      {
        "duration": 22,
        "start_time": "2022-08-11T13:07:46.337Z"
      },
      {
        "duration": 54,
        "start_time": "2022-08-11T13:09:25.967Z"
      },
      {
        "duration": 37,
        "start_time": "2022-08-11T13:09:34.704Z"
      },
      {
        "duration": 43,
        "start_time": "2022-08-11T13:10:13.930Z"
      },
      {
        "duration": 51,
        "start_time": "2022-08-11T13:10:43.881Z"
      },
      {
        "duration": 46,
        "start_time": "2022-08-11T13:10:50.762Z"
      },
      {
        "duration": 37,
        "start_time": "2022-08-11T13:11:08.852Z"
      },
      {
        "duration": 41,
        "start_time": "2022-08-11T13:11:19.844Z"
      },
      {
        "duration": 41,
        "start_time": "2022-08-11T13:19:15.914Z"
      },
      {
        "duration": 21,
        "start_time": "2022-08-11T13:19:42.859Z"
      },
      {
        "duration": 32,
        "start_time": "2022-08-11T13:26:06.708Z"
      },
      {
        "duration": 40,
        "start_time": "2022-08-11T13:27:19.546Z"
      },
      {
        "duration": 30,
        "start_time": "2022-08-11T13:27:59.804Z"
      },
      {
        "duration": 38,
        "start_time": "2022-08-11T13:28:46.252Z"
      },
      {
        "duration": 37,
        "start_time": "2022-08-11T13:32:11.003Z"
      },
      {
        "duration": 23,
        "start_time": "2022-08-11T13:32:43.270Z"
      },
      {
        "duration": 24,
        "start_time": "2022-08-11T13:32:50.969Z"
      },
      {
        "duration": 28,
        "start_time": "2022-08-11T13:35:27.235Z"
      },
      {
        "duration": 4,
        "start_time": "2022-08-11T13:35:36.753Z"
      },
      {
        "duration": 48,
        "start_time": "2022-08-11T13:35:36.920Z"
      },
      {
        "duration": 14,
        "start_time": "2022-08-11T13:35:37.091Z"
      },
      {
        "duration": 26,
        "start_time": "2022-08-11T13:35:37.264Z"
      },
      {
        "duration": 28,
        "start_time": "2022-08-11T13:35:43.777Z"
      },
      {
        "duration": 22,
        "start_time": "2022-08-11T13:36:11.637Z"
      },
      {
        "duration": 5,
        "start_time": "2022-08-11T13:36:22.392Z"
      },
      {
        "duration": 9,
        "start_time": "2022-08-11T13:36:22.743Z"
      },
      {
        "duration": 10,
        "start_time": "2022-08-11T13:36:23.095Z"
      },
      {
        "duration": 8,
        "start_time": "2022-08-11T13:36:23.264Z"
      },
      {
        "duration": 9,
        "start_time": "2022-08-11T13:36:23.785Z"
      },
      {
        "duration": 9,
        "start_time": "2022-08-11T13:36:24.169Z"
      },
      {
        "duration": 1186,
        "start_time": "2022-08-11T13:36:28.789Z"
      },
      {
        "duration": 53,
        "start_time": "2022-08-11T13:36:29.977Z"
      },
      {
        "duration": 14,
        "start_time": "2022-08-11T13:36:30.032Z"
      },
      {
        "duration": 34,
        "start_time": "2022-08-11T13:36:30.049Z"
      },
      {
        "duration": 31,
        "start_time": "2022-08-11T13:36:30.085Z"
      },
      {
        "duration": 16,
        "start_time": "2022-08-11T13:36:30.118Z"
      },
      {
        "duration": 8,
        "start_time": "2022-08-11T13:36:30.136Z"
      },
      {
        "duration": 14,
        "start_time": "2022-08-11T13:36:30.146Z"
      },
      {
        "duration": 9,
        "start_time": "2022-08-11T13:36:30.162Z"
      },
      {
        "duration": 7,
        "start_time": "2022-08-11T13:36:30.174Z"
      },
      {
        "duration": 5,
        "start_time": "2022-08-11T13:36:30.206Z"
      },
      {
        "duration": 9,
        "start_time": "2022-08-11T13:36:30.213Z"
      },
      {
        "duration": 12,
        "start_time": "2022-08-11T13:36:30.223Z"
      },
      {
        "duration": 22,
        "start_time": "2022-08-11T13:36:30.237Z"
      },
      {
        "duration": 5,
        "start_time": "2022-08-11T13:36:30.261Z"
      },
      {
        "duration": 189,
        "start_time": "2022-08-11T13:36:30.267Z"
      },
      {
        "duration": 5,
        "start_time": "2022-08-11T13:36:30.458Z"
      },
      {
        "duration": 46,
        "start_time": "2022-08-11T13:36:30.464Z"
      },
      {
        "duration": 3,
        "start_time": "2022-08-11T13:36:30.511Z"
      },
      {
        "duration": 119,
        "start_time": "2022-08-11T13:36:30.516Z"
      },
      {
        "duration": 3,
        "start_time": "2022-08-11T13:36:30.637Z"
      },
      {
        "duration": 164,
        "start_time": "2022-08-11T13:36:30.642Z"
      },
      {
        "duration": 10,
        "start_time": "2022-08-11T13:36:30.808Z"
      },
      {
        "duration": 31,
        "start_time": "2022-08-11T13:36:30.820Z"
      },
      {
        "duration": 49,
        "start_time": "2022-08-11T13:36:30.853Z"
      },
      {
        "duration": 214,
        "start_time": "2022-08-11T13:36:30.904Z"
      },
      {
        "duration": 8,
        "start_time": "2022-08-11T13:36:31.120Z"
      },
      {
        "duration": 75,
        "start_time": "2022-08-11T13:36:31.131Z"
      },
      {
        "duration": 42,
        "start_time": "2022-08-11T13:36:31.207Z"
      },
      {
        "duration": 233,
        "start_time": "2022-08-11T13:36:31.250Z"
      },
      {
        "duration": 47,
        "start_time": "2022-08-11T13:36:31.484Z"
      },
      {
        "duration": 25,
        "start_time": "2022-08-11T13:47:59.392Z"
      },
      {
        "duration": 24,
        "start_time": "2022-08-11T13:48:10.011Z"
      },
      {
        "duration": 10,
        "start_time": "2022-08-11T13:54:42.040Z"
      },
      {
        "duration": 5,
        "start_time": "2022-08-11T13:55:13.024Z"
      },
      {
        "duration": 6,
        "start_time": "2022-08-11T13:55:20.992Z"
      },
      {
        "duration": 3,
        "start_time": "2022-08-11T13:56:55.466Z"
      },
      {
        "duration": 55,
        "start_time": "2022-08-11T13:56:55.642Z"
      },
      {
        "duration": 12,
        "start_time": "2022-08-11T13:56:55.803Z"
      },
      {
        "duration": 25,
        "start_time": "2022-08-11T13:56:55.954Z"
      },
      {
        "duration": 4,
        "start_time": "2022-08-11T13:56:56.789Z"
      },
      {
        "duration": 9,
        "start_time": "2022-08-11T13:56:57.201Z"
      },
      {
        "duration": 7,
        "start_time": "2022-08-11T13:56:58.072Z"
      },
      {
        "duration": 10,
        "start_time": "2022-08-11T13:56:59.046Z"
      },
      {
        "duration": 8,
        "start_time": "2022-08-11T13:56:59.861Z"
      },
      {
        "duration": 8,
        "start_time": "2022-08-11T13:57:01.145Z"
      },
      {
        "duration": 4,
        "start_time": "2022-08-11T13:57:02.342Z"
      },
      {
        "duration": 4,
        "start_time": "2022-08-11T13:57:03.293Z"
      },
      {
        "duration": 5,
        "start_time": "2022-08-11T13:57:04.852Z"
      },
      {
        "duration": 19,
        "start_time": "2022-08-11T13:57:05.211Z"
      },
      {
        "duration": 6,
        "start_time": "2022-08-11T13:57:06.742Z"
      },
      {
        "duration": 133,
        "start_time": "2022-08-11T13:57:07.586Z"
      },
      {
        "duration": 7,
        "start_time": "2022-08-11T13:57:09.297Z"
      },
      {
        "duration": 6,
        "start_time": "2022-08-11T13:58:12.743Z"
      },
      {
        "duration": 3,
        "start_time": "2022-08-11T13:58:21.747Z"
      },
      {
        "duration": 51,
        "start_time": "2022-08-11T13:58:21.900Z"
      },
      {
        "duration": 13,
        "start_time": "2022-08-11T13:58:22.089Z"
      },
      {
        "duration": 25,
        "start_time": "2022-08-11T13:58:22.226Z"
      },
      {
        "duration": 5,
        "start_time": "2022-08-11T13:58:22.743Z"
      },
      {
        "duration": 8,
        "start_time": "2022-08-11T13:58:23.093Z"
      },
      {
        "duration": 7,
        "start_time": "2022-08-11T13:58:23.476Z"
      },
      {
        "duration": 9,
        "start_time": "2022-08-11T13:58:23.642Z"
      },
      {
        "duration": 8,
        "start_time": "2022-08-11T13:58:24.192Z"
      },
      {
        "duration": 8,
        "start_time": "2022-08-11T13:58:24.555Z"
      },
      {
        "duration": 4,
        "start_time": "2022-08-11T13:58:25.115Z"
      },
      {
        "duration": 4,
        "start_time": "2022-08-11T13:58:25.691Z"
      },
      {
        "duration": 6,
        "start_time": "2022-08-11T13:58:26.057Z"
      },
      {
        "duration": 22,
        "start_time": "2022-08-11T13:58:26.451Z"
      },
      {
        "duration": 4,
        "start_time": "2022-08-11T13:58:26.907Z"
      },
      {
        "duration": 132,
        "start_time": "2022-08-11T13:58:27.557Z"
      },
      {
        "duration": 5,
        "start_time": "2022-08-11T13:58:28.075Z"
      },
      {
        "duration": 25,
        "start_time": "2022-08-11T13:58:28.445Z"
      },
      {
        "duration": 3,
        "start_time": "2022-08-11T13:58:29.419Z"
      },
      {
        "duration": 95,
        "start_time": "2022-08-11T13:58:29.892Z"
      },
      {
        "duration": 4,
        "start_time": "2022-08-11T13:58:30.274Z"
      },
      {
        "duration": 163,
        "start_time": "2022-08-11T13:58:30.828Z"
      },
      {
        "duration": 7,
        "start_time": "2022-08-11T13:58:31.291Z"
      },
      {
        "duration": 6,
        "start_time": "2022-08-11T13:58:32.613Z"
      },
      {
        "duration": 91,
        "start_time": "2022-08-11T14:01:30.139Z"
      },
      {
        "duration": 3,
        "start_time": "2022-08-11T14:06:51.259Z"
      },
      {
        "duration": 48,
        "start_time": "2022-08-11T14:06:51.674Z"
      },
      {
        "duration": 14,
        "start_time": "2022-08-11T14:06:52.532Z"
      },
      {
        "duration": 28,
        "start_time": "2022-08-11T14:06:54.096Z"
      },
      {
        "duration": 1464,
        "start_time": "2022-08-11T14:07:00.687Z"
      },
      {
        "duration": 5,
        "start_time": "2022-08-11T14:07:10.904Z"
      },
      {
        "duration": 5,
        "start_time": "2022-08-11T14:07:16.998Z"
      },
      {
        "duration": 8,
        "start_time": "2022-08-11T14:07:49.794Z"
      },
      {
        "duration": 7,
        "start_time": "2022-08-11T14:07:50.736Z"
      },
      {
        "duration": 17,
        "start_time": "2022-08-11T14:07:51.413Z"
      },
      {
        "duration": 7,
        "start_time": "2022-08-11T14:07:54.698Z"
      },
      {
        "duration": 11,
        "start_time": "2022-08-11T14:07:57.108Z"
      },
      {
        "duration": 2,
        "start_time": "2022-08-11T14:10:02.491Z"
      },
      {
        "duration": 4,
        "start_time": "2022-08-11T14:10:15.786Z"
      },
      {
        "duration": 61,
        "start_time": "2022-08-11T14:10:15.931Z"
      },
      {
        "duration": 16,
        "start_time": "2022-08-11T14:10:16.065Z"
      },
      {
        "duration": 28,
        "start_time": "2022-08-11T14:10:16.245Z"
      },
      {
        "duration": 6,
        "start_time": "2022-08-11T14:10:17.307Z"
      },
      {
        "duration": 14,
        "start_time": "2022-08-11T14:10:19.792Z"
      },
      {
        "duration": 7,
        "start_time": "2022-08-11T14:10:25.081Z"
      },
      {
        "duration": 14,
        "start_time": "2022-08-11T14:10:25.403Z"
      },
      {
        "duration": 6,
        "start_time": "2022-08-11T14:10:32.852Z"
      },
      {
        "duration": 8,
        "start_time": "2022-08-11T14:10:43.942Z"
      },
      {
        "duration": 1280,
        "start_time": "2022-08-11T14:11:25.699Z"
      },
      {
        "duration": 63,
        "start_time": "2022-08-11T14:11:26.981Z"
      },
      {
        "duration": 13,
        "start_time": "2022-08-11T14:11:27.045Z"
      },
      {
        "duration": 29,
        "start_time": "2022-08-11T14:11:27.060Z"
      },
      {
        "duration": 16,
        "start_time": "2022-08-11T14:11:27.090Z"
      },
      {
        "duration": 15,
        "start_time": "2022-08-11T14:11:27.108Z"
      },
      {
        "duration": 12,
        "start_time": "2022-08-11T14:11:27.125Z"
      },
      {
        "duration": 12,
        "start_time": "2022-08-11T14:11:27.140Z"
      },
      {
        "duration": 9,
        "start_time": "2022-08-11T14:11:27.153Z"
      },
      {
        "duration": 7,
        "start_time": "2022-08-11T14:11:27.164Z"
      },
      {
        "duration": 38,
        "start_time": "2022-08-11T14:11:27.172Z"
      },
      {
        "duration": 20,
        "start_time": "2022-08-11T14:11:27.213Z"
      },
      {
        "duration": 7,
        "start_time": "2022-08-11T14:11:27.234Z"
      },
      {
        "duration": 17,
        "start_time": "2022-08-11T14:11:27.243Z"
      },
      {
        "duration": 4,
        "start_time": "2022-08-11T14:11:27.262Z"
      },
      {
        "duration": 191,
        "start_time": "2022-08-11T14:11:27.267Z"
      },
      {
        "duration": 5,
        "start_time": "2022-08-11T14:11:27.460Z"
      },
      {
        "duration": 42,
        "start_time": "2022-08-11T14:11:27.467Z"
      },
      {
        "duration": 4,
        "start_time": "2022-08-11T14:11:27.511Z"
      },
      {
        "duration": 139,
        "start_time": "2022-08-11T14:11:27.518Z"
      },
      {
        "duration": 2,
        "start_time": "2022-08-11T14:11:27.659Z"
      },
      {
        "duration": 152,
        "start_time": "2022-08-11T14:11:27.663Z"
      },
      {
        "duration": 8,
        "start_time": "2022-08-11T14:11:27.818Z"
      },
      {
        "duration": 9,
        "start_time": "2022-08-11T14:11:27.828Z"
      },
      {
        "duration": 86,
        "start_time": "2022-08-11T14:11:27.839Z"
      },
      {
        "duration": 0,
        "start_time": "2022-08-11T14:11:27.928Z"
      },
      {
        "duration": 0,
        "start_time": "2022-08-11T14:11:27.930Z"
      },
      {
        "duration": 0,
        "start_time": "2022-08-11T14:11:27.931Z"
      },
      {
        "duration": 0,
        "start_time": "2022-08-11T14:11:27.933Z"
      },
      {
        "duration": 0,
        "start_time": "2022-08-11T14:11:27.934Z"
      },
      {
        "duration": 0,
        "start_time": "2022-08-11T14:11:27.935Z"
      },
      {
        "duration": 0,
        "start_time": "2022-08-11T14:11:27.936Z"
      },
      {
        "duration": 0,
        "start_time": "2022-08-11T14:11:27.937Z"
      },
      {
        "duration": 0,
        "start_time": "2022-08-11T14:11:27.938Z"
      },
      {
        "duration": 0,
        "start_time": "2022-08-11T14:11:27.939Z"
      },
      {
        "duration": 3,
        "start_time": "2022-08-11T14:11:38.636Z"
      },
      {
        "duration": 54,
        "start_time": "2022-08-11T14:11:38.795Z"
      },
      {
        "duration": 15,
        "start_time": "2022-08-11T14:11:38.980Z"
      },
      {
        "duration": 37,
        "start_time": "2022-08-11T14:11:39.806Z"
      },
      {
        "duration": 4,
        "start_time": "2022-08-11T14:11:41.832Z"
      },
      {
        "duration": 13,
        "start_time": "2022-08-11T14:11:44.009Z"
      },
      {
        "duration": 6,
        "start_time": "2022-08-11T14:11:45.361Z"
      },
      {
        "duration": 13,
        "start_time": "2022-08-11T14:11:46.072Z"
      },
      {
        "duration": 6,
        "start_time": "2022-08-11T14:11:51.830Z"
      },
      {
        "duration": 8,
        "start_time": "2022-08-11T14:11:52.956Z"
      },
      {
        "duration": 6,
        "start_time": "2022-08-11T14:12:02.410Z"
      },
      {
        "duration": 5,
        "start_time": "2022-08-11T14:12:09.162Z"
      },
      {
        "duration": 5,
        "start_time": "2022-08-11T14:12:15.771Z"
      },
      {
        "duration": 25,
        "start_time": "2022-08-11T14:12:18.912Z"
      },
      {
        "duration": 5,
        "start_time": "2022-08-11T14:12:24.339Z"
      },
      {
        "duration": 159,
        "start_time": "2022-08-11T14:12:26.795Z"
      },
      {
        "duration": 6,
        "start_time": "2022-08-11T14:12:29.686Z"
      },
      {
        "duration": 42,
        "start_time": "2022-08-11T14:12:36.113Z"
      },
      {
        "duration": 5,
        "start_time": "2022-08-11T14:13:11.430Z"
      },
      {
        "duration": 3,
        "start_time": "2022-08-11T14:13:59.108Z"
      },
      {
        "duration": 141,
        "start_time": "2022-08-11T14:14:01.445Z"
      },
      {
        "duration": 5,
        "start_time": "2022-08-11T14:14:12.202Z"
      },
      {
        "duration": 8,
        "start_time": "2022-08-11T14:14:23.836Z"
      },
      {
        "duration": 8,
        "start_time": "2022-08-11T14:14:54.804Z"
      },
      {
        "duration": 1135,
        "start_time": "2022-08-11T14:15:26.671Z"
      },
      {
        "duration": 52,
        "start_time": "2022-08-11T14:15:27.810Z"
      },
      {
        "duration": 12,
        "start_time": "2022-08-11T14:15:27.864Z"
      },
      {
        "duration": 30,
        "start_time": "2022-08-11T14:15:27.879Z"
      },
      {
        "duration": 9,
        "start_time": "2022-08-11T14:15:27.911Z"
      },
      {
        "duration": 18,
        "start_time": "2022-08-11T14:15:27.923Z"
      },
      {
        "duration": 16,
        "start_time": "2022-08-11T14:15:27.942Z"
      },
      {
        "duration": 12,
        "start_time": "2022-08-11T14:15:27.960Z"
      },
      {
        "duration": 7,
        "start_time": "2022-08-11T14:15:27.973Z"
      },
      {
        "duration": 28,
        "start_time": "2022-08-11T14:15:27.982Z"
      },
      {
        "duration": 8,
        "start_time": "2022-08-11T14:15:28.012Z"
      },
      {
        "duration": 8,
        "start_time": "2022-08-11T14:15:28.022Z"
      },
      {
        "duration": 37,
        "start_time": "2022-08-11T14:15:28.031Z"
      },
      {
        "duration": 5,
        "start_time": "2022-08-11T14:15:28.070Z"
      },
      {
        "duration": 161,
        "start_time": "2022-08-11T14:15:28.076Z"
      },
      {
        "duration": 5,
        "start_time": "2022-08-11T14:15:28.239Z"
      },
      {
        "duration": 27,
        "start_time": "2022-08-11T14:15:28.245Z"
      },
      {
        "duration": 2,
        "start_time": "2022-08-11T14:15:28.274Z"
      },
      {
        "duration": 153,
        "start_time": "2022-08-11T14:15:28.278Z"
      },
      {
        "duration": 4,
        "start_time": "2022-08-11T14:15:28.433Z"
      },
      {
        "duration": 27,
        "start_time": "2022-08-11T14:15:28.438Z"
      },
      {
        "duration": 171,
        "start_time": "2022-08-11T14:15:28.467Z"
      },
      {
        "duration": 8,
        "start_time": "2022-08-11T14:15:28.639Z"
      },
      {
        "duration": 44,
        "start_time": "2022-08-11T14:15:28.648Z"
      },
      {
        "duration": 34,
        "start_time": "2022-08-11T14:15:28.694Z"
      },
      {
        "duration": 223,
        "start_time": "2022-08-11T14:15:28.730Z"
      },
      {
        "duration": 3,
        "start_time": "2022-08-11T14:15:39.344Z"
      },
      {
        "duration": 45,
        "start_time": "2022-08-11T14:15:39.549Z"
      },
      {
        "duration": 16,
        "start_time": "2022-08-11T14:15:39.687Z"
      },
      {
        "duration": 38,
        "start_time": "2022-08-11T14:15:40.258Z"
      },
      {
        "duration": 4,
        "start_time": "2022-08-11T14:15:41.357Z"
      },
      {
        "duration": 8,
        "start_time": "2022-08-11T14:15:42.244Z"
      },
      {
        "duration": 7,
        "start_time": "2022-08-11T14:15:43.232Z"
      },
      {
        "duration": 9,
        "start_time": "2022-08-11T14:15:44.209Z"
      },
      {
        "duration": 7,
        "start_time": "2022-08-11T14:15:46.292Z"
      },
      {
        "duration": 5,
        "start_time": "2022-08-11T14:15:47.569Z"
      },
      {
        "duration": 6,
        "start_time": "2022-08-11T14:15:53.943Z"
      },
      {
        "duration": 6,
        "start_time": "2022-08-11T14:16:01.142Z"
      },
      {
        "duration": 25,
        "start_time": "2022-08-11T14:16:03.211Z"
      },
      {
        "duration": 5,
        "start_time": "2022-08-11T14:16:07.968Z"
      },
      {
        "duration": 140,
        "start_time": "2022-08-11T14:16:10.554Z"
      },
      {
        "duration": 4,
        "start_time": "2022-08-11T14:16:14.450Z"
      },
      {
        "duration": 26,
        "start_time": "2022-08-11T14:16:16.649Z"
      },
      {
        "duration": 3,
        "start_time": "2022-08-11T14:16:20.785Z"
      },
      {
        "duration": 166,
        "start_time": "2022-08-11T14:16:33.988Z"
      },
      {
        "duration": 6,
        "start_time": "2022-08-11T14:16:38.251Z"
      },
      {
        "duration": 13,
        "start_time": "2022-08-11T14:16:52.882Z"
      },
      {
        "duration": 3,
        "start_time": "2022-08-11T14:18:29.170Z"
      },
      {
        "duration": 17,
        "start_time": "2022-08-11T14:18:30.785Z"
      },
      {
        "duration": 5,
        "start_time": "2022-08-11T14:18:50.228Z"
      },
      {
        "duration": 13,
        "start_time": "2022-08-11T14:18:52.661Z"
      },
      {
        "duration": 5,
        "start_time": "2022-08-11T14:19:03.914Z"
      },
      {
        "duration": 47,
        "start_time": "2022-08-11T14:19:04.056Z"
      },
      {
        "duration": 12,
        "start_time": "2022-08-11T14:19:04.233Z"
      },
      {
        "duration": 26,
        "start_time": "2022-08-11T14:19:04.437Z"
      },
      {
        "duration": 4,
        "start_time": "2022-08-11T14:19:04.865Z"
      },
      {
        "duration": 14,
        "start_time": "2022-08-11T14:19:05.202Z"
      },
      {
        "duration": 14,
        "start_time": "2022-08-11T14:19:05.528Z"
      },
      {
        "duration": 8,
        "start_time": "2022-08-11T14:19:05.688Z"
      },
      {
        "duration": 7,
        "start_time": "2022-08-11T14:19:06.263Z"
      },
      {
        "duration": 4,
        "start_time": "2022-08-11T14:19:06.713Z"
      },
      {
        "duration": 5,
        "start_time": "2022-08-11T14:19:07.300Z"
      },
      {
        "duration": 4,
        "start_time": "2022-08-11T14:19:07.593Z"
      },
      {
        "duration": 18,
        "start_time": "2022-08-11T14:19:07.936Z"
      },
      {
        "duration": 9,
        "start_time": "2022-08-11T14:19:08.306Z"
      },
      {
        "duration": 160,
        "start_time": "2022-08-11T14:19:08.672Z"
      },
      {
        "duration": 5,
        "start_time": "2022-08-11T14:19:09.185Z"
      },
      {
        "duration": 26,
        "start_time": "2022-08-11T14:19:09.555Z"
      },
      {
        "duration": 3,
        "start_time": "2022-08-11T14:19:10.578Z"
      },
      {
        "duration": 146,
        "start_time": "2022-08-11T14:19:12.450Z"
      },
      {
        "duration": 5,
        "start_time": "2022-08-11T14:19:13.368Z"
      },
      {
        "duration": 12,
        "start_time": "2022-08-11T14:19:13.841Z"
      },
      {
        "duration": 4,
        "start_time": "2022-08-11T14:19:32.977Z"
      },
      {
        "duration": 8,
        "start_time": "2022-08-11T14:23:31.384Z"
      },
      {
        "duration": 28,
        "start_time": "2022-08-11T14:23:44.001Z"
      },
      {
        "duration": 169,
        "start_time": "2022-08-11T14:23:48.128Z"
      },
      {
        "duration": 9,
        "start_time": "2022-08-11T14:23:51.528Z"
      },
      {
        "duration": 1197,
        "start_time": "2022-08-11T14:24:44.732Z"
      },
      {
        "duration": 50,
        "start_time": "2022-08-11T14:24:45.931Z"
      },
      {
        "duration": 14,
        "start_time": "2022-08-11T14:24:45.983Z"
      },
      {
        "duration": 53,
        "start_time": "2022-08-11T14:24:45.999Z"
      },
      {
        "duration": 7,
        "start_time": "2022-08-11T14:24:46.058Z"
      },
      {
        "duration": 22,
        "start_time": "2022-08-11T14:24:46.066Z"
      },
      {
        "duration": 13,
        "start_time": "2022-08-11T14:24:46.089Z"
      },
      {
        "duration": 55,
        "start_time": "2022-08-11T14:24:46.109Z"
      },
      {
        "duration": 16,
        "start_time": "2022-08-11T14:24:46.166Z"
      },
      {
        "duration": 14,
        "start_time": "2022-08-11T14:24:46.184Z"
      },
      {
        "duration": 40,
        "start_time": "2022-08-11T14:24:46.200Z"
      },
      {
        "duration": 35,
        "start_time": "2022-08-11T14:24:46.242Z"
      },
      {
        "duration": 22,
        "start_time": "2022-08-11T14:24:46.278Z"
      },
      {
        "duration": 24,
        "start_time": "2022-08-11T14:24:46.304Z"
      },
      {
        "duration": 225,
        "start_time": "2022-08-11T14:24:46.330Z"
      },
      {
        "duration": 5,
        "start_time": "2022-08-11T14:24:46.557Z"
      },
      {
        "duration": 28,
        "start_time": "2022-08-11T14:24:46.564Z"
      },
      {
        "duration": 12,
        "start_time": "2022-08-11T14:24:46.594Z"
      },
      {
        "duration": 153,
        "start_time": "2022-08-11T14:24:46.607Z"
      },
      {
        "duration": 5,
        "start_time": "2022-08-11T14:24:46.761Z"
      },
      {
        "duration": 14,
        "start_time": "2022-08-11T14:24:46.767Z"
      },
      {
        "duration": 4,
        "start_time": "2022-08-11T14:24:46.782Z"
      },
      {
        "duration": 42,
        "start_time": "2022-08-11T14:24:46.787Z"
      },
      {
        "duration": 195,
        "start_time": "2022-08-11T14:24:46.831Z"
      },
      {
        "duration": 7,
        "start_time": "2022-08-11T14:24:47.028Z"
      },
      {
        "duration": 34,
        "start_time": "2022-08-11T14:24:47.036Z"
      },
      {
        "duration": 21,
        "start_time": "2022-08-11T14:24:47.072Z"
      },
      {
        "duration": 249,
        "start_time": "2022-08-11T14:24:47.095Z"
      },
      {
        "duration": 1977,
        "start_time": "2022-08-11T18:04:53.282Z"
      },
      {
        "duration": 96,
        "start_time": "2022-08-11T18:04:55.260Z"
      },
      {
        "duration": 15,
        "start_time": "2022-08-11T18:04:55.358Z"
      },
      {
        "duration": 29,
        "start_time": "2022-08-11T18:04:55.374Z"
      },
      {
        "duration": 6,
        "start_time": "2022-08-11T18:04:55.413Z"
      },
      {
        "duration": 12,
        "start_time": "2022-08-11T18:04:55.421Z"
      },
      {
        "duration": 7,
        "start_time": "2022-08-11T18:04:55.435Z"
      },
      {
        "duration": 8,
        "start_time": "2022-08-11T18:04:55.443Z"
      },
      {
        "duration": 5,
        "start_time": "2022-08-11T18:04:55.452Z"
      },
      {
        "duration": 4,
        "start_time": "2022-08-11T18:04:55.458Z"
      },
      {
        "duration": 6,
        "start_time": "2022-08-11T18:04:55.463Z"
      },
      {
        "duration": 7,
        "start_time": "2022-08-11T18:04:55.470Z"
      },
      {
        "duration": 51,
        "start_time": "2022-08-11T18:04:55.478Z"
      },
      {
        "duration": 4,
        "start_time": "2022-08-11T18:04:55.531Z"
      },
      {
        "duration": 147,
        "start_time": "2022-08-11T18:04:55.537Z"
      },
      {
        "duration": 5,
        "start_time": "2022-08-11T18:04:55.686Z"
      },
      {
        "duration": 38,
        "start_time": "2022-08-11T18:04:55.692Z"
      },
      {
        "duration": 4,
        "start_time": "2022-08-11T18:04:55.732Z"
      },
      {
        "duration": 148,
        "start_time": "2022-08-11T18:04:55.737Z"
      },
      {
        "duration": 4,
        "start_time": "2022-08-11T18:04:55.887Z"
      },
      {
        "duration": 27,
        "start_time": "2022-08-11T18:04:55.892Z"
      },
      {
        "duration": 16,
        "start_time": "2022-08-11T18:04:55.920Z"
      },
      {
        "duration": 17,
        "start_time": "2022-08-11T18:04:55.937Z"
      },
      {
        "duration": 202,
        "start_time": "2022-08-11T18:04:55.955Z"
      },
      {
        "duration": 8,
        "start_time": "2022-08-11T18:04:56.159Z"
      },
      {
        "duration": 10,
        "start_time": "2022-08-11T18:04:56.169Z"
      },
      {
        "duration": 43,
        "start_time": "2022-08-11T18:04:56.181Z"
      },
      {
        "duration": 265,
        "start_time": "2022-08-11T18:04:56.226Z"
      },
      {
        "duration": 1375,
        "start_time": "2022-08-12T08:18:28.269Z"
      },
      {
        "duration": 118,
        "start_time": "2022-08-12T08:18:30.942Z"
      },
      {
        "duration": 17,
        "start_time": "2022-08-12T08:18:31.189Z"
      },
      {
        "duration": 26,
        "start_time": "2022-08-12T08:18:31.527Z"
      },
      {
        "duration": 5,
        "start_time": "2022-08-12T08:40:20.215Z"
      },
      {
        "duration": 10,
        "start_time": "2022-08-12T08:40:21.056Z"
      },
      {
        "duration": 32,
        "start_time": "2022-08-12T08:40:22.049Z"
      },
      {
        "duration": 9,
        "start_time": "2022-08-12T08:40:24.257Z"
      },
      {
        "duration": 6,
        "start_time": "2022-08-12T08:40:25.434Z"
      },
      {
        "duration": 4,
        "start_time": "2022-08-12T08:40:26.235Z"
      },
      {
        "duration": 5,
        "start_time": "2022-08-12T08:40:26.920Z"
      },
      {
        "duration": 5,
        "start_time": "2022-08-12T08:40:28.013Z"
      },
      {
        "duration": 18,
        "start_time": "2022-08-12T08:40:28.952Z"
      },
      {
        "duration": 4,
        "start_time": "2022-08-12T08:40:30.111Z"
      },
      {
        "duration": 132,
        "start_time": "2022-08-12T08:40:31.129Z"
      },
      {
        "duration": 6,
        "start_time": "2022-08-12T08:40:32.770Z"
      },
      {
        "duration": 42,
        "start_time": "2022-08-12T08:40:33.930Z"
      },
      {
        "duration": 3,
        "start_time": "2022-08-12T08:40:35.689Z"
      },
      {
        "duration": 130,
        "start_time": "2022-08-12T08:40:36.711Z"
      },
      {
        "duration": 7,
        "start_time": "2022-08-12T08:40:37.497Z"
      },
      {
        "duration": 13,
        "start_time": "2022-08-12T08:40:37.841Z"
      },
      {
        "duration": 5,
        "start_time": "2022-08-12T08:40:45.707Z"
      },
      {
        "duration": 16,
        "start_time": "2022-08-12T08:40:49.163Z"
      },
      {
        "duration": 163,
        "start_time": "2022-08-12T08:40:51.658Z"
      },
      {
        "duration": 7,
        "start_time": "2022-08-12T08:40:57.385Z"
      },
      {
        "duration": 8,
        "start_time": "2022-08-12T08:41:10.747Z"
      },
      {
        "duration": 18,
        "start_time": "2022-08-12T08:58:29.654Z"
      },
      {
        "duration": 14,
        "start_time": "2022-08-12T08:59:13.943Z"
      },
      {
        "duration": 16,
        "start_time": "2022-08-12T08:59:41.045Z"
      },
      {
        "duration": 10,
        "start_time": "2022-08-12T09:00:57.786Z"
      },
      {
        "duration": 21,
        "start_time": "2022-08-12T09:01:16.192Z"
      },
      {
        "duration": 17,
        "start_time": "2022-08-12T09:01:58.133Z"
      },
      {
        "duration": 18,
        "start_time": "2022-08-12T09:03:11.577Z"
      },
      {
        "duration": 23,
        "start_time": "2022-08-12T09:03:50.796Z"
      },
      {
        "duration": 30,
        "start_time": "2022-08-12T09:04:11.767Z"
      },
      {
        "duration": 29,
        "start_time": "2022-08-12T09:04:57.891Z"
      },
      {
        "duration": 28,
        "start_time": "2022-08-12T09:05:10.126Z"
      },
      {
        "duration": 33,
        "start_time": "2022-08-12T09:09:09.938Z"
      },
      {
        "duration": 21,
        "start_time": "2022-08-12T09:10:39.574Z"
      },
      {
        "duration": 7,
        "start_time": "2022-08-12T09:11:42.160Z"
      },
      {
        "duration": 20,
        "start_time": "2022-08-12T09:16:33.783Z"
      },
      {
        "duration": 107,
        "start_time": "2022-08-12T09:16:34.942Z"
      },
      {
        "duration": 232,
        "start_time": "2022-08-12T09:16:51.592Z"
      },
      {
        "duration": 23,
        "start_time": "2022-08-12T09:23:00.146Z"
      },
      {
        "duration": 28,
        "start_time": "2022-08-12T09:23:01.165Z"
      },
      {
        "duration": 26,
        "start_time": "2022-08-12T09:34:33.710Z"
      },
      {
        "duration": 15,
        "start_time": "2022-08-12T09:35:35.621Z"
      },
      {
        "duration": 16,
        "start_time": "2022-08-12T09:35:45.347Z"
      },
      {
        "duration": 33,
        "start_time": "2022-08-12T09:42:30.830Z"
      },
      {
        "duration": 28,
        "start_time": "2022-08-12T09:42:38.766Z"
      },
      {
        "duration": 46,
        "start_time": "2022-08-12T09:58:32.569Z"
      },
      {
        "duration": 21,
        "start_time": "2022-08-12T10:01:48.724Z"
      },
      {
        "duration": 40,
        "start_time": "2022-08-12T10:01:49.242Z"
      },
      {
        "duration": 101,
        "start_time": "2022-08-12T10:09:12.590Z"
      },
      {
        "duration": 21,
        "start_time": "2022-08-12T10:09:53.266Z"
      },
      {
        "duration": 39,
        "start_time": "2022-08-12T10:09:53.580Z"
      },
      {
        "duration": 1175,
        "start_time": "2022-08-12T13:35:13.035Z"
      },
      {
        "duration": 57,
        "start_time": "2022-08-12T13:35:14.213Z"
      },
      {
        "duration": 16,
        "start_time": "2022-08-12T13:35:14.271Z"
      },
      {
        "duration": 31,
        "start_time": "2022-08-12T13:35:14.289Z"
      },
      {
        "duration": 6,
        "start_time": "2022-08-12T13:35:14.322Z"
      },
      {
        "duration": 16,
        "start_time": "2022-08-12T13:35:14.330Z"
      },
      {
        "duration": 9,
        "start_time": "2022-08-12T13:35:14.348Z"
      },
      {
        "duration": 12,
        "start_time": "2022-08-12T13:35:14.358Z"
      },
      {
        "duration": 40,
        "start_time": "2022-08-12T13:35:14.372Z"
      },
      {
        "duration": 5,
        "start_time": "2022-08-12T13:35:14.415Z"
      },
      {
        "duration": 19,
        "start_time": "2022-08-12T13:35:14.422Z"
      },
      {
        "duration": 19,
        "start_time": "2022-08-12T13:35:14.443Z"
      },
      {
        "duration": 23,
        "start_time": "2022-08-12T13:35:14.463Z"
      },
      {
        "duration": 6,
        "start_time": "2022-08-12T13:35:14.488Z"
      },
      {
        "duration": 158,
        "start_time": "2022-08-12T13:35:14.508Z"
      },
      {
        "duration": 5,
        "start_time": "2022-08-12T13:35:14.668Z"
      },
      {
        "duration": 40,
        "start_time": "2022-08-12T13:35:14.674Z"
      },
      {
        "duration": 4,
        "start_time": "2022-08-12T13:35:14.716Z"
      },
      {
        "duration": 164,
        "start_time": "2022-08-12T13:35:14.722Z"
      },
      {
        "duration": 6,
        "start_time": "2022-08-12T13:35:14.888Z"
      },
      {
        "duration": 25,
        "start_time": "2022-08-12T13:35:14.895Z"
      },
      {
        "duration": 4,
        "start_time": "2022-08-12T13:35:14.922Z"
      },
      {
        "duration": 18,
        "start_time": "2022-08-12T13:35:14.928Z"
      },
      {
        "duration": 208,
        "start_time": "2022-08-12T13:35:14.948Z"
      },
      {
        "duration": 8,
        "start_time": "2022-08-12T13:35:15.157Z"
      },
      {
        "duration": 60,
        "start_time": "2022-08-12T13:35:15.166Z"
      },
      {
        "duration": 245,
        "start_time": "2022-08-12T13:35:15.228Z"
      },
      {
        "duration": 41,
        "start_time": "2022-08-12T13:35:15.477Z"
      },
      {
        "duration": 102,
        "start_time": "2022-08-12T13:35:15.520Z"
      },
      {
        "duration": 118,
        "start_time": "2022-08-12T13:40:29.647Z"
      },
      {
        "duration": 8,
        "start_time": "2022-08-12T13:41:16.637Z"
      },
      {
        "duration": 168,
        "start_time": "2022-08-12T13:41:22.080Z"
      },
      {
        "duration": 99,
        "start_time": "2022-08-12T13:41:38.234Z"
      },
      {
        "duration": 14,
        "start_time": "2022-08-12T13:41:48.501Z"
      },
      {
        "duration": 8,
        "start_time": "2022-08-12T13:42:18.078Z"
      },
      {
        "duration": 13,
        "start_time": "2022-08-12T13:42:37.154Z"
      },
      {
        "duration": 13,
        "start_time": "2022-08-12T13:43:00.605Z"
      },
      {
        "duration": 139,
        "start_time": "2022-08-12T13:46:43.818Z"
      },
      {
        "duration": 10,
        "start_time": "2022-08-12T13:46:51.746Z"
      },
      {
        "duration": 99,
        "start_time": "2022-08-12T13:48:12.611Z"
      },
      {
        "duration": 111,
        "start_time": "2022-08-12T13:48:17.381Z"
      },
      {
        "duration": 108,
        "start_time": "2022-08-12T13:48:23.581Z"
      },
      {
        "duration": 115,
        "start_time": "2022-08-12T13:48:29.056Z"
      },
      {
        "duration": 753,
        "start_time": "2022-08-12T13:49:38.548Z"
      },
      {
        "duration": 16,
        "start_time": "2022-08-12T13:49:50.759Z"
      },
      {
        "duration": 6,
        "start_time": "2022-08-12T13:49:58.138Z"
      },
      {
        "duration": 16,
        "start_time": "2022-08-12T13:50:10.654Z"
      },
      {
        "duration": 6,
        "start_time": "2022-08-12T13:50:16.973Z"
      },
      {
        "duration": 21,
        "start_time": "2022-08-12T13:50:41.641Z"
      },
      {
        "duration": 12,
        "start_time": "2022-08-12T13:50:58.631Z"
      },
      {
        "duration": 11,
        "start_time": "2022-08-12T13:51:41.743Z"
      },
      {
        "duration": 7,
        "start_time": "2022-08-12T13:51:46.937Z"
      },
      {
        "duration": 6,
        "start_time": "2022-08-12T13:51:59.979Z"
      },
      {
        "duration": 7,
        "start_time": "2022-08-12T13:54:40.009Z"
      },
      {
        "duration": 16,
        "start_time": "2022-08-12T13:57:32.024Z"
      },
      {
        "duration": 16,
        "start_time": "2022-08-12T13:58:43.358Z"
      },
      {
        "duration": 17,
        "start_time": "2022-08-12T13:58:51.024Z"
      },
      {
        "duration": 5,
        "start_time": "2022-08-12T13:59:12.919Z"
      },
      {
        "duration": 927,
        "start_time": "2022-08-12T14:00:12.550Z"
      },
      {
        "duration": 6,
        "start_time": "2022-08-12T14:00:26.252Z"
      },
      {
        "duration": 10,
        "start_time": "2022-08-12T14:00:26.259Z"
      },
      {
        "duration": 18,
        "start_time": "2022-08-12T14:02:03.356Z"
      },
      {
        "duration": 7,
        "start_time": "2022-08-12T14:03:42.823Z"
      },
      {
        "duration": 10,
        "start_time": "2022-08-12T14:04:28.466Z"
      },
      {
        "duration": 8,
        "start_time": "2022-08-12T14:05:01.410Z"
      },
      {
        "duration": 6,
        "start_time": "2022-08-12T14:05:10.849Z"
      },
      {
        "duration": 12,
        "start_time": "2022-08-12T14:05:25.879Z"
      },
      {
        "duration": 9,
        "start_time": "2022-08-12T14:06:10.944Z"
      },
      {
        "duration": 9,
        "start_time": "2022-08-12T14:06:53.542Z"
      },
      {
        "duration": 10,
        "start_time": "2022-08-12T14:07:12.583Z"
      },
      {
        "duration": 9,
        "start_time": "2022-08-12T14:09:59.082Z"
      },
      {
        "duration": 14,
        "start_time": "2022-08-12T14:11:25.472Z"
      },
      {
        "duration": 12,
        "start_time": "2022-08-12T14:11:49.017Z"
      },
      {
        "duration": 1070,
        "start_time": "2022-08-12T14:14:27.930Z"
      },
      {
        "duration": 8,
        "start_time": "2022-08-12T14:14:56.954Z"
      },
      {
        "duration": 9,
        "start_time": "2022-08-12T14:15:49.490Z"
      },
      {
        "duration": 12,
        "start_time": "2022-08-12T14:21:40.534Z"
      },
      {
        "duration": 9,
        "start_time": "2022-08-12T14:21:41.174Z"
      },
      {
        "duration": 8,
        "start_time": "2022-08-12T14:22:27.889Z"
      },
      {
        "duration": 9,
        "start_time": "2022-08-12T14:39:11.348Z"
      },
      {
        "duration": 9,
        "start_time": "2022-08-12T14:39:50.989Z"
      },
      {
        "duration": 11,
        "start_time": "2022-08-12T14:43:44.286Z"
      },
      {
        "duration": 39,
        "start_time": "2022-08-12T14:44:59.771Z"
      },
      {
        "duration": 1173,
        "start_time": "2022-08-12T14:45:12.713Z"
      },
      {
        "duration": 64,
        "start_time": "2022-08-12T14:45:13.888Z"
      },
      {
        "duration": 15,
        "start_time": "2022-08-12T14:45:13.954Z"
      },
      {
        "duration": 31,
        "start_time": "2022-08-12T14:45:13.971Z"
      },
      {
        "duration": 21,
        "start_time": "2022-08-12T14:45:14.004Z"
      },
      {
        "duration": 11,
        "start_time": "2022-08-12T14:45:14.027Z"
      },
      {
        "duration": 9,
        "start_time": "2022-08-12T14:45:14.040Z"
      },
      {
        "duration": 10,
        "start_time": "2022-08-12T14:45:14.050Z"
      },
      {
        "duration": 7,
        "start_time": "2022-08-12T14:45:14.062Z"
      },
      {
        "duration": 4,
        "start_time": "2022-08-12T14:45:14.071Z"
      },
      {
        "duration": 40,
        "start_time": "2022-08-12T14:45:14.076Z"
      },
      {
        "duration": 12,
        "start_time": "2022-08-12T14:45:14.122Z"
      },
      {
        "duration": 19,
        "start_time": "2022-08-12T14:45:14.135Z"
      },
      {
        "duration": 6,
        "start_time": "2022-08-12T14:45:14.156Z"
      },
      {
        "duration": 180,
        "start_time": "2022-08-12T14:45:14.164Z"
      },
      {
        "duration": 5,
        "start_time": "2022-08-12T14:45:14.346Z"
      },
      {
        "duration": 43,
        "start_time": "2022-08-12T14:45:14.352Z"
      },
      {
        "duration": 3,
        "start_time": "2022-08-12T14:45:14.409Z"
      },
      {
        "duration": 153,
        "start_time": "2022-08-12T14:45:14.415Z"
      },
      {
        "duration": 5,
        "start_time": "2022-08-12T14:45:14.570Z"
      },
      {
        "duration": 24,
        "start_time": "2022-08-12T14:45:14.576Z"
      },
      {
        "duration": 4,
        "start_time": "2022-08-12T14:45:14.602Z"
      },
      {
        "duration": 39,
        "start_time": "2022-08-12T14:45:14.608Z"
      },
      {
        "duration": 175,
        "start_time": "2022-08-12T14:45:14.649Z"
      },
      {
        "duration": 8,
        "start_time": "2022-08-12T14:45:14.826Z"
      },
      {
        "duration": 62,
        "start_time": "2022-08-12T14:45:14.836Z"
      },
      {
        "duration": 366,
        "start_time": "2022-08-12T14:45:14.899Z"
      },
      {
        "duration": 25,
        "start_time": "2022-08-12T14:45:15.315Z"
      },
      {
        "duration": 99,
        "start_time": "2022-08-12T14:45:15.342Z"
      },
      {
        "duration": 11,
        "start_time": "2022-08-12T14:45:15.443Z"
      },
      {
        "duration": 1200,
        "start_time": "2022-08-12T15:01:00.990Z"
      },
      {
        "duration": 56,
        "start_time": "2022-08-12T15:01:02.192Z"
      },
      {
        "duration": 15,
        "start_time": "2022-08-12T15:01:02.249Z"
      },
      {
        "duration": 29,
        "start_time": "2022-08-12T15:01:02.266Z"
      },
      {
        "duration": 15,
        "start_time": "2022-08-12T15:01:02.296Z"
      },
      {
        "duration": 30,
        "start_time": "2022-08-12T15:01:02.312Z"
      },
      {
        "duration": 19,
        "start_time": "2022-08-12T15:01:02.343Z"
      },
      {
        "duration": 15,
        "start_time": "2022-08-12T15:01:02.364Z"
      },
      {
        "duration": 15,
        "start_time": "2022-08-12T15:01:02.380Z"
      },
      {
        "duration": 12,
        "start_time": "2022-08-12T15:01:02.398Z"
      },
      {
        "duration": 8,
        "start_time": "2022-08-12T15:01:02.412Z"
      },
      {
        "duration": 13,
        "start_time": "2022-08-12T15:01:02.422Z"
      },
      {
        "duration": 28,
        "start_time": "2022-08-12T15:01:02.436Z"
      },
      {
        "duration": 13,
        "start_time": "2022-08-12T15:01:02.466Z"
      },
      {
        "duration": 157,
        "start_time": "2022-08-12T15:01:02.480Z"
      },
      {
        "duration": 5,
        "start_time": "2022-08-12T15:01:02.639Z"
      },
      {
        "duration": 29,
        "start_time": "2022-08-12T15:01:02.645Z"
      },
      {
        "duration": 10,
        "start_time": "2022-08-12T15:01:02.675Z"
      },
      {
        "duration": 155,
        "start_time": "2022-08-12T15:01:02.687Z"
      },
      {
        "duration": 5,
        "start_time": "2022-08-12T15:01:02.844Z"
      },
      {
        "duration": 25,
        "start_time": "2022-08-12T15:01:02.851Z"
      },
      {
        "duration": 5,
        "start_time": "2022-08-12T15:01:02.878Z"
      },
      {
        "duration": 29,
        "start_time": "2022-08-12T15:01:02.885Z"
      },
      {
        "duration": 178,
        "start_time": "2022-08-12T15:01:02.916Z"
      },
      {
        "duration": 28,
        "start_time": "2022-08-12T15:01:03.095Z"
      },
      {
        "duration": 231,
        "start_time": "2022-08-12T15:01:03.125Z"
      },
      {
        "duration": 53,
        "start_time": "2022-08-12T15:01:03.357Z"
      },
      {
        "duration": 40,
        "start_time": "2022-08-12T15:01:03.413Z"
      },
      {
        "duration": 11,
        "start_time": "2022-08-12T15:01:03.510Z"
      },
      {
        "duration": 9,
        "start_time": "2022-08-12T15:09:33.880Z"
      },
      {
        "duration": 14,
        "start_time": "2022-08-12T15:19:41.541Z"
      },
      {
        "duration": 7,
        "start_time": "2022-08-12T15:22:07.968Z"
      },
      {
        "duration": 31,
        "start_time": "2022-08-12T15:22:17.942Z"
      },
      {
        "duration": 17,
        "start_time": "2022-08-12T15:25:17.993Z"
      },
      {
        "duration": 16,
        "start_time": "2022-08-12T15:25:21.374Z"
      },
      {
        "duration": 10,
        "start_time": "2022-08-12T15:29:04.254Z"
      },
      {
        "duration": 15,
        "start_time": "2022-08-12T15:29:12.289Z"
      },
      {
        "duration": 16,
        "start_time": "2022-08-12T15:29:30.694Z"
      },
      {
        "duration": 15,
        "start_time": "2022-08-12T15:33:23.149Z"
      },
      {
        "duration": 12,
        "start_time": "2022-08-12T15:33:49.945Z"
      },
      {
        "duration": 79,
        "start_time": "2022-08-12T15:34:35.718Z"
      },
      {
        "duration": 11,
        "start_time": "2022-08-12T15:34:41.336Z"
      },
      {
        "duration": 13,
        "start_time": "2022-08-12T15:34:48.017Z"
      },
      {
        "duration": 13,
        "start_time": "2022-08-12T15:35:11.670Z"
      },
      {
        "duration": 14,
        "start_time": "2022-08-12T15:35:15.912Z"
      },
      {
        "duration": 15,
        "start_time": "2022-08-12T15:35:39.469Z"
      },
      {
        "duration": 14,
        "start_time": "2022-08-12T15:36:16.521Z"
      },
      {
        "duration": 16,
        "start_time": "2022-08-12T15:37:41.585Z"
      },
      {
        "duration": 128,
        "start_time": "2022-08-12T15:38:50.248Z"
      },
      {
        "duration": 58,
        "start_time": "2022-08-12T15:38:54.950Z"
      },
      {
        "duration": 12,
        "start_time": "2022-08-12T15:38:59.213Z"
      },
      {
        "duration": 1264,
        "start_time": "2022-08-12T15:40:25.240Z"
      },
      {
        "duration": 15,
        "start_time": "2022-08-12T15:40:43.293Z"
      },
      {
        "duration": 36703,
        "start_time": "2022-08-12T15:40:44.390Z"
      },
      {
        "duration": 132,
        "start_time": "2022-08-12T15:42:20.843Z"
      },
      {
        "duration": 139,
        "start_time": "2022-08-12T15:43:49.682Z"
      },
      {
        "duration": 280,
        "start_time": "2022-08-12T15:44:05.817Z"
      },
      {
        "duration": 274,
        "start_time": "2022-08-12T15:45:08.516Z"
      },
      {
        "duration": 2,
        "start_time": "2022-08-12T15:46:59.198Z"
      },
      {
        "duration": 10,
        "start_time": "2022-08-12T15:47:21.032Z"
      },
      {
        "duration": 11,
        "start_time": "2022-08-12T15:47:35.747Z"
      },
      {
        "duration": 9,
        "start_time": "2022-08-12T15:48:08.044Z"
      },
      {
        "duration": 10,
        "start_time": "2022-08-12T15:48:41.900Z"
      },
      {
        "duration": 10,
        "start_time": "2022-08-12T15:48:47.918Z"
      },
      {
        "duration": 109,
        "start_time": "2022-08-12T15:48:53.126Z"
      },
      {
        "duration": 24,
        "start_time": "2022-08-12T15:49:30.688Z"
      },
      {
        "duration": 11,
        "start_time": "2022-08-12T15:49:34.317Z"
      },
      {
        "duration": 13,
        "start_time": "2022-08-12T15:49:40.233Z"
      },
      {
        "duration": 11,
        "start_time": "2022-08-12T15:50:01.223Z"
      },
      {
        "duration": 5,
        "start_time": "2022-08-12T15:52:02.331Z"
      },
      {
        "duration": 5,
        "start_time": "2022-08-12T15:52:15.959Z"
      },
      {
        "duration": 7,
        "start_time": "2022-08-12T15:52:21.216Z"
      },
      {
        "duration": 5,
        "start_time": "2022-08-12T15:53:14.817Z"
      },
      {
        "duration": 8,
        "start_time": "2022-08-12T15:53:16.337Z"
      },
      {
        "duration": 6,
        "start_time": "2022-08-12T15:53:50.547Z"
      },
      {
        "duration": 7,
        "start_time": "2022-08-12T15:53:52.106Z"
      },
      {
        "duration": 5,
        "start_time": "2022-08-12T15:55:23.021Z"
      },
      {
        "duration": 6,
        "start_time": "2022-08-12T15:55:55.299Z"
      },
      {
        "duration": 5,
        "start_time": "2022-08-12T15:56:15.568Z"
      },
      {
        "duration": 11,
        "start_time": "2022-08-12T15:56:15.892Z"
      },
      {
        "duration": 5,
        "start_time": "2022-08-12T15:56:32.071Z"
      },
      {
        "duration": 11,
        "start_time": "2022-08-12T15:56:33.001Z"
      },
      {
        "duration": 26,
        "start_time": "2022-08-12T15:57:29.679Z"
      },
      {
        "duration": 17,
        "start_time": "2022-08-12T15:57:43.457Z"
      },
      {
        "duration": 7,
        "start_time": "2022-08-12T15:59:43.991Z"
      },
      {
        "duration": 10,
        "start_time": "2022-08-12T15:59:45.191Z"
      },
      {
        "duration": 1397,
        "start_time": "2022-08-13T07:22:45.189Z"
      },
      {
        "duration": 201,
        "start_time": "2022-08-13T07:22:46.588Z"
      },
      {
        "duration": 14,
        "start_time": "2022-08-13T07:22:47.332Z"
      },
      {
        "duration": 27,
        "start_time": "2022-08-13T07:22:47.504Z"
      },
      {
        "duration": 4,
        "start_time": "2022-08-13T07:22:48.170Z"
      },
      {
        "duration": 9,
        "start_time": "2022-08-13T07:22:48.612Z"
      },
      {
        "duration": 7,
        "start_time": "2022-08-13T07:22:49.011Z"
      },
      {
        "duration": 8,
        "start_time": "2022-08-13T07:22:49.211Z"
      },
      {
        "duration": 6,
        "start_time": "2022-08-13T07:22:49.779Z"
      },
      {
        "duration": 4,
        "start_time": "2022-08-13T07:22:50.426Z"
      },
      {
        "duration": 5,
        "start_time": "2022-08-13T07:22:51.075Z"
      },
      {
        "duration": 5,
        "start_time": "2022-08-13T07:22:51.498Z"
      },
      {
        "duration": 18,
        "start_time": "2022-08-13T07:22:51.956Z"
      },
      {
        "duration": 5,
        "start_time": "2022-08-13T07:22:52.411Z"
      },
      {
        "duration": 152,
        "start_time": "2022-08-13T07:22:52.868Z"
      },
      {
        "duration": 5,
        "start_time": "2022-08-13T07:22:53.722Z"
      },
      {
        "duration": 28,
        "start_time": "2022-08-13T07:22:54.277Z"
      },
      {
        "duration": 4,
        "start_time": "2022-08-13T07:22:55.328Z"
      },
      {
        "duration": 163,
        "start_time": "2022-08-13T07:22:55.915Z"
      },
      {
        "duration": 6,
        "start_time": "2022-08-13T07:22:56.524Z"
      },
      {
        "duration": 12,
        "start_time": "2022-08-13T07:22:56.873Z"
      },
      {
        "duration": 5,
        "start_time": "2022-08-13T07:22:59.802Z"
      },
      {
        "duration": 18,
        "start_time": "2022-08-13T07:23:04.914Z"
      },
      {
        "duration": 154,
        "start_time": "2022-08-13T07:23:06.230Z"
      },
      {
        "duration": 21,
        "start_time": "2022-08-13T07:23:11.946Z"
      },
      {
        "duration": 225,
        "start_time": "2022-08-13T07:23:14.107Z"
      },
      {
        "duration": 24,
        "start_time": "2022-08-13T07:23:35.977Z"
      },
      {
        "duration": 38,
        "start_time": "2022-08-13T07:23:41.079Z"
      },
      {
        "duration": 14,
        "start_time": "2022-08-13T07:23:51.519Z"
      },
      {
        "duration": 9,
        "start_time": "2022-08-13T07:24:11.612Z"
      },
      {
        "duration": 24,
        "start_time": "2022-08-13T07:24:25.278Z"
      },
      {
        "duration": 8,
        "start_time": "2022-08-13T07:24:26.229Z"
      },
      {
        "duration": 14,
        "start_time": "2022-08-13T07:24:28.126Z"
      },
      {
        "duration": 5,
        "start_time": "2022-08-13T07:46:43.989Z"
      },
      {
        "duration": 5,
        "start_time": "2022-08-13T07:47:29.661Z"
      },
      {
        "duration": 5,
        "start_time": "2022-08-13T07:47:43.929Z"
      },
      {
        "duration": 10,
        "start_time": "2022-08-13T07:47:44.273Z"
      },
      {
        "duration": 7,
        "start_time": "2022-08-13T07:48:06.044Z"
      },
      {
        "duration": 7,
        "start_time": "2022-08-13T07:55:32.558Z"
      },
      {
        "duration": 47,
        "start_time": "2022-08-13T07:55:46.989Z"
      },
      {
        "duration": 98,
        "start_time": "2022-08-13T07:57:18.023Z"
      },
      {
        "duration": 145,
        "start_time": "2022-08-13T07:57:24.210Z"
      },
      {
        "duration": 7,
        "start_time": "2022-08-13T07:57:29.569Z"
      },
      {
        "duration": 11,
        "start_time": "2022-08-13T07:57:30.250Z"
      },
      {
        "duration": 6,
        "start_time": "2022-08-13T07:57:33.234Z"
      },
      {
        "duration": 49,
        "start_time": "2022-08-13T07:57:34.079Z"
      },
      {
        "duration": 6,
        "start_time": "2022-08-13T07:58:22.039Z"
      },
      {
        "duration": 47,
        "start_time": "2022-08-13T08:01:43.617Z"
      },
      {
        "duration": 6,
        "start_time": "2022-08-13T08:01:46.775Z"
      },
      {
        "duration": 57,
        "start_time": "2022-08-13T08:01:57.495Z"
      },
      {
        "duration": 45,
        "start_time": "2022-08-13T08:02:12.652Z"
      },
      {
        "duration": 6,
        "start_time": "2022-08-13T08:02:39.067Z"
      },
      {
        "duration": 10,
        "start_time": "2022-08-13T08:02:43.994Z"
      },
      {
        "duration": 9,
        "start_time": "2022-08-13T08:02:59.164Z"
      },
      {
        "duration": 12,
        "start_time": "2022-08-13T08:03:00.336Z"
      },
      {
        "duration": 9,
        "start_time": "2022-08-13T08:05:23.458Z"
      },
      {
        "duration": 15,
        "start_time": "2022-08-13T08:05:35.263Z"
      },
      {
        "duration": 15,
        "start_time": "2022-08-13T08:05:51.255Z"
      },
      {
        "duration": 21,
        "start_time": "2022-08-13T08:06:31.840Z"
      },
      {
        "duration": 19,
        "start_time": "2022-08-13T08:06:47.313Z"
      },
      {
        "duration": 26,
        "start_time": "2022-08-13T08:07:06.933Z"
      },
      {
        "duration": 23,
        "start_time": "2022-08-13T08:07:48.561Z"
      },
      {
        "duration": 79,
        "start_time": "2022-08-13T08:08:21.817Z"
      },
      {
        "duration": 80,
        "start_time": "2022-08-13T08:08:30.457Z"
      },
      {
        "duration": 70,
        "start_time": "2022-08-13T08:08:35.323Z"
      },
      {
        "duration": 82,
        "start_time": "2022-08-13T08:08:48.006Z"
      },
      {
        "duration": 22,
        "start_time": "2022-08-13T08:09:55.182Z"
      },
      {
        "duration": 29,
        "start_time": "2022-08-13T08:10:01.086Z"
      },
      {
        "duration": 33,
        "start_time": "2022-08-13T08:12:09.524Z"
      },
      {
        "duration": 24,
        "start_time": "2022-08-13T08:13:42.958Z"
      },
      {
        "duration": 4,
        "start_time": "2022-08-13T08:14:00.833Z"
      },
      {
        "duration": 20,
        "start_time": "2022-08-13T08:14:34.839Z"
      },
      {
        "duration": 14,
        "start_time": "2022-08-13T08:15:09.103Z"
      },
      {
        "duration": 20,
        "start_time": "2022-08-13T08:15:39.649Z"
      },
      {
        "duration": 1129,
        "start_time": "2022-08-13T08:15:50.012Z"
      },
      {
        "duration": 49,
        "start_time": "2022-08-13T08:15:51.143Z"
      },
      {
        "duration": 13,
        "start_time": "2022-08-13T08:15:51.194Z"
      },
      {
        "duration": 33,
        "start_time": "2022-08-13T08:15:51.209Z"
      },
      {
        "duration": 4,
        "start_time": "2022-08-13T08:15:51.243Z"
      },
      {
        "duration": 21,
        "start_time": "2022-08-13T08:15:51.249Z"
      },
      {
        "duration": 8,
        "start_time": "2022-08-13T08:15:51.272Z"
      },
      {
        "duration": 24,
        "start_time": "2022-08-13T08:15:51.282Z"
      },
      {
        "duration": 20,
        "start_time": "2022-08-13T08:15:51.308Z"
      },
      {
        "duration": 14,
        "start_time": "2022-08-13T08:15:51.331Z"
      },
      {
        "duration": 25,
        "start_time": "2022-08-13T08:15:51.347Z"
      },
      {
        "duration": 15,
        "start_time": "2022-08-13T08:15:51.374Z"
      },
      {
        "duration": 34,
        "start_time": "2022-08-13T08:15:51.391Z"
      },
      {
        "duration": 9,
        "start_time": "2022-08-13T08:15:51.427Z"
      },
      {
        "duration": 148,
        "start_time": "2022-08-13T08:15:51.437Z"
      },
      {
        "duration": 5,
        "start_time": "2022-08-13T08:15:51.587Z"
      },
      {
        "duration": 35,
        "start_time": "2022-08-13T08:15:51.594Z"
      },
      {
        "duration": 3,
        "start_time": "2022-08-13T08:15:51.631Z"
      },
      {
        "duration": 161,
        "start_time": "2022-08-13T08:15:51.636Z"
      },
      {
        "duration": 10,
        "start_time": "2022-08-13T08:15:51.798Z"
      },
      {
        "duration": 13,
        "start_time": "2022-08-13T08:15:51.810Z"
      },
      {
        "duration": 4,
        "start_time": "2022-08-13T08:15:51.825Z"
      },
      {
        "duration": 18,
        "start_time": "2022-08-13T08:15:51.831Z"
      },
      {
        "duration": 186,
        "start_time": "2022-08-13T08:15:51.850Z"
      },
      {
        "duration": 23,
        "start_time": "2022-08-13T08:15:52.038Z"
      },
      {
        "duration": 231,
        "start_time": "2022-08-13T08:15:52.063Z"
      },
      {
        "duration": 27,
        "start_time": "2022-08-13T08:15:52.307Z"
      },
      {
        "duration": 97,
        "start_time": "2022-08-13T08:15:52.338Z"
      },
      {
        "duration": 15,
        "start_time": "2022-08-13T08:15:52.436Z"
      },
      {
        "duration": 64,
        "start_time": "2022-08-13T08:15:52.452Z"
      },
      {
        "duration": 16,
        "start_time": "2022-08-13T08:15:52.517Z"
      },
      {
        "duration": 7,
        "start_time": "2022-08-13T08:15:52.534Z"
      },
      {
        "duration": 15,
        "start_time": "2022-08-13T08:15:52.542Z"
      },
      {
        "duration": 49,
        "start_time": "2022-08-13T08:15:52.558Z"
      },
      {
        "duration": 48,
        "start_time": "2022-08-13T08:15:52.609Z"
      },
      {
        "duration": 5,
        "start_time": "2022-08-13T08:15:52.659Z"
      },
      {
        "duration": 49,
        "start_time": "2022-08-13T08:15:52.666Z"
      },
      {
        "duration": 19,
        "start_time": "2022-08-13T08:15:52.716Z"
      },
      {
        "duration": 1617,
        "start_time": "2022-08-14T11:45:58.365Z"
      },
      {
        "duration": 200,
        "start_time": "2022-08-14T11:45:59.984Z"
      },
      {
        "duration": 20,
        "start_time": "2022-08-14T11:46:00.186Z"
      },
      {
        "duration": 132,
        "start_time": "2022-08-14T11:46:00.208Z"
      },
      {
        "duration": 6,
        "start_time": "2022-08-14T11:46:00.341Z"
      },
      {
        "duration": 34,
        "start_time": "2022-08-14T11:46:00.349Z"
      },
      {
        "duration": 28,
        "start_time": "2022-08-14T11:46:00.384Z"
      },
      {
        "duration": 24,
        "start_time": "2022-08-14T11:46:00.414Z"
      },
      {
        "duration": 30,
        "start_time": "2022-08-14T11:46:00.440Z"
      },
      {
        "duration": 19,
        "start_time": "2022-08-14T11:46:00.474Z"
      },
      {
        "duration": 23,
        "start_time": "2022-08-14T11:46:00.495Z"
      },
      {
        "duration": 27,
        "start_time": "2022-08-14T11:46:00.519Z"
      },
      {
        "duration": 38,
        "start_time": "2022-08-14T11:46:00.549Z"
      },
      {
        "duration": 22,
        "start_time": "2022-08-14T11:46:00.589Z"
      },
      {
        "duration": 170,
        "start_time": "2022-08-14T11:46:00.613Z"
      },
      {
        "duration": 5,
        "start_time": "2022-08-14T11:46:00.786Z"
      },
      {
        "duration": 61,
        "start_time": "2022-08-14T11:46:00.793Z"
      },
      {
        "duration": 36,
        "start_time": "2022-08-14T11:46:00.856Z"
      },
      {
        "duration": 201,
        "start_time": "2022-08-14T11:46:00.894Z"
      },
      {
        "duration": 8,
        "start_time": "2022-08-14T11:46:01.098Z"
      },
      {
        "duration": 40,
        "start_time": "2022-08-14T11:46:01.108Z"
      },
      {
        "duration": 87,
        "start_time": "2022-08-14T11:46:01.150Z"
      },
      {
        "duration": 86,
        "start_time": "2022-08-14T11:46:01.239Z"
      },
      {
        "duration": 281,
        "start_time": "2022-08-14T11:46:01.327Z"
      },
      {
        "duration": 66,
        "start_time": "2022-08-14T11:46:01.611Z"
      },
      {
        "duration": 452,
        "start_time": "2022-08-14T11:46:01.679Z"
      },
      {
        "duration": 26,
        "start_time": "2022-08-14T11:46:02.133Z"
      },
      {
        "duration": 128,
        "start_time": "2022-08-14T11:46:02.165Z"
      },
      {
        "duration": 32,
        "start_time": "2022-08-14T11:46:02.296Z"
      },
      {
        "duration": 16,
        "start_time": "2022-08-14T11:46:02.330Z"
      },
      {
        "duration": 37,
        "start_time": "2022-08-14T11:46:02.348Z"
      },
      {
        "duration": 47,
        "start_time": "2022-08-14T11:46:02.387Z"
      },
      {
        "duration": 15,
        "start_time": "2022-08-14T11:46:02.436Z"
      },
      {
        "duration": 19,
        "start_time": "2022-08-14T11:46:02.453Z"
      },
      {
        "duration": 60,
        "start_time": "2022-08-14T11:46:02.474Z"
      },
      {
        "duration": 7,
        "start_time": "2022-08-14T11:46:02.535Z"
      },
      {
        "duration": 18,
        "start_time": "2022-08-14T11:46:02.543Z"
      },
      {
        "duration": 44,
        "start_time": "2022-08-14T11:46:02.563Z"
      },
      {
        "duration": 20,
        "start_time": "2022-08-14T12:30:27.187Z"
      },
      {
        "duration": 20,
        "start_time": "2022-08-14T12:32:41.510Z"
      },
      {
        "duration": 21,
        "start_time": "2022-08-14T12:32:53.915Z"
      },
      {
        "duration": 25,
        "start_time": "2022-08-14T12:34:11.795Z"
      },
      {
        "duration": 17,
        "start_time": "2022-08-14T12:34:26.908Z"
      },
      {
        "duration": 17,
        "start_time": "2022-08-14T12:34:34.738Z"
      },
      {
        "duration": 19,
        "start_time": "2022-08-14T12:42:11.208Z"
      },
      {
        "duration": 23,
        "start_time": "2022-08-14T12:43:47.791Z"
      },
      {
        "duration": 23,
        "start_time": "2022-08-14T12:44:43.710Z"
      },
      {
        "duration": 17,
        "start_time": "2022-08-14T12:45:30.550Z"
      },
      {
        "duration": 25,
        "start_time": "2022-08-14T12:45:54.015Z"
      },
      {
        "duration": 18,
        "start_time": "2022-08-14T12:45:54.794Z"
      },
      {
        "duration": 3,
        "start_time": "2022-08-14T12:47:05.596Z"
      },
      {
        "duration": 9,
        "start_time": "2022-08-14T12:48:07.522Z"
      },
      {
        "duration": 10,
        "start_time": "2022-08-14T12:48:28.629Z"
      },
      {
        "duration": 10,
        "start_time": "2022-08-14T12:49:07.054Z"
      },
      {
        "duration": 9,
        "start_time": "2022-08-14T12:49:18.852Z"
      },
      {
        "duration": 11,
        "start_time": "2022-08-14T12:50:03.872Z"
      },
      {
        "duration": 9,
        "start_time": "2022-08-14T12:52:03.909Z"
      },
      {
        "duration": 9,
        "start_time": "2022-08-14T12:53:17.365Z"
      },
      {
        "duration": 10,
        "start_time": "2022-08-14T12:55:31.988Z"
      },
      {
        "duration": 31,
        "start_time": "2022-08-14T13:04:14.042Z"
      },
      {
        "duration": 2,
        "start_time": "2022-08-14T13:04:14.469Z"
      },
      {
        "duration": 10,
        "start_time": "2022-08-14T13:04:15.240Z"
      },
      {
        "duration": 16,
        "start_time": "2022-08-14T13:08:39.409Z"
      },
      {
        "duration": 10,
        "start_time": "2022-08-14T13:08:50.659Z"
      },
      {
        "duration": 10,
        "start_time": "2022-08-14T13:08:59.099Z"
      },
      {
        "duration": 29,
        "start_time": "2022-08-14T13:09:55.436Z"
      },
      {
        "duration": 11,
        "start_time": "2022-08-14T13:11:10.623Z"
      },
      {
        "duration": 7,
        "start_time": "2022-08-14T13:12:13.042Z"
      },
      {
        "duration": 9,
        "start_time": "2022-08-14T13:13:19.639Z"
      },
      {
        "duration": 8,
        "start_time": "2022-08-14T13:13:22.951Z"
      },
      {
        "duration": 8,
        "start_time": "2022-08-14T13:13:27.871Z"
      },
      {
        "duration": 11,
        "start_time": "2022-08-14T13:13:56.433Z"
      },
      {
        "duration": 10,
        "start_time": "2022-08-14T13:14:23.794Z"
      },
      {
        "duration": 1567,
        "start_time": "2022-08-14T13:14:55.411Z"
      },
      {
        "duration": 7,
        "start_time": "2022-08-14T13:15:03.896Z"
      },
      {
        "duration": 17,
        "start_time": "2022-08-14T13:21:28.650Z"
      },
      {
        "duration": 17,
        "start_time": "2022-08-14T13:22:00.386Z"
      },
      {
        "duration": 5,
        "start_time": "2022-08-14T13:31:46.129Z"
      },
      {
        "duration": 121,
        "start_time": "2022-08-14T13:31:46.421Z"
      },
      {
        "duration": 5,
        "start_time": "2022-08-14T13:32:01.517Z"
      },
      {
        "duration": 42,
        "start_time": "2022-08-14T13:32:11.912Z"
      },
      {
        "duration": 17,
        "start_time": "2022-08-14T13:32:59.661Z"
      },
      {
        "duration": 24,
        "start_time": "2022-08-14T13:33:40.886Z"
      },
      {
        "duration": 23,
        "start_time": "2022-08-14T13:33:51.064Z"
      },
      {
        "duration": 71,
        "start_time": "2022-08-14T13:34:25.948Z"
      },
      {
        "duration": 17,
        "start_time": "2022-08-14T13:35:15.135Z"
      },
      {
        "duration": 19,
        "start_time": "2022-08-14T13:37:28.321Z"
      },
      {
        "duration": 23,
        "start_time": "2022-08-14T13:37:36.465Z"
      },
      {
        "duration": 20,
        "start_time": "2022-08-14T13:37:53.192Z"
      },
      {
        "duration": 12,
        "start_time": "2022-08-14T13:38:54.203Z"
      },
      {
        "duration": 27,
        "start_time": "2022-08-14T13:39:15.670Z"
      },
      {
        "duration": 11,
        "start_time": "2022-08-14T13:39:40.936Z"
      },
      {
        "duration": 9,
        "start_time": "2022-08-14T13:39:57.773Z"
      },
      {
        "duration": 8,
        "start_time": "2022-08-14T13:41:46.475Z"
      },
      {
        "duration": 9,
        "start_time": "2022-08-14T13:42:01.020Z"
      },
      {
        "duration": 10,
        "start_time": "2022-08-14T13:44:54.356Z"
      },
      {
        "duration": 10,
        "start_time": "2022-08-14T13:45:20.107Z"
      },
      {
        "duration": 1363,
        "start_time": "2022-08-14T13:50:13.765Z"
      },
      {
        "duration": 59,
        "start_time": "2022-08-14T13:50:15.131Z"
      },
      {
        "duration": 28,
        "start_time": "2022-08-14T13:50:15.194Z"
      },
      {
        "duration": 39,
        "start_time": "2022-08-14T13:50:15.225Z"
      },
      {
        "duration": 28,
        "start_time": "2022-08-14T13:50:15.266Z"
      },
      {
        "duration": 14,
        "start_time": "2022-08-14T13:50:15.296Z"
      },
      {
        "duration": 9,
        "start_time": "2022-08-14T13:50:15.312Z"
      },
      {
        "duration": 10,
        "start_time": "2022-08-14T13:50:15.322Z"
      },
      {
        "duration": 6,
        "start_time": "2022-08-14T13:50:15.334Z"
      },
      {
        "duration": 7,
        "start_time": "2022-08-14T13:50:15.342Z"
      },
      {
        "duration": 43,
        "start_time": "2022-08-14T13:50:15.350Z"
      },
      {
        "duration": 5,
        "start_time": "2022-08-14T13:50:15.395Z"
      },
      {
        "duration": 21,
        "start_time": "2022-08-14T13:50:15.405Z"
      },
      {
        "duration": 6,
        "start_time": "2022-08-14T13:50:15.428Z"
      },
      {
        "duration": 215,
        "start_time": "2022-08-14T13:50:15.435Z"
      },
      {
        "duration": 7,
        "start_time": "2022-08-14T13:50:15.652Z"
      },
      {
        "duration": 43,
        "start_time": "2022-08-14T13:50:15.661Z"
      },
      {
        "duration": 4,
        "start_time": "2022-08-14T13:50:15.706Z"
      },
      {
        "duration": 164,
        "start_time": "2022-08-14T13:50:15.712Z"
      },
      {
        "duration": 14,
        "start_time": "2022-08-14T13:50:15.878Z"
      },
      {
        "duration": 29,
        "start_time": "2022-08-14T13:50:15.894Z"
      },
      {
        "duration": 5,
        "start_time": "2022-08-14T13:50:15.924Z"
      },
      {
        "duration": 23,
        "start_time": "2022-08-14T13:50:15.931Z"
      },
      {
        "duration": 207,
        "start_time": "2022-08-14T13:50:15.956Z"
      },
      {
        "duration": 29,
        "start_time": "2022-08-14T13:50:16.165Z"
      },
      {
        "duration": 283,
        "start_time": "2022-08-14T13:50:16.196Z"
      },
      {
        "duration": 24,
        "start_time": "2022-08-14T13:50:16.481Z"
      },
      {
        "duration": 104,
        "start_time": "2022-08-14T13:50:16.507Z"
      },
      {
        "duration": 14,
        "start_time": "2022-08-14T13:50:16.613Z"
      },
      {
        "duration": 10,
        "start_time": "2022-08-14T13:50:16.629Z"
      },
      {
        "duration": 58,
        "start_time": "2022-08-14T13:50:16.641Z"
      },
      {
        "duration": 8,
        "start_time": "2022-08-14T13:50:16.701Z"
      },
      {
        "duration": 13,
        "start_time": "2022-08-14T13:50:16.711Z"
      },
      {
        "duration": 6,
        "start_time": "2022-08-14T13:50:16.726Z"
      },
      {
        "duration": 102,
        "start_time": "2022-08-14T13:50:16.734Z"
      },
      {
        "duration": 8,
        "start_time": "2022-08-14T13:50:16.838Z"
      },
      {
        "duration": 23,
        "start_time": "2022-08-14T13:50:16.847Z"
      },
      {
        "duration": 27,
        "start_time": "2022-08-14T13:50:16.892Z"
      },
      {
        "duration": 30,
        "start_time": "2022-08-14T13:50:16.921Z"
      },
      {
        "duration": 2,
        "start_time": "2022-08-14T13:50:16.955Z"
      },
      {
        "duration": 37,
        "start_time": "2022-08-14T13:50:16.959Z"
      },
      {
        "duration": 29,
        "start_time": "2022-08-14T13:50:16.998Z"
      },
      {
        "duration": 3,
        "start_time": "2022-08-14T13:50:17.029Z"
      },
      {
        "duration": 11,
        "start_time": "2022-08-14T13:50:17.033Z"
      },
      {
        "duration": 7,
        "start_time": "2022-08-14T13:50:17.046Z"
      },
      {
        "duration": 145,
        "start_time": "2022-08-14T13:50:17.054Z"
      },
      {
        "duration": 20,
        "start_time": "2022-08-14T13:50:17.201Z"
      },
      {
        "duration": 45,
        "start_time": "2022-08-14T13:50:17.223Z"
      },
      {
        "duration": 5,
        "start_time": "2022-08-14T16:18:57.211Z"
      },
      {
        "duration": 206,
        "start_time": "2022-08-14T16:24:54.973Z"
      },
      {
        "duration": 10,
        "start_time": "2022-08-14T16:25:08.180Z"
      },
      {
        "duration": 12,
        "start_time": "2022-08-14T16:25:09.012Z"
      },
      {
        "duration": 4,
        "start_time": "2022-08-14T16:25:28.389Z"
      },
      {
        "duration": 10,
        "start_time": "2022-08-14T16:25:39.464Z"
      },
      {
        "duration": 19,
        "start_time": "2022-08-14T16:25:39.809Z"
      },
      {
        "duration": 21,
        "start_time": "2022-08-14T16:27:47.680Z"
      },
      {
        "duration": 20,
        "start_time": "2022-08-14T16:27:56.659Z"
      },
      {
        "duration": 25,
        "start_time": "2022-08-14T16:28:25.593Z"
      },
      {
        "duration": 33,
        "start_time": "2022-08-14T16:28:41.453Z"
      },
      {
        "duration": 17,
        "start_time": "2022-08-14T16:28:50.705Z"
      },
      {
        "duration": 25,
        "start_time": "2022-08-14T16:29:17.663Z"
      },
      {
        "duration": 15,
        "start_time": "2022-08-14T16:29:18.739Z"
      },
      {
        "duration": 23,
        "start_time": "2022-08-14T16:29:29.003Z"
      },
      {
        "duration": 25,
        "start_time": "2022-08-14T16:29:38.220Z"
      },
      {
        "duration": 25,
        "start_time": "2022-08-14T16:29:44.478Z"
      },
      {
        "duration": 11,
        "start_time": "2022-08-14T16:33:38.898Z"
      },
      {
        "duration": 26,
        "start_time": "2022-08-14T16:33:42.955Z"
      },
      {
        "duration": 4,
        "start_time": "2022-08-14T16:33:43.288Z"
      },
      {
        "duration": 5,
        "start_time": "2022-08-14T16:33:55.773Z"
      },
      {
        "duration": 5,
        "start_time": "2022-08-14T16:34:36.217Z"
      },
      {
        "duration": 16,
        "start_time": "2022-08-14T16:34:46.992Z"
      },
      {
        "duration": 16,
        "start_time": "2022-08-14T16:36:05.047Z"
      },
      {
        "duration": 28,
        "start_time": "2022-08-14T16:36:15.241Z"
      },
      {
        "duration": 22,
        "start_time": "2022-08-14T16:36:21.881Z"
      },
      {
        "duration": 19,
        "start_time": "2022-08-14T16:38:21.197Z"
      },
      {
        "duration": 1635,
        "start_time": "2022-08-14T16:38:40.704Z"
      },
      {
        "duration": 1299,
        "start_time": "2022-08-14T16:39:15.286Z"
      },
      {
        "duration": 14400,
        "start_time": "2022-08-14T16:40:04.203Z"
      },
      {
        "duration": 18,
        "start_time": "2022-08-14T16:40:56.393Z"
      },
      {
        "duration": 21,
        "start_time": "2022-08-14T16:41:06.105Z"
      },
      {
        "duration": 16,
        "start_time": "2022-08-14T16:41:24.401Z"
      },
      {
        "duration": 16,
        "start_time": "2022-08-14T16:43:12.401Z"
      },
      {
        "duration": 914,
        "start_time": "2022-08-14T16:43:18.011Z"
      },
      {
        "duration": 19,
        "start_time": "2022-08-14T16:43:44.067Z"
      },
      {
        "duration": 16,
        "start_time": "2022-08-14T16:43:53.619Z"
      },
      {
        "duration": 29,
        "start_time": "2022-08-14T16:45:31.945Z"
      },
      {
        "duration": 80,
        "start_time": "2022-08-14T16:45:52.330Z"
      },
      {
        "duration": 19,
        "start_time": "2022-08-14T16:46:02.490Z"
      },
      {
        "duration": 17,
        "start_time": "2022-08-14T16:46:08.259Z"
      },
      {
        "duration": 15,
        "start_time": "2022-08-14T16:46:26.457Z"
      },
      {
        "duration": 20,
        "start_time": "2022-08-14T16:46:43.874Z"
      },
      {
        "duration": 16,
        "start_time": "2022-08-14T16:46:44.784Z"
      },
      {
        "duration": 21,
        "start_time": "2022-08-14T16:48:23.339Z"
      },
      {
        "duration": 106,
        "start_time": "2022-08-14T16:48:26.217Z"
      },
      {
        "duration": 9,
        "start_time": "2022-08-14T16:48:42.845Z"
      },
      {
        "duration": 121,
        "start_time": "2022-08-14T16:48:43.391Z"
      },
      {
        "duration": 29,
        "start_time": "2022-08-14T16:48:54.757Z"
      },
      {
        "duration": 12,
        "start_time": "2022-08-14T16:49:42.906Z"
      },
      {
        "duration": 4,
        "start_time": "2022-08-14T16:49:47.892Z"
      },
      {
        "duration": 12,
        "start_time": "2022-08-14T16:50:11.565Z"
      },
      {
        "duration": 10,
        "start_time": "2022-08-14T16:51:01.012Z"
      },
      {
        "duration": 14,
        "start_time": "2022-08-14T16:51:06.272Z"
      },
      {
        "duration": 13,
        "start_time": "2022-08-14T16:51:18.225Z"
      },
      {
        "duration": 5,
        "start_time": "2022-08-14T16:51:21.265Z"
      },
      {
        "duration": 21,
        "start_time": "2022-08-14T16:53:22.444Z"
      },
      {
        "duration": 16,
        "start_time": "2022-08-14T16:53:53.548Z"
      },
      {
        "duration": 13,
        "start_time": "2022-08-14T16:54:04.879Z"
      },
      {
        "duration": 17,
        "start_time": "2022-08-14T16:54:14.361Z"
      },
      {
        "duration": 10,
        "start_time": "2022-08-14T16:54:23.144Z"
      },
      {
        "duration": 19,
        "start_time": "2022-08-14T16:54:37.370Z"
      },
      {
        "duration": 10,
        "start_time": "2022-08-14T16:54:46.422Z"
      },
      {
        "duration": 15,
        "start_time": "2022-08-14T16:54:59.113Z"
      },
      {
        "duration": 13,
        "start_time": "2022-08-14T16:55:06.513Z"
      },
      {
        "duration": 14,
        "start_time": "2022-08-14T16:55:10.165Z"
      },
      {
        "duration": 19,
        "start_time": "2022-08-14T16:55:20.063Z"
      },
      {
        "duration": 13,
        "start_time": "2022-08-14T16:55:26.158Z"
      },
      {
        "duration": 22,
        "start_time": "2022-08-14T16:55:37.954Z"
      },
      {
        "duration": 77,
        "start_time": "2022-08-14T16:55:42.647Z"
      },
      {
        "duration": 11,
        "start_time": "2022-08-14T16:55:47.846Z"
      },
      {
        "duration": 20,
        "start_time": "2022-08-14T16:56:06.744Z"
      },
      {
        "duration": 10,
        "start_time": "2022-08-14T16:56:31.681Z"
      },
      {
        "duration": 6,
        "start_time": "2022-08-14T16:56:33.438Z"
      },
      {
        "duration": 11,
        "start_time": "2022-08-14T16:57:17.270Z"
      },
      {
        "duration": 4,
        "start_time": "2022-08-14T16:57:17.863Z"
      },
      {
        "duration": 5,
        "start_time": "2022-08-14T16:57:31.348Z"
      },
      {
        "duration": 5,
        "start_time": "2022-08-14T16:57:36.571Z"
      },
      {
        "duration": 5,
        "start_time": "2022-08-14T16:57:43.355Z"
      },
      {
        "duration": 5,
        "start_time": "2022-08-14T16:57:48.353Z"
      },
      {
        "duration": 5,
        "start_time": "2022-08-14T16:57:59.166Z"
      },
      {
        "duration": 5,
        "start_time": "2022-08-14T17:02:22.582Z"
      },
      {
        "duration": 11,
        "start_time": "2022-08-14T17:04:20.723Z"
      },
      {
        "duration": 104,
        "start_time": "2022-08-14T17:07:09.371Z"
      },
      {
        "duration": 10,
        "start_time": "2022-08-14T17:07:44.683Z"
      },
      {
        "duration": 5,
        "start_time": "2022-08-14T17:07:45.516Z"
      },
      {
        "duration": 4,
        "start_time": "2022-08-14T17:07:51.659Z"
      },
      {
        "duration": 5,
        "start_time": "2022-08-14T17:07:57.856Z"
      },
      {
        "duration": 5,
        "start_time": "2022-08-14T17:08:05.182Z"
      },
      {
        "duration": 12,
        "start_time": "2022-08-14T17:09:41.191Z"
      },
      {
        "duration": 21,
        "start_time": "2022-08-14T17:10:00.091Z"
      },
      {
        "duration": 29,
        "start_time": "2022-08-14T17:10:14.644Z"
      },
      {
        "duration": 5,
        "start_time": "2022-08-14T17:10:30.608Z"
      },
      {
        "duration": 27,
        "start_time": "2022-08-14T17:11:46.628Z"
      },
      {
        "duration": 29,
        "start_time": "2022-08-14T17:12:06.714Z"
      },
      {
        "duration": 6,
        "start_time": "2022-08-14T17:13:21.854Z"
      },
      {
        "duration": 5,
        "start_time": "2022-08-14T17:13:59.634Z"
      },
      {
        "duration": 5,
        "start_time": "2022-08-14T17:14:28.960Z"
      },
      {
        "duration": 5,
        "start_time": "2022-08-14T17:14:35.255Z"
      },
      {
        "duration": 5,
        "start_time": "2022-08-14T17:14:43.913Z"
      },
      {
        "duration": 6,
        "start_time": "2022-08-14T17:15:36.233Z"
      },
      {
        "duration": 28,
        "start_time": "2022-08-14T17:17:33.138Z"
      },
      {
        "duration": 30,
        "start_time": "2022-08-14T17:17:41.655Z"
      },
      {
        "duration": 27,
        "start_time": "2022-08-14T17:17:54.980Z"
      },
      {
        "duration": 11,
        "start_time": "2022-08-14T17:19:01.568Z"
      },
      {
        "duration": 1322,
        "start_time": "2022-08-14T17:42:11.240Z"
      },
      {
        "duration": 59,
        "start_time": "2022-08-14T17:42:12.564Z"
      },
      {
        "duration": 18,
        "start_time": "2022-08-14T17:42:12.625Z"
      },
      {
        "duration": 49,
        "start_time": "2022-08-14T17:42:12.645Z"
      },
      {
        "duration": 5,
        "start_time": "2022-08-14T17:42:12.697Z"
      },
      {
        "duration": 14,
        "start_time": "2022-08-14T17:42:12.704Z"
      },
      {
        "duration": 9,
        "start_time": "2022-08-14T17:42:12.720Z"
      },
      {
        "duration": 11,
        "start_time": "2022-08-14T17:42:12.731Z"
      },
      {
        "duration": 7,
        "start_time": "2022-08-14T17:42:12.743Z"
      },
      {
        "duration": 39,
        "start_time": "2022-08-14T17:42:12.752Z"
      },
      {
        "duration": 6,
        "start_time": "2022-08-14T17:42:12.793Z"
      },
      {
        "duration": 9,
        "start_time": "2022-08-14T17:42:12.801Z"
      },
      {
        "duration": 26,
        "start_time": "2022-08-14T17:42:12.812Z"
      },
      {
        "duration": 6,
        "start_time": "2022-08-14T17:42:12.841Z"
      },
      {
        "duration": 175,
        "start_time": "2022-08-14T17:42:12.849Z"
      },
      {
        "duration": 6,
        "start_time": "2022-08-14T17:42:13.026Z"
      },
      {
        "duration": 30,
        "start_time": "2022-08-14T17:42:13.033Z"
      },
      {
        "duration": 3,
        "start_time": "2022-08-14T17:42:13.065Z"
      },
      {
        "duration": 182,
        "start_time": "2022-08-14T17:42:13.070Z"
      },
      {
        "duration": 6,
        "start_time": "2022-08-14T17:42:13.254Z"
      },
      {
        "duration": 16,
        "start_time": "2022-08-14T17:42:13.262Z"
      },
      {
        "duration": 5,
        "start_time": "2022-08-14T17:42:13.291Z"
      },
      {
        "duration": 28,
        "start_time": "2022-08-14T17:42:13.299Z"
      },
      {
        "duration": 202,
        "start_time": "2022-08-14T17:42:13.329Z"
      },
      {
        "duration": 26,
        "start_time": "2022-08-14T17:42:13.532Z"
      },
      {
        "duration": 288,
        "start_time": "2022-08-14T17:42:13.559Z"
      },
      {
        "duration": 57,
        "start_time": "2022-08-14T17:42:13.850Z"
      },
      {
        "duration": 113,
        "start_time": "2022-08-14T17:42:13.910Z"
      },
      {
        "duration": 16,
        "start_time": "2022-08-14T17:42:14.024Z"
      },
      {
        "duration": 11,
        "start_time": "2022-08-14T17:42:14.042Z"
      },
      {
        "duration": 46,
        "start_time": "2022-08-14T17:42:14.054Z"
      },
      {
        "duration": 10,
        "start_time": "2022-08-14T17:42:14.101Z"
      },
      {
        "duration": 12,
        "start_time": "2022-08-14T17:42:14.113Z"
      },
      {
        "duration": 7,
        "start_time": "2022-08-14T17:42:14.127Z"
      },
      {
        "duration": 94,
        "start_time": "2022-08-14T17:42:14.136Z"
      },
      {
        "duration": 7,
        "start_time": "2022-08-14T17:42:14.233Z"
      },
      {
        "duration": 51,
        "start_time": "2022-08-14T17:42:14.241Z"
      },
      {
        "duration": 24,
        "start_time": "2022-08-14T17:42:14.294Z"
      },
      {
        "duration": 33,
        "start_time": "2022-08-14T17:42:14.321Z"
      },
      {
        "duration": 3,
        "start_time": "2022-08-14T17:42:14.356Z"
      },
      {
        "duration": 36,
        "start_time": "2022-08-14T17:42:14.364Z"
      },
      {
        "duration": 30,
        "start_time": "2022-08-14T17:42:14.403Z"
      },
      {
        "duration": 3,
        "start_time": "2022-08-14T17:42:14.435Z"
      },
      {
        "duration": 14,
        "start_time": "2022-08-14T17:42:14.440Z"
      },
      {
        "duration": 7,
        "start_time": "2022-08-14T17:42:14.456Z"
      },
      {
        "duration": 121,
        "start_time": "2022-08-14T17:42:14.491Z"
      },
      {
        "duration": 21,
        "start_time": "2022-08-14T17:42:14.614Z"
      },
      {
        "duration": 11,
        "start_time": "2022-08-14T17:42:14.638Z"
      },
      {
        "duration": 12,
        "start_time": "2022-08-14T17:42:14.651Z"
      },
      {
        "duration": 31,
        "start_time": "2022-08-14T17:42:14.665Z"
      },
      {
        "duration": 13,
        "start_time": "2022-08-14T17:42:14.698Z"
      },
      {
        "duration": 7,
        "start_time": "2022-08-14T17:42:14.712Z"
      },
      {
        "duration": 1319,
        "start_time": "2022-08-14T17:49:33.368Z"
      },
      {
        "duration": 57,
        "start_time": "2022-08-14T17:49:34.690Z"
      },
      {
        "duration": 15,
        "start_time": "2022-08-14T17:49:34.748Z"
      },
      {
        "duration": 31,
        "start_time": "2022-08-14T17:49:34.766Z"
      },
      {
        "duration": 6,
        "start_time": "2022-08-14T17:49:34.798Z"
      },
      {
        "duration": 14,
        "start_time": "2022-08-14T17:49:34.806Z"
      },
      {
        "duration": 7,
        "start_time": "2022-08-14T17:49:34.822Z"
      },
      {
        "duration": 10,
        "start_time": "2022-08-14T17:49:34.831Z"
      },
      {
        "duration": 6,
        "start_time": "2022-08-14T17:49:34.842Z"
      },
      {
        "duration": 41,
        "start_time": "2022-08-14T17:49:34.851Z"
      },
      {
        "duration": 5,
        "start_time": "2022-08-14T17:49:34.894Z"
      },
      {
        "duration": 10,
        "start_time": "2022-08-14T17:49:34.901Z"
      },
      {
        "duration": 22,
        "start_time": "2022-08-14T17:49:34.913Z"
      },
      {
        "duration": 5,
        "start_time": "2022-08-14T17:49:34.936Z"
      },
      {
        "duration": 190,
        "start_time": "2022-08-14T17:49:34.943Z"
      },
      {
        "duration": 6,
        "start_time": "2022-08-14T17:49:35.135Z"
      },
      {
        "duration": 36,
        "start_time": "2022-08-14T17:49:35.142Z"
      },
      {
        "duration": 3,
        "start_time": "2022-08-14T17:49:35.191Z"
      },
      {
        "duration": 158,
        "start_time": "2022-08-14T17:49:35.196Z"
      },
      {
        "duration": 5,
        "start_time": "2022-08-14T17:49:35.356Z"
      },
      {
        "duration": 28,
        "start_time": "2022-08-14T17:49:35.363Z"
      },
      {
        "duration": 5,
        "start_time": "2022-08-14T17:49:35.393Z"
      },
      {
        "duration": 20,
        "start_time": "2022-08-14T17:49:35.400Z"
      },
      {
        "duration": 208,
        "start_time": "2022-08-14T17:49:35.421Z"
      },
      {
        "duration": 26,
        "start_time": "2022-08-14T17:49:35.631Z"
      },
      {
        "duration": 266,
        "start_time": "2022-08-14T17:49:35.659Z"
      },
      {
        "duration": 69,
        "start_time": "2022-08-14T17:49:35.928Z"
      },
      {
        "duration": 100,
        "start_time": "2022-08-14T17:49:36.001Z"
      },
      {
        "duration": 13,
        "start_time": "2022-08-14T17:49:36.103Z"
      },
      {
        "duration": 10,
        "start_time": "2022-08-14T17:49:36.117Z"
      },
      {
        "duration": 75,
        "start_time": "2022-08-14T17:49:36.129Z"
      },
      {
        "duration": 8,
        "start_time": "2022-08-14T17:49:36.205Z"
      },
      {
        "duration": 29,
        "start_time": "2022-08-14T17:49:36.214Z"
      },
      {
        "duration": 10,
        "start_time": "2022-08-14T17:49:36.245Z"
      },
      {
        "duration": 91,
        "start_time": "2022-08-14T17:49:36.257Z"
      },
      {
        "duration": 6,
        "start_time": "2022-08-14T17:49:36.349Z"
      },
      {
        "duration": 43,
        "start_time": "2022-08-14T17:49:36.357Z"
      },
      {
        "duration": 21,
        "start_time": "2022-08-14T17:49:36.401Z"
      },
      {
        "duration": 34,
        "start_time": "2022-08-14T17:49:36.425Z"
      },
      {
        "duration": 31,
        "start_time": "2022-08-14T17:49:36.461Z"
      },
      {
        "duration": 18,
        "start_time": "2022-08-14T17:49:36.494Z"
      },
      {
        "duration": 29,
        "start_time": "2022-08-14T17:49:36.513Z"
      },
      {
        "duration": 2,
        "start_time": "2022-08-14T17:49:36.544Z"
      },
      {
        "duration": 13,
        "start_time": "2022-08-14T17:49:36.547Z"
      },
      {
        "duration": 35,
        "start_time": "2022-08-14T17:49:36.561Z"
      },
      {
        "duration": 114,
        "start_time": "2022-08-14T17:49:36.598Z"
      },
      {
        "duration": 20,
        "start_time": "2022-08-14T17:49:36.714Z"
      },
      {
        "duration": 9,
        "start_time": "2022-08-14T17:49:36.735Z"
      },
      {
        "duration": 10,
        "start_time": "2022-08-14T17:49:36.746Z"
      },
      {
        "duration": 36,
        "start_time": "2022-08-14T17:49:36.758Z"
      },
      {
        "duration": 13,
        "start_time": "2022-08-14T17:49:36.796Z"
      },
      {
        "duration": 13,
        "start_time": "2022-08-14T17:49:36.811Z"
      },
      {
        "duration": 1309,
        "start_time": "2022-08-14T17:55:04.330Z"
      },
      {
        "duration": 62,
        "start_time": "2022-08-14T17:55:05.641Z"
      },
      {
        "duration": 16,
        "start_time": "2022-08-14T17:55:05.705Z"
      },
      {
        "duration": 36,
        "start_time": "2022-08-14T17:55:05.722Z"
      },
      {
        "duration": 5,
        "start_time": "2022-08-14T17:55:05.760Z"
      },
      {
        "duration": 11,
        "start_time": "2022-08-14T17:55:05.792Z"
      },
      {
        "duration": 9,
        "start_time": "2022-08-14T17:55:05.804Z"
      },
      {
        "duration": 12,
        "start_time": "2022-08-14T17:55:05.815Z"
      },
      {
        "duration": 7,
        "start_time": "2022-08-14T17:55:05.829Z"
      },
      {
        "duration": 54,
        "start_time": "2022-08-14T17:55:05.838Z"
      },
      {
        "duration": 6,
        "start_time": "2022-08-14T17:55:05.894Z"
      },
      {
        "duration": 13,
        "start_time": "2022-08-14T17:55:05.902Z"
      },
      {
        "duration": 23,
        "start_time": "2022-08-14T17:55:05.917Z"
      },
      {
        "duration": 5,
        "start_time": "2022-08-14T17:55:05.944Z"
      },
      {
        "duration": 202,
        "start_time": "2022-08-14T17:55:05.951Z"
      },
      {
        "duration": 6,
        "start_time": "2022-08-14T17:55:06.157Z"
      },
      {
        "duration": 51,
        "start_time": "2022-08-14T17:55:06.164Z"
      },
      {
        "duration": 3,
        "start_time": "2022-08-14T17:55:06.217Z"
      },
      {
        "duration": 173,
        "start_time": "2022-08-14T17:55:06.221Z"
      },
      {
        "duration": 7,
        "start_time": "2022-08-14T17:55:06.396Z"
      },
      {
        "duration": 17,
        "start_time": "2022-08-14T17:55:06.406Z"
      },
      {
        "duration": 6,
        "start_time": "2022-08-14T17:55:06.425Z"
      },
      {
        "duration": 23,
        "start_time": "2022-08-14T17:55:06.434Z"
      },
      {
        "duration": 201,
        "start_time": "2022-08-14T17:55:06.491Z"
      },
      {
        "duration": 24,
        "start_time": "2022-08-14T17:55:06.693Z"
      },
      {
        "duration": 285,
        "start_time": "2022-08-14T17:55:06.719Z"
      },
      {
        "duration": 24,
        "start_time": "2022-08-14T17:55:07.006Z"
      },
      {
        "duration": 96,
        "start_time": "2022-08-14T17:55:07.032Z"
      },
      {
        "duration": 70,
        "start_time": "2022-08-14T17:55:07.130Z"
      },
      {
        "duration": 14,
        "start_time": "2022-08-14T17:55:07.201Z"
      },
      {
        "duration": 85,
        "start_time": "2022-08-14T17:55:07.217Z"
      },
      {
        "duration": 11,
        "start_time": "2022-08-14T17:55:07.304Z"
      },
      {
        "duration": 30,
        "start_time": "2022-08-14T17:55:07.317Z"
      },
      {
        "duration": 47,
        "start_time": "2022-08-14T17:55:07.349Z"
      },
      {
        "duration": 64,
        "start_time": "2022-08-14T17:55:07.398Z"
      },
      {
        "duration": 33,
        "start_time": "2022-08-14T17:55:07.464Z"
      },
      {
        "duration": 18,
        "start_time": "2022-08-14T17:55:07.499Z"
      },
      {
        "duration": 22,
        "start_time": "2022-08-14T17:55:07.519Z"
      },
      {
        "duration": 73,
        "start_time": "2022-08-14T17:55:07.543Z"
      },
      {
        "duration": 2,
        "start_time": "2022-08-14T17:55:07.618Z"
      },
      {
        "duration": 11,
        "start_time": "2022-08-14T17:55:07.624Z"
      },
      {
        "duration": 61,
        "start_time": "2022-08-14T17:55:07.636Z"
      },
      {
        "duration": 2,
        "start_time": "2022-08-14T17:55:07.699Z"
      },
      {
        "duration": 12,
        "start_time": "2022-08-14T17:55:07.703Z"
      },
      {
        "duration": 11,
        "start_time": "2022-08-14T17:55:07.717Z"
      },
      {
        "duration": 135,
        "start_time": "2022-08-14T17:55:07.730Z"
      },
      {
        "duration": 32,
        "start_time": "2022-08-14T17:55:07.867Z"
      },
      {
        "duration": 12,
        "start_time": "2022-08-14T17:55:07.901Z"
      },
      {
        "duration": 12,
        "start_time": "2022-08-14T17:55:07.916Z"
      },
      {
        "duration": 8,
        "start_time": "2022-08-14T17:55:07.930Z"
      },
      {
        "duration": 11,
        "start_time": "2022-08-14T17:55:07.940Z"
      },
      {
        "duration": 5,
        "start_time": "2022-08-14T17:55:07.992Z"
      },
      {
        "duration": 1307,
        "start_time": "2022-08-14T18:19:16.041Z"
      },
      {
        "duration": 56,
        "start_time": "2022-08-14T18:19:17.350Z"
      },
      {
        "duration": 16,
        "start_time": "2022-08-14T18:19:17.408Z"
      },
      {
        "duration": 31,
        "start_time": "2022-08-14T18:19:17.426Z"
      },
      {
        "duration": 6,
        "start_time": "2022-08-14T18:19:17.459Z"
      },
      {
        "duration": 34,
        "start_time": "2022-08-14T18:19:17.466Z"
      },
      {
        "duration": 9,
        "start_time": "2022-08-14T18:19:17.502Z"
      },
      {
        "duration": 10,
        "start_time": "2022-08-14T18:19:17.512Z"
      },
      {
        "duration": 7,
        "start_time": "2022-08-14T18:19:17.524Z"
      },
      {
        "duration": 4,
        "start_time": "2022-08-14T18:19:17.533Z"
      },
      {
        "duration": 53,
        "start_time": "2022-08-14T18:19:17.539Z"
      },
      {
        "duration": 6,
        "start_time": "2022-08-14T18:19:17.593Z"
      },
      {
        "duration": 29,
        "start_time": "2022-08-14T18:19:17.601Z"
      },
      {
        "duration": 5,
        "start_time": "2022-08-14T18:19:17.633Z"
      },
      {
        "duration": 183,
        "start_time": "2022-08-14T18:19:17.639Z"
      },
      {
        "duration": 5,
        "start_time": "2022-08-14T18:19:17.824Z"
      },
      {
        "duration": 39,
        "start_time": "2022-08-14T18:19:17.831Z"
      },
      {
        "duration": 19,
        "start_time": "2022-08-14T18:19:17.872Z"
      },
      {
        "duration": 180,
        "start_time": "2022-08-14T18:19:17.894Z"
      },
      {
        "duration": 6,
        "start_time": "2022-08-14T18:19:18.076Z"
      },
      {
        "duration": 16,
        "start_time": "2022-08-14T18:19:18.092Z"
      },
      {
        "duration": 5,
        "start_time": "2022-08-14T18:19:18.110Z"
      },
      {
        "duration": 21,
        "start_time": "2022-08-14T18:19:18.116Z"
      },
      {
        "duration": 228,
        "start_time": "2022-08-14T18:19:18.139Z"
      },
      {
        "duration": 34,
        "start_time": "2022-08-14T18:19:18.369Z"
      },
      {
        "duration": 272,
        "start_time": "2022-08-14T18:19:18.405Z"
      },
      {
        "duration": 34,
        "start_time": "2022-08-14T18:19:18.679Z"
      },
      {
        "duration": 96,
        "start_time": "2022-08-14T18:19:18.715Z"
      },
      {
        "duration": 13,
        "start_time": "2022-08-14T18:19:18.812Z"
      },
      {
        "duration": 66,
        "start_time": "2022-08-14T18:19:18.826Z"
      },
      {
        "duration": 20,
        "start_time": "2022-08-14T18:19:18.893Z"
      },
      {
        "duration": 7,
        "start_time": "2022-08-14T18:19:18.915Z"
      },
      {
        "duration": 70,
        "start_time": "2022-08-14T18:19:18.924Z"
      },
      {
        "duration": 5,
        "start_time": "2022-08-14T18:19:18.995Z"
      },
      {
        "duration": 63,
        "start_time": "2022-08-14T18:19:19.002Z"
      },
      {
        "duration": 6,
        "start_time": "2022-08-14T18:19:19.093Z"
      },
      {
        "duration": 18,
        "start_time": "2022-08-14T18:19:19.101Z"
      },
      {
        "duration": 23,
        "start_time": "2022-08-14T18:19:19.121Z"
      },
      {
        "duration": 70,
        "start_time": "2022-08-14T18:19:19.146Z"
      },
      {
        "duration": 3,
        "start_time": "2022-08-14T18:19:19.218Z"
      },
      {
        "duration": 10,
        "start_time": "2022-08-14T18:19:19.225Z"
      },
      {
        "duration": 55,
        "start_time": "2022-08-14T18:19:19.237Z"
      },
      {
        "duration": 3,
        "start_time": "2022-08-14T18:19:19.294Z"
      },
      {
        "duration": 10,
        "start_time": "2022-08-14T18:19:19.299Z"
      },
      {
        "duration": 9,
        "start_time": "2022-08-14T18:19:19.311Z"
      },
      {
        "duration": 141,
        "start_time": "2022-08-14T18:19:19.322Z"
      },
      {
        "duration": 28,
        "start_time": "2022-08-14T18:19:19.465Z"
      },
      {
        "duration": 11,
        "start_time": "2022-08-14T18:19:19.494Z"
      },
      {
        "duration": 22,
        "start_time": "2022-08-14T18:19:19.506Z"
      },
      {
        "duration": 13,
        "start_time": "2022-08-14T18:19:19.530Z"
      },
      {
        "duration": 41,
        "start_time": "2022-08-14T18:19:19.544Z"
      },
      {
        "duration": 18,
        "start_time": "2022-08-14T18:19:19.587Z"
      },
      {
        "duration": 1308,
        "start_time": "2022-08-14T19:15:58.138Z"
      },
      {
        "duration": 59,
        "start_time": "2022-08-14T19:15:59.448Z"
      },
      {
        "duration": 27,
        "start_time": "2022-08-14T19:15:59.509Z"
      },
      {
        "duration": 32,
        "start_time": "2022-08-14T19:15:59.541Z"
      },
      {
        "duration": 4,
        "start_time": "2022-08-14T19:15:59.575Z"
      },
      {
        "duration": 11,
        "start_time": "2022-08-14T19:15:59.580Z"
      },
      {
        "duration": 8,
        "start_time": "2022-08-14T19:15:59.592Z"
      },
      {
        "duration": 23,
        "start_time": "2022-08-14T19:15:59.602Z"
      },
      {
        "duration": 20,
        "start_time": "2022-08-14T19:15:59.627Z"
      },
      {
        "duration": 3,
        "start_time": "2022-08-14T19:15:59.648Z"
      },
      {
        "duration": 5,
        "start_time": "2022-08-14T19:15:59.653Z"
      },
      {
        "duration": 6,
        "start_time": "2022-08-14T19:15:59.659Z"
      },
      {
        "duration": 19,
        "start_time": "2022-08-14T19:15:59.666Z"
      },
      {
        "duration": 4,
        "start_time": "2022-08-14T19:15:59.688Z"
      },
      {
        "duration": 194,
        "start_time": "2022-08-14T19:15:59.693Z"
      },
      {
        "duration": 5,
        "start_time": "2022-08-14T19:15:59.888Z"
      },
      {
        "duration": 43,
        "start_time": "2022-08-14T19:15:59.894Z"
      },
      {
        "duration": 3,
        "start_time": "2022-08-14T19:15:59.939Z"
      },
      {
        "duration": 155,
        "start_time": "2022-08-14T19:15:59.944Z"
      },
      {
        "duration": 5,
        "start_time": "2022-08-14T19:16:00.101Z"
      },
      {
        "duration": 44,
        "start_time": "2022-08-14T19:16:00.107Z"
      },
      {
        "duration": 4,
        "start_time": "2022-08-14T19:16:00.153Z"
      },
      {
        "duration": 19,
        "start_time": "2022-08-14T19:16:00.159Z"
      },
      {
        "duration": 194,
        "start_time": "2022-08-14T19:16:00.180Z"
      },
      {
        "duration": 21,
        "start_time": "2022-08-14T19:16:00.376Z"
      },
      {
        "duration": 259,
        "start_time": "2022-08-14T19:16:00.398Z"
      },
      {
        "duration": 51,
        "start_time": "2022-08-14T19:16:00.659Z"
      },
      {
        "duration": 99,
        "start_time": "2022-08-14T19:16:00.719Z"
      },
      {
        "duration": 30,
        "start_time": "2022-08-14T19:16:00.820Z"
      },
      {
        "duration": 16,
        "start_time": "2022-08-14T19:16:00.851Z"
      },
      {
        "duration": 69,
        "start_time": "2022-08-14T19:16:00.868Z"
      },
      {
        "duration": 12,
        "start_time": "2022-08-14T19:16:00.939Z"
      },
      {
        "duration": 21,
        "start_time": "2022-08-14T19:16:00.953Z"
      },
      {
        "duration": 5,
        "start_time": "2022-08-14T19:16:00.976Z"
      },
      {
        "duration": 90,
        "start_time": "2022-08-14T19:16:00.983Z"
      },
      {
        "duration": 7,
        "start_time": "2022-08-14T19:16:01.075Z"
      },
      {
        "duration": 45,
        "start_time": "2022-08-14T19:16:01.084Z"
      },
      {
        "duration": 37,
        "start_time": "2022-08-14T19:16:01.131Z"
      },
      {
        "duration": 36,
        "start_time": "2022-08-14T19:16:01.170Z"
      },
      {
        "duration": 2,
        "start_time": "2022-08-14T19:16:01.208Z"
      },
      {
        "duration": 45,
        "start_time": "2022-08-14T19:16:01.214Z"
      },
      {
        "duration": 35,
        "start_time": "2022-08-14T19:16:01.261Z"
      },
      {
        "duration": 3,
        "start_time": "2022-08-14T19:16:01.298Z"
      },
      {
        "duration": 37,
        "start_time": "2022-08-14T19:16:01.303Z"
      },
      {
        "duration": 17,
        "start_time": "2022-08-14T19:16:01.343Z"
      },
      {
        "duration": 129,
        "start_time": "2022-08-14T19:16:01.362Z"
      },
      {
        "duration": 35,
        "start_time": "2022-08-14T19:16:01.493Z"
      },
      {
        "duration": 22,
        "start_time": "2022-08-14T19:16:01.532Z"
      },
      {
        "duration": 10,
        "start_time": "2022-08-14T19:16:01.556Z"
      },
      {
        "duration": 9,
        "start_time": "2022-08-14T19:16:01.567Z"
      },
      {
        "duration": 15,
        "start_time": "2022-08-14T19:16:01.577Z"
      },
      {
        "duration": 4,
        "start_time": "2022-08-14T19:16:01.594Z"
      },
      {
        "duration": 78,
        "start_time": "2022-08-14T20:38:57.426Z"
      },
      {
        "duration": 49,
        "start_time": "2022-08-14T20:39:09.977Z"
      },
      {
        "duration": 22,
        "start_time": "2022-08-14T20:39:19.538Z"
      },
      {
        "duration": 1168,
        "start_time": "2022-08-14T21:16:36.566Z"
      },
      {
        "duration": 52,
        "start_time": "2022-08-14T21:16:37.736Z"
      },
      {
        "duration": 13,
        "start_time": "2022-08-14T21:16:37.789Z"
      },
      {
        "duration": 29,
        "start_time": "2022-08-14T21:16:37.804Z"
      },
      {
        "duration": 4,
        "start_time": "2022-08-14T21:16:37.835Z"
      },
      {
        "duration": 9,
        "start_time": "2022-08-14T21:16:37.841Z"
      },
      {
        "duration": 48,
        "start_time": "2022-08-14T21:16:37.852Z"
      },
      {
        "duration": 12,
        "start_time": "2022-08-14T21:16:37.911Z"
      },
      {
        "duration": 10,
        "start_time": "2022-08-14T21:16:37.924Z"
      },
      {
        "duration": 6,
        "start_time": "2022-08-14T21:16:37.936Z"
      },
      {
        "duration": 3,
        "start_time": "2022-08-14T21:16:37.943Z"
      },
      {
        "duration": 6,
        "start_time": "2022-08-14T21:16:37.947Z"
      },
      {
        "duration": 6,
        "start_time": "2022-08-14T21:16:37.954Z"
      },
      {
        "duration": 21,
        "start_time": "2022-08-14T21:16:37.961Z"
      },
      {
        "duration": 37,
        "start_time": "2022-08-14T21:16:37.984Z"
      },
      {
        "duration": 151,
        "start_time": "2022-08-14T21:16:38.023Z"
      },
      {
        "duration": 5,
        "start_time": "2022-08-14T21:16:38.176Z"
      },
      {
        "duration": 30,
        "start_time": "2022-08-14T21:16:38.182Z"
      },
      {
        "duration": 3,
        "start_time": "2022-08-14T21:16:38.213Z"
      },
      {
        "duration": 158,
        "start_time": "2022-08-14T21:16:38.218Z"
      },
      {
        "duration": 5,
        "start_time": "2022-08-14T21:16:38.377Z"
      },
      {
        "duration": 15,
        "start_time": "2022-08-14T21:16:38.383Z"
      },
      {
        "duration": 4,
        "start_time": "2022-08-14T21:16:38.399Z"
      },
      {
        "duration": 16,
        "start_time": "2022-08-14T21:16:38.423Z"
      },
      {
        "duration": 186,
        "start_time": "2022-08-14T21:16:38.441Z"
      },
      {
        "duration": 21,
        "start_time": "2022-08-14T21:16:38.628Z"
      },
      {
        "duration": 232,
        "start_time": "2022-08-14T21:16:38.650Z"
      },
      {
        "duration": 41,
        "start_time": "2022-08-14T21:16:38.886Z"
      },
      {
        "duration": 96,
        "start_time": "2022-08-14T21:16:38.929Z"
      },
      {
        "duration": 12,
        "start_time": "2022-08-14T21:16:39.029Z"
      },
      {
        "duration": 8,
        "start_time": "2022-08-14T21:16:39.043Z"
      },
      {
        "duration": 16,
        "start_time": "2022-08-14T21:16:39.052Z"
      },
      {
        "duration": 52,
        "start_time": "2022-08-14T21:16:39.070Z"
      },
      {
        "duration": 13,
        "start_time": "2022-08-14T21:16:39.125Z"
      },
      {
        "duration": 5,
        "start_time": "2022-08-14T21:16:39.139Z"
      },
      {
        "duration": 49,
        "start_time": "2022-08-14T21:16:39.145Z"
      },
      {
        "duration": 28,
        "start_time": "2022-08-14T21:16:39.196Z"
      },
      {
        "duration": 14,
        "start_time": "2022-08-14T21:16:39.226Z"
      },
      {
        "duration": 19,
        "start_time": "2022-08-14T21:16:39.241Z"
      },
      {
        "duration": 24,
        "start_time": "2022-08-14T21:16:39.261Z"
      },
      {
        "duration": 2,
        "start_time": "2022-08-14T21:16:39.286Z"
      },
      {
        "duration": 71,
        "start_time": "2022-08-14T21:16:39.311Z"
      },
      {
        "duration": 37,
        "start_time": "2022-08-14T21:16:39.384Z"
      },
      {
        "duration": 2,
        "start_time": "2022-08-14T21:16:39.423Z"
      },
      {
        "duration": 12,
        "start_time": "2022-08-14T21:16:39.426Z"
      },
      {
        "duration": 11,
        "start_time": "2022-08-14T21:16:39.439Z"
      },
      {
        "duration": 113,
        "start_time": "2022-08-14T21:16:39.451Z"
      },
      {
        "duration": 17,
        "start_time": "2022-08-14T21:16:39.566Z"
      },
      {
        "duration": 9,
        "start_time": "2022-08-14T21:16:39.584Z"
      },
      {
        "duration": 29,
        "start_time": "2022-08-14T21:16:39.594Z"
      },
      {
        "duration": 8,
        "start_time": "2022-08-14T21:16:39.626Z"
      },
      {
        "duration": 10,
        "start_time": "2022-08-14T21:16:39.635Z"
      },
      {
        "duration": 4,
        "start_time": "2022-08-14T21:16:39.646Z"
      },
      {
        "duration": 1526,
        "start_time": "2022-08-15T08:34:29.997Z"
      },
      {
        "duration": 201,
        "start_time": "2022-08-15T08:34:31.528Z"
      },
      {
        "duration": 17,
        "start_time": "2022-08-15T08:34:31.730Z"
      },
      {
        "duration": 32,
        "start_time": "2022-08-15T08:34:31.872Z"
      },
      {
        "duration": 5,
        "start_time": "2022-08-15T08:34:36.343Z"
      },
      {
        "duration": 9,
        "start_time": "2022-08-15T08:34:38.823Z"
      },
      {
        "duration": 64,
        "start_time": "2022-08-15T08:34:41.438Z"
      },
      {
        "duration": 8,
        "start_time": "2022-08-15T08:34:55.022Z"
      },
      {
        "duration": 15,
        "start_time": "2022-08-15T08:34:55.485Z"
      },
      {
        "duration": 8,
        "start_time": "2022-08-15T08:34:59.640Z"
      },
      {
        "duration": 4,
        "start_time": "2022-08-15T08:35:04.621Z"
      },
      {
        "duration": 5,
        "start_time": "2022-08-15T08:35:09.934Z"
      },
      {
        "duration": 5,
        "start_time": "2022-08-15T08:35:11.247Z"
      },
      {
        "duration": 5,
        "start_time": "2022-08-15T08:35:50.782Z"
      },
      {
        "duration": 10,
        "start_time": "2022-08-15T08:36:52.168Z"
      },
      {
        "duration": 24,
        "start_time": "2022-08-15T08:37:22.439Z"
      },
      {
        "duration": 24,
        "start_time": "2022-08-15T08:40:52.414Z"
      },
      {
        "duration": 7,
        "start_time": "2022-08-15T08:42:23.348Z"
      },
      {
        "duration": 5,
        "start_time": "2022-08-15T08:42:47.786Z"
      },
      {
        "duration": 22,
        "start_time": "2022-08-15T08:43:22.971Z"
      },
      {
        "duration": 7,
        "start_time": "2022-08-15T08:43:54.812Z"
      },
      {
        "duration": 22,
        "start_time": "2022-08-15T08:44:05.453Z"
      },
      {
        "duration": 5,
        "start_time": "2022-08-15T08:44:14.693Z"
      },
      {
        "duration": 108,
        "start_time": "2022-08-15T08:44:15.384Z"
      },
      {
        "duration": 1124,
        "start_time": "2022-08-15T08:44:27.346Z"
      },
      {
        "duration": 56,
        "start_time": "2022-08-15T08:44:39.422Z"
      },
      {
        "duration": 15,
        "start_time": "2022-08-15T08:44:39.762Z"
      },
      {
        "duration": 26,
        "start_time": "2022-08-15T08:44:39.924Z"
      },
      {
        "duration": 6,
        "start_time": "2022-08-15T08:44:40.577Z"
      },
      {
        "duration": 9,
        "start_time": "2022-08-15T08:44:41.121Z"
      },
      {
        "duration": 22,
        "start_time": "2022-08-15T08:44:41.482Z"
      },
      {
        "duration": 8,
        "start_time": "2022-08-15T08:44:42.363Z"
      },
      {
        "duration": 9,
        "start_time": "2022-08-15T08:44:42.521Z"
      },
      {
        "duration": 7,
        "start_time": "2022-08-15T08:44:44.952Z"
      },
      {
        "duration": 4,
        "start_time": "2022-08-15T08:44:45.617Z"
      },
      {
        "duration": 5,
        "start_time": "2022-08-15T08:44:46.200Z"
      },
      {
        "duration": 4,
        "start_time": "2022-08-15T08:44:47.715Z"
      },
      {
        "duration": 13,
        "start_time": "2022-08-15T08:44:48.673Z"
      },
      {
        "duration": 6,
        "start_time": "2022-08-15T08:45:03.526Z"
      },
      {
        "duration": 5,
        "start_time": "2022-08-15T08:45:08.254Z"
      },
      {
        "duration": 5,
        "start_time": "2022-08-15T08:45:43.007Z"
      },
      {
        "duration": 6,
        "start_time": "2022-08-15T08:45:43.289Z"
      },
      {
        "duration": 6,
        "start_time": "2022-08-15T08:45:50.674Z"
      },
      {
        "duration": 31,
        "start_time": "2022-08-15T08:45:53.516Z"
      },
      {
        "duration": 5,
        "start_time": "2022-08-15T09:25:33.969Z"
      },
      {
        "duration": 5,
        "start_time": "2022-08-15T09:25:36.232Z"
      },
      {
        "duration": 29,
        "start_time": "2022-08-15T09:25:38.554Z"
      },
      {
        "duration": 19,
        "start_time": "2022-08-15T12:13:54.480Z"
      },
      {
        "duration": 16,
        "start_time": "2022-08-15T12:16:36.942Z"
      },
      {
        "duration": 6,
        "start_time": "2022-08-15T12:16:42.255Z"
      },
      {
        "duration": 12,
        "start_time": "2022-08-15T12:18:12.134Z"
      },
      {
        "duration": 7,
        "start_time": "2022-08-15T12:18:15.620Z"
      },
      {
        "duration": 7,
        "start_time": "2022-08-15T12:20:52.702Z"
      },
      {
        "duration": 12,
        "start_time": "2022-08-15T12:21:04.619Z"
      },
      {
        "duration": 4,
        "start_time": "2022-08-15T12:23:38.791Z"
      },
      {
        "duration": 54,
        "start_time": "2022-08-15T12:23:39.285Z"
      },
      {
        "duration": 15,
        "start_time": "2022-08-15T12:23:39.853Z"
      },
      {
        "duration": 27,
        "start_time": "2022-08-15T12:23:40.032Z"
      },
      {
        "duration": 6,
        "start_time": "2022-08-15T12:23:40.869Z"
      },
      {
        "duration": 11,
        "start_time": "2022-08-15T12:23:41.389Z"
      },
      {
        "duration": 18,
        "start_time": "2022-08-15T12:23:41.765Z"
      },
      {
        "duration": 8,
        "start_time": "2022-08-15T12:23:42.165Z"
      },
      {
        "duration": 9,
        "start_time": "2022-08-15T12:23:42.366Z"
      },
      {
        "duration": 7,
        "start_time": "2022-08-15T12:23:42.974Z"
      },
      {
        "duration": 4,
        "start_time": "2022-08-15T12:23:43.531Z"
      },
      {
        "duration": 6,
        "start_time": "2022-08-15T12:23:44.165Z"
      },
      {
        "duration": 5,
        "start_time": "2022-08-15T12:23:48.397Z"
      },
      {
        "duration": 5,
        "start_time": "2022-08-15T12:23:50.014Z"
      },
      {
        "duration": 19,
        "start_time": "2022-08-15T12:23:50.389Z"
      },
      {
        "duration": 7,
        "start_time": "2022-08-15T12:23:51.950Z"
      },
      {
        "duration": 5,
        "start_time": "2022-08-15T12:23:54.941Z"
      },
      {
        "duration": 17,
        "start_time": "2022-08-15T12:24:11.638Z"
      },
      {
        "duration": 194,
        "start_time": "2022-08-15T12:24:13.853Z"
      },
      {
        "duration": 29,
        "start_time": "2022-08-15T12:24:24.143Z"
      },
      {
        "duration": 291,
        "start_time": "2022-08-15T12:24:24.840Z"
      },
      {
        "duration": 71,
        "start_time": "2022-08-15T12:27:10.753Z"
      },
      {
        "duration": 35,
        "start_time": "2022-08-15T12:27:45.690Z"
      },
      {
        "duration": 19,
        "start_time": "2022-08-15T12:28:11.226Z"
      },
      {
        "duration": 33,
        "start_time": "2022-08-15T12:29:43.661Z"
      },
      {
        "duration": 60,
        "start_time": "2022-08-15T12:29:43.926Z"
      },
      {
        "duration": 9,
        "start_time": "2022-08-15T12:33:14.482Z"
      },
      {
        "duration": 27,
        "start_time": "2022-08-15T12:33:23.406Z"
      },
      {
        "duration": 15,
        "start_time": "2022-08-15T12:33:50.582Z"
      },
      {
        "duration": 5,
        "start_time": "2022-08-15T12:34:05.724Z"
      },
      {
        "duration": 57,
        "start_time": "2022-08-15T12:34:05.876Z"
      },
      {
        "duration": 16,
        "start_time": "2022-08-15T12:34:06.210Z"
      },
      {
        "duration": 27,
        "start_time": "2022-08-15T12:34:06.381Z"
      },
      {
        "duration": 5,
        "start_time": "2022-08-15T12:34:07.053Z"
      },
      {
        "duration": 10,
        "start_time": "2022-08-15T12:34:07.555Z"
      },
      {
        "duration": 19,
        "start_time": "2022-08-15T12:34:07.907Z"
      },
      {
        "duration": 9,
        "start_time": "2022-08-15T12:34:08.274Z"
      },
      {
        "duration": 10,
        "start_time": "2022-08-15T12:34:08.446Z"
      },
      {
        "duration": 6,
        "start_time": "2022-08-15T12:34:09.133Z"
      },
      {
        "duration": 4,
        "start_time": "2022-08-15T12:34:09.716Z"
      },
      {
        "duration": 5,
        "start_time": "2022-08-15T12:34:10.796Z"
      },
      {
        "duration": 4,
        "start_time": "2022-08-15T12:34:11.971Z"
      },
      {
        "duration": 7,
        "start_time": "2022-08-15T12:34:12.998Z"
      },
      {
        "duration": 20,
        "start_time": "2022-08-15T12:34:13.341Z"
      },
      {
        "duration": 8,
        "start_time": "2022-08-15T12:34:14.205Z"
      },
      {
        "duration": 6,
        "start_time": "2022-08-15T12:34:14.573Z"
      },
      {
        "duration": 20,
        "start_time": "2022-08-15T12:34:16.034Z"
      },
      {
        "duration": 201,
        "start_time": "2022-08-15T12:34:18.556Z"
      },
      {
        "duration": 18,
        "start_time": "2022-08-15T12:34:24.709Z"
      },
      {
        "duration": 14,
        "start_time": "2022-08-15T12:34:28.385Z"
      },
      {
        "duration": 13,
        "start_time": "2022-08-15T12:36:11.102Z"
      },
      {
        "duration": 7,
        "start_time": "2022-08-15T12:36:21.536Z"
      },
      {
        "duration": 11,
        "start_time": "2022-08-15T12:36:32.050Z"
      },
      {
        "duration": 133,
        "start_time": "2022-08-15T12:36:47.199Z"
      },
      {
        "duration": 85,
        "start_time": "2022-08-15T12:36:52.461Z"
      },
      {
        "duration": 8,
        "start_time": "2022-08-15T12:37:18.782Z"
      },
      {
        "duration": 53,
        "start_time": "2022-08-15T12:37:43.815Z"
      },
      {
        "duration": 15,
        "start_time": "2022-08-15T12:37:44.139Z"
      },
      {
        "duration": 26,
        "start_time": "2022-08-15T12:37:44.321Z"
      },
      {
        "duration": 5,
        "start_time": "2022-08-15T12:37:44.998Z"
      },
      {
        "duration": 10,
        "start_time": "2022-08-15T12:37:45.557Z"
      },
      {
        "duration": 17,
        "start_time": "2022-08-15T12:37:45.934Z"
      },
      {
        "duration": 8,
        "start_time": "2022-08-15T12:37:46.308Z"
      },
      {
        "duration": 14,
        "start_time": "2022-08-15T12:37:46.494Z"
      },
      {
        "duration": 7,
        "start_time": "2022-08-15T12:37:47.158Z"
      },
      {
        "duration": 4,
        "start_time": "2022-08-15T12:37:47.774Z"
      },
      {
        "duration": 5,
        "start_time": "2022-08-15T12:37:48.295Z"
      },
      {
        "duration": 4,
        "start_time": "2022-08-15T12:37:49.006Z"
      },
      {
        "duration": 5,
        "start_time": "2022-08-15T12:37:49.758Z"
      },
      {
        "duration": 21,
        "start_time": "2022-08-15T12:37:50.286Z"
      },
      {
        "duration": 8,
        "start_time": "2022-08-15T12:37:51.030Z"
      },
      {
        "duration": 5,
        "start_time": "2022-08-15T12:37:51.517Z"
      },
      {
        "duration": 20,
        "start_time": "2022-08-15T12:37:52.425Z"
      },
      {
        "duration": 196,
        "start_time": "2022-08-15T12:37:53.846Z"
      },
      {
        "duration": 17,
        "start_time": "2022-08-15T12:37:55.698Z"
      },
      {
        "duration": 8,
        "start_time": "2022-08-15T12:37:58.263Z"
      },
      {
        "duration": 24,
        "start_time": "2022-08-15T12:37:58.879Z"
      },
      {
        "duration": 38,
        "start_time": "2022-08-15T12:38:00.007Z"
      },
      {
        "duration": 19,
        "start_time": "2022-08-15T12:39:48.066Z"
      },
      {
        "duration": 20,
        "start_time": "2022-08-15T12:40:05.320Z"
      },
      {
        "duration": 7,
        "start_time": "2022-08-15T12:40:12.978Z"
      },
      {
        "duration": 19,
        "start_time": "2022-08-15T12:40:14.596Z"
      },
      {
        "duration": 25,
        "start_time": "2022-08-15T12:40:17.744Z"
      },
      {
        "duration": 34,
        "start_time": "2022-08-15T12:40:18.898Z"
      },
      {
        "duration": 4,
        "start_time": "2022-08-15T12:40:25.350Z"
      },
      {
        "duration": 50,
        "start_time": "2022-08-15T12:40:25.503Z"
      },
      {
        "duration": 16,
        "start_time": "2022-08-15T12:40:25.848Z"
      },
      {
        "duration": 28,
        "start_time": "2022-08-15T12:40:26.012Z"
      },
      {
        "duration": 6,
        "start_time": "2022-08-15T12:40:26.688Z"
      },
      {
        "duration": 10,
        "start_time": "2022-08-15T12:40:27.225Z"
      },
      {
        "duration": 18,
        "start_time": "2022-08-15T12:40:27.583Z"
      },
      {
        "duration": 8,
        "start_time": "2022-08-15T12:40:27.960Z"
      },
      {
        "duration": 10,
        "start_time": "2022-08-15T12:40:28.140Z"
      },
      {
        "duration": 7,
        "start_time": "2022-08-15T12:40:28.687Z"
      },
      {
        "duration": 4,
        "start_time": "2022-08-15T12:40:29.224Z"
      },
      {
        "duration": 6,
        "start_time": "2022-08-15T12:40:29.736Z"
      },
      {
        "duration": 4,
        "start_time": "2022-08-15T12:40:30.463Z"
      },
      {
        "duration": 6,
        "start_time": "2022-08-15T12:40:31.201Z"
      },
      {
        "duration": 21,
        "start_time": "2022-08-15T12:40:31.575Z"
      },
      {
        "duration": 7,
        "start_time": "2022-08-15T12:40:32.344Z"
      },
      {
        "duration": 5,
        "start_time": "2022-08-15T12:40:32.728Z"
      },
      {
        "duration": 18,
        "start_time": "2022-08-15T12:40:33.648Z"
      },
      {
        "duration": 184,
        "start_time": "2022-08-15T12:40:34.970Z"
      },
      {
        "duration": 17,
        "start_time": "2022-08-15T12:40:36.905Z"
      },
      {
        "duration": 7,
        "start_time": "2022-08-15T12:40:37.819Z"
      },
      {
        "duration": 18,
        "start_time": "2022-08-15T12:40:38.488Z"
      },
      {
        "duration": 27,
        "start_time": "2022-08-15T12:40:39.833Z"
      },
      {
        "duration": 92,
        "start_time": "2022-08-15T12:40:41.499Z"
      },
      {
        "duration": 30,
        "start_time": "2022-08-15T12:42:01.141Z"
      },
      {
        "duration": 16,
        "start_time": "2022-08-15T12:45:38.920Z"
      },
      {
        "duration": 15,
        "start_time": "2022-08-15T12:45:50.714Z"
      },
      {
        "duration": 406,
        "start_time": "2022-08-15T12:46:03.606Z"
      },
      {
        "duration": 420,
        "start_time": "2022-08-15T12:46:35.772Z"
      },
      {
        "duration": 313,
        "start_time": "2022-08-15T12:47:05.391Z"
      },
      {
        "duration": 18,
        "start_time": "2022-08-15T12:47:17.836Z"
      },
      {
        "duration": 11,
        "start_time": "2022-08-15T12:47:35.006Z"
      },
      {
        "duration": 9,
        "start_time": "2022-08-15T12:47:48.604Z"
      },
      {
        "duration": 17,
        "start_time": "2022-08-15T12:48:17.993Z"
      },
      {
        "duration": 24,
        "start_time": "2022-08-15T12:49:53.564Z"
      },
      {
        "duration": 21,
        "start_time": "2022-08-15T12:50:26.355Z"
      },
      {
        "duration": 17,
        "start_time": "2022-08-15T12:50:38.573Z"
      },
      {
        "duration": 32,
        "start_time": "2022-08-15T12:52:52.024Z"
      },
      {
        "duration": 22,
        "start_time": "2022-08-15T12:53:00.982Z"
      },
      {
        "duration": 80,
        "start_time": "2022-08-15T12:54:17.701Z"
      },
      {
        "duration": 23,
        "start_time": "2022-08-15T12:54:21.777Z"
      },
      {
        "duration": 22,
        "start_time": "2022-08-15T12:54:26.794Z"
      },
      {
        "duration": 16,
        "start_time": "2022-08-15T12:58:45.013Z"
      },
      {
        "duration": 15,
        "start_time": "2022-08-15T12:59:29.484Z"
      },
      {
        "duration": 24,
        "start_time": "2022-08-15T13:01:22.121Z"
      },
      {
        "duration": 46,
        "start_time": "2022-08-15T13:06:17.370Z"
      },
      {
        "duration": 39,
        "start_time": "2022-08-15T13:06:36.464Z"
      },
      {
        "duration": 31,
        "start_time": "2022-08-15T13:06:42.124Z"
      },
      {
        "duration": 47,
        "start_time": "2022-08-15T13:06:43.112Z"
      },
      {
        "duration": 41,
        "start_time": "2022-08-15T13:07:58.066Z"
      },
      {
        "duration": 49,
        "start_time": "2022-08-15T13:07:58.386Z"
      },
      {
        "duration": 40,
        "start_time": "2022-08-15T13:08:51.321Z"
      },
      {
        "duration": 45,
        "start_time": "2022-08-15T13:11:15.877Z"
      },
      {
        "duration": 13,
        "start_time": "2022-08-15T13:11:23.808Z"
      },
      {
        "duration": 3,
        "start_time": "2022-08-15T13:13:52.642Z"
      },
      {
        "duration": 51,
        "start_time": "2022-08-15T13:13:52.821Z"
      },
      {
        "duration": 15,
        "start_time": "2022-08-15T13:13:53.211Z"
      },
      {
        "duration": 28,
        "start_time": "2022-08-15T13:13:53.391Z"
      },
      {
        "duration": 5,
        "start_time": "2022-08-15T13:13:54.155Z"
      },
      {
        "duration": 10,
        "start_time": "2022-08-15T13:13:54.715Z"
      },
      {
        "duration": 19,
        "start_time": "2022-08-15T13:13:55.062Z"
      },
      {
        "duration": 8,
        "start_time": "2022-08-15T13:13:55.419Z"
      },
      {
        "duration": 12,
        "start_time": "2022-08-15T13:13:55.603Z"
      },
      {
        "duration": 8,
        "start_time": "2022-08-15T13:13:56.145Z"
      },
      {
        "duration": 8,
        "start_time": "2022-08-15T13:13:56.636Z"
      },
      {
        "duration": 5,
        "start_time": "2022-08-15T13:13:57.192Z"
      },
      {
        "duration": 5,
        "start_time": "2022-08-15T13:13:58.013Z"
      },
      {
        "duration": 5,
        "start_time": "2022-08-15T13:13:58.908Z"
      },
      {
        "duration": 17,
        "start_time": "2022-08-15T13:13:59.413Z"
      },
      {
        "duration": 8,
        "start_time": "2022-08-15T13:14:02.053Z"
      },
      {
        "duration": 5,
        "start_time": "2022-08-15T13:14:02.504Z"
      },
      {
        "duration": 17,
        "start_time": "2022-08-15T13:14:03.395Z"
      },
      {
        "duration": 189,
        "start_time": "2022-08-15T13:14:03.869Z"
      },
      {
        "duration": 17,
        "start_time": "2022-08-15T13:14:05.379Z"
      },
      {
        "duration": 8,
        "start_time": "2022-08-15T13:14:05.653Z"
      },
      {
        "duration": 23,
        "start_time": "2022-08-15T13:14:05.907Z"
      },
      {
        "duration": 27,
        "start_time": "2022-08-15T13:14:06.437Z"
      },
      {
        "duration": 84,
        "start_time": "2022-08-15T13:14:13.215Z"
      },
      {
        "duration": 28,
        "start_time": "2022-08-15T13:14:16.092Z"
      },
      {
        "duration": 44,
        "start_time": "2022-08-15T13:14:17.820Z"
      },
      {
        "duration": 11,
        "start_time": "2022-08-15T13:16:55.813Z"
      },
      {
        "duration": 10,
        "start_time": "2022-08-15T13:16:55.976Z"
      },
      {
        "duration": 22,
        "start_time": "2022-08-15T13:16:56.134Z"
      },
      {
        "duration": 32,
        "start_time": "2022-08-15T13:16:56.475Z"
      },
      {
        "duration": 30,
        "start_time": "2022-08-15T13:16:56.807Z"
      },
      {
        "duration": 34,
        "start_time": "2022-08-15T13:16:57.502Z"
      },
      {
        "duration": 47,
        "start_time": "2022-08-15T13:16:57.696Z"
      },
      {
        "duration": 10,
        "start_time": "2022-08-15T13:17:06.152Z"
      },
      {
        "duration": 10,
        "start_time": "2022-08-15T13:17:17.181Z"
      },
      {
        "duration": 19,
        "start_time": "2022-08-15T13:23:42.730Z"
      },
      {
        "duration": 12,
        "start_time": "2022-08-15T13:23:43.102Z"
      },
      {
        "duration": 12,
        "start_time": "2022-08-15T13:23:43.668Z"
      },
      {
        "duration": 23,
        "start_time": "2022-08-15T13:24:16.520Z"
      },
      {
        "duration": 28,
        "start_time": "2022-08-15T13:24:25.043Z"
      },
      {
        "duration": 11,
        "start_time": "2022-08-15T13:24:26.140Z"
      },
      {
        "duration": 11,
        "start_time": "2022-08-15T13:24:28.848Z"
      },
      {
        "duration": 38,
        "start_time": "2022-08-15T13:25:08.336Z"
      },
      {
        "duration": 40,
        "start_time": "2022-08-15T13:25:41.995Z"
      },
      {
        "duration": 8,
        "start_time": "2022-08-15T13:25:44.788Z"
      },
      {
        "duration": 7,
        "start_time": "2022-08-15T13:25:47.132Z"
      },
      {
        "duration": 8,
        "start_time": "2022-08-15T13:26:29.913Z"
      },
      {
        "duration": 3,
        "start_time": "2022-08-15T13:28:19.911Z"
      },
      {
        "duration": 52,
        "start_time": "2022-08-15T13:28:20.090Z"
      },
      {
        "duration": 16,
        "start_time": "2022-08-15T13:28:20.397Z"
      },
      {
        "duration": 27,
        "start_time": "2022-08-15T13:28:20.570Z"
      },
      {
        "duration": 6,
        "start_time": "2022-08-15T13:28:21.238Z"
      },
      {
        "duration": 10,
        "start_time": "2022-08-15T13:28:21.925Z"
      },
      {
        "duration": 17,
        "start_time": "2022-08-15T13:28:22.342Z"
      },
      {
        "duration": 8,
        "start_time": "2022-08-15T13:28:22.695Z"
      },
      {
        "duration": 10,
        "start_time": "2022-08-15T13:28:22.874Z"
      },
      {
        "duration": 7,
        "start_time": "2022-08-15T13:28:23.382Z"
      },
      {
        "duration": 4,
        "start_time": "2022-08-15T13:28:23.911Z"
      },
      {
        "duration": 6,
        "start_time": "2022-08-15T13:28:25.709Z"
      },
      {
        "duration": 5,
        "start_time": "2022-08-15T13:28:28.965Z"
      },
      {
        "duration": 6,
        "start_time": "2022-08-15T13:28:30.021Z"
      },
      {
        "duration": 18,
        "start_time": "2022-08-15T13:28:32.159Z"
      },
      {
        "duration": 391,
        "start_time": "2022-08-15T13:28:34.670Z"
      },
      {
        "duration": 25,
        "start_time": "2022-08-15T13:29:22.920Z"
      },
      {
        "duration": 116,
        "start_time": "2022-08-15T13:29:55.653Z"
      },
      {
        "duration": 126,
        "start_time": "2022-08-15T13:30:01.934Z"
      },
      {
        "duration": 6,
        "start_time": "2022-08-15T13:30:02.241Z"
      },
      {
        "duration": 20,
        "start_time": "2022-08-15T13:30:02.903Z"
      },
      {
        "duration": 181,
        "start_time": "2022-08-15T13:30:03.254Z"
      },
      {
        "duration": 17,
        "start_time": "2022-08-15T13:30:04.469Z"
      },
      {
        "duration": 7,
        "start_time": "2022-08-15T13:30:04.665Z"
      },
      {
        "duration": 17,
        "start_time": "2022-08-15T13:30:04.848Z"
      },
      {
        "duration": 24,
        "start_time": "2022-08-15T13:30:05.248Z"
      },
      {
        "duration": 79,
        "start_time": "2022-08-15T13:30:05.849Z"
      },
      {
        "duration": 36,
        "start_time": "2022-08-15T13:30:06.531Z"
      },
      {
        "duration": 59,
        "start_time": "2022-08-15T13:30:06.731Z"
      },
      {
        "duration": 9,
        "start_time": "2022-08-15T13:30:07.956Z"
      },
      {
        "duration": 9,
        "start_time": "2022-08-15T13:30:15.310Z"
      },
      {
        "duration": 7,
        "start_time": "2022-08-15T13:30:19.287Z"
      },
      {
        "duration": 8,
        "start_time": "2022-08-15T13:30:19.538Z"
      },
      {
        "duration": 7,
        "start_time": "2022-08-15T13:30:25.598Z"
      },
      {
        "duration": 33,
        "start_time": "2022-08-15T13:31:02.909Z"
      },
      {
        "duration": 52,
        "start_time": "2022-08-15T13:31:13.072Z"
      },
      {
        "duration": 15,
        "start_time": "2022-08-15T13:31:13.407Z"
      },
      {
        "duration": 27,
        "start_time": "2022-08-15T13:31:13.585Z"
      },
      {
        "duration": 4,
        "start_time": "2022-08-15T13:31:20.161Z"
      },
      {
        "duration": 3,
        "start_time": "2022-08-15T13:31:33.354Z"
      },
      {
        "duration": 9,
        "start_time": "2022-08-15T13:31:37.552Z"
      },
      {
        "duration": 17,
        "start_time": "2022-08-15T13:31:40.488Z"
      },
      {
        "duration": 7,
        "start_time": "2022-08-15T13:31:47.684Z"
      },
      {
        "duration": 12,
        "start_time": "2022-08-15T13:31:49.498Z"
      },
      {
        "duration": 7,
        "start_time": "2022-08-15T13:31:52.301Z"
      },
      {
        "duration": 5,
        "start_time": "2022-08-15T13:31:55.511Z"
      },
      {
        "duration": 7,
        "start_time": "2022-08-15T13:31:56.577Z"
      },
      {
        "duration": 5,
        "start_time": "2022-08-15T13:31:57.735Z"
      },
      {
        "duration": 6,
        "start_time": "2022-08-15T13:31:58.585Z"
      },
      {
        "duration": 17,
        "start_time": "2022-08-15T13:31:58.949Z"
      },
      {
        "duration": 142,
        "start_time": "2022-08-15T13:32:01.456Z"
      },
      {
        "duration": 5,
        "start_time": "2022-08-15T13:32:32.674Z"
      },
      {
        "duration": 120,
        "start_time": "2022-08-15T13:32:59.024Z"
      },
      {
        "duration": 6,
        "start_time": "2022-08-15T13:32:59.740Z"
      },
      {
        "duration": 3,
        "start_time": "2022-08-15T13:33:05.442Z"
      },
      {
        "duration": 49,
        "start_time": "2022-08-15T13:33:05.643Z"
      },
      {
        "duration": 18,
        "start_time": "2022-08-15T13:33:06.568Z"
      },
      {
        "duration": 35,
        "start_time": "2022-08-15T13:33:06.743Z"
      },
      {
        "duration": 4,
        "start_time": "2022-08-15T13:33:07.419Z"
      },
      {
        "duration": 11,
        "start_time": "2022-08-15T13:33:07.944Z"
      },
      {
        "duration": 18,
        "start_time": "2022-08-15T13:33:08.274Z"
      },
      {
        "duration": 9,
        "start_time": "2022-08-15T13:33:08.600Z"
      },
      {
        "duration": 9,
        "start_time": "2022-08-15T13:33:08.771Z"
      },
      {
        "duration": 7,
        "start_time": "2022-08-15T13:33:09.264Z"
      },
      {
        "duration": 4,
        "start_time": "2022-08-15T13:33:09.776Z"
      },
      {
        "duration": 5,
        "start_time": "2022-08-15T13:33:10.281Z"
      },
      {
        "duration": 4,
        "start_time": "2022-08-15T13:33:10.993Z"
      },
      {
        "duration": 6,
        "start_time": "2022-08-15T13:33:12.693Z"
      },
      {
        "duration": 18,
        "start_time": "2022-08-15T13:33:14.985Z"
      },
      {
        "duration": 25,
        "start_time": "2022-08-15T13:33:23.248Z"
      },
      {
        "duration": 6,
        "start_time": "2022-08-15T13:33:23.691Z"
      },
      {
        "duration": 119,
        "start_time": "2022-08-15T13:34:11.289Z"
      },
      {
        "duration": 6,
        "start_time": "2022-08-15T13:34:12.146Z"
      },
      {
        "duration": 7,
        "start_time": "2022-08-15T13:34:19.130Z"
      },
      {
        "duration": 20,
        "start_time": "2022-08-15T13:34:19.775Z"
      },
      {
        "duration": 183,
        "start_time": "2022-08-15T13:34:20.107Z"
      },
      {
        "duration": 17,
        "start_time": "2022-08-15T13:34:20.929Z"
      },
      {
        "duration": 7,
        "start_time": "2022-08-15T13:34:21.107Z"
      },
      {
        "duration": 18,
        "start_time": "2022-08-15T13:34:21.276Z"
      },
      {
        "duration": 27,
        "start_time": "2022-08-15T13:34:21.598Z"
      },
      {
        "duration": 80,
        "start_time": "2022-08-15T13:34:21.915Z"
      },
      {
        "duration": 36,
        "start_time": "2022-08-15T13:34:22.655Z"
      },
      {
        "duration": 50,
        "start_time": "2022-08-15T13:34:22.834Z"
      },
      {
        "duration": 9,
        "start_time": "2022-08-15T13:34:24.404Z"
      },
      {
        "duration": 8,
        "start_time": "2022-08-15T13:34:27.035Z"
      },
      {
        "duration": 6,
        "start_time": "2022-08-15T13:34:38.338Z"
      },
      {
        "duration": 8,
        "start_time": "2022-08-15T13:34:44.579Z"
      },
      {
        "duration": 6,
        "start_time": "2022-08-15T13:34:47.072Z"
      },
      {
        "duration": 7,
        "start_time": "2022-08-15T13:37:07.792Z"
      },
      {
        "duration": 6,
        "start_time": "2022-08-15T13:37:08.470Z"
      },
      {
        "duration": 6,
        "start_time": "2022-08-15T13:37:24.477Z"
      },
      {
        "duration": 8,
        "start_time": "2022-08-15T13:37:25.073Z"
      },
      {
        "duration": 7,
        "start_time": "2022-08-15T13:37:38.325Z"
      },
      {
        "duration": 7,
        "start_time": "2022-08-15T13:37:38.790Z"
      },
      {
        "duration": 183,
        "start_time": "2022-08-15T13:39:11.485Z"
      },
      {
        "duration": 243,
        "start_time": "2022-08-15T13:39:37.248Z"
      },
      {
        "duration": 155,
        "start_time": "2022-08-15T13:40:07.223Z"
      },
      {
        "duration": 151,
        "start_time": "2022-08-15T13:40:16.187Z"
      },
      {
        "duration": 153,
        "start_time": "2022-08-15T13:40:37.759Z"
      },
      {
        "duration": 159,
        "start_time": "2022-08-15T13:40:48.929Z"
      },
      {
        "duration": 163,
        "start_time": "2022-08-15T13:40:54.965Z"
      },
      {
        "duration": 175,
        "start_time": "2022-08-15T13:41:30.932Z"
      },
      {
        "duration": 186,
        "start_time": "2022-08-15T13:41:37.818Z"
      },
      {
        "duration": 198,
        "start_time": "2022-08-15T13:41:43.403Z"
      },
      {
        "duration": 114,
        "start_time": "2022-08-15T13:42:18.111Z"
      },
      {
        "duration": 215,
        "start_time": "2022-08-15T13:43:58.101Z"
      },
      {
        "duration": 212,
        "start_time": "2022-08-15T13:44:05.726Z"
      },
      {
        "duration": 261,
        "start_time": "2022-08-15T13:44:36.493Z"
      },
      {
        "duration": 324,
        "start_time": "2022-08-15T13:44:44.056Z"
      },
      {
        "duration": 203,
        "start_time": "2022-08-15T13:44:50.903Z"
      },
      {
        "duration": 261,
        "start_time": "2022-08-15T13:44:59.183Z"
      },
      {
        "duration": 264,
        "start_time": "2022-08-15T13:45:03.767Z"
      },
      {
        "duration": 264,
        "start_time": "2022-08-15T13:45:22.188Z"
      },
      {
        "duration": 268,
        "start_time": "2022-08-15T13:45:32.199Z"
      },
      {
        "duration": 274,
        "start_time": "2022-08-15T13:45:49.175Z"
      },
      {
        "duration": 291,
        "start_time": "2022-08-15T13:46:11.110Z"
      },
      {
        "duration": 308,
        "start_time": "2022-08-15T13:47:06.860Z"
      },
      {
        "duration": 293,
        "start_time": "2022-08-15T13:47:17.899Z"
      },
      {
        "duration": 302,
        "start_time": "2022-08-15T13:47:29.425Z"
      },
      {
        "duration": 364,
        "start_time": "2022-08-15T13:47:45.578Z"
      },
      {
        "duration": 235,
        "start_time": "2022-08-15T13:47:57.060Z"
      },
      {
        "duration": 298,
        "start_time": "2022-08-15T13:48:22.378Z"
      },
      {
        "duration": 376,
        "start_time": "2022-08-15T13:48:36.513Z"
      },
      {
        "duration": 346,
        "start_time": "2022-08-15T13:48:56.226Z"
      },
      {
        "duration": 362,
        "start_time": "2022-08-15T13:49:14.965Z"
      },
      {
        "duration": 11,
        "start_time": "2022-08-15T13:50:53.096Z"
      },
      {
        "duration": 9,
        "start_time": "2022-08-15T13:51:21.225Z"
      },
      {
        "duration": 401,
        "start_time": "2022-08-15T13:51:22.705Z"
      },
      {
        "duration": 28,
        "start_time": "2022-08-15T13:52:21.988Z"
      },
      {
        "duration": 6,
        "start_time": "2022-08-15T13:53:09.849Z"
      },
      {
        "duration": 5,
        "start_time": "2022-08-15T13:53:17.001Z"
      },
      {
        "duration": 13,
        "start_time": "2022-08-15T13:53:25.670Z"
      },
      {
        "duration": 20,
        "start_time": "2022-08-15T13:54:44.424Z"
      },
      {
        "duration": 6,
        "start_time": "2022-08-15T13:54:50.476Z"
      },
      {
        "duration": 5,
        "start_time": "2022-08-15T13:54:53.814Z"
      },
      {
        "duration": 25,
        "start_time": "2022-08-15T13:54:54.463Z"
      },
      {
        "duration": 193,
        "start_time": "2022-08-15T13:54:54.784Z"
      },
      {
        "duration": 12,
        "start_time": "2022-08-15T13:54:55.655Z"
      },
      {
        "duration": 9,
        "start_time": "2022-08-15T13:54:55.821Z"
      },
      {
        "duration": 18,
        "start_time": "2022-08-15T13:54:55.991Z"
      },
      {
        "duration": 26,
        "start_time": "2022-08-15T13:54:56.327Z"
      },
      {
        "duration": 38,
        "start_time": "2022-08-15T13:54:56.699Z"
      },
      {
        "duration": 43,
        "start_time": "2022-08-15T13:55:01.922Z"
      },
      {
        "duration": 63,
        "start_time": "2022-08-15T13:55:02.094Z"
      },
      {
        "duration": 10,
        "start_time": "2022-08-15T13:55:04.983Z"
      },
      {
        "duration": 9,
        "start_time": "2022-08-15T13:55:06.789Z"
      },
      {
        "duration": 311,
        "start_time": "2022-08-15T13:55:07.205Z"
      },
      {
        "duration": 317,
        "start_time": "2022-08-15T13:55:17.944Z"
      },
      {
        "duration": 7,
        "start_time": "2022-08-15T13:55:22.550Z"
      },
      {
        "duration": 17,
        "start_time": "2022-08-15T13:55:23.319Z"
      },
      {
        "duration": 6,
        "start_time": "2022-08-15T13:55:24.462Z"
      },
      {
        "duration": 6,
        "start_time": "2022-08-15T13:57:04.768Z"
      },
      {
        "duration": 320,
        "start_time": "2022-08-15T13:57:05.385Z"
      },
      {
        "duration": 2,
        "start_time": "2022-08-15T13:57:07.728Z"
      },
      {
        "duration": 6,
        "start_time": "2022-08-15T13:57:08.090Z"
      },
      {
        "duration": 5,
        "start_time": "2022-08-15T13:57:15.856Z"
      },
      {
        "duration": 186,
        "start_time": "2022-08-15T13:58:25.599Z"
      },
      {
        "duration": 6,
        "start_time": "2022-08-15T14:02:00.769Z"
      },
      {
        "duration": 308,
        "start_time": "2022-08-15T14:02:01.028Z"
      },
      {
        "duration": 6,
        "start_time": "2022-08-15T14:02:06.524Z"
      },
      {
        "duration": 7,
        "start_time": "2022-08-15T14:02:50.659Z"
      },
      {
        "duration": 355,
        "start_time": "2022-08-15T14:03:19.775Z"
      },
      {
        "duration": 6,
        "start_time": "2022-08-15T14:04:08.477Z"
      },
      {
        "duration": 8,
        "start_time": "2022-08-15T14:05:36.222Z"
      },
      {
        "duration": 389,
        "start_time": "2022-08-15T14:05:36.535Z"
      },
      {
        "duration": 29,
        "start_time": "2022-08-15T14:07:11.264Z"
      },
      {
        "duration": 10,
        "start_time": "2022-08-15T14:07:28.912Z"
      },
      {
        "duration": 27,
        "start_time": "2022-08-15T14:07:29.168Z"
      },
      {
        "duration": 34,
        "start_time": "2022-08-15T14:07:56.108Z"
      },
      {
        "duration": 9,
        "start_time": "2022-08-15T14:08:16.206Z"
      },
      {
        "duration": 24,
        "start_time": "2022-08-15T14:08:16.835Z"
      },
      {
        "duration": 6,
        "start_time": "2022-08-15T14:08:30.160Z"
      },
      {
        "duration": 305,
        "start_time": "2022-08-15T14:08:30.516Z"
      },
      {
        "duration": 6,
        "start_time": "2022-08-15T14:08:38.718Z"
      },
      {
        "duration": 12,
        "start_time": "2022-08-15T14:08:43.589Z"
      },
      {
        "duration": 35,
        "start_time": "2022-08-15T14:08:48.799Z"
      },
      {
        "duration": 34,
        "start_time": "2022-08-15T14:09:09.448Z"
      },
      {
        "duration": 280,
        "start_time": "2022-08-15T14:09:36.814Z"
      },
      {
        "duration": 293,
        "start_time": "2022-08-15T14:10:11.930Z"
      },
      {
        "duration": 271,
        "start_time": "2022-08-15T14:10:38.817Z"
      },
      {
        "duration": 284,
        "start_time": "2022-08-15T14:10:55.886Z"
      },
      {
        "duration": 8,
        "start_time": "2022-08-15T14:12:22.185Z"
      },
      {
        "duration": 8,
        "start_time": "2022-08-15T14:12:43.169Z"
      },
      {
        "duration": 9,
        "start_time": "2022-08-15T14:12:52.652Z"
      },
      {
        "duration": 8,
        "start_time": "2022-08-15T14:12:56.298Z"
      },
      {
        "duration": 17,
        "start_time": "2022-08-15T14:20:55.805Z"
      },
      {
        "duration": 132,
        "start_time": "2022-08-15T14:20:58.974Z"
      },
      {
        "duration": 23,
        "start_time": "2022-08-15T14:23:02.269Z"
      },
      {
        "duration": 18,
        "start_time": "2022-08-15T14:23:12.818Z"
      },
      {
        "duration": 12,
        "start_time": "2022-08-15T14:25:01.493Z"
      },
      {
        "duration": 17,
        "start_time": "2022-08-15T14:25:48.127Z"
      },
      {
        "duration": 10,
        "start_time": "2022-08-15T14:25:49.359Z"
      },
      {
        "duration": 42,
        "start_time": "2022-08-15T14:26:19.643Z"
      },
      {
        "duration": 31,
        "start_time": "2022-08-15T14:26:31.300Z"
      },
      {
        "duration": 18,
        "start_time": "2022-08-15T14:27:03.649Z"
      },
      {
        "duration": 9,
        "start_time": "2022-08-15T14:27:05.990Z"
      },
      {
        "duration": 10,
        "start_time": "2022-08-15T14:27:29.248Z"
      },
      {
        "duration": 19,
        "start_time": "2022-08-15T14:27:31.721Z"
      },
      {
        "duration": 11,
        "start_time": "2022-08-15T14:27:32.067Z"
      },
      {
        "duration": 20,
        "start_time": "2022-08-15T14:28:49.225Z"
      },
      {
        "duration": 10,
        "start_time": "2022-08-15T14:28:51.215Z"
      },
      {
        "duration": 19,
        "start_time": "2022-08-15T14:29:01.975Z"
      },
      {
        "duration": 21,
        "start_time": "2022-08-15T14:29:31.659Z"
      },
      {
        "duration": 13,
        "start_time": "2022-08-15T14:29:32.222Z"
      },
      {
        "duration": 11,
        "start_time": "2022-08-15T14:36:08.013Z"
      },
      {
        "duration": 12,
        "start_time": "2022-08-15T14:36:11.335Z"
      },
      {
        "duration": 29,
        "start_time": "2022-08-15T14:42:51.190Z"
      },
      {
        "duration": 29,
        "start_time": "2022-08-15T14:43:28.658Z"
      },
      {
        "duration": 26,
        "start_time": "2022-08-15T14:47:54.607Z"
      },
      {
        "duration": 31,
        "start_time": "2022-08-15T14:48:23.941Z"
      },
      {
        "duration": 13,
        "start_time": "2022-08-15T15:33:12.779Z"
      },
      {
        "duration": 11,
        "start_time": "2022-08-15T15:33:14.392Z"
      },
      {
        "duration": 28,
        "start_time": "2022-08-15T15:33:17.785Z"
      },
      {
        "duration": 40,
        "start_time": "2022-08-15T15:33:56.776Z"
      },
      {
        "duration": 3,
        "start_time": "2022-08-15T15:33:56.976Z"
      },
      {
        "duration": 15,
        "start_time": "2022-08-15T15:33:57.491Z"
      },
      {
        "duration": 38,
        "start_time": "2022-08-15T15:34:02.602Z"
      },
      {
        "duration": 3,
        "start_time": "2022-08-15T15:34:03.249Z"
      },
      {
        "duration": 11,
        "start_time": "2022-08-15T15:34:04.346Z"
      },
      {
        "duration": 9,
        "start_time": "2022-08-15T15:35:00.827Z"
      },
      {
        "duration": 747,
        "start_time": "2022-08-15T15:37:36.162Z"
      },
      {
        "duration": 620,
        "start_time": "2022-08-15T15:38:24.423Z"
      },
      {
        "duration": 643,
        "start_time": "2022-08-15T15:42:22.409Z"
      },
      {
        "duration": 639,
        "start_time": "2022-08-15T15:42:39.203Z"
      },
      {
        "duration": 810,
        "start_time": "2022-08-15T15:42:47.898Z"
      },
      {
        "duration": 645,
        "start_time": "2022-08-15T15:43:07.242Z"
      },
      {
        "duration": 638,
        "start_time": "2022-08-15T15:43:43.423Z"
      },
      {
        "duration": 696,
        "start_time": "2022-08-15T15:44:44.429Z"
      },
      {
        "duration": 665,
        "start_time": "2022-08-15T15:44:48.984Z"
      },
      {
        "duration": 637,
        "start_time": "2022-08-15T15:44:55.493Z"
      },
      {
        "duration": 766,
        "start_time": "2022-08-15T15:45:01.542Z"
      },
      {
        "duration": 428,
        "start_time": "2022-08-15T15:45:27.491Z"
      },
      {
        "duration": 433,
        "start_time": "2022-08-15T15:45:39.829Z"
      },
      {
        "duration": 435,
        "start_time": "2022-08-15T15:45:49.924Z"
      },
      {
        "duration": 650,
        "start_time": "2022-08-15T15:46:35.247Z"
      },
      {
        "duration": 532,
        "start_time": "2022-08-15T15:46:40.769Z"
      },
      {
        "duration": 637,
        "start_time": "2022-08-15T15:46:54.059Z"
      },
      {
        "duration": 477,
        "start_time": "2022-08-15T15:47:08.250Z"
      },
      {
        "duration": 422,
        "start_time": "2022-08-15T15:47:17.534Z"
      },
      {
        "duration": 359,
        "start_time": "2022-08-15T15:47:44.901Z"
      },
      {
        "duration": 293,
        "start_time": "2022-08-15T15:49:21.853Z"
      },
      {
        "duration": 362,
        "start_time": "2022-08-15T15:49:46.858Z"
      },
      {
        "duration": 278,
        "start_time": "2022-08-15T15:49:52.696Z"
      },
      {
        "duration": 298,
        "start_time": "2022-08-15T15:49:58.861Z"
      },
      {
        "duration": 237,
        "start_time": "2022-08-15T15:50:34.277Z"
      },
      {
        "duration": 232,
        "start_time": "2022-08-15T15:51:52.036Z"
      },
      {
        "duration": 203,
        "start_time": "2022-08-15T15:52:00.888Z"
      },
      {
        "duration": 623,
        "start_time": "2022-08-15T15:52:07.246Z"
      },
      {
        "duration": 789,
        "start_time": "2022-08-15T15:52:24.108Z"
      },
      {
        "duration": 688,
        "start_time": "2022-08-15T15:52:32.787Z"
      },
      {
        "duration": 692,
        "start_time": "2022-08-15T15:52:41.963Z"
      },
      {
        "duration": 761,
        "start_time": "2022-08-15T15:53:03.173Z"
      },
      {
        "duration": 925,
        "start_time": "2022-08-15T15:54:02.944Z"
      },
      {
        "duration": 1071,
        "start_time": "2022-08-15T15:54:11.688Z"
      },
      {
        "duration": 943,
        "start_time": "2022-08-15T15:54:24.698Z"
      },
      {
        "duration": 1289,
        "start_time": "2022-08-15T15:55:55.458Z"
      },
      {
        "duration": 1492,
        "start_time": "2022-08-15T15:56:08.756Z"
      },
      {
        "duration": 1550,
        "start_time": "2022-08-15T15:56:26.694Z"
      },
      {
        "duration": 1460,
        "start_time": "2022-08-15T15:56:35.580Z"
      },
      {
        "duration": 1274,
        "start_time": "2022-08-15T15:56:52.116Z"
      },
      {
        "duration": 3,
        "start_time": "2022-08-15T15:59:58.241Z"
      },
      {
        "duration": 1448,
        "start_time": "2022-08-15T16:01:05.858Z"
      },
      {
        "duration": 1271,
        "start_time": "2022-08-15T16:01:32.899Z"
      },
      {
        "duration": 1250,
        "start_time": "2022-08-15T16:01:51.064Z"
      },
      {
        "duration": 1304,
        "start_time": "2022-08-15T16:02:11.179Z"
      },
      {
        "duration": 1366,
        "start_time": "2022-08-15T16:02:20.710Z"
      },
      {
        "duration": 319,
        "start_time": "2022-08-15T16:02:35.879Z"
      },
      {
        "duration": 1268,
        "start_time": "2022-08-15T16:02:45.331Z"
      },
      {
        "duration": 1229,
        "start_time": "2022-08-15T16:03:55.119Z"
      },
      {
        "duration": 1404,
        "start_time": "2022-08-15T16:04:07.414Z"
      },
      {
        "duration": 1325,
        "start_time": "2022-08-15T16:04:17.209Z"
      },
      {
        "duration": 1366,
        "start_time": "2022-08-15T16:04:40.522Z"
      },
      {
        "duration": 1258,
        "start_time": "2022-08-15T16:04:49.180Z"
      },
      {
        "duration": 1510,
        "start_time": "2022-08-15T16:05:13.361Z"
      },
      {
        "duration": 1105,
        "start_time": "2022-08-15T16:06:26.100Z"
      },
      {
        "duration": 1094,
        "start_time": "2022-08-15T16:06:30.966Z"
      },
      {
        "duration": 1472,
        "start_time": "2022-08-15T16:06:46.486Z"
      },
      {
        "duration": 706,
        "start_time": "2022-08-15T16:12:22.200Z"
      },
      {
        "duration": 329,
        "start_time": "2022-08-15T16:15:42.015Z"
      },
      {
        "duration": 538,
        "start_time": "2022-08-15T16:15:59.380Z"
      },
      {
        "duration": 716,
        "start_time": "2022-08-15T16:16:08.179Z"
      },
      {
        "duration": 757,
        "start_time": "2022-08-15T16:16:26.787Z"
      },
      {
        "duration": 8,
        "start_time": "2022-08-15T16:18:12.095Z"
      },
      {
        "duration": 99,
        "start_time": "2022-08-15T16:24:35.831Z"
      },
      {
        "duration": 11,
        "start_time": "2022-08-15T16:26:03.418Z"
      },
      {
        "duration": 10,
        "start_time": "2022-08-15T16:26:12.772Z"
      },
      {
        "duration": 8,
        "start_time": "2022-08-15T16:26:30.982Z"
      },
      {
        "duration": 19,
        "start_time": "2022-08-15T16:27:16.656Z"
      },
      {
        "duration": 5,
        "start_time": "2022-08-15T16:27:27.747Z"
      },
      {
        "duration": 6,
        "start_time": "2022-08-15T16:28:30.132Z"
      },
      {
        "duration": 7,
        "start_time": "2022-08-15T16:28:46.779Z"
      },
      {
        "duration": 4,
        "start_time": "2022-08-15T16:29:34.154Z"
      },
      {
        "duration": 5,
        "start_time": "2022-08-15T16:30:05.393Z"
      },
      {
        "duration": 4,
        "start_time": "2022-08-15T16:30:37.536Z"
      },
      {
        "duration": 4,
        "start_time": "2022-08-15T16:32:37.623Z"
      },
      {
        "duration": 13,
        "start_time": "2022-08-15T16:34:50.628Z"
      },
      {
        "duration": 14,
        "start_time": "2022-08-15T16:35:10.358Z"
      },
      {
        "duration": 14,
        "start_time": "2022-08-15T16:35:20.988Z"
      },
      {
        "duration": 7,
        "start_time": "2022-08-15T16:35:36.330Z"
      },
      {
        "duration": 7,
        "start_time": "2022-08-15T16:36:15.128Z"
      },
      {
        "duration": 8,
        "start_time": "2022-08-15T16:36:42.250Z"
      },
      {
        "duration": 6,
        "start_time": "2022-08-15T16:37:33.841Z"
      },
      {
        "duration": 5,
        "start_time": "2022-08-15T16:37:51.679Z"
      },
      {
        "duration": 9,
        "start_time": "2022-08-15T16:41:13.434Z"
      },
      {
        "duration": 3,
        "start_time": "2022-08-15T16:41:31.138Z"
      },
      {
        "duration": 3,
        "start_time": "2022-08-15T16:42:13.329Z"
      },
      {
        "duration": 9,
        "start_time": "2022-08-15T16:42:21.642Z"
      },
      {
        "duration": 9,
        "start_time": "2022-08-15T16:43:43.229Z"
      },
      {
        "duration": 11,
        "start_time": "2022-08-15T16:43:54.086Z"
      },
      {
        "duration": 12,
        "start_time": "2022-08-15T16:44:17.551Z"
      },
      {
        "duration": 1713,
        "start_time": "2022-08-15T16:44:27.311Z"
      },
      {
        "duration": 26,
        "start_time": "2022-08-15T16:44:51.219Z"
      },
      {
        "duration": 12,
        "start_time": "2022-08-15T16:44:51.522Z"
      },
      {
        "duration": 8,
        "start_time": "2022-08-15T16:44:52.219Z"
      },
      {
        "duration": 11,
        "start_time": "2022-08-15T16:44:52.609Z"
      },
      {
        "duration": 1709,
        "start_time": "2022-08-15T16:44:53.760Z"
      },
      {
        "duration": 1223,
        "start_time": "2022-08-15T16:46:17.545Z"
      },
      {
        "duration": 1440,
        "start_time": "2022-08-15T16:46:37.117Z"
      },
      {
        "duration": 51,
        "start_time": "2022-08-15T16:47:09.515Z"
      },
      {
        "duration": 15,
        "start_time": "2022-08-15T16:47:09.851Z"
      },
      {
        "duration": 27,
        "start_time": "2022-08-15T16:47:10.005Z"
      },
      {
        "duration": 3,
        "start_time": "2022-08-15T16:47:10.626Z"
      },
      {
        "duration": 10,
        "start_time": "2022-08-15T16:47:11.130Z"
      },
      {
        "duration": 17,
        "start_time": "2022-08-15T16:47:11.457Z"
      },
      {
        "duration": 8,
        "start_time": "2022-08-15T16:47:11.786Z"
      },
      {
        "duration": 9,
        "start_time": "2022-08-15T16:47:11.962Z"
      },
      {
        "duration": 8,
        "start_time": "2022-08-15T16:47:19.181Z"
      },
      {
        "duration": 4,
        "start_time": "2022-08-15T16:47:19.681Z"
      },
      {
        "duration": 5,
        "start_time": "2022-08-15T16:47:20.186Z"
      },
      {
        "duration": 4,
        "start_time": "2022-08-15T16:47:20.835Z"
      },
      {
        "duration": 6,
        "start_time": "2022-08-15T16:47:21.677Z"
      },
      {
        "duration": 18,
        "start_time": "2022-08-15T16:47:22.043Z"
      },
      {
        "duration": 113,
        "start_time": "2022-08-15T16:47:22.766Z"
      },
      {
        "duration": 5,
        "start_time": "2022-08-15T16:47:23.123Z"
      },
      {
        "duration": 5,
        "start_time": "2022-08-15T16:47:23.546Z"
      },
      {
        "duration": 19,
        "start_time": "2022-08-15T16:47:24.930Z"
      },
      {
        "duration": 197,
        "start_time": "2022-08-15T16:47:25.385Z"
      },
      {
        "duration": 17,
        "start_time": "2022-08-15T16:47:27.778Z"
      },
      {
        "duration": 7,
        "start_time": "2022-08-15T16:47:28.478Z"
      },
      {
        "duration": 18,
        "start_time": "2022-08-15T16:47:31.155Z"
      },
      {
        "duration": 24,
        "start_time": "2022-08-15T16:47:32.732Z"
      },
      {
        "duration": 30,
        "start_time": "2022-08-15T16:47:33.595Z"
      },
      {
        "duration": 32,
        "start_time": "2022-08-15T16:47:35.121Z"
      },
      {
        "duration": 47,
        "start_time": "2022-08-15T16:47:38.334Z"
      },
      {
        "duration": 10,
        "start_time": "2022-08-15T16:47:39.802Z"
      },
      {
        "duration": 6,
        "start_time": "2022-08-15T16:47:40.666Z"
      },
      {
        "duration": 290,
        "start_time": "2022-08-15T16:47:40.834Z"
      },
      {
        "duration": 5,
        "start_time": "2022-08-15T16:47:41.698Z"
      },
      {
        "duration": 9,
        "start_time": "2022-08-15T16:47:42.234Z"
      },
      {
        "duration": 288,
        "start_time": "2022-08-15T16:47:42.402Z"
      },
      {
        "duration": 285,
        "start_time": "2022-08-15T16:47:42.692Z"
      },
      {
        "duration": 8,
        "start_time": "2022-08-15T16:47:42.979Z"
      },
      {
        "duration": 14,
        "start_time": "2022-08-15T16:47:45.594Z"
      },
      {
        "duration": 10,
        "start_time": "2022-08-15T16:47:45.956Z"
      },
      {
        "duration": 27,
        "start_time": "2022-08-15T16:47:46.326Z"
      },
      {
        "duration": 27,
        "start_time": "2022-08-15T16:47:48.761Z"
      },
      {
        "duration": 8,
        "start_time": "2022-08-15T16:47:49.093Z"
      },
      {
        "duration": 6,
        "start_time": "2022-08-15T16:47:49.838Z"
      },
      {
        "duration": 8,
        "start_time": "2022-08-15T16:47:50.443Z"
      },
      {
        "duration": 591,
        "start_time": "2022-08-15T16:47:54.244Z"
      },
      {
        "duration": 10,
        "start_time": "2022-08-15T16:50:06.683Z"
      },
      {
        "duration": 7,
        "start_time": "2022-08-15T16:50:58.853Z"
      },
      {
        "duration": 8,
        "start_time": "2022-08-15T16:51:08.243Z"
      },
      {
        "duration": 8,
        "start_time": "2022-08-15T16:51:15.090Z"
      },
      {
        "duration": 13,
        "start_time": "2022-08-15T16:52:31.463Z"
      },
      {
        "duration": 14,
        "start_time": "2022-08-15T16:54:45.165Z"
      },
      {
        "duration": 25,
        "start_time": "2022-08-15T16:55:10.738Z"
      },
      {
        "duration": 8,
        "start_time": "2022-08-15T16:55:11.248Z"
      },
      {
        "duration": 14,
        "start_time": "2022-08-15T16:55:12.744Z"
      },
      {
        "duration": 7,
        "start_time": "2022-08-15T16:55:28.666Z"
      },
      {
        "duration": 11,
        "start_time": "2022-08-15T16:56:41.115Z"
      },
      {
        "duration": 6,
        "start_time": "2022-08-15T16:56:43.761Z"
      },
      {
        "duration": 10,
        "start_time": "2022-08-15T16:56:44.126Z"
      },
      {
        "duration": 700,
        "start_time": "2022-08-15T16:56:47.750Z"
      },
      {
        "duration": 2,
        "start_time": "2022-08-15T16:57:07.189Z"
      },
      {
        "duration": 27,
        "start_time": "2022-08-15T16:57:10.826Z"
      },
      {
        "duration": 3,
        "start_time": "2022-08-15T16:57:11.114Z"
      },
      {
        "duration": 6,
        "start_time": "2022-08-15T16:57:11.733Z"
      },
      {
        "duration": 9,
        "start_time": "2022-08-15T16:57:12.467Z"
      },
      {
        "duration": 603,
        "start_time": "2022-08-15T16:57:13.772Z"
      },
      {
        "duration": 26,
        "start_time": "2022-08-15T16:57:17.849Z"
      },
      {
        "duration": 3,
        "start_time": "2022-08-15T16:57:25.241Z"
      },
      {
        "duration": 7,
        "start_time": "2022-08-15T16:57:27.528Z"
      },
      {
        "duration": 9,
        "start_time": "2022-08-15T16:57:30.592Z"
      },
      {
        "duration": 614,
        "start_time": "2022-08-15T16:57:46.521Z"
      },
      {
        "duration": 6,
        "start_time": "2022-08-15T16:58:26.761Z"
      },
      {
        "duration": 125,
        "start_time": "2022-08-15T16:58:27.769Z"
      },
      {
        "duration": 22,
        "start_time": "2022-08-15T16:58:28.934Z"
      },
      {
        "duration": 11,
        "start_time": "2022-08-15T16:58:30.258Z"
      },
      {
        "duration": 78,
        "start_time": "2022-08-15T16:59:39.650Z"
      },
      {
        "duration": 4,
        "start_time": "2022-08-15T17:00:15.496Z"
      },
      {
        "duration": 120,
        "start_time": "2022-08-15T17:00:16.848Z"
      },
      {
        "duration": 21,
        "start_time": "2022-08-15T17:00:18.414Z"
      },
      {
        "duration": 10,
        "start_time": "2022-08-15T17:00:20.098Z"
      },
      {
        "duration": 37,
        "start_time": "2022-08-15T17:07:26.535Z"
      },
      {
        "duration": 10,
        "start_time": "2022-08-15T17:07:54.663Z"
      },
      {
        "duration": 14,
        "start_time": "2022-08-15T17:08:14.166Z"
      },
      {
        "duration": 11,
        "start_time": "2022-08-15T17:08:33.414Z"
      },
      {
        "duration": 19,
        "start_time": "2022-08-15T17:08:45.258Z"
      },
      {
        "duration": 18,
        "start_time": "2022-08-15T17:08:56.420Z"
      },
      {
        "duration": 17,
        "start_time": "2022-08-15T17:09:09.753Z"
      },
      {
        "duration": 14,
        "start_time": "2022-08-15T17:09:24.256Z"
      },
      {
        "duration": 11,
        "start_time": "2022-08-15T17:11:48.288Z"
      },
      {
        "duration": 5,
        "start_time": "2022-08-15T17:11:54.017Z"
      },
      {
        "duration": 10,
        "start_time": "2022-08-15T17:13:27.344Z"
      },
      {
        "duration": 5,
        "start_time": "2022-08-15T17:13:36.927Z"
      },
      {
        "duration": 1246,
        "start_time": "2022-08-15T17:17:42.634Z"
      },
      {
        "duration": 61,
        "start_time": "2022-08-15T17:17:43.882Z"
      },
      {
        "duration": 16,
        "start_time": "2022-08-15T17:17:43.945Z"
      },
      {
        "duration": 33,
        "start_time": "2022-08-15T17:17:43.964Z"
      },
      {
        "duration": 4,
        "start_time": "2022-08-15T17:17:43.999Z"
      },
      {
        "duration": 13,
        "start_time": "2022-08-15T17:17:44.004Z"
      },
      {
        "duration": 74,
        "start_time": "2022-08-15T17:17:44.018Z"
      },
      {
        "duration": 8,
        "start_time": "2022-08-15T17:17:44.093Z"
      },
      {
        "duration": 9,
        "start_time": "2022-08-15T17:17:44.102Z"
      },
      {
        "duration": 6,
        "start_time": "2022-08-15T17:17:44.114Z"
      },
      {
        "duration": 4,
        "start_time": "2022-08-15T17:17:44.122Z"
      },
      {
        "duration": 7,
        "start_time": "2022-08-15T17:17:44.128Z"
      },
      {
        "duration": 33,
        "start_time": "2022-08-15T17:17:44.136Z"
      },
      {
        "duration": 5,
        "start_time": "2022-08-15T17:17:44.171Z"
      },
      {
        "duration": 20,
        "start_time": "2022-08-15T17:17:44.178Z"
      },
      {
        "duration": 123,
        "start_time": "2022-08-15T17:17:44.200Z"
      },
      {
        "duration": 5,
        "start_time": "2022-08-15T17:17:44.325Z"
      },
      {
        "duration": 9,
        "start_time": "2022-08-15T17:17:44.332Z"
      },
      {
        "duration": 31,
        "start_time": "2022-08-15T17:17:44.343Z"
      },
      {
        "duration": 191,
        "start_time": "2022-08-15T17:17:44.376Z"
      },
      {
        "duration": 17,
        "start_time": "2022-08-15T17:17:44.569Z"
      },
      {
        "duration": 9,
        "start_time": "2022-08-15T17:17:44.587Z"
      },
      {
        "duration": 20,
        "start_time": "2022-08-15T17:17:44.598Z"
      },
      {
        "duration": 24,
        "start_time": "2022-08-15T17:17:44.620Z"
      },
      {
        "duration": 241,
        "start_time": "2022-08-15T17:17:44.668Z"
      },
      {
        "duration": 74,
        "start_time": "2022-08-15T17:17:44.911Z"
      },
      {
        "duration": 96,
        "start_time": "2022-08-15T17:17:44.987Z"
      },
      {
        "duration": 12,
        "start_time": "2022-08-15T17:17:45.087Z"
      },
      {
        "duration": 5,
        "start_time": "2022-08-15T17:17:45.101Z"
      },
      {
        "duration": 424,
        "start_time": "2022-08-15T17:17:45.108Z"
      },
      {
        "duration": 153,
        "start_time": "2022-08-15T17:17:45.534Z"
      },
      {
        "duration": 0,
        "start_time": "2022-08-15T17:17:45.689Z"
      },
      {
        "duration": 0,
        "start_time": "2022-08-15T17:17:45.690Z"
      },
      {
        "duration": 0,
        "start_time": "2022-08-15T17:17:45.691Z"
      },
      {
        "duration": 0,
        "start_time": "2022-08-15T17:17:45.692Z"
      },
      {
        "duration": 0,
        "start_time": "2022-08-15T17:17:45.693Z"
      },
      {
        "duration": 0,
        "start_time": "2022-08-15T17:17:45.694Z"
      },
      {
        "duration": 0,
        "start_time": "2022-08-15T17:17:45.696Z"
      },
      {
        "duration": 0,
        "start_time": "2022-08-15T17:17:45.697Z"
      },
      {
        "duration": 0,
        "start_time": "2022-08-15T17:17:45.698Z"
      },
      {
        "duration": 0,
        "start_time": "2022-08-15T17:17:45.699Z"
      },
      {
        "duration": 0,
        "start_time": "2022-08-15T17:17:45.700Z"
      },
      {
        "duration": 0,
        "start_time": "2022-08-15T17:17:45.700Z"
      },
      {
        "duration": 0,
        "start_time": "2022-08-15T17:17:45.702Z"
      },
      {
        "duration": 0,
        "start_time": "2022-08-15T17:17:45.703Z"
      },
      {
        "duration": 0,
        "start_time": "2022-08-15T17:17:45.704Z"
      },
      {
        "duration": 0,
        "start_time": "2022-08-15T17:17:45.705Z"
      },
      {
        "duration": 0,
        "start_time": "2022-08-15T17:17:45.706Z"
      },
      {
        "duration": 0,
        "start_time": "2022-08-15T17:17:45.707Z"
      },
      {
        "duration": 0,
        "start_time": "2022-08-15T17:17:45.708Z"
      },
      {
        "duration": 0,
        "start_time": "2022-08-15T17:17:45.709Z"
      },
      {
        "duration": 1,
        "start_time": "2022-08-15T17:17:45.710Z"
      },
      {
        "duration": 0,
        "start_time": "2022-08-15T17:17:45.712Z"
      },
      {
        "duration": 0,
        "start_time": "2022-08-15T17:17:45.713Z"
      },
      {
        "duration": 0,
        "start_time": "2022-08-15T17:17:45.714Z"
      },
      {
        "duration": 0,
        "start_time": "2022-08-15T17:17:45.715Z"
      },
      {
        "duration": 0,
        "start_time": "2022-08-15T17:17:45.716Z"
      },
      {
        "duration": 11,
        "start_time": "2022-08-15T17:22:55.118Z"
      },
      {
        "duration": 11,
        "start_time": "2022-08-15T17:23:02.564Z"
      },
      {
        "duration": 4,
        "start_time": "2022-08-15T17:23:04.325Z"
      },
      {
        "duration": 12,
        "start_time": "2022-08-15T17:23:25.247Z"
      },
      {
        "duration": 5,
        "start_time": "2022-08-15T17:23:25.895Z"
      },
      {
        "duration": 5,
        "start_time": "2022-08-15T17:43:50.274Z"
      },
      {
        "duration": 51,
        "start_time": "2022-08-15T17:43:52.007Z"
      },
      {
        "duration": 18,
        "start_time": "2022-08-15T17:43:52.061Z"
      },
      {
        "duration": 36,
        "start_time": "2022-08-15T17:43:52.081Z"
      },
      {
        "duration": 3,
        "start_time": "2022-08-15T17:43:54.391Z"
      },
      {
        "duration": 9,
        "start_time": "2022-08-15T17:43:55.857Z"
      },
      {
        "duration": 19,
        "start_time": "2022-08-15T17:43:57.184Z"
      },
      {
        "duration": 10,
        "start_time": "2022-08-15T17:43:58.392Z"
      },
      {
        "duration": 13,
        "start_time": "2022-08-15T17:43:58.761Z"
      },
      {
        "duration": 8,
        "start_time": "2022-08-15T17:43:59.895Z"
      },
      {
        "duration": 5,
        "start_time": "2022-08-15T17:44:00.927Z"
      },
      {
        "duration": 10,
        "start_time": "2022-08-15T17:44:02.052Z"
      },
      {
        "duration": 4,
        "start_time": "2022-08-15T17:44:03.663Z"
      },
      {
        "duration": 10,
        "start_time": "2022-08-15T17:44:05.032Z"
      },
      {
        "duration": 18,
        "start_time": "2022-08-15T17:44:05.706Z"
      },
      {
        "duration": 123,
        "start_time": "2022-08-15T17:44:06.977Z"
      },
      {
        "duration": 6,
        "start_time": "2022-08-15T17:44:07.587Z"
      },
      {
        "duration": 6,
        "start_time": "2022-08-15T17:44:08.184Z"
      },
      {
        "duration": 27,
        "start_time": "2022-08-15T17:44:09.486Z"
      },
      {
        "duration": 239,
        "start_time": "2022-08-15T17:44:10.120Z"
      },
      {
        "duration": 17,
        "start_time": "2022-08-15T17:44:12.409Z"
      },
      {
        "duration": 7,
        "start_time": "2022-08-15T17:44:12.805Z"
      },
      {
        "duration": 26,
        "start_time": "2022-08-15T17:44:13.185Z"
      },
      {
        "duration": 28,
        "start_time": "2022-08-15T17:44:13.737Z"
      },
      {
        "duration": 96,
        "start_time": "2022-08-15T17:44:14.331Z"
      },
      {
        "duration": 30,
        "start_time": "2022-08-15T17:44:15.707Z"
      },
      {
        "duration": 46,
        "start_time": "2022-08-15T17:44:16.106Z"
      },
      {
        "duration": 10,
        "start_time": "2022-08-15T17:44:18.827Z"
      },
      {
        "duration": 7,
        "start_time": "2022-08-15T17:44:21.178Z"
      },
      {
        "duration": 313,
        "start_time": "2022-08-15T17:44:21.534Z"
      },
      {
        "duration": 13,
        "start_time": "2022-08-15T17:44:26.032Z"
      },
      {
        "duration": 5,
        "start_time": "2022-08-15T17:44:54.277Z"
      },
      {
        "duration": 9,
        "start_time": "2022-08-15T17:45:01.345Z"
      },
      {
        "duration": 338,
        "start_time": "2022-08-15T17:45:02.103Z"
      },
      {
        "duration": 294,
        "start_time": "2022-08-15T17:45:02.453Z"
      },
      {
        "duration": 10,
        "start_time": "2022-08-15T17:45:04.365Z"
      },
      {
        "duration": 15,
        "start_time": "2022-08-15T17:45:10.174Z"
      },
      {
        "duration": 12,
        "start_time": "2022-08-15T17:45:11.204Z"
      },
      {
        "duration": 3,
        "start_time": "2022-08-15T17:45:54.938Z"
      },
      {
        "duration": 3,
        "start_time": "2022-08-15T17:49:00.030Z"
      },
      {
        "duration": 26,
        "start_time": "2022-08-15T17:51:16.995Z"
      },
      {
        "duration": 2,
        "start_time": "2022-08-15T17:51:17.487Z"
      },
      {
        "duration": 8,
        "start_time": "2022-08-15T17:51:18.341Z"
      },
      {
        "duration": 10,
        "start_time": "2022-08-15T17:51:19.416Z"
      },
      {
        "duration": 610,
        "start_time": "2022-08-15T17:51:20.742Z"
      },
      {
        "duration": 28,
        "start_time": "2022-08-15T17:51:24.432Z"
      },
      {
        "duration": 2,
        "start_time": "2022-08-15T17:51:24.719Z"
      },
      {
        "duration": 6,
        "start_time": "2022-08-15T17:51:25.858Z"
      },
      {
        "duration": 12,
        "start_time": "2022-08-15T17:51:26.655Z"
      },
      {
        "duration": 607,
        "start_time": "2022-08-15T17:51:28.526Z"
      },
      {
        "duration": 8,
        "start_time": "2022-08-15T17:51:37.483Z"
      },
      {
        "duration": 110,
        "start_time": "2022-08-15T17:51:38.448Z"
      },
      {
        "duration": 20,
        "start_time": "2022-08-15T17:51:39.389Z"
      },
      {
        "duration": 112,
        "start_time": "2022-08-15T17:51:40.386Z"
      },
      {
        "duration": 13,
        "start_time": "2022-08-15T17:51:49.153Z"
      },
      {
        "duration": 12,
        "start_time": "2022-08-15T17:51:49.516Z"
      },
      {
        "duration": 5,
        "start_time": "2022-08-15T17:51:52.636Z"
      },
      {
        "duration": 11,
        "start_time": "2022-08-15T17:51:55.575Z"
      },
      {
        "duration": 5,
        "start_time": "2022-08-15T17:51:59.778Z"
      },
      {
        "duration": 1536,
        "start_time": "2022-08-16T13:48:41.198Z"
      },
      {
        "duration": 55,
        "start_time": "2022-08-16T13:48:42.737Z"
      },
      {
        "duration": 19,
        "start_time": "2022-08-16T13:48:42.794Z"
      },
      {
        "duration": 61,
        "start_time": "2022-08-16T13:48:42.815Z"
      },
      {
        "duration": 4,
        "start_time": "2022-08-16T13:48:42.878Z"
      },
      {
        "duration": 15,
        "start_time": "2022-08-16T13:48:42.883Z"
      },
      {
        "duration": 100,
        "start_time": "2022-08-16T13:48:42.900Z"
      },
      {
        "duration": 12,
        "start_time": "2022-08-16T13:48:43.003Z"
      },
      {
        "duration": 55,
        "start_time": "2022-08-16T13:48:43.017Z"
      },
      {
        "duration": 8,
        "start_time": "2022-08-16T13:48:43.075Z"
      },
      {
        "duration": 10,
        "start_time": "2022-08-16T13:48:43.085Z"
      },
      {
        "duration": 59,
        "start_time": "2022-08-16T13:48:43.098Z"
      },
      {
        "duration": 25,
        "start_time": "2022-08-16T13:48:43.160Z"
      },
      {
        "duration": 11,
        "start_time": "2022-08-16T13:48:43.187Z"
      },
      {
        "duration": 70,
        "start_time": "2022-08-16T13:48:43.200Z"
      },
      {
        "duration": 133,
        "start_time": "2022-08-16T13:48:43.273Z"
      },
      {
        "duration": 6,
        "start_time": "2022-08-16T13:48:43.409Z"
      },
      {
        "duration": 30,
        "start_time": "2022-08-16T13:48:43.418Z"
      },
      {
        "duration": 23,
        "start_time": "2022-08-16T13:48:43.450Z"
      },
      {
        "duration": 32,
        "start_time": "2022-08-16T13:48:43.475Z"
      },
      {
        "duration": 237,
        "start_time": "2022-08-16T13:48:43.510Z"
      },
      {
        "duration": 18,
        "start_time": "2022-08-16T13:48:43.749Z"
      },
      {
        "duration": 10,
        "start_time": "2022-08-16T13:48:43.770Z"
      },
      {
        "duration": 50,
        "start_time": "2022-08-16T13:48:43.782Z"
      },
      {
        "duration": 43,
        "start_time": "2022-08-16T13:48:43.837Z"
      },
      {
        "duration": 304,
        "start_time": "2022-08-16T13:48:43.882Z"
      },
      {
        "duration": 61,
        "start_time": "2022-08-16T13:48:44.188Z"
      },
      {
        "duration": 105,
        "start_time": "2022-08-16T13:48:44.254Z"
      },
      {
        "duration": 18,
        "start_time": "2022-08-16T13:48:44.403Z"
      },
      {
        "duration": 37,
        "start_time": "2022-08-16T13:48:44.422Z"
      },
      {
        "duration": 509,
        "start_time": "2022-08-16T13:48:44.462Z"
      },
      {
        "duration": 7,
        "start_time": "2022-08-16T13:48:44.973Z"
      },
      {
        "duration": 12,
        "start_time": "2022-08-16T13:48:44.982Z"
      },
      {
        "duration": 370,
        "start_time": "2022-08-16T13:48:44.995Z"
      },
      {
        "duration": 365,
        "start_time": "2022-08-16T13:48:45.368Z"
      },
      {
        "duration": 11,
        "start_time": "2022-08-16T13:48:45.735Z"
      },
      {
        "duration": 18,
        "start_time": "2022-08-16T13:48:45.748Z"
      },
      {
        "duration": 36,
        "start_time": "2022-08-16T13:48:45.769Z"
      },
      {
        "duration": 32,
        "start_time": "2022-08-16T13:48:45.806Z"
      },
      {
        "duration": 34,
        "start_time": "2022-08-16T13:48:45.841Z"
      },
      {
        "duration": 2,
        "start_time": "2022-08-16T13:48:45.877Z"
      },
      {
        "duration": 9,
        "start_time": "2022-08-16T13:48:45.881Z"
      },
      {
        "duration": 11,
        "start_time": "2022-08-16T13:48:45.892Z"
      },
      {
        "duration": 1416,
        "start_time": "2022-08-16T13:48:45.905Z"
      },
      {
        "duration": 89,
        "start_time": "2022-08-16T13:48:47.327Z"
      },
      {
        "duration": 3,
        "start_time": "2022-08-16T13:48:47.419Z"
      },
      {
        "duration": 26,
        "start_time": "2022-08-16T13:48:47.424Z"
      },
      {
        "duration": 59,
        "start_time": "2022-08-16T13:48:47.452Z"
      },
      {
        "duration": 1319,
        "start_time": "2022-08-16T13:48:47.513Z"
      },
      {
        "duration": 6,
        "start_time": "2022-08-16T13:48:48.834Z"
      },
      {
        "duration": 370,
        "start_time": "2022-08-16T13:48:48.842Z"
      },
      {
        "duration": 34,
        "start_time": "2022-08-16T13:48:49.214Z"
      },
      {
        "duration": 60,
        "start_time": "2022-08-16T13:48:49.251Z"
      },
      {
        "duration": 94,
        "start_time": "2022-08-16T13:48:49.313Z"
      },
      {
        "duration": 94,
        "start_time": "2022-08-16T13:48:49.409Z"
      },
      {
        "duration": 52,
        "start_time": "2022-08-16T13:48:49.505Z"
      },
      {
        "duration": 61,
        "start_time": "2022-08-16T13:48:49.559Z"
      },
      {
        "duration": 58,
        "start_time": "2022-08-16T13:48:49.622Z"
      },
      {
        "duration": 164,
        "start_time": "2022-08-16T13:52:43.909Z"
      },
      {
        "duration": 120,
        "start_time": "2022-08-16T13:52:59.048Z"
      },
      {
        "duration": 31,
        "start_time": "2022-08-16T13:53:09.033Z"
      },
      {
        "duration": 361,
        "start_time": "2022-08-16T13:53:29.063Z"
      },
      {
        "duration": 199,
        "start_time": "2022-08-16T13:53:38.050Z"
      },
      {
        "duration": 93,
        "start_time": "2022-08-16T13:54:29.076Z"
      },
      {
        "duration": 85,
        "start_time": "2022-08-16T13:54:38.102Z"
      },
      {
        "duration": 34,
        "start_time": "2022-08-16T13:56:05.602Z"
      },
      {
        "duration": 7,
        "start_time": "2022-08-16T13:56:14.846Z"
      },
      {
        "duration": 8,
        "start_time": "2022-08-16T13:56:23.639Z"
      },
      {
        "duration": 12,
        "start_time": "2022-08-16T13:56:28.839Z"
      },
      {
        "duration": 8,
        "start_time": "2022-08-16T13:56:42.040Z"
      },
      {
        "duration": 18,
        "start_time": "2022-08-16T13:56:59.888Z"
      },
      {
        "duration": 23,
        "start_time": "2022-08-16T13:57:14.409Z"
      },
      {
        "duration": 10,
        "start_time": "2022-08-16T13:57:22.996Z"
      },
      {
        "duration": 83,
        "start_time": "2022-08-16T13:57:24.138Z"
      },
      {
        "duration": 275,
        "start_time": "2022-08-16T13:58:48.292Z"
      },
      {
        "duration": 253,
        "start_time": "2022-08-16T13:58:57.141Z"
      },
      {
        "duration": 261,
        "start_time": "2022-08-16T13:59:01.861Z"
      },
      {
        "duration": 98,
        "start_time": "2022-08-16T13:59:16.391Z"
      },
      {
        "duration": 84,
        "start_time": "2022-08-16T13:59:21.503Z"
      },
      {
        "duration": 80,
        "start_time": "2022-08-16T14:00:30.121Z"
      },
      {
        "duration": 83,
        "start_time": "2022-08-16T14:01:57.315Z"
      },
      {
        "duration": 13,
        "start_time": "2022-08-16T14:03:15.861Z"
      },
      {
        "duration": 27,
        "start_time": "2022-08-16T14:04:52.257Z"
      },
      {
        "duration": 6,
        "start_time": "2022-08-16T14:12:29.490Z"
      },
      {
        "duration": 1601,
        "start_time": "2022-08-16T14:14:49.393Z"
      },
      {
        "duration": 71,
        "start_time": "2022-08-16T14:14:50.996Z"
      },
      {
        "duration": 15,
        "start_time": "2022-08-16T14:14:51.069Z"
      },
      {
        "duration": 47,
        "start_time": "2022-08-16T14:14:51.087Z"
      },
      {
        "duration": 4,
        "start_time": "2022-08-16T14:14:51.137Z"
      },
      {
        "duration": 15,
        "start_time": "2022-08-16T14:14:51.142Z"
      },
      {
        "duration": 98,
        "start_time": "2022-08-16T14:14:51.159Z"
      },
      {
        "duration": 10,
        "start_time": "2022-08-16T14:14:51.259Z"
      },
      {
        "duration": 14,
        "start_time": "2022-08-16T14:14:51.271Z"
      },
      {
        "duration": 50,
        "start_time": "2022-08-16T14:14:51.288Z"
      },
      {
        "duration": 17,
        "start_time": "2022-08-16T14:14:51.341Z"
      },
      {
        "duration": 6,
        "start_time": "2022-08-16T14:14:51.360Z"
      },
      {
        "duration": 7,
        "start_time": "2022-08-16T14:14:51.367Z"
      },
      {
        "duration": 10,
        "start_time": "2022-08-16T14:14:51.376Z"
      },
      {
        "duration": 22,
        "start_time": "2022-08-16T14:14:51.387Z"
      },
      {
        "duration": 137,
        "start_time": "2022-08-16T14:14:51.410Z"
      },
      {
        "duration": 6,
        "start_time": "2022-08-16T14:14:51.549Z"
      },
      {
        "duration": 14,
        "start_time": "2022-08-16T14:14:51.556Z"
      },
      {
        "duration": 26,
        "start_time": "2022-08-16T14:14:51.572Z"
      },
      {
        "duration": 31,
        "start_time": "2022-08-16T14:14:51.603Z"
      },
      {
        "duration": 226,
        "start_time": "2022-08-16T14:14:51.636Z"
      },
      {
        "duration": 17,
        "start_time": "2022-08-16T14:14:51.865Z"
      },
      {
        "duration": 26,
        "start_time": "2022-08-16T14:14:51.884Z"
      },
      {
        "duration": 42,
        "start_time": "2022-08-16T14:14:51.912Z"
      },
      {
        "duration": 29,
        "start_time": "2022-08-16T14:14:51.956Z"
      },
      {
        "duration": 280,
        "start_time": "2022-08-16T14:14:51.987Z"
      },
      {
        "duration": 64,
        "start_time": "2022-08-16T14:14:52.269Z"
      },
      {
        "duration": 115,
        "start_time": "2022-08-16T14:14:52.340Z"
      },
      {
        "duration": 358,
        "start_time": "2022-08-16T14:14:52.458Z"
      },
      {
        "duration": 17,
        "start_time": "2022-08-16T14:14:52.818Z"
      },
      {
        "duration": 11,
        "start_time": "2022-08-16T14:14:52.836Z"
      },
      {
        "duration": 372,
        "start_time": "2022-08-16T14:14:52.849Z"
      },
      {
        "duration": 7,
        "start_time": "2022-08-16T14:14:53.223Z"
      },
      {
        "duration": 30,
        "start_time": "2022-08-16T14:14:53.232Z"
      },
      {
        "duration": 349,
        "start_time": "2022-08-16T14:14:53.264Z"
      },
      {
        "duration": 338,
        "start_time": "2022-08-16T14:14:53.616Z"
      },
      {
        "duration": 9,
        "start_time": "2022-08-16T14:14:53.956Z"
      },
      {
        "duration": 17,
        "start_time": "2022-08-16T14:14:53.967Z"
      },
      {
        "duration": 46,
        "start_time": "2022-08-16T14:14:53.986Z"
      },
      {
        "duration": 17,
        "start_time": "2022-08-16T14:14:54.035Z"
      },
      {
        "duration": 27,
        "start_time": "2022-08-16T14:14:54.054Z"
      },
      {
        "duration": 2,
        "start_time": "2022-08-16T14:14:54.083Z"
      },
      {
        "duration": 9,
        "start_time": "2022-08-16T14:14:54.087Z"
      },
      {
        "duration": 12,
        "start_time": "2022-08-16T14:14:54.097Z"
      },
      {
        "duration": 714,
        "start_time": "2022-08-16T14:14:54.112Z"
      },
      {
        "duration": 25,
        "start_time": "2022-08-16T14:14:54.829Z"
      },
      {
        "duration": 17,
        "start_time": "2022-08-16T14:14:54.856Z"
      },
      {
        "duration": 8,
        "start_time": "2022-08-16T14:14:54.875Z"
      },
      {
        "duration": 12,
        "start_time": "2022-08-16T14:14:54.885Z"
      },
      {
        "duration": 687,
        "start_time": "2022-08-16T14:14:54.898Z"
      },
      {
        "duration": 4,
        "start_time": "2022-08-16T14:14:55.588Z"
      },
      {
        "duration": 151,
        "start_time": "2022-08-16T14:14:55.594Z"
      },
      {
        "duration": 21,
        "start_time": "2022-08-16T14:14:55.747Z"
      },
      {
        "duration": 10,
        "start_time": "2022-08-16T14:14:55.770Z"
      },
      {
        "duration": 29,
        "start_time": "2022-08-16T14:14:55.781Z"
      },
      {
        "duration": 29,
        "start_time": "2022-08-16T14:14:55.812Z"
      },
      {
        "duration": 4,
        "start_time": "2022-08-16T14:14:55.843Z"
      },
      {
        "duration": 16,
        "start_time": "2022-08-16T14:14:55.849Z"
      },
      {
        "duration": 7,
        "start_time": "2022-08-16T14:14:55.867Z"
      },
      {
        "duration": 7,
        "start_time": "2022-08-16T14:14:55.876Z"
      },
      {
        "duration": 1529,
        "start_time": "2022-08-16T17:25:24.508Z"
      },
      {
        "duration": 186,
        "start_time": "2022-08-16T17:25:26.039Z"
      },
      {
        "duration": 17,
        "start_time": "2022-08-16T17:25:26.227Z"
      },
      {
        "duration": 31,
        "start_time": "2022-08-16T17:25:26.246Z"
      },
      {
        "duration": 5,
        "start_time": "2022-08-16T17:25:27.953Z"
      },
      {
        "duration": 10,
        "start_time": "2022-08-16T17:25:28.629Z"
      },
      {
        "duration": 55,
        "start_time": "2022-08-16T17:25:29.042Z"
      },
      {
        "duration": 9,
        "start_time": "2022-08-16T17:25:29.815Z"
      },
      {
        "duration": 11,
        "start_time": "2022-08-16T17:25:29.904Z"
      },
      {
        "duration": 7,
        "start_time": "2022-08-16T17:25:30.558Z"
      },
      {
        "duration": 6,
        "start_time": "2022-08-16T17:25:31.127Z"
      },
      {
        "duration": 6,
        "start_time": "2022-08-16T17:25:32.189Z"
      },
      {
        "duration": 6,
        "start_time": "2022-08-16T17:25:32.552Z"
      },
      {
        "duration": 6,
        "start_time": "2022-08-16T17:25:33.436Z"
      },
      {
        "duration": 18,
        "start_time": "2022-08-16T17:25:33.997Z"
      },
      {
        "duration": 111,
        "start_time": "2022-08-16T17:25:37.248Z"
      },
      {
        "duration": 8,
        "start_time": "2022-08-16T17:25:38.072Z"
      },
      {
        "duration": 6,
        "start_time": "2022-08-16T17:25:38.865Z"
      },
      {
        "duration": 23,
        "start_time": "2022-08-16T17:25:39.830Z"
      },
      {
        "duration": 18,
        "start_time": "2022-08-16T17:25:42.944Z"
      },
      {
        "duration": 189,
        "start_time": "2022-08-16T17:25:43.497Z"
      },
      {
        "duration": 15,
        "start_time": "2022-08-16T17:25:49.038Z"
      },
      {
        "duration": 7,
        "start_time": "2022-08-16T17:25:49.413Z"
      },
      {
        "duration": 17,
        "start_time": "2022-08-16T17:25:52.578Z"
      },
      {
        "duration": 19,
        "start_time": "2022-08-16T17:26:33.334Z"
      },
      {
        "duration": 9,
        "start_time": "2022-08-16T17:26:33.356Z"
      },
      {
        "duration": 20,
        "start_time": "2022-08-16T17:26:35.441Z"
      },
      {
        "duration": 24,
        "start_time": "2022-08-16T17:27:18.531Z"
      },
      {
        "duration": 291,
        "start_time": "2022-08-16T17:27:19.810Z"
      },
      {
        "duration": 30,
        "start_time": "2022-08-16T17:27:51.887Z"
      },
      {
        "duration": 49,
        "start_time": "2022-08-16T17:27:54.447Z"
      },
      {
        "duration": 259,
        "start_time": "2022-08-16T17:28:22.753Z"
      },
      {
        "duration": 11,
        "start_time": "2022-08-16T17:28:58.569Z"
      },
      {
        "duration": 167,
        "start_time": "2022-08-16T17:33:21.599Z"
      },
      {
        "duration": 4,
        "start_time": "2022-08-16T17:33:45.016Z"
      },
      {
        "duration": 30,
        "start_time": "2022-08-16T17:33:56.634Z"
      },
      {
        "duration": 47,
        "start_time": "2022-08-16T17:34:48.957Z"
      },
      {
        "duration": 6,
        "start_time": "2022-08-16T17:36:03.126Z"
      },
      {
        "duration": 15,
        "start_time": "2022-08-16T17:36:09.069Z"
      },
      {
        "duration": 6,
        "start_time": "2022-08-16T17:36:35.720Z"
      },
      {
        "duration": 14,
        "start_time": "2022-08-16T17:36:36.358Z"
      },
      {
        "duration": 10,
        "start_time": "2022-08-16T17:39:31.290Z"
      },
      {
        "duration": 96,
        "start_time": "2022-08-16T17:39:44.001Z"
      },
      {
        "duration": 10,
        "start_time": "2022-08-16T17:40:03.628Z"
      },
      {
        "duration": 71,
        "start_time": "2022-08-16T17:40:04.113Z"
      },
      {
        "duration": 9,
        "start_time": "2022-08-16T17:40:14.553Z"
      },
      {
        "duration": 9,
        "start_time": "2022-08-16T17:40:51.525Z"
      },
      {
        "duration": 51,
        "start_time": "2022-08-16T17:40:51.536Z"
      },
      {
        "duration": 11,
        "start_time": "2022-08-16T17:41:40.682Z"
      },
      {
        "duration": 25,
        "start_time": "2022-08-16T17:41:43.426Z"
      },
      {
        "duration": 6,
        "start_time": "2022-08-16T17:55:35.312Z"
      },
      {
        "duration": 300,
        "start_time": "2022-08-16T17:55:35.475Z"
      },
      {
        "duration": 6,
        "start_time": "2022-08-16T17:55:36.423Z"
      },
      {
        "duration": 12,
        "start_time": "2022-08-16T17:55:38.256Z"
      },
      {
        "duration": 297,
        "start_time": "2022-08-16T17:55:39.121Z"
      },
      {
        "duration": 284,
        "start_time": "2022-08-16T17:55:40.863Z"
      },
      {
        "duration": 9,
        "start_time": "2022-08-16T17:55:43.691Z"
      },
      {
        "duration": 13,
        "start_time": "2022-08-16T17:55:47.315Z"
      },
      {
        "duration": 11,
        "start_time": "2022-08-16T17:55:48.600Z"
      },
      {
        "duration": 10,
        "start_time": "2022-08-16T17:57:01.747Z"
      },
      {
        "duration": 25,
        "start_time": "2022-08-16T17:58:00.779Z"
      },
      {
        "duration": 32,
        "start_time": "2022-08-16T17:58:51.210Z"
      },
      {
        "duration": 26,
        "start_time": "2022-08-16T17:59:04.073Z"
      },
      {
        "duration": 4,
        "start_time": "2022-08-16T22:07:53.447Z"
      },
      {
        "duration": 53,
        "start_time": "2022-08-16T22:07:53.675Z"
      },
      {
        "duration": 15,
        "start_time": "2022-08-16T22:07:54.153Z"
      },
      {
        "duration": 27,
        "start_time": "2022-08-16T22:07:54.379Z"
      },
      {
        "duration": 3,
        "start_time": "2022-08-16T22:07:55.349Z"
      },
      {
        "duration": 12,
        "start_time": "2022-08-16T22:07:56.201Z"
      },
      {
        "duration": 17,
        "start_time": "2022-08-16T22:07:56.609Z"
      },
      {
        "duration": 7,
        "start_time": "2022-08-16T22:07:57.002Z"
      },
      {
        "duration": 9,
        "start_time": "2022-08-16T22:07:57.219Z"
      },
      {
        "duration": 6,
        "start_time": "2022-08-16T22:07:57.883Z"
      },
      {
        "duration": 3,
        "start_time": "2022-08-16T22:07:58.866Z"
      },
      {
        "duration": 5,
        "start_time": "2022-08-16T22:07:59.629Z"
      },
      {
        "duration": 5,
        "start_time": "2022-08-16T22:08:00.377Z"
      },
      {
        "duration": 6,
        "start_time": "2022-08-16T22:08:01.716Z"
      },
      {
        "duration": 18,
        "start_time": "2022-08-16T22:08:02.087Z"
      },
      {
        "duration": 108,
        "start_time": "2022-08-16T22:08:02.874Z"
      },
      {
        "duration": 5,
        "start_time": "2022-08-16T22:08:03.281Z"
      },
      {
        "duration": 5,
        "start_time": "2022-08-16T22:08:03.688Z"
      },
      {
        "duration": 13,
        "start_time": "2022-08-16T22:08:04.094Z"
      },
      {
        "duration": 17,
        "start_time": "2022-08-16T22:08:04.731Z"
      },
      {
        "duration": 174,
        "start_time": "2022-08-16T22:08:05.401Z"
      },
      {
        "duration": 16,
        "start_time": "2022-08-16T22:08:07.963Z"
      },
      {
        "duration": 6,
        "start_time": "2022-08-16T22:08:08.265Z"
      },
      {
        "duration": 17,
        "start_time": "2022-08-16T22:08:08.752Z"
      },
      {
        "duration": 24,
        "start_time": "2022-08-16T22:08:10.724Z"
      },
      {
        "duration": 85,
        "start_time": "2022-08-16T22:08:11.820Z"
      },
      {
        "duration": 28,
        "start_time": "2022-08-16T22:08:27.713Z"
      },
      {
        "duration": 48,
        "start_time": "2022-08-16T22:08:32.331Z"
      },
      {
        "duration": 75,
        "start_time": "2022-08-16T22:08:36.525Z"
      },
      {
        "duration": 9,
        "start_time": "2022-08-16T22:08:51.583Z"
      },
      {
        "duration": 24,
        "start_time": "2022-08-16T22:08:51.871Z"
      },
      {
        "duration": 25,
        "start_time": "2022-08-16T22:10:23.533Z"
      },
      {
        "duration": 7,
        "start_time": "2022-08-16T22:11:03.257Z"
      },
      {
        "duration": 290,
        "start_time": "2022-08-16T22:11:05.243Z"
      },
      {
        "duration": 5,
        "start_time": "2022-08-16T22:11:09.243Z"
      },
      {
        "duration": 9,
        "start_time": "2022-08-16T22:11:10.716Z"
      },
      {
        "duration": 272,
        "start_time": "2022-08-16T22:11:11.272Z"
      },
      {
        "duration": 272,
        "start_time": "2022-08-16T22:11:12.533Z"
      },
      {
        "duration": 8,
        "start_time": "2022-08-16T22:11:12.807Z"
      },
      {
        "duration": 118,
        "start_time": "2022-08-16T22:11:17.620Z"
      },
      {
        "duration": 24,
        "start_time": "2022-08-16T22:14:02.459Z"
      },
      {
        "duration": 24,
        "start_time": "2022-08-16T22:20:47.435Z"
      },
      {
        "duration": 27,
        "start_time": "2022-08-16T22:20:57.997Z"
      },
      {
        "duration": 22,
        "start_time": "2022-08-16T22:21:56.267Z"
      },
      {
        "duration": 2,
        "start_time": "2022-08-16T22:22:00.149Z"
      },
      {
        "duration": 6,
        "start_time": "2022-08-16T22:22:04.518Z"
      },
      {
        "duration": 9,
        "start_time": "2022-08-16T22:22:06.733Z"
      },
      {
        "duration": 652,
        "start_time": "2022-08-16T22:22:14.622Z"
      },
      {
        "duration": 25,
        "start_time": "2022-08-16T22:32:01.086Z"
      },
      {
        "duration": 2,
        "start_time": "2022-08-16T22:32:01.642Z"
      },
      {
        "duration": 7,
        "start_time": "2022-08-16T22:32:04.221Z"
      },
      {
        "duration": 8,
        "start_time": "2022-08-16T22:32:05.816Z"
      },
      {
        "duration": 593,
        "start_time": "2022-08-16T22:32:08.940Z"
      },
      {
        "duration": 4,
        "start_time": "2022-08-16T22:36:55.263Z"
      },
      {
        "duration": 105,
        "start_time": "2022-08-16T22:36:55.621Z"
      },
      {
        "duration": 20,
        "start_time": "2022-08-16T22:36:56.505Z"
      },
      {
        "duration": 12,
        "start_time": "2022-08-16T22:36:58.065Z"
      },
      {
        "duration": 14,
        "start_time": "2022-08-16T22:44:45.738Z"
      },
      {
        "duration": 10,
        "start_time": "2022-08-16T22:44:46.106Z"
      },
      {
        "duration": 5,
        "start_time": "2022-08-16T22:44:47.395Z"
      },
      {
        "duration": 12,
        "start_time": "2022-08-16T22:46:37.209Z"
      },
      {
        "duration": 5,
        "start_time": "2022-08-16T22:46:44.106Z"
      },
      {
        "duration": 13,
        "start_time": "2022-08-16T23:02:47.279Z"
      },
      {
        "duration": 5,
        "start_time": "2022-08-16T23:02:47.453Z"
      },
      {
        "duration": 6,
        "start_time": "2022-08-16T23:04:10.789Z"
      },
      {
        "duration": 4,
        "start_time": "2022-08-16T23:24:21.862Z"
      },
      {
        "duration": 48,
        "start_time": "2022-08-16T23:24:22.042Z"
      },
      {
        "duration": 15,
        "start_time": "2022-08-16T23:24:22.424Z"
      },
      {
        "duration": 27,
        "start_time": "2022-08-16T23:24:22.611Z"
      },
      {
        "duration": 26,
        "start_time": "2022-08-16T23:24:23.540Z"
      },
      {
        "duration": 3,
        "start_time": "2022-08-16T23:24:24.289Z"
      },
      {
        "duration": 9,
        "start_time": "2022-08-16T23:24:24.890Z"
      },
      {
        "duration": 18,
        "start_time": "2022-08-16T23:24:25.804Z"
      },
      {
        "duration": 8,
        "start_time": "2022-08-16T23:24:26.545Z"
      },
      {
        "duration": 10,
        "start_time": "2022-08-16T23:24:26.794Z"
      },
      {
        "duration": 7,
        "start_time": "2022-08-16T23:24:27.457Z"
      },
      {
        "duration": 5,
        "start_time": "2022-08-16T23:24:28.038Z"
      },
      {
        "duration": 5,
        "start_time": "2022-08-16T23:24:28.994Z"
      },
      {
        "duration": 5,
        "start_time": "2022-08-16T23:24:30.321Z"
      },
      {
        "duration": 5,
        "start_time": "2022-08-16T23:24:31.468Z"
      },
      {
        "duration": 18,
        "start_time": "2022-08-16T23:24:31.877Z"
      },
      {
        "duration": 116,
        "start_time": "2022-08-16T23:24:32.739Z"
      },
      {
        "duration": 9,
        "start_time": "2022-08-16T23:24:33.167Z"
      },
      {
        "duration": 5,
        "start_time": "2022-08-16T23:24:33.609Z"
      },
      {
        "duration": 15,
        "start_time": "2022-08-16T23:24:34.050Z"
      },
      {
        "duration": 18,
        "start_time": "2022-08-16T23:24:34.643Z"
      },
      {
        "duration": 173,
        "start_time": "2022-08-16T23:24:35.058Z"
      },
      {
        "duration": 16,
        "start_time": "2022-08-16T23:24:37.017Z"
      },
      {
        "duration": 7,
        "start_time": "2022-08-16T23:24:37.511Z"
      },
      {
        "duration": 25,
        "start_time": "2022-08-16T23:24:38.450Z"
      },
      {
        "duration": 74,
        "start_time": "2022-08-16T23:24:38.961Z"
      },
      {
        "duration": 31,
        "start_time": "2022-08-16T23:24:39.893Z"
      },
      {
        "duration": 47,
        "start_time": "2022-08-16T23:24:40.094Z"
      },
      {
        "duration": 77,
        "start_time": "2022-08-16T23:24:41.571Z"
      },
      {
        "duration": 8,
        "start_time": "2022-08-16T23:24:46.683Z"
      },
      {
        "duration": 22,
        "start_time": "2022-08-16T23:24:46.917Z"
      },
      {
        "duration": 6,
        "start_time": "2022-08-16T23:24:53.970Z"
      },
      {
        "duration": 282,
        "start_time": "2022-08-16T23:24:54.724Z"
      },
      {
        "duration": 5,
        "start_time": "2022-08-16T23:25:02.195Z"
      },
      {
        "duration": 8,
        "start_time": "2022-08-16T23:25:05.069Z"
      },
      {
        "duration": 275,
        "start_time": "2022-08-16T23:25:05.395Z"
      },
      {
        "duration": 271,
        "start_time": "2022-08-16T23:25:05.690Z"
      },
      {
        "duration": 9,
        "start_time": "2022-08-16T23:25:06.597Z"
      },
      {
        "duration": 24,
        "start_time": "2022-08-16T23:25:09.816Z"
      },
      {
        "duration": 25,
        "start_time": "2022-08-16T23:25:13.034Z"
      },
      {
        "duration": 2,
        "start_time": "2022-08-16T23:25:13.948Z"
      },
      {
        "duration": 7,
        "start_time": "2022-08-16T23:25:14.786Z"
      },
      {
        "duration": 9,
        "start_time": "2022-08-16T23:25:15.314Z"
      },
      {
        "duration": 659,
        "start_time": "2022-08-16T23:25:16.163Z"
      },
      {
        "duration": 23,
        "start_time": "2022-08-16T23:25:16.939Z"
      },
      {
        "duration": 3,
        "start_time": "2022-08-16T23:25:17.110Z"
      },
      {
        "duration": 6,
        "start_time": "2022-08-16T23:25:17.778Z"
      },
      {
        "duration": 8,
        "start_time": "2022-08-16T23:25:17.980Z"
      },
      {
        "duration": 593,
        "start_time": "2022-08-16T23:25:18.336Z"
      },
      {
        "duration": 4,
        "start_time": "2022-08-16T23:25:19.270Z"
      },
      {
        "duration": 108,
        "start_time": "2022-08-16T23:25:19.647Z"
      },
      {
        "duration": 20,
        "start_time": "2022-08-16T23:25:20.037Z"
      },
      {
        "duration": 9,
        "start_time": "2022-08-16T23:25:20.452Z"
      },
      {
        "duration": 12,
        "start_time": "2022-08-16T23:25:22.210Z"
      },
      {
        "duration": 10,
        "start_time": "2022-08-16T23:25:22.610Z"
      },
      {
        "duration": 5,
        "start_time": "2022-08-16T23:25:23.210Z"
      },
      {
        "duration": 12,
        "start_time": "2022-08-16T23:25:24.228Z"
      },
      {
        "duration": 5,
        "start_time": "2022-08-16T23:25:24.436Z"
      },
      {
        "duration": 6,
        "start_time": "2022-08-16T23:25:26.467Z"
      },
      {
        "duration": 1271,
        "start_time": "2022-08-17T00:18:57.179Z"
      },
      {
        "duration": 53,
        "start_time": "2022-08-17T00:18:58.452Z"
      },
      {
        "duration": 16,
        "start_time": "2022-08-17T00:18:58.507Z"
      },
      {
        "duration": 30,
        "start_time": "2022-08-17T00:18:58.526Z"
      },
      {
        "duration": 3,
        "start_time": "2022-08-17T00:18:58.558Z"
      },
      {
        "duration": 19,
        "start_time": "2022-08-17T00:18:58.563Z"
      },
      {
        "duration": 58,
        "start_time": "2022-08-17T00:18:58.584Z"
      },
      {
        "duration": 20,
        "start_time": "2022-08-17T00:18:58.644Z"
      },
      {
        "duration": 13,
        "start_time": "2022-08-17T00:18:58.666Z"
      },
      {
        "duration": 7,
        "start_time": "2022-08-17T00:18:58.683Z"
      },
      {
        "duration": 4,
        "start_time": "2022-08-17T00:18:58.692Z"
      },
      {
        "duration": 8,
        "start_time": "2022-08-17T00:18:58.698Z"
      },
      {
        "duration": 6,
        "start_time": "2022-08-17T00:18:58.708Z"
      },
      {
        "duration": 7,
        "start_time": "2022-08-17T00:18:58.715Z"
      },
      {
        "duration": 48,
        "start_time": "2022-08-17T00:18:58.724Z"
      },
      {
        "duration": 115,
        "start_time": "2022-08-17T00:18:58.774Z"
      },
      {
        "duration": 5,
        "start_time": "2022-08-17T00:18:58.891Z"
      },
      {
        "duration": 8,
        "start_time": "2022-08-17T00:18:58.897Z"
      },
      {
        "duration": 16,
        "start_time": "2022-08-17T00:18:58.907Z"
      },
      {
        "duration": 32,
        "start_time": "2022-08-17T00:18:58.925Z"
      },
      {
        "duration": 176,
        "start_time": "2022-08-17T00:18:58.959Z"
      },
      {
        "duration": 21,
        "start_time": "2022-08-17T00:18:59.137Z"
      },
      {
        "duration": 6,
        "start_time": "2022-08-17T00:18:59.160Z"
      },
      {
        "duration": 22,
        "start_time": "2022-08-17T00:18:59.167Z"
      },
      {
        "duration": 233,
        "start_time": "2022-08-17T00:18:59.190Z"
      },
      {
        "duration": 43,
        "start_time": "2022-08-17T00:18:59.424Z"
      },
      {
        "duration": 98,
        "start_time": "2022-08-17T00:18:59.469Z"
      },
      {
        "duration": 253,
        "start_time": "2022-08-17T00:18:59.570Z"
      },
      {
        "duration": 7,
        "start_time": "2022-08-17T00:18:59.825Z"
      },
      {
        "duration": 30,
        "start_time": "2022-08-17T00:18:59.833Z"
      },
      {
        "duration": 5,
        "start_time": "2022-08-17T00:18:59.865Z"
      },
      {
        "duration": 262,
        "start_time": "2022-08-17T00:18:59.871Z"
      },
      {
        "duration": 5,
        "start_time": "2022-08-17T00:19:00.134Z"
      },
      {
        "duration": 19,
        "start_time": "2022-08-17T00:19:00.140Z"
      },
      {
        "duration": 257,
        "start_time": "2022-08-17T00:19:00.160Z"
      },
      {
        "duration": 261,
        "start_time": "2022-08-17T00:19:00.418Z"
      },
      {
        "duration": 8,
        "start_time": "2022-08-17T00:19:00.681Z"
      },
      {
        "duration": 37,
        "start_time": "2022-08-17T00:19:00.690Z"
      },
      {
        "duration": 34,
        "start_time": "2022-08-17T00:19:00.728Z"
      },
      {
        "duration": 3,
        "start_time": "2022-08-17T00:19:00.764Z"
      },
      {
        "duration": 17,
        "start_time": "2022-08-17T00:19:00.768Z"
      },
      {
        "duration": 18,
        "start_time": "2022-08-17T00:19:00.786Z"
      },
      {
        "duration": 625,
        "start_time": "2022-08-17T00:19:00.805Z"
      },
      {
        "duration": 34,
        "start_time": "2022-08-17T00:19:01.432Z"
      },
      {
        "duration": 3,
        "start_time": "2022-08-17T00:19:01.468Z"
      },
      {
        "duration": 27,
        "start_time": "2022-08-17T00:19:01.472Z"
      },
      {
        "duration": 36,
        "start_time": "2022-08-17T00:19:01.500Z"
      },
      {
        "duration": 536,
        "start_time": "2022-08-17T00:19:01.538Z"
      },
      {
        "duration": 3,
        "start_time": "2022-08-17T00:19:02.076Z"
      },
      {
        "duration": 119,
        "start_time": "2022-08-17T00:19:02.081Z"
      },
      {
        "duration": 18,
        "start_time": "2022-08-17T00:19:02.201Z"
      },
      {
        "duration": 8,
        "start_time": "2022-08-17T00:19:02.221Z"
      },
      {
        "duration": 26,
        "start_time": "2022-08-17T00:19:02.231Z"
      },
      {
        "duration": 8,
        "start_time": "2022-08-17T00:19:02.259Z"
      },
      {
        "duration": 4,
        "start_time": "2022-08-17T00:19:02.269Z"
      },
      {
        "duration": 25,
        "start_time": "2022-08-17T00:19:02.274Z"
      },
      {
        "duration": 4,
        "start_time": "2022-08-17T00:19:02.301Z"
      },
      {
        "duration": 39,
        "start_time": "2022-08-17T00:19:02.306Z"
      },
      {
        "duration": 59,
        "start_time": "2022-08-17T00:19:02.346Z"
      },
      {
        "duration": 3,
        "start_time": "2022-08-17T00:19:02.406Z"
      },
      {
        "duration": 49,
        "start_time": "2022-08-17T00:19:02.411Z"
      },
      {
        "duration": 33,
        "start_time": "2022-08-17T00:19:02.462Z"
      },
      {
        "duration": 38,
        "start_time": "2022-08-17T00:19:02.496Z"
      },
      {
        "duration": 16,
        "start_time": "2022-08-17T00:19:02.536Z"
      },
      {
        "duration": 15,
        "start_time": "2022-08-17T00:19:02.553Z"
      },
      {
        "duration": 614,
        "start_time": "2022-08-17T00:19:02.570Z"
      },
      {
        "duration": 693,
        "start_time": "2022-08-17T00:19:03.185Z"
      },
      {
        "duration": 1136,
        "start_time": "2022-09-22T23:17:31.516Z"
      },
      {
        "duration": 95,
        "start_time": "2022-09-22T23:17:32.653Z"
      },
      {
        "duration": 12,
        "start_time": "2022-09-22T23:17:32.750Z"
      },
      {
        "duration": 26,
        "start_time": "2022-09-22T23:17:32.764Z"
      },
      {
        "duration": 2,
        "start_time": "2022-09-22T23:17:32.792Z"
      },
      {
        "duration": 10,
        "start_time": "2022-09-22T23:17:32.795Z"
      },
      {
        "duration": 47,
        "start_time": "2022-09-22T23:17:32.806Z"
      },
      {
        "duration": 7,
        "start_time": "2022-09-22T23:17:32.855Z"
      },
      {
        "duration": 9,
        "start_time": "2022-09-22T23:17:32.863Z"
      },
      {
        "duration": 6,
        "start_time": "2022-09-22T23:17:32.873Z"
      },
      {
        "duration": 23,
        "start_time": "2022-09-22T23:17:32.880Z"
      },
      {
        "duration": 7,
        "start_time": "2022-09-22T23:17:32.904Z"
      },
      {
        "duration": 6,
        "start_time": "2022-09-22T23:17:32.912Z"
      },
      {
        "duration": 5,
        "start_time": "2022-09-22T23:17:32.921Z"
      },
      {
        "duration": 16,
        "start_time": "2022-09-22T23:17:32.927Z"
      },
      {
        "duration": 116,
        "start_time": "2022-09-22T23:17:32.945Z"
      },
      {
        "duration": 5,
        "start_time": "2022-09-22T23:17:33.062Z"
      },
      {
        "duration": 7,
        "start_time": "2022-09-22T23:17:33.068Z"
      },
      {
        "duration": 23,
        "start_time": "2022-09-22T23:17:33.076Z"
      },
      {
        "duration": 15,
        "start_time": "2022-09-22T23:17:33.101Z"
      },
      {
        "duration": 178,
        "start_time": "2022-09-22T23:17:33.117Z"
      },
      {
        "duration": 15,
        "start_time": "2022-09-22T23:17:33.301Z"
      },
      {
        "duration": 6,
        "start_time": "2022-09-22T23:17:33.318Z"
      },
      {
        "duration": 20,
        "start_time": "2022-09-22T23:17:33.326Z"
      },
      {
        "duration": 233,
        "start_time": "2022-09-22T23:17:33.347Z"
      },
      {
        "duration": 40,
        "start_time": "2022-09-22T23:17:33.582Z"
      },
      {
        "duration": 94,
        "start_time": "2022-09-22T23:17:33.624Z"
      },
      {
        "duration": 268,
        "start_time": "2022-09-22T23:17:33.720Z"
      },
      {
        "duration": 8,
        "start_time": "2022-09-22T23:17:33.989Z"
      },
      {
        "duration": 32,
        "start_time": "2022-09-22T23:17:33.999Z"
      },
      {
        "duration": 5,
        "start_time": "2022-09-22T23:17:34.032Z"
      },
      {
        "duration": 275,
        "start_time": "2022-09-22T23:17:34.038Z"
      },
      {
        "duration": 4,
        "start_time": "2022-09-22T23:17:34.315Z"
      },
      {
        "duration": 8,
        "start_time": "2022-09-22T23:17:34.321Z"
      },
      {
        "duration": 282,
        "start_time": "2022-09-22T23:17:34.330Z"
      },
      {
        "duration": 258,
        "start_time": "2022-09-22T23:17:34.613Z"
      },
      {
        "duration": 6,
        "start_time": "2022-09-22T23:17:34.873Z"
      },
      {
        "duration": 30,
        "start_time": "2022-09-22T23:17:34.880Z"
      },
      {
        "duration": 19,
        "start_time": "2022-09-22T23:17:34.911Z"
      },
      {
        "duration": 1,
        "start_time": "2022-09-22T23:17:34.932Z"
      },
      {
        "duration": 6,
        "start_time": "2022-09-22T23:17:34.937Z"
      },
      {
        "duration": 11,
        "start_time": "2022-09-22T23:17:34.944Z"
      },
      {
        "duration": 552,
        "start_time": "2022-09-22T23:17:34.956Z"
      },
      {
        "duration": 20,
        "start_time": "2022-09-22T23:17:35.510Z"
      },
      {
        "duration": 6,
        "start_time": "2022-09-22T23:17:35.532Z"
      },
      {
        "duration": 12,
        "start_time": "2022-09-22T23:17:35.539Z"
      },
      {
        "duration": 12,
        "start_time": "2022-09-22T23:17:35.552Z"
      },
      {
        "duration": 546,
        "start_time": "2022-09-22T23:17:35.565Z"
      },
      {
        "duration": 4,
        "start_time": "2022-09-22T23:17:36.113Z"
      },
      {
        "duration": 112,
        "start_time": "2022-09-22T23:17:36.119Z"
      },
      {
        "duration": 19,
        "start_time": "2022-09-22T23:17:36.232Z"
      },
      {
        "duration": 8,
        "start_time": "2022-09-22T23:17:36.252Z"
      },
      {
        "duration": 10,
        "start_time": "2022-09-22T23:17:36.262Z"
      },
      {
        "duration": 10,
        "start_time": "2022-09-22T23:17:36.300Z"
      },
      {
        "duration": 7,
        "start_time": "2022-09-22T23:17:36.311Z"
      },
      {
        "duration": 15,
        "start_time": "2022-09-22T23:17:36.319Z"
      },
      {
        "duration": 5,
        "start_time": "2022-09-22T23:17:36.335Z"
      },
      {
        "duration": 8,
        "start_time": "2022-09-22T23:17:36.341Z"
      },
      {
        "duration": 52,
        "start_time": "2022-09-22T23:17:36.350Z"
      },
      {
        "duration": 3,
        "start_time": "2022-09-22T23:17:36.404Z"
      },
      {
        "duration": 9,
        "start_time": "2022-09-22T23:17:36.409Z"
      },
      {
        "duration": 9,
        "start_time": "2022-09-22T23:17:36.419Z"
      },
      {
        "duration": 8,
        "start_time": "2022-09-22T23:17:36.429Z"
      },
      {
        "duration": 8,
        "start_time": "2022-09-22T23:17:36.438Z"
      },
      {
        "duration": 6,
        "start_time": "2022-09-22T23:17:36.447Z"
      },
      {
        "duration": 570,
        "start_time": "2022-09-22T23:17:36.454Z"
      },
      {
        "duration": 691,
        "start_time": "2022-09-22T23:17:37.025Z"
      }
    ],
    "kernelspec": {
      "display_name": "Python 3 (ipykernel)",
      "language": "python",
      "name": "python3"
    },
    "language_info": {
      "codemirror_mode": {
        "name": "ipython",
        "version": 3
      },
      "file_extension": ".py",
      "mimetype": "text/x-python",
      "name": "python",
      "nbconvert_exporter": "python",
      "pygments_lexer": "ipython3",
      "version": "3.9.5"
    },
    "toc": {
      "base_numbering": 1,
      "nav_menu": {
        "height": "411px",
        "width": "644px"
      },
      "number_sections": true,
      "sideBar": true,
      "skip_h1_title": true,
      "title_cell": "Table of Contents",
      "title_sidebar": "Contents",
      "toc_cell": false,
      "toc_position": {
        "height": "calc(100% - 180px)",
        "left": "10px",
        "top": "150px",
        "width": "235px"
      },
      "toc_section_display": true,
      "toc_window_display": true
    },
    "colab": {
      "provenance": [],
      "collapsed_sections": [],
      "toc_visible": true
    }
  },
  "nbformat": 4,
  "nbformat_minor": 0
}